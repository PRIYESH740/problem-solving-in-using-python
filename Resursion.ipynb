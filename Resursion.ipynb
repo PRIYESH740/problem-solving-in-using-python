{
 "cells": [
  {
   "cell_type": "code",
   "execution_count": 1,
   "id": "2c5d5459",
   "metadata": {},
   "outputs": [],
   "source": [
    "def fact(n):\n",
    "    if n==0:\n",
    "        return 1\n",
    "    return n*fact(n-1)"
   ]
  },
  {
   "cell_type": "code",
   "execution_count": null,
   "id": "f8b72b11",
   "metadata": {},
   "outputs": [],
   "source": []
  },
  {
   "cell_type": "code",
   "execution_count": 2,
   "id": "5fbef5be",
   "metadata": {},
   "outputs": [
    {
     "name": "stdin",
     "output_type": "stream",
     "text": [
      " 5\n"
     ]
    },
    {
     "data": {
      "text/plain": [
       "120"
      ]
     },
     "execution_count": 2,
     "metadata": {},
     "output_type": "execute_result"
    }
   ],
   "source": [
    "n=int(input())\n",
    "fact(n)"
   ]
  },
  {
   "cell_type": "code",
   "execution_count": 17,
   "id": "3ce9f18d",
   "metadata": {},
   "outputs": [],
   "source": [
    "def fact(n):\n",
    "    if n==0:\n",
    "        return 1\n",
    "    smalloutput=fact(n-1)\n",
    "    return n*smalloutput"
   ]
  },
  {
   "cell_type": "code",
   "execution_count": 21,
   "id": "b9058d11",
   "metadata": {},
   "outputs": [],
   "source": [
    "import sys\n",
    "sys.setrecursionlimit(3000)"
   ]
  },
  {
   "cell_type": "code",
   "execution_count": 23,
   "id": "93737ae6",
   "metadata": {},
   "outputs": [
    {
     "name": "stdout",
     "output_type": "stream",
     "text": [
      "2000\n"
     ]
    },
    {
     "ename": "ValueError",
     "evalue": "Exceeds the limit (4300) for integer string conversion",
     "output_type": "error",
     "traceback": [
      "\u001b[1;31m---------------------------------------------------------------------------\u001b[0m",
      "\u001b[1;31mValueError\u001b[0m                                Traceback (most recent call last)",
      "File \u001b[1;32mC:\\Python310\\lib\\site-packages\\IPython\\core\\formatters.py:708\u001b[0m, in \u001b[0;36mPlainTextFormatter.__call__\u001b[1;34m(self, obj)\u001b[0m\n\u001b[0;32m    701\u001b[0m stream \u001b[38;5;241m=\u001b[39m StringIO()\n\u001b[0;32m    702\u001b[0m printer \u001b[38;5;241m=\u001b[39m pretty\u001b[38;5;241m.\u001b[39mRepresentationPrinter(stream, \u001b[38;5;28mself\u001b[39m\u001b[38;5;241m.\u001b[39mverbose,\n\u001b[0;32m    703\u001b[0m     \u001b[38;5;28mself\u001b[39m\u001b[38;5;241m.\u001b[39mmax_width, \u001b[38;5;28mself\u001b[39m\u001b[38;5;241m.\u001b[39mnewline,\n\u001b[0;32m    704\u001b[0m     max_seq_length\u001b[38;5;241m=\u001b[39m\u001b[38;5;28mself\u001b[39m\u001b[38;5;241m.\u001b[39mmax_seq_length,\n\u001b[0;32m    705\u001b[0m     singleton_pprinters\u001b[38;5;241m=\u001b[39m\u001b[38;5;28mself\u001b[39m\u001b[38;5;241m.\u001b[39msingleton_printers,\n\u001b[0;32m    706\u001b[0m     type_pprinters\u001b[38;5;241m=\u001b[39m\u001b[38;5;28mself\u001b[39m\u001b[38;5;241m.\u001b[39mtype_printers,\n\u001b[0;32m    707\u001b[0m     deferred_pprinters\u001b[38;5;241m=\u001b[39m\u001b[38;5;28mself\u001b[39m\u001b[38;5;241m.\u001b[39mdeferred_printers)\n\u001b[1;32m--> 708\u001b[0m \u001b[43mprinter\u001b[49m\u001b[38;5;241;43m.\u001b[39;49m\u001b[43mpretty\u001b[49m\u001b[43m(\u001b[49m\u001b[43mobj\u001b[49m\u001b[43m)\u001b[49m\n\u001b[0;32m    709\u001b[0m printer\u001b[38;5;241m.\u001b[39mflush()\n\u001b[0;32m    710\u001b[0m \u001b[38;5;28;01mreturn\u001b[39;00m stream\u001b[38;5;241m.\u001b[39mgetvalue()\n",
      "File \u001b[1;32mC:\\Python310\\lib\\site-packages\\IPython\\lib\\pretty.py:393\u001b[0m, in \u001b[0;36mRepresentationPrinter.pretty\u001b[1;34m(self, obj)\u001b[0m\n\u001b[0;32m    390\u001b[0m \u001b[38;5;28;01mfor\u001b[39;00m \u001b[38;5;28mcls\u001b[39m \u001b[38;5;129;01min\u001b[39;00m _get_mro(obj_class):\n\u001b[0;32m    391\u001b[0m     \u001b[38;5;28;01mif\u001b[39;00m \u001b[38;5;28mcls\u001b[39m \u001b[38;5;129;01min\u001b[39;00m \u001b[38;5;28mself\u001b[39m\u001b[38;5;241m.\u001b[39mtype_pprinters:\n\u001b[0;32m    392\u001b[0m         \u001b[38;5;66;03m# printer registered in self.type_pprinters\u001b[39;00m\n\u001b[1;32m--> 393\u001b[0m         \u001b[38;5;28;01mreturn\u001b[39;00m \u001b[38;5;28;43mself\u001b[39;49m\u001b[38;5;241;43m.\u001b[39;49m\u001b[43mtype_pprinters\u001b[49m\u001b[43m[\u001b[49m\u001b[38;5;28;43mcls\u001b[39;49m\u001b[43m]\u001b[49m\u001b[43m(\u001b[49m\u001b[43mobj\u001b[49m\u001b[43m,\u001b[49m\u001b[43m \u001b[49m\u001b[38;5;28;43mself\u001b[39;49m\u001b[43m,\u001b[49m\u001b[43m \u001b[49m\u001b[43mcycle\u001b[49m\u001b[43m)\u001b[49m\n\u001b[0;32m    394\u001b[0m     \u001b[38;5;28;01melse\u001b[39;00m:\n\u001b[0;32m    395\u001b[0m         \u001b[38;5;66;03m# deferred printer\u001b[39;00m\n\u001b[0;32m    396\u001b[0m         printer \u001b[38;5;241m=\u001b[39m \u001b[38;5;28mself\u001b[39m\u001b[38;5;241m.\u001b[39m_in_deferred_types(\u001b[38;5;28mcls\u001b[39m)\n",
      "File \u001b[1;32mC:\\Python310\\lib\\site-packages\\IPython\\lib\\pretty.py:778\u001b[0m, in \u001b[0;36m_repr_pprint\u001b[1;34m(obj, p, cycle)\u001b[0m\n\u001b[0;32m    776\u001b[0m \u001b[38;5;250m\u001b[39m\u001b[38;5;124;03m\"\"\"A pprint that just redirects to the normal repr function.\"\"\"\u001b[39;00m\n\u001b[0;32m    777\u001b[0m \u001b[38;5;66;03m# Find newlines and replace them with p.break_()\u001b[39;00m\n\u001b[1;32m--> 778\u001b[0m output \u001b[38;5;241m=\u001b[39m \u001b[38;5;28;43mrepr\u001b[39;49m\u001b[43m(\u001b[49m\u001b[43mobj\u001b[49m\u001b[43m)\u001b[49m\n\u001b[0;32m    779\u001b[0m lines \u001b[38;5;241m=\u001b[39m output\u001b[38;5;241m.\u001b[39msplitlines()\n\u001b[0;32m    780\u001b[0m \u001b[38;5;28;01mwith\u001b[39;00m p\u001b[38;5;241m.\u001b[39mgroup():\n",
      "\u001b[1;31mValueError\u001b[0m: Exceeds the limit (4300) for integer string conversion"
     ]
    }
   ],
   "source": [
    "n=int(input())\n",
    "fact(n)"
   ]
  },
  {
   "cell_type": "code",
   "execution_count": 10,
   "id": "a106841d",
   "metadata": {},
   "outputs": [
    {
     "name": "stdout",
     "output_type": "stream",
     "text": [
      "5\n",
      "120\n",
      "15\n"
     ]
    }
   ],
   "source": [
    "n=int(input())\n",
    "print(fact(n))\n",
    "print(sum_n(n))"
   ]
  },
  {
   "cell_type": "code",
   "execution_count": 1,
   "id": "0f5db25e",
   "metadata": {},
   "outputs": [],
   "source": [
    "def sum_n(n):\n",
    "    if n==0:\n",
    "        return 0\n",
    "    smalloutput=sum_n(n-1)\n",
    "    output=smalloutput +n\n",
    "    \n",
    "    return output"
   ]
  },
  {
   "cell_type": "code",
   "execution_count": null,
   "id": "915103a9",
   "metadata": {},
   "outputs": [],
   "source": [
    "n=12345\n",
    "ans=sum_n(n)\n",
    "print(ans)"
   ]
  },
  {
   "cell_type": "code",
   "execution_count": 1,
   "id": "32f0f85d",
   "metadata": {},
   "outputs": [
    {
     "name": "stdout",
     "output_type": "stream",
     "text": [
      "3 4\n",
      "81\n"
     ]
    }
   ],
   "source": [
    "def powernum(x,n):\n",
    "    if n==0:\n",
    "        return 1\n",
    "    \n",
    "    return x ** n\n",
    "\n",
    "x,n=input().split()\n",
    "x=int(x)\n",
    "n=int(n)\n",
    "ans=powernum(x,n)\n",
    "print(ans)"
   ]
  },
  {
   "cell_type": "code",
   "execution_count": 9,
   "id": "f0d764a6",
   "metadata": {},
   "outputs": [
    {
     "name": "stdout",
     "output_type": "stream",
     "text": [
      "0 0\n",
      "1\n"
     ]
    }
   ],
   "source": [
    "x,n=input().split()\n",
    "x= int(x)\n",
    "n=int(n)\n",
    "if n==0:\n",
    "    print(1)\n",
    "elif x==0:\n",
    "    print(0)\n",
    "else:\n",
    "    print(x*n)"
   ]
  },
  {
   "cell_type": "code",
   "execution_count": null,
   "id": "33cb0d4c",
   "metadata": {},
   "outputs": [],
   "source": [
    "def func(num):\n",
    "    return func(num-1)\n",
    "num = 5\n",
    "ans = func(num-1)\n",
    "print(ans)"
   ]
  },
  {
   "cell_type": "code",
   "execution_count": 1,
   "id": "d99c0fa9",
   "metadata": {},
   "outputs": [],
   "source": [
    "def print_1_to_n(n):\n",
    "    if n==0:\n",
    "        return \n",
    "    print_1_to_n(n-1)\n",
    "    print(n)\n",
    "    return "
   ]
  },
  {
   "cell_type": "code",
   "execution_count": 2,
   "id": "bf38b75a",
   "metadata": {},
   "outputs": [
    {
     "name": "stdout",
     "output_type": "stream",
     "text": [
      "10\n",
      "1\n",
      "2\n",
      "3\n",
      "4\n",
      "5\n",
      "6\n",
      "7\n",
      "8\n",
      "9\n",
      "10\n"
     ]
    }
   ],
   "source": [
    "n=int(input())\n",
    "print_1_to_n(n)"
   ]
  },
  {
   "cell_type": "code",
   "execution_count": 3,
   "id": "ef6869ae",
   "metadata": {},
   "outputs": [],
   "source": [
    "def print_1_to_n(n):\n",
    "    if n==0:\n",
    "        return \n",
    "    print(n)\n",
    "    print_1_to_n(n-1)\n",
    "    return "
   ]
  },
  {
   "cell_type": "code",
   "execution_count": 4,
   "id": "35885848",
   "metadata": {},
   "outputs": [
    {
     "name": "stdout",
     "output_type": "stream",
     "text": [
      "10\n",
      "10\n",
      "9\n",
      "8\n",
      "7\n",
      "6\n",
      "5\n",
      "4\n",
      "3\n",
      "2\n",
      "1\n"
     ]
    }
   ],
   "source": [
    "n=int(input())\n",
    "print_1_to_n(n)"
   ]
  },
  {
   "cell_type": "code",
   "execution_count": 1,
   "id": "1c67ad24",
   "metadata": {},
   "outputs": [],
   "source": [
    "def fib(n):\n",
    "    if n==1 or n==2:\n",
    "        return 1\n",
    "    fib_n_1=fib(n-1)\n",
    "    fib_n_2=fib(n-2)\n",
    "    output=fib(n-1)+fib(n-2)\n",
    "    return output"
   ]
  },
  {
   "cell_type": "code",
   "execution_count": 2,
   "id": "57e1afa3",
   "metadata": {},
   "outputs": [
    {
     "data": {
      "text/plain": [
       "3"
      ]
     },
     "execution_count": 2,
     "metadata": {},
     "output_type": "execute_result"
    }
   ],
   "source": [
    "n=4\n",
    "fib(n)"
   ]
  },
  {
   "cell_type": "code",
   "execution_count": 4,
   "id": "8826fcea",
   "metadata": {},
   "outputs": [
    {
     "name": "stdout",
     "output_type": "stream",
     "text": [
      "4\n",
      "8\n",
      "4\n",
      "16\n",
      "4\n",
      "8\n",
      "4\n",
      "16\n"
     ]
    }
   ],
   "source": [
    "def fun(n):\n",
    "    if(n == 4):\n",
    "        print(n)\n",
    "        return n\n",
    "    else:\n",
    "        print(2*fun(n+1))\n",
    "        return 2*fun(n+1)\n",
    "\n",
    "\n",
    "print(fun(2))"
   ]
  },
  {
   "cell_type": "code",
   "execution_count": 6,
   "id": "3d292a81",
   "metadata": {},
   "outputs": [],
   "source": [
    "def issorted(a):\n",
    "    l=len(a)\n",
    "    if l==0 or l==1:\n",
    "        return True\n",
    "    if a[0]>a[1]:\n",
    "        return False\n",
    "    \n",
    "    smallerlist=a[1:]\n",
    "    print(smallerlist)\n",
    "    issmallerlistsorted=issorted(smallerlist)\n",
    "    \n",
    "    #return issmallerlistsorted\n",
    "    if issmallerlistsorted:\n",
    "        return True\n",
    "    else:\n",
    "        return False"
   ]
  },
  {
   "cell_type": "code",
   "execution_count": 9,
   "id": "5abce54f",
   "metadata": {},
   "outputs": [
    {
     "name": "stdout",
     "output_type": "stream",
     "text": [
      "[2, 3, 4, 5, 6, 7, 8, 9]\n",
      "[3, 4, 5, 6, 7, 8, 9]\n",
      "[4, 5, 6, 7, 8, 9]\n",
      "[5, 6, 7, 8, 9]\n",
      "[6, 7, 8, 9]\n",
      "[7, 8, 9]\n",
      "[8, 9]\n",
      "[9]\n"
     ]
    },
    {
     "data": {
      "text/plain": [
       "True"
      ]
     },
     "execution_count": 9,
     "metadata": {},
     "output_type": "execute_result"
    }
   ],
   "source": [
    "a=[1,2,3,4,5,6,7,8,9]\n",
    "issorted(a)"
   ]
  },
  {
   "cell_type": "code",
   "execution_count": 2,
   "id": "d047366a",
   "metadata": {},
   "outputs": [
    {
     "name": "stdout",
     "output_type": "stream",
     "text": [
      "15\n"
     ]
    }
   ],
   "source": [
    "def sumArray(arr,n):\n",
    "    if n==0:\n",
    "        return 0\n",
    "\n",
    "    return sumArray(arr,n-1)+arr[n-1]\n",
    "\n",
    "# Main\n",
    "arr=[1,2,3,4,5]\n",
    "n=5\n",
    "print(sumArray(arr,n))"
   ]
  },
  {
   "cell_type": "code",
   "execution_count": 14,
   "id": "9b7790e7",
   "metadata": {},
   "outputs": [
    {
     "name": "stdout",
     "output_type": "stream",
     "text": [
      "13\n",
      "False\n",
      "false\n"
     ]
    }
   ],
   "source": [
    "def checknumber(arr,n,x):\n",
    "    if n==0:\n",
    "        return False\n",
    "    elif arr[n-1]==x:\n",
    "        return True\n",
    "    \n",
    "    return checknumber(arr,n-1,x)\n",
    "    \n",
    "    \n",
    "    \n",
    "\n",
    "\n",
    "x=int(input())\n",
    "arr=[1,2,3,4,5,6]\n",
    "n=len(arr)\n",
    "print(checknumber(arr,n,x))\n",
    "if checknumber(arr,n,x):\n",
    "    print(\"true\")\n",
    "else:\n",
    "    print(\"false\")"
   ]
  },
  {
   "cell_type": "code",
   "execution_count": 6,
   "id": "e5b522a9",
   "metadata": {},
   "outputs": [],
   "source": [
    "def sortedBetter(a,si):\n",
    "    l=len(a)\n",
    "    if si==l or si==l:\n",
    "        return True\n",
    "    if a[si]>a[si+1]:\n",
    "        return False\n",
    "    issmallerpartsorted=sortedBetter(a,si+1)\n",
    "    return issmallerpartsorted"
   ]
  },
  {
   "cell_type": "code",
   "execution_count": 7,
   "id": "3ee4d0c2",
   "metadata": {},
   "outputs": [
    {
     "data": {
      "text/plain": [
       "True"
      ]
     },
     "execution_count": 7,
     "metadata": {},
     "output_type": "execute_result"
    }
   ],
   "source": [
    "a=[1,2,3,4,5,6,7,8,9]\n",
    "sortedBetter(a,0)"
   ]
  },
  {
   "cell_type": "code",
   "execution_count": 49,
   "id": "2953a713",
   "metadata": {},
   "outputs": [
    {
     "name": "stdout",
     "output_type": "stream",
     "text": [
      "8\n",
      "3\n"
     ]
    }
   ],
   "source": [
    "def lastIndex(arr,n,x):\n",
    "    if n==0:\n",
    "        return -1\n",
    "    elif arr[n-1]==x:\n",
    "        return n-1\n",
    "    \n",
    "    return lastIndex(arr,n-1,x)\n",
    "    \n",
    "x=int(input())\n",
    "arr=[9,8,10,8]\n",
    "n=len(arr)\n",
    "print(lastIndex(arr,n,x))\n"
   ]
  },
  {
   "cell_type": "code",
   "execution_count": 30,
   "id": "1151fa65",
   "metadata": {},
   "outputs": [],
   "source": [
    "def issortedlist(a,x):\n",
    "    k=0\n",
    "    l=len(a)\n",
    "    if a[0]==x:\n",
    "        print(a[0])\n",
    "        return 0\n",
    "    if a[k]==x:\n",
    "        print(a[k])\n",
    "        return k+1\n",
    "    \n",
    "    smallerlist=a[1:]\n",
    "    print(smallerlist)\n",
    "    issorted(smallerlist,x)\n",
    "    \n",
    "    "
   ]
  },
  {
   "cell_type": "code",
   "execution_count": 31,
   "id": "f444074c",
   "metadata": {},
   "outputs": [
    {
     "name": "stdout",
     "output_type": "stream",
     "text": [
      "5\n",
      "[2, 3, 4, 5, 6, 7, 8, 9]\n",
      "[3, 4, 5, 6, 7, 8, 9]\n",
      "[4, 5, 6, 7, 8, 9]\n",
      "[5, 6, 7, 8, 9]\n",
      "None\n"
     ]
    }
   ],
   "source": [
    "x=int(input())\n",
    "a=[1,2,3,4,5,6,7,8,9]\n",
    "ans=issortedlist(a,x)\n",
    "print(ans)"
   ]
  },
  {
   "cell_type": "code",
   "execution_count": 41,
   "id": "691ceab0",
   "metadata": {},
   "outputs": [
    {
     "name": "stdout",
     "output_type": "stream",
     "text": [
      "11\n",
      "-1\n",
      "true\n"
     ]
    }
   ],
   "source": [
    "def checknumber(arr,si,x):\n",
    "    l=len(arr)\n",
    "    if l==si+1:\n",
    "        return -1\n",
    "    if arr[0]==x:\n",
    "        return 0\n",
    "    elif arr[si+1]==x:\n",
    "        return si+1\n",
    "    \n",
    "    return checknumber(arr,si+1,x)\n",
    "    \n",
    "x=int(input())\n",
    "arr=[9,8,10,8]\n",
    "n=len(arr)\n",
    "print(checknumber(arr,0,x))\n",
    "if checknumber(arr,0,x):\n",
    "    print(\"true\")\n",
    "else:\n",
    "    print(\"false\")"
   ]
  },
  {
   "cell_type": "code",
   "execution_count": 44,
   "id": "26ded081",
   "metadata": {},
   "outputs": [],
   "source": [
    "def firstIndex(a,x):\n",
    "    l=len(a)\n",
    "    if l==0:\n",
    "        return -1\n",
    "    if a[0]==x:\n",
    "        return 0\n",
    "    smallerlist=a[1:]\n",
    "    print(smallerlist)\n",
    "    issmallerlistsorted=firstIndex(smallerlist,x)\n",
    "    \n",
    "    #return issmallerlistsorted\n",
    "    if issmallerlistsorted==-1:\n",
    "        return -1\n",
    "    else:\n",
    "        return issmallerlistsorted + 1"
   ]
  },
  {
   "cell_type": "code",
   "execution_count": 45,
   "id": "98509091",
   "metadata": {},
   "outputs": [
    {
     "name": "stdout",
     "output_type": "stream",
     "text": [
      "[2, 3, 4, 5, 6, 7, 9, 7]\n",
      "[3, 4, 5, 6, 7, 9, 7]\n",
      "[4, 5, 6, 7, 9, 7]\n",
      "[5, 6, 7, 9, 7]\n",
      "[6, 7, 9, 7]\n",
      "[7, 9, 7]\n"
     ]
    },
    {
     "data": {
      "text/plain": [
       "6"
      ]
     },
     "execution_count": 45,
     "metadata": {},
     "output_type": "execute_result"
    }
   ],
   "source": [
    "a=[1,2,3,4,5,6,7,9,7]\n",
    "firstIndex(a,7)"
   ]
  },
  {
   "cell_type": "code",
   "execution_count": 47,
   "id": "b702ce7a",
   "metadata": {},
   "outputs": [
    {
     "name": "stdout",
     "output_type": "stream",
     "text": [
      "11\n",
      "-1\n",
      "true\n"
     ]
    }
   ],
   "source": [
    "def checknumber(arr,si,x):\n",
    "    l=len(arr)\n",
    "    if l==si:\n",
    "        return -1\n",
    "    if arr[si]==x:\n",
    "        return si\n",
    "    \n",
    "    return checknumber(arr,si+1,x)\n",
    "    \n",
    "x=int(input())\n",
    "arr=[9,8,10,8]\n",
    "n=len(arr)\n",
    "print(checknumber(arr,0,x))\n",
    "if checknumber(arr,0,x):\n",
    "    print(\"true\")\n",
    "else:\n",
    "    print(\"false\")"
   ]
  },
  {
   "cell_type": "code",
   "execution_count": 53,
   "id": "f1020e2a",
   "metadata": {},
   "outputs": [],
   "source": [
    "def lastIndex(a,x):\n",
    "    l=len(a)\n",
    "    if l==0:\n",
    "        return -1\n",
    " \n",
    "    smallerlist=a[1:]\n",
    "    print(smallerlist)\n",
    "    issmallerlistoutput=lastIndex(smallerlist,x)\n",
    "    \n",
    "    #return issmallerlistsorted\n",
    "    if issmallerlistoutput != -1:\n",
    "        return issmallerlistoutput + 1\n",
    "    else:\n",
    "        if a[0]==x:\n",
    "            return 0\n",
    "        else :\n",
    "            return -1"
   ]
  },
  {
   "cell_type": "code",
   "execution_count": 55,
   "id": "772081e5",
   "metadata": {},
   "outputs": [
    {
     "name": "stdout",
     "output_type": "stream",
     "text": [
      "[4, 5, 4, 8]\n",
      "[5, 4, 8]\n",
      "[4, 8]\n",
      "[8]\n",
      "[]\n"
     ]
    },
    {
     "data": {
      "text/plain": [
       "3"
      ]
     },
     "execution_count": 55,
     "metadata": {},
     "output_type": "execute_result"
    }
   ],
   "source": [
    "a=[1,4,5,4,8]\n",
    "x=4\n",
    "lastIndex(a,x)"
   ]
  },
  {
   "cell_type": "code",
   "execution_count": 58,
   "id": "00b4ba90",
   "metadata": {},
   "outputs": [],
   "source": [
    "def lastIndex(a,x,si):\n",
    "    l=len(arr)\n",
    "    if l==si:\n",
    "        return -1\n",
    "    \n",
    "    smallerlistoutput=lastIndex(a,x,si+1)\n",
    "    \n",
    "    if smallerlistoutput !=-1:\n",
    "        return smallerlistoutput\n",
    "    \n",
    "    else:\n",
    "        if a[si]==x:\n",
    "            return si\n",
    "        else:\n",
    "            return -1\n",
    "    "
   ]
  },
  {
   "cell_type": "code",
   "execution_count": 59,
   "id": "4814cc8b",
   "metadata": {},
   "outputs": [
    {
     "data": {
      "text/plain": [
       "3"
      ]
     },
     "execution_count": 59,
     "metadata": {},
     "output_type": "execute_result"
    }
   ],
   "source": [
    "a=[1,4,5,4,8]\n",
    "x=4\n",
    "lastIndex(a,x,0)"
   ]
  },
  {
   "cell_type": "code",
   "execution_count": null,
   "id": "a595bbf7",
   "metadata": {},
   "outputs": [],
   "source": []
  }
 ],
 "metadata": {
  "kernelspec": {
   "display_name": "Python 3 (ipykernel)",
   "language": "python",
   "name": "python3"
  },
  "language_info": {
   "codemirror_mode": {
    "name": "ipython",
    "version": 3
   },
   "file_extension": ".py",
   "mimetype": "text/x-python",
   "name": "python",
   "nbconvert_exporter": "python",
   "pygments_lexer": "ipython3",
   "version": "3.11.4"
  }
 },
 "nbformat": 4,
 "nbformat_minor": 5
}
