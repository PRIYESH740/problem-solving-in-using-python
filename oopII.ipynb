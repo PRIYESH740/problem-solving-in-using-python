{
 "cells": [
  {
   "cell_type": "code",
   "execution_count": 15,
   "id": "9911462c",
   "metadata": {},
   "outputs": [],
   "source": [
    "class product:\n",
    "    def __init__(self,description):\n",
    "        self.description=description\n",
    "        \n",
    "    def productDescription(self):\n",
    "        print(self.description)"
   ]
  },
  {
   "cell_type": "code",
   "execution_count": 4,
   "id": "0cdd3c78",
   "metadata": {},
   "outputs": [],
   "source": [
    "class Lightweight(product):\n",
    "    pass"
   ]
  },
  {
   "cell_type": "code",
   "execution_count": 6,
   "id": "d28a1651",
   "metadata": {},
   "outputs": [],
   "source": [
    "Product=Lightweight(\"This is heater\")"
   ]
  },
  {
   "cell_type": "code",
   "execution_count": 7,
   "id": "3d003259",
   "metadata": {},
   "outputs": [
    {
     "name": "stdout",
     "output_type": "stream",
     "text": [
      "This is heater\n"
     ]
    }
   ],
   "source": [
    "Product.productDescription()"
   ]
  },
  {
   "cell_type": "code",
   "execution_count": 8,
   "id": "1e665999",
   "metadata": {},
   "outputs": [
    {
     "data": {
      "text/plain": [
       "['__class__',\n",
       " '__delattr__',\n",
       " '__dict__',\n",
       " '__dir__',\n",
       " '__doc__',\n",
       " '__eq__',\n",
       " '__format__',\n",
       " '__ge__',\n",
       " '__getattribute__',\n",
       " '__gt__',\n",
       " '__hash__',\n",
       " '__init__',\n",
       " '__init_subclass__',\n",
       " '__le__',\n",
       " '__lt__',\n",
       " '__module__',\n",
       " '__ne__',\n",
       " '__new__',\n",
       " '__reduce__',\n",
       " '__reduce_ex__',\n",
       " '__repr__',\n",
       " '__setattr__',\n",
       " '__sizeof__',\n",
       " '__str__',\n",
       " '__subclasshook__',\n",
       " '__weakref__',\n",
       " 'description',\n",
       " 'productDescription']"
      ]
     },
     "execution_count": 8,
     "metadata": {},
     "output_type": "execute_result"
    }
   ],
   "source": [
    "dir(Product)"
   ]
  },
  {
   "cell_type": "code",
   "execution_count": 16,
   "id": "51d1cd4f",
   "metadata": {},
   "outputs": [],
   "source": [
    "class lightProduction(product):\n",
    "    max_weight_in_kg=5\n",
    "    \n",
    "    def __init__(self,description,weight):\n",
    "        self.weight=weight\n",
    "        super().__init__(description)\n",
    "        \n",
    "    def validateweight(self):\n",
    "        return self.weight<=self.max_weight_in_kg\n",
    "        "
   ]
  },
  {
   "cell_type": "code",
   "execution_count": 17,
   "id": "8935237b",
   "metadata": {},
   "outputs": [
    {
     "name": "stdout",
     "output_type": "stream",
     "text": [
      "This is a 2kg gym dumbell\n"
     ]
    },
    {
     "data": {
      "text/plain": [
       "['__class__',\n",
       " '__delattr__',\n",
       " '__dict__',\n",
       " '__dir__',\n",
       " '__doc__',\n",
       " '__eq__',\n",
       " '__format__',\n",
       " '__ge__',\n",
       " '__getattribute__',\n",
       " '__gt__',\n",
       " '__hash__',\n",
       " '__init__',\n",
       " '__init_subclass__',\n",
       " '__le__',\n",
       " '__lt__',\n",
       " '__module__',\n",
       " '__ne__',\n",
       " '__new__',\n",
       " '__reduce__',\n",
       " '__reduce_ex__',\n",
       " '__repr__',\n",
       " '__setattr__',\n",
       " '__sizeof__',\n",
       " '__str__',\n",
       " '__subclasshook__',\n",
       " '__weakref__',\n",
       " 'description',\n",
       " 'max_weight_in_kg',\n",
       " 'productDescription',\n",
       " 'validateweight',\n",
       " 'weight']"
      ]
     },
     "execution_count": 17,
     "metadata": {},
     "output_type": "execute_result"
    }
   ],
   "source": [
    "pr=lightProduction('This is a 2kg gym dumbell',2)\n",
    "pr.productDescription()\n",
    "dir(pr)"
   ]
  },
  {
   "cell_type": "code",
   "execution_count": 18,
   "id": "306ba22d",
   "metadata": {},
   "outputs": [
    {
     "data": {
      "text/plain": [
       "True"
      ]
     },
     "execution_count": 18,
     "metadata": {},
     "output_type": "execute_result"
    }
   ],
   "source": [
    "pr.validateweight()"
   ]
  },
  {
   "cell_type": "code",
   "execution_count": 19,
   "id": "e00ec73e",
   "metadata": {},
   "outputs": [
    {
     "ename": "AttributeError",
     "evalue": "'Car' object has no attribute 'color'",
     "output_type": "error",
     "traceback": [
      "\u001b[1;31m---------------------------------------------------------------------------\u001b[0m",
      "\u001b[1;31mAttributeError\u001b[0m                            Traceback (most recent call last)",
      "Cell \u001b[1;32mIn[19], line 8\u001b[0m\n\u001b[0;32m      6\u001b[0m          \u001b[38;5;28mself\u001b[39m\u001b[38;5;241m.\u001b[39mnumGears \u001b[38;5;241m=\u001b[39m numGears\n\u001b[0;32m      7\u001b[0m c\u001b[38;5;241m=\u001b[39m Car(\u001b[38;5;124m\"\u001b[39m\u001b[38;5;124mblack\u001b[39m\u001b[38;5;124m\"\u001b[39m,\u001b[38;5;241m5\u001b[39m)\n\u001b[1;32m----> 8\u001b[0m \u001b[38;5;28mprint\u001b[39m(\u001b[43mc\u001b[49m\u001b[38;5;241;43m.\u001b[39;49m\u001b[43mcolor\u001b[49m)\n",
      "\u001b[1;31mAttributeError\u001b[0m: 'Car' object has no attribute 'color'"
     ]
    }
   ],
   "source": [
    "class Vehicle:\n",
    "     def __init__(self,color):\n",
    "         self.color = color\n",
    "class Car(Vehicle):\n",
    "     def __init__(self,color,numGears):\n",
    "         self.numGears = numGears\n",
    "c= Car(\"black\",5)\n",
    "print(c.color)"
   ]
  },
  {
   "cell_type": "code",
   "execution_count": 20,
   "id": "d66fbb4f",
   "metadata": {},
   "outputs": [
    {
     "name": "stdout",
     "output_type": "stream",
     "text": [
      "50\n"
     ]
    }
   ],
   "source": [
    "class Shape:\n",
    "           def __init__(self, x, y):\n",
    "                self.x = x\n",
    "                self.y = y\n",
    "           def area(self):\n",
    "                pass\n",
    "\n",
    "class Rectangle(Shape):\n",
    "           def __init__(self, x, y, width, height):\n",
    "                super().__init__(x, y)\n",
    "                self.width = width\n",
    "                self.height = height\n",
    "           def area(self):\n",
    "                return self.width * self.height\n",
    "\n",
    "rect = Rectangle(0, 0, 5, 10)\n",
    "print(rect.area())"
   ]
  },
  {
   "cell_type": "code",
   "execution_count": 27,
   "id": "ea800b9e",
   "metadata": {},
   "outputs": [],
   "source": [
    "class Product:\n",
    "    def __init__(self,price):\n",
    "        self.price=price\n",
    "        "
   ]
  },
  {
   "cell_type": "code",
   "execution_count": 28,
   "id": "7cdfd325",
   "metadata": {},
   "outputs": [],
   "source": [
    "class lightproduct(Product):\n",
    "    \n",
    "    def getprice(self):\n",
    "        return self.price"
   ]
  },
  {
   "cell_type": "code",
   "execution_count": 29,
   "id": "e1ba8682",
   "metadata": {},
   "outputs": [
    {
     "name": "stdout",
     "output_type": "stream",
     "text": [
      "1000\n"
     ]
    }
   ],
   "source": [
    "p=lightproduct(1000)\n",
    "print(p.getprice())"
   ]
  },
  {
   "cell_type": "code",
   "execution_count": 60,
   "id": "087ea160",
   "metadata": {},
   "outputs": [],
   "source": [
    "class Product:\n",
    "    def __init__(self,price):\n",
    "        self._price=price\n",
    "        "
   ]
  },
  {
   "cell_type": "code",
   "execution_count": 61,
   "id": "b3339b82",
   "metadata": {},
   "outputs": [],
   "source": [
    "class lightproduct(Product):\n",
    "    \n",
    "    def getprice(self):\n",
    "        return self._price"
   ]
  },
  {
   "cell_type": "code",
   "execution_count": 62,
   "id": "430d71a6",
   "metadata": {},
   "outputs": [
    {
     "name": "stdout",
     "output_type": "stream",
     "text": [
      "1000\n"
     ]
    }
   ],
   "source": [
    "p=lightproduct(1000)\n",
    "print(p.getprice())"
   ]
  },
  {
   "cell_type": "code",
   "execution_count": 48,
   "id": "d8e813b7",
   "metadata": {},
   "outputs": [],
   "source": [
    "class product:\n",
    "    def __init__(self,description):\n",
    "        self.__description=description\n",
    "        \n",
    "    def productDescription(self):\n",
    "        print(self.__description)"
   ]
  },
  {
   "cell_type": "code",
   "execution_count": 53,
   "id": "783b8ee6",
   "metadata": {},
   "outputs": [],
   "source": [
    "class lightProduction(product):\n",
    "    max_weight_in_kg=5\n",
    "    \n",
    "    def __init__(self,description,weight):\n",
    "        self.weight=weight\n",
    "        super().__init__(description)\n",
    "        \n",
    "    def validateweight(self):\n",
    "        return self.weight<=self.max_weight_in_kg\n",
    "    \n",
    "    def getdescription(self):\n",
    "        print(self._product__description)"
   ]
  },
  {
   "cell_type": "code",
   "execution_count": 54,
   "id": "44d4cf22",
   "metadata": {},
   "outputs": [
    {
     "name": "stdout",
     "output_type": "stream",
     "text": [
      "tubelight\n"
     ]
    }
   ],
   "source": [
    "pro=lightProduction('tubelight',1)\n",
    "pro.getdescription()\n"
   ]
  },
  {
   "cell_type": "code",
   "execution_count": 46,
   "id": "ae0219c2",
   "metadata": {},
   "outputs": [
    {
     "data": {
      "text/plain": [
       "['__class__',\n",
       " '__delattr__',\n",
       " '__dict__',\n",
       " '__dir__',\n",
       " '__doc__',\n",
       " '__eq__',\n",
       " '__format__',\n",
       " '__ge__',\n",
       " '__getattribute__',\n",
       " '__gt__',\n",
       " '__hash__',\n",
       " '__init__',\n",
       " '__init_subclass__',\n",
       " '__le__',\n",
       " '__lt__',\n",
       " '__module__',\n",
       " '__ne__',\n",
       " '__new__',\n",
       " '__reduce__',\n",
       " '__reduce_ex__',\n",
       " '__repr__',\n",
       " '__setattr__',\n",
       " '__sizeof__',\n",
       " '__str__',\n",
       " '__subclasshook__',\n",
       " '__weakref__',\n",
       " '_product__description',\n",
       " 'getdescription',\n",
       " 'max_weight_in_kg',\n",
       " 'productDescription',\n",
       " 'validateweight',\n",
       " 'weight']"
      ]
     },
     "execution_count": 46,
     "metadata": {},
     "output_type": "execute_result"
    }
   ],
   "source": [
    "dir(pro)"
   ]
  },
  {
   "cell_type": "code",
   "execution_count": 55,
   "id": "c61a0569",
   "metadata": {},
   "outputs": [],
   "source": [
    "class product:\n",
    "    def __init__(self,description,price,discount):\n",
    "        self.description=description\n",
    "        self.price=price\n",
    "        self.discount=discount\n",
    "        \n",
    "    def productDescription(self):\n",
    "        print(self.description)\n",
    "        \n",
    "    def __calculatediscount(self):\n",
    "        return self.price-self.price*self.discount\n",
    "    \n",
    "    def getprice(self):\n",
    "        return self.__calculatediscount()"
   ]
  },
  {
   "cell_type": "code",
   "execution_count": 56,
   "id": "d9aadfe1",
   "metadata": {},
   "outputs": [],
   "source": [
    "class lightProduction(product):\n",
    "    max_weight_in_kg=5\n",
    "    \n",
    "    def __init__(self,description,weight,price,discount):\n",
    "        self.weight=weight\n",
    "        super().__init__(description,price,discount)\n",
    "        \n",
    "    def validateweight(self):\n",
    "        return self.weight<=self.max_weight_in_kg\n",
    "    \n",
    "    def getdescription(self):\n",
    "        print(self._product__description)\n",
    "        \n",
    "    def getprice(self):\n",
    "        self.price=self.price-self.price*0.15\n",
    "        return super().getprice()"
   ]
  },
  {
   "cell_type": "code",
   "execution_count": 58,
   "id": "514e3fcb",
   "metadata": {},
   "outputs": [],
   "source": [
    "p=lightProduction('heater',3,400,0.1)"
   ]
  },
  {
   "cell_type": "code",
   "execution_count": 59,
   "id": "d7b1874a",
   "metadata": {},
   "outputs": [
    {
     "data": {
      "text/plain": [
       "306.0"
      ]
     },
     "execution_count": 59,
     "metadata": {},
     "output_type": "execute_result"
    }
   ],
   "source": [
    "p.getprice()"
   ]
  },
  {
   "cell_type": "code",
   "execution_count": 1,
   "id": "03bb03d5",
   "metadata": {},
   "outputs": [
    {
     "ename": "AttributeError",
     "evalue": "'Car' object has no attribute '_Car__color'",
     "output_type": "error",
     "traceback": [
      "\u001b[1;31m---------------------------------------------------------------------------\u001b[0m",
      "\u001b[1;31mAttributeError\u001b[0m                            Traceback (most recent call last)",
      "Cell \u001b[1;32mIn[1], line 13\u001b[0m\n\u001b[0;32m     10\u001b[0m         \u001b[38;5;28mprint\u001b[39m(c\u001b[38;5;241m.\u001b[39mnumGears)\n\u001b[0;32m     12\u001b[0m c \u001b[38;5;241m=\u001b[39m Car(\u001b[38;5;124m\"\u001b[39m\u001b[38;5;124mblack\u001b[39m\u001b[38;5;124m\"\u001b[39m,\u001b[38;5;241m5\u001b[39m)\n\u001b[1;32m---> 13\u001b[0m \u001b[43mc\u001b[49m\u001b[38;5;241;43m.\u001b[39;49m\u001b[43mprintCar\u001b[49m\u001b[43m(\u001b[49m\u001b[43m)\u001b[49m\n",
      "Cell \u001b[1;32mIn[1], line 9\u001b[0m, in \u001b[0;36mCar.printCar\u001b[1;34m(self)\u001b[0m\n\u001b[0;32m      8\u001b[0m \u001b[38;5;28;01mdef\u001b[39;00m \u001b[38;5;21mprintCar\u001b[39m(\u001b[38;5;28mself\u001b[39m):\n\u001b[1;32m----> 9\u001b[0m     \u001b[38;5;28mprint\u001b[39m(\u001b[43mc\u001b[49m\u001b[38;5;241;43m.\u001b[39;49m\u001b[43m__color\u001b[49m,end\u001b[38;5;241m=\u001b[39m\u001b[38;5;124m\"\u001b[39m\u001b[38;5;124m \u001b[39m\u001b[38;5;124m\"\u001b[39m)\n\u001b[0;32m     10\u001b[0m     \u001b[38;5;28mprint\u001b[39m(c\u001b[38;5;241m.\u001b[39mnumGears)\n",
      "\u001b[1;31mAttributeError\u001b[0m: 'Car' object has no attribute '_Car__color'"
     ]
    }
   ],
   "source": [
    "class Vehicle:\n",
    "     def __init__(self,color):\n",
    "         self.__color = color\n",
    "class Car(Vehicle):\n",
    "    def __init__(self,color,numGears):\n",
    "        super().__init__(color)\n",
    "        self.numGears = numGears\n",
    "    def printCar(self):\n",
    "        print(c.__color,end=\" \")\n",
    "        print(c.numGears)\n",
    "\n",
    "c = Car(\"black\",5)\n",
    "c.printCar()\n"
   ]
  },
  {
   "cell_type": "code",
   "execution_count": 3,
   "id": "1887dc8a",
   "metadata": {},
   "outputs": [
    {
     "name": "stdout",
     "output_type": "stream",
     "text": [
      "init of B called\n"
     ]
    },
    {
     "ename": "AttributeError",
     "evalue": "'C' object has no attribute 'mro'",
     "output_type": "error",
     "traceback": [
      "\u001b[1;31m---------------------------------------------------------------------------\u001b[0m",
      "\u001b[1;31mAttributeError\u001b[0m                            Traceback (most recent call last)",
      "Cell \u001b[1;32mIn[3], line 14\u001b[0m\n\u001b[0;32m     11\u001b[0m         \u001b[38;5;28msuper\u001b[39m()\u001b[38;5;241m.\u001b[39m\u001b[38;5;21m__init__\u001b[39m()\n\u001b[0;32m     13\u001b[0m c \u001b[38;5;241m=\u001b[39m C()\n\u001b[1;32m---> 14\u001b[0m \u001b[43mc\u001b[49m\u001b[38;5;241;43m.\u001b[39;49m\u001b[43mmro\u001b[49m()\n",
      "\u001b[1;31mAttributeError\u001b[0m: 'C' object has no attribute 'mro'"
     ]
    }
   ],
   "source": [
    "class A:\n",
    "\n",
    "    def __init__(self):\n",
    "        print(\"init of A called\")\n",
    "class B:\n",
    "    def __init__(self):\n",
    "        print(\"init of B called\")\n",
    "\n",
    "class C(B,A):\n",
    "    def __init__(self):\n",
    "        super().__init__()\n",
    "\n",
    "c = C()\n",
    "c.mro()"
   ]
  },
  {
   "cell_type": "code",
   "execution_count": 8,
   "id": "61fb5e98",
   "metadata": {},
   "outputs": [
    {
     "name": "stdout",
     "output_type": "stream",
     "text": [
      "A.method() called \n"
     ]
    },
    {
     "ename": "AttributeError",
     "evalue": "'b' object has no attribute 'mro'",
     "output_type": "error",
     "traceback": [
      "\u001b[1;31m---------------------------------------------------------------------------\u001b[0m",
      "\u001b[1;31mAttributeError\u001b[0m                            Traceback (most recent call last)",
      "Cell \u001b[1;32mIn[8], line 10\u001b[0m\n\u001b[0;32m      8\u001b[0m B\u001b[38;5;241m=\u001b[39mb()\n\u001b[0;32m      9\u001b[0m B\u001b[38;5;241m.\u001b[39mmethod()\n\u001b[1;32m---> 10\u001b[0m \u001b[38;5;28mprint\u001b[39m(\u001b[43mB\u001b[49m\u001b[38;5;241;43m.\u001b[39;49m\u001b[43mmro\u001b[49m())\n",
      "\u001b[1;31mAttributeError\u001b[0m: 'b' object has no attribute 'mro'"
     ]
    }
   ],
   "source": [
    "class a:\n",
    "    def method(self):\n",
    "        print(\"A.method() called \")\n",
    "        \n",
    "class b(a):\n",
    "    pass\n",
    "\n",
    "B=b()\n",
    "B.method()\n",
    "print(B.mro())"
   ]
  },
  {
   "cell_type": "code",
   "execution_count": null,
   "id": "2594d194",
   "metadata": {},
   "outputs": [],
   "source": [
    "class Vehicle:\n",
    "    def __init__(self,color):\n",
    "        self.color = color\n",
    "    def print(self):\n",
    "        print(c.color,end=\"\")\n",
    "class Car(Vehicle):\n",
    "    def __init__(self,color,numGears):\n",
    "        super().__init__(color)\n",
    "        self.numGears = numGears\n",
    "    def print(self):\n",
    "        self.print()\n",
    "        print(c.numGears)\n",
    "c = Car(\"black\",5)\n",
    "c.print()"
   ]
  },
  {
   "cell_type": "code",
   "execution_count": null,
   "id": "25f37c8b",
   "metadata": {},
   "outputs": [],
   "source": []
  }
 ],
 "metadata": {
  "kernelspec": {
   "display_name": "Python 3 (ipykernel)",
   "language": "python",
   "name": "python3"
  },
  "language_info": {
   "codemirror_mode": {
    "name": "ipython",
    "version": 3
   },
   "file_extension": ".py",
   "mimetype": "text/x-python",
   "name": "python",
   "nbconvert_exporter": "python",
   "pygments_lexer": "ipython3",
   "version": "3.10.7"
  }
 },
 "nbformat": 4,
 "nbformat_minor": 5
}
