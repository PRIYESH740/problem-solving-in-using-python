{
 "cells": [
  {
   "cell_type": "code",
   "execution_count": 1,
   "id": "8f886af4",
   "metadata": {},
   "outputs": [],
   "source": [
    "def replacechar(s,a,b):\n",
    "    if len(s)==0:\n",
    "        return s\n",
    "    smalloutput=replacechar(s[1:],a,b)\n",
    "    if s[0]==a:\n",
    "        return b+ smalloutput\n",
    "    else:\n",
    "        return s[0]+smalloutput"
   ]
  },
  {
   "cell_type": "code",
   "execution_count": 3,
   "id": "502b3088",
   "metadata": {},
   "outputs": [
    {
     "data": {
      "text/plain": [
       "'xx'"
      ]
     },
     "execution_count": 3,
     "metadata": {},
     "output_type": "execute_result"
    }
   ],
   "source": [
    "replacechar(\"cc\",'c','x')"
   ]
  },
  {
   "cell_type": "code",
   "execution_count": 14,
   "id": "1cc7a5f3",
   "metadata": {},
   "outputs": [],
   "source": [
    "def removeX(s,x):\n",
    "    if len(s)==0:\n",
    "        return s\n",
    "    smalloutput=removeX(s[1:],x)\n",
    "    if s[0]==x:\n",
    "        return smalloutput\n",
    "    else:\n",
    "        return s[0]+smalloutput"
   ]
  },
  {
   "cell_type": "code",
   "execution_count": 15,
   "id": "e0bd7859",
   "metadata": {},
   "outputs": [
    {
     "data": {
      "text/plain": [
       "'ab'"
      ]
     },
     "execution_count": 15,
     "metadata": {},
     "output_type": "execute_result"
    }
   ],
   "source": [
    "removeX(\"xaxb\",'x')"
   ]
  },
  {
   "cell_type": "code",
   "execution_count": 16,
   "id": "25ec2829",
   "metadata": {},
   "outputs": [
    {
     "data": {
      "text/plain": [
       "''"
      ]
     },
     "execution_count": 16,
     "metadata": {},
     "output_type": "execute_result"
    }
   ],
   "source": [
    "removeX(\"xx\",'x')"
   ]
  },
  {
   "cell_type": "code",
   "execution_count": 32,
   "id": "5afb2f7b",
   "metadata": {},
   "outputs": [],
   "source": [
    "def replacepi(s):\n",
    "    if len(s)==0 or len(s)==1:\n",
    "        return s\n",
    "    \n",
    "    if s[0]=='p' and s[1]=='i':\n",
    "        smalloutput=replacepi(s[2:])\n",
    "        return '3.14'+ smalloutput\n",
    "    else:\n",
    "        smalloutput=replacepi(s[1:])\n",
    "        return s[0]+smalloutput"
   ]
  },
  {
   "cell_type": "code",
   "execution_count": 20,
   "id": "e24a3325",
   "metadata": {},
   "outputs": [
    {
     "data": {
      "text/plain": [
       "'b3.14ahg3.143.14'"
      ]
     },
     "execution_count": 20,
     "metadata": {},
     "output_type": "execute_result"
    }
   ],
   "source": [
    "replacepi(\"bpiahgpipi\")"
   ]
  },
  {
   "cell_type": "code",
   "execution_count": 2,
   "id": "33cf841e",
   "metadata": {},
   "outputs": [],
   "source": [
    "def removeConsecutiveDuplicates(string):\n",
    "    if len(string)==0 or len(string)==1:\n",
    "        return string\n",
    "    \n",
    "    if string[0]==string[1]:\n",
    "        smalloutput=removeConsecutiveDuplicates(string[2:])\n",
    "        return string[1]+smalloutput\n",
    "    else:\n",
    "        smalloutput=removeConsecutiveDuplicates(string[1:])\n",
    "        return string[0]+smalloutput\n",
    "    "
   ]
  },
  {
   "cell_type": "code",
   "execution_count": 3,
   "id": "12ba856f",
   "metadata": {},
   "outputs": [
    {
     "data": {
      "text/plain": [
       "'abcba'"
      ]
     },
     "execution_count": 3,
     "metadata": {},
     "output_type": "execute_result"
    }
   ],
   "source": [
    "removeConsecutiveDuplicates(\"aabccba\")"
   ]
  },
  {
   "cell_type": "code",
   "execution_count": 4,
   "id": "36c4afcd",
   "metadata": {},
   "outputs": [
    {
     "data": {
      "text/plain": [
       "'xxyyzwzz'"
      ]
     },
     "execution_count": 4,
     "metadata": {},
     "output_type": "execute_result"
    }
   ],
   "source": [
    "removeConsecutiveDuplicates(\"xxxyyyzwwzzz\")"
   ]
  },
  {
   "cell_type": "code",
   "execution_count": 29,
   "id": "e3ccc620",
   "metadata": {},
   "outputs": [],
   "source": [
    "def removeConsecutiveDuplicates(string):\n",
    "    if len(string)==0:\n",
    "        return string\n",
    "    \n",
    "    i=1\n",
    "    a=1\n",
    "    while i<len(string):\n",
    "        if string[0]==string[a]:\n",
    "            a +=1\n",
    "        i +=1\n",
    "        \n",
    "    if a<len(string) and a>=2:\n",
    "        smalloutput=removeConsecutiveDuplicates(string[a:])\n",
    "        return string[0]+smalloutput\n",
    "    \n",
    "    else:\n",
    "        smalloutput=removeConsecutiveDuplicates(string[1:])\n",
    "        return string[0]+smalloutput"
   ]
  },
  {
   "cell_type": "code",
   "execution_count": 28,
   "id": "dc20f46b",
   "metadata": {},
   "outputs": [
    {
     "data": {
      "text/plain": [
       "'x'"
      ]
     },
     "execution_count": 28,
     "metadata": {},
     "output_type": "execute_result"
    }
   ],
   "source": [
    "removeConsecutiveDuplicates(\"xxxyyyzwwzzz\")"
   ]
  },
  {
   "cell_type": "code",
   "execution_count": 1,
   "id": "2da16d02",
   "metadata": {},
   "outputs": [],
   "source": [
    "def removeConsecutiveDuplicates(string):\n",
    "    if len(string)==0 or len(string)==1:\n",
    "        return string\n",
    "    i=1\n",
    "    a=1\n",
    "    while i<len(string):\n",
    "        if string[0]==string[a]:\n",
    "            a +=1\n",
    "        i +=1\n",
    "    \n",
    "    if string[0]==string[1]:\n",
    "        string=string.replace(string[0],'',a-1)\n",
    "        smalloutput=removeConsecutiveDuplicates(string)\n",
    "        return smalloutput\n",
    "    \n",
    "    else:\n",
    "        smalloutput=removeConsecutiveDuplicates(string[1:])\n",
    "        return string[0]+smalloutput"
   ]
  },
  {
   "cell_type": "code",
   "execution_count": 2,
   "id": "a93d6ef2",
   "metadata": {},
   "outputs": [
    {
     "data": {
      "text/plain": [
       "'xyzwz'"
      ]
     },
     "execution_count": 2,
     "metadata": {},
     "output_type": "execute_result"
    }
   ],
   "source": [
    "removeConsecutiveDuplicates(\"xxxyyyzwwzzz\")"
   ]
  },
  {
   "cell_type": "code",
   "execution_count": 4,
   "id": "88e4a522",
   "metadata": {},
   "outputs": [
    {
     "data": {
      "text/plain": [
       "'abcba'"
      ]
     },
     "execution_count": 4,
     "metadata": {},
     "output_type": "execute_result"
    }
   ],
   "source": [
    "removeConsecutiveDuplicates(\"abcba\")"
   ]
  },
  {
   "cell_type": "code",
   "execution_count": 6,
   "id": "b51db0e3",
   "metadata": {},
   "outputs": [
    {
     "name": "stdout",
     "output_type": "stream",
     "text": [
      "xyyyzwwzzz\n"
     ]
    }
   ],
   "source": [
    "string=\"xxxyyyzwwzzz\"\n",
    "i=1\n",
    "a=1\n",
    "while i<len(string):\n",
    "    if string[0]==string[a]:\n",
    "        a +=1\n",
    "    i +=1\n",
    "    \n",
    "if string[0]==string[1]:\n",
    "    string=string.replace(string[0],'',a-1)\n",
    "print(string)\n"
   ]
  },
  {
   "cell_type": "code",
   "execution_count": 4,
   "id": "e414b890",
   "metadata": {},
   "outputs": [
    {
     "ename": "TypeError",
     "evalue": "must be str, not int",
     "output_type": "error",
     "traceback": [
      "\u001b[1;31m---------------------------------------------------------------------------\u001b[0m",
      "\u001b[1;31mTypeError\u001b[0m                                 Traceback (most recent call last)",
      "Cell \u001b[1;32mIn[4], line 2\u001b[0m\n\u001b[0;32m      1\u001b[0m string\u001b[38;5;241m=\u001b[39m\u001b[38;5;124m\"\u001b[39m\u001b[38;5;124mxxxyyyzwwzzz\u001b[39m\u001b[38;5;124m\"\u001b[39m\n\u001b[1;32m----> 2\u001b[0m n\u001b[38;5;241m=\u001b[39m\u001b[43mstring\u001b[49m\u001b[38;5;241;43m.\u001b[39;49m\u001b[43mcount\u001b[49m\u001b[43m(\u001b[49m\u001b[38;5;241;43m0\u001b[39;49m\u001b[43m)\u001b[49m \n\u001b[0;32m      3\u001b[0m \u001b[38;5;28mprint\u001b[39m(n)\n",
      "\u001b[1;31mTypeError\u001b[0m: must be str, not int"
     ]
    }
   ],
   "source": [
    "string=\"xxxyyyzwwzzz\"\n",
    "n=string.count(0) \n",
    "print(n)"
   ]
  },
  {
   "cell_type": "code",
   "execution_count": 1,
   "id": "bb3a79b9",
   "metadata": {},
   "outputs": [],
   "source": [
    "def mergesort(arr,l,r):\n",
    "    arr1=set()\n",
    "    if len(arr)==0:\n",
    "        return -1\n",
    "    mid=l+(r-l)//2\n",
    "    s1=arr[:mid]\n",
    "    s2=arr[mid:]\n",
    "    l1=mergesort(s1,l,mid-1)\n",
    "    l2=mergesort(s2,mid,r)\n",
    "\n",
    "    arr1=set()\n",
    "    for i in l1:\n",
    "        for j in l2:\n",
    "            if i<=j:\n",
    "                arr.add(i)\n",
    "                \n",
    "            else:\n",
    "                arr.add(j)\n",
    "    for i in l1:\n",
    "        arr.add(i)\n",
    "    for j in l2:\n",
    "        arr.add(j)"
   ]
  },
  {
   "cell_type": "code",
   "execution_count": 2,
   "id": "0b7fc36e",
   "metadata": {},
   "outputs": [
    {
     "ename": "RecursionError",
     "evalue": "maximum recursion depth exceeded",
     "output_type": "error",
     "traceback": [
      "\u001b[1;31m---------------------------------------------------------------------------\u001b[0m",
      "\u001b[1;31mRecursionError\u001b[0m                            Traceback (most recent call last)",
      "Cell \u001b[1;32mIn[2], line 1\u001b[0m\n\u001b[1;32m----> 1\u001b[0m \u001b[43mmergesort\u001b[49m\u001b[43m(\u001b[49m\u001b[43m[\u001b[49m\u001b[38;5;241;43m8\u001b[39;49m\u001b[43m,\u001b[49m\u001b[38;5;241;43m4\u001b[39;49m\u001b[43m,\u001b[49m\u001b[38;5;241;43m6\u001b[39;49m\u001b[43m,\u001b[49m\u001b[38;5;241;43m7\u001b[39;49m\u001b[43m,\u001b[49m\u001b[38;5;241;43m10\u001b[39;49m\u001b[43m,\u001b[49m\u001b[38;5;241;43m3\u001b[39;49m\u001b[43m,\u001b[49m\u001b[38;5;241;43m1\u001b[39;49m\u001b[43m]\u001b[49m\u001b[43m,\u001b[49m\u001b[38;5;241;43m0\u001b[39;49m\u001b[43m,\u001b[49m\u001b[38;5;241;43m6\u001b[39;49m\u001b[43m)\u001b[49m\n",
      "Cell \u001b[1;32mIn[1], line 8\u001b[0m, in \u001b[0;36mmergesort\u001b[1;34m(arr, l, r)\u001b[0m\n\u001b[0;32m      6\u001b[0m s1\u001b[38;5;241m=\u001b[39marr[:mid]\n\u001b[0;32m      7\u001b[0m s2\u001b[38;5;241m=\u001b[39marr[mid:]\n\u001b[1;32m----> 8\u001b[0m l1\u001b[38;5;241m=\u001b[39m\u001b[43mmergesort\u001b[49m\u001b[43m(\u001b[49m\u001b[43ms1\u001b[49m\u001b[43m,\u001b[49m\u001b[43ml\u001b[49m\u001b[43m,\u001b[49m\u001b[43mmid\u001b[49m\u001b[38;5;241;43m-\u001b[39;49m\u001b[38;5;241;43m1\u001b[39;49m\u001b[43m)\u001b[49m\n\u001b[0;32m      9\u001b[0m l2\u001b[38;5;241m=\u001b[39mmergesort(s2,mid,r)\n\u001b[0;32m     11\u001b[0m arr1\u001b[38;5;241m=\u001b[39m\u001b[38;5;28mset\u001b[39m()\n",
      "Cell \u001b[1;32mIn[1], line 8\u001b[0m, in \u001b[0;36mmergesort\u001b[1;34m(arr, l, r)\u001b[0m\n\u001b[0;32m      6\u001b[0m s1\u001b[38;5;241m=\u001b[39marr[:mid]\n\u001b[0;32m      7\u001b[0m s2\u001b[38;5;241m=\u001b[39marr[mid:]\n\u001b[1;32m----> 8\u001b[0m l1\u001b[38;5;241m=\u001b[39m\u001b[43mmergesort\u001b[49m\u001b[43m(\u001b[49m\u001b[43ms1\u001b[49m\u001b[43m,\u001b[49m\u001b[43ml\u001b[49m\u001b[43m,\u001b[49m\u001b[43mmid\u001b[49m\u001b[38;5;241;43m-\u001b[39;49m\u001b[38;5;241;43m1\u001b[39;49m\u001b[43m)\u001b[49m\n\u001b[0;32m      9\u001b[0m l2\u001b[38;5;241m=\u001b[39mmergesort(s2,mid,r)\n\u001b[0;32m     11\u001b[0m arr1\u001b[38;5;241m=\u001b[39m\u001b[38;5;28mset\u001b[39m()\n",
      "Cell \u001b[1;32mIn[1], line 9\u001b[0m, in \u001b[0;36mmergesort\u001b[1;34m(arr, l, r)\u001b[0m\n\u001b[0;32m      7\u001b[0m s2\u001b[38;5;241m=\u001b[39marr[mid:]\n\u001b[0;32m      8\u001b[0m l1\u001b[38;5;241m=\u001b[39mmergesort(s1,l,mid\u001b[38;5;241m-\u001b[39m\u001b[38;5;241m1\u001b[39m)\n\u001b[1;32m----> 9\u001b[0m l2\u001b[38;5;241m=\u001b[39m\u001b[43mmergesort\u001b[49m\u001b[43m(\u001b[49m\u001b[43ms2\u001b[49m\u001b[43m,\u001b[49m\u001b[43mmid\u001b[49m\u001b[43m,\u001b[49m\u001b[43mr\u001b[49m\u001b[43m)\u001b[49m\n\u001b[0;32m     11\u001b[0m arr1\u001b[38;5;241m=\u001b[39m\u001b[38;5;28mset\u001b[39m()\n\u001b[0;32m     12\u001b[0m \u001b[38;5;28;01mfor\u001b[39;00m i \u001b[38;5;129;01min\u001b[39;00m l1:\n",
      "Cell \u001b[1;32mIn[1], line 9\u001b[0m, in \u001b[0;36mmergesort\u001b[1;34m(arr, l, r)\u001b[0m\n\u001b[0;32m      7\u001b[0m s2\u001b[38;5;241m=\u001b[39marr[mid:]\n\u001b[0;32m      8\u001b[0m l1\u001b[38;5;241m=\u001b[39mmergesort(s1,l,mid\u001b[38;5;241m-\u001b[39m\u001b[38;5;241m1\u001b[39m)\n\u001b[1;32m----> 9\u001b[0m l2\u001b[38;5;241m=\u001b[39m\u001b[43mmergesort\u001b[49m\u001b[43m(\u001b[49m\u001b[43ms2\u001b[49m\u001b[43m,\u001b[49m\u001b[43mmid\u001b[49m\u001b[43m,\u001b[49m\u001b[43mr\u001b[49m\u001b[43m)\u001b[49m\n\u001b[0;32m     11\u001b[0m arr1\u001b[38;5;241m=\u001b[39m\u001b[38;5;28mset\u001b[39m()\n\u001b[0;32m     12\u001b[0m \u001b[38;5;28;01mfor\u001b[39;00m i \u001b[38;5;129;01min\u001b[39;00m l1:\n",
      "    \u001b[1;31m[... skipping similar frames: mergesort at line 9 (2967 times)]\u001b[0m\n",
      "Cell \u001b[1;32mIn[1], line 9\u001b[0m, in \u001b[0;36mmergesort\u001b[1;34m(arr, l, r)\u001b[0m\n\u001b[0;32m      7\u001b[0m s2\u001b[38;5;241m=\u001b[39marr[mid:]\n\u001b[0;32m      8\u001b[0m l1\u001b[38;5;241m=\u001b[39mmergesort(s1,l,mid\u001b[38;5;241m-\u001b[39m\u001b[38;5;241m1\u001b[39m)\n\u001b[1;32m----> 9\u001b[0m l2\u001b[38;5;241m=\u001b[39m\u001b[43mmergesort\u001b[49m\u001b[43m(\u001b[49m\u001b[43ms2\u001b[49m\u001b[43m,\u001b[49m\u001b[43mmid\u001b[49m\u001b[43m,\u001b[49m\u001b[43mr\u001b[49m\u001b[43m)\u001b[49m\n\u001b[0;32m     11\u001b[0m arr1\u001b[38;5;241m=\u001b[39m\u001b[38;5;28mset\u001b[39m()\n\u001b[0;32m     12\u001b[0m \u001b[38;5;28;01mfor\u001b[39;00m i \u001b[38;5;129;01min\u001b[39;00m l1:\n",
      "Cell \u001b[1;32mIn[1], line 8\u001b[0m, in \u001b[0;36mmergesort\u001b[1;34m(arr, l, r)\u001b[0m\n\u001b[0;32m      6\u001b[0m s1\u001b[38;5;241m=\u001b[39marr[:mid]\n\u001b[0;32m      7\u001b[0m s2\u001b[38;5;241m=\u001b[39marr[mid:]\n\u001b[1;32m----> 8\u001b[0m l1\u001b[38;5;241m=\u001b[39m\u001b[43mmergesort\u001b[49m\u001b[43m(\u001b[49m\u001b[43ms1\u001b[49m\u001b[43m,\u001b[49m\u001b[43ml\u001b[49m\u001b[43m,\u001b[49m\u001b[43mmid\u001b[49m\u001b[38;5;241;43m-\u001b[39;49m\u001b[38;5;241;43m1\u001b[39;49m\u001b[43m)\u001b[49m\n\u001b[0;32m      9\u001b[0m l2\u001b[38;5;241m=\u001b[39mmergesort(s2,mid,r)\n\u001b[0;32m     11\u001b[0m arr1\u001b[38;5;241m=\u001b[39m\u001b[38;5;28mset\u001b[39m()\n",
      "\u001b[1;31mRecursionError\u001b[0m: maximum recursion depth exceeded"
     ]
    }
   ],
   "source": [
    "mergesort([8,4,6,7,10,3,1],0,6)"
   ]
  },
  {
   "cell_type": "code",
   "execution_count": null,
   "id": "22d14cec",
   "metadata": {},
   "outputs": [],
   "source": [
    "def merge(a1, a2, arr):\n",
    "    i = 0\n",
    "    j = 0\n",
    "    k = 0\n",
    "    \n",
    "    while i < len(a1) and j <len(a2):\n",
    "        if a1[i] < a2[j]:\n",
    "            arr[k] = a1[i]\n",
    "            k = k + 1\n",
    "            i = i + 1\n",
    "        else:\n",
    "            arr[k] = a2[j]\n",
    "            k = k + 1\n",
    "            j = j + 1\n",
    "    \n",
    "    while i < len(a1):\n",
    "        arr[k] = a1[i]\n",
    "        k = k + 1\n",
    "        i = i + 1\n",
    "    \n",
    "    while j < len(a2):\n",
    "        arr[k] = a2[j]\n",
    "        k = k + 1\n",
    "        j = j + 1"
   ]
  },
  {
   "cell_type": "code",
   "execution_count": 7,
   "id": "815868b7",
   "metadata": {},
   "outputs": [
    {
     "name": "stdout",
     "output_type": "stream",
     "text": [
      "[3, 6, 7, 11, 12, 25, 41, 45, 52]\n"
     ]
    }
   ],
   "source": [
    "def mergeSort(arr2: [int], l: int, r: int):\n",
    "    if len(arr2) == 0 or len(arr2) == 1:\n",
    "        return -1\n",
    "    \n",
    "    mid = len(arr2)//2\n",
    "    \n",
    "    a1 = arr2[:mid]\n",
    "    a2 = arr2[mid:]\n",
    "    \n",
    "    mergeSort(a1,l,mid-1)\n",
    "    mergeSort(a2,mid,r)\n",
    "    \n",
    "    merge(a1, a2, arr2)\n",
    "    \n",
    "def merge(a1, a2, arr2):\n",
    "    i = 0\n",
    "    j = 0\n",
    "    k = 0\n",
    "    \n",
    "    while i < len(a1) and j <len(a2):\n",
    "        if a1[i] < a2[j]:\n",
    "            arr2[k] = a1[i]\n",
    "            k = k + 1\n",
    "            i = i + 1\n",
    "        else:\n",
    "            arr2[k] = a2[j]\n",
    "            k = k + 1\n",
    "            j = j + 1\n",
    "    \n",
    "    while i < len(a1):\n",
    "        arr2[k] = a1[i]\n",
    "        k = k + 1\n",
    "        i = i + 1\n",
    "    \n",
    "    while j < len(a2):\n",
    "        arr2[k] = a2[j]\n",
    "        k = k + 1\n",
    "        j = j + 1\n",
    "    \n",
    "arr = [11,7,45,12,3,6,52,41,25]\n",
    "mergeSort(arr,0,len(arr)-1)\n",
    "print(arr)"
   ]
  },
  {
   "cell_type": "code",
   "execution_count": null,
   "id": "2853adfa",
   "metadata": {},
   "outputs": [],
   "source": [
    "arr = [5,2,45,12,3,6,52,41,25]\n",
    "MergeSort(arr,0,8)\n",
    "print(arr)"
   ]
  },
  {
   "cell_type": "code",
   "execution_count": null,
   "id": "18fab9c7",
   "metadata": {},
   "outputs": [],
   "source": []
  },
  {
   "cell_type": "code",
   "execution_count": null,
   "id": "a3fbcd65",
   "metadata": {},
   "outputs": [],
   "source": []
  },
  {
   "cell_type": "code",
   "execution_count": 1,
   "id": "7ea495d7",
   "metadata": {},
   "outputs": [
    {
     "name": "stdout",
     "output_type": "stream",
     "text": [
      "[1, 2, 5, 6, 11, 12, 19, 41, 52]\n"
     ]
    }
   ],
   "source": [
    "def merge(arr1, n, arr2, m) :\n",
    "    i=0http://localhost:8888/notebooks/Recursion%20-2.ipynb#\n",
    "    j=0\n",
    "    arr3=[]\n",
    "    while i<n and j<m:\n",
    "            if arr1[i]<arr2[j]:\n",
    "                arr3.append(arr1[i])\n",
    "                i +=1\n",
    "            else:\n",
    "                arr3.append(arr2[j])\n",
    "                j +=1\n",
    "        \n",
    "                \n",
    "    while i<n:\n",
    "        arr3.append(arr1[i])\n",
    "        i +=1\n",
    "\n",
    "    while j<m:\n",
    "        arr3.append(arr2[j])\n",
    "        j +=1\n",
    "        \n",
    "    return arr3\n",
    "    \n",
    "    \n",
    "    \n",
    "arr = [5,2,19,12,1,6,52,41,11]\n",
    "mergeSort(arr,0,8)\n",
    "print(arr)"
   ]
  },
  {
   "cell_type": "code",
   "execution_count": 1,
   "id": "17617730",
   "metadata": {},
   "outputs": [
    {
     "name": "stdout",
     "output_type": "stream",
     "text": [
      "[0, 1, 2, 3, 4, 6, 8, 43, 55]\n"
     ]
    }
   ],
   "source": [
    "def mergesort(arr,l,r):\n",
    "    ret = []\n",
    "    if( len(arr) == 1):\n",
    "        return arr;\n",
    "    mid  = len(arr)//2\n",
    "    lower = mergesort(arr[:mid],l,mid-1)\n",
    "    upper = mergesort(arr[mid:],mid,r)\n",
    "    lower_len = len(lower)\n",
    "    upper_len = len(upper)\n",
    "    i = 0\n",
    "    j = 0\n",
    "    while i != lower_len or j != upper_len:\n",
    "        if( i != lower_len and (j == upper_len or lower[i] < upper[j])):\n",
    "            ret.append(lower[i])\n",
    "            i += 1\n",
    "        else:\n",
    "            ret.append(upper[j])\n",
    "            j += 1\n",
    "\n",
    "    return ret\n",
    "\n",
    "arr = [4, 2, 3, 8, 55, 43, 6,1, 0]\n",
    "ar = merge_sort(arr,0,8)\n",
    "#print (\" \".join(str(x) for x in ar))\n",
    "print(ar)\n",
    "#>>> 0 1 2 3 4 6 8 8 43"
   ]
  },
  {
   "cell_type": "code",
   "execution_count": 6,
   "id": "6f074011",
   "metadata": {},
   "outputs": [
    {
     "name": "stdout",
     "output_type": "stream",
     "text": [
      "[1, 2, 3, 5, 7, 8, 11]\n"
     ]
    }
   ],
   "source": [
    "def merge_sort(arr,l,r):\n",
    "\n",
    "    # Base Case\n",
    "    if len(arr) <= 1:\n",
    "        return arr\n",
    "    \n",
    "    mid = len(arr)//2\n",
    "    \n",
    "    list_1 = arr[:mid] \n",
    "    list_2 = arr[mid:]\n",
    "    \n",
    "   \t# Induction Step\n",
    "    ans_1 = merge_sort(list_1,l,mid-1)\n",
    "    ans_2 = merge_sort(list_2,mid,r)\n",
    "    \n",
    "    # Sorting and merging two sorted list\n",
    "    sort_list = sort_two_list(ans_1, ans_2)\n",
    "    return sort_list\n",
    "\n",
    "\n",
    "\n",
    "# Separate Function to sort and merge 2 sorted lists\n",
    "def sort_two_list(list_1, list_2):\n",
    "    final_list = []\n",
    "    i = 0\n",
    "    j = 0\n",
    "    while i < len(list_1) and j < len(list_2):\n",
    "        if list_1[i] <= list_2[j]:\n",
    "            final_list.append(list_1[i])\n",
    "            i += 1\n",
    "            continue\n",
    "        final_list.append(list_2[j])\n",
    "        j += 1\n",
    "\n",
    "    while i < len(list_1):\n",
    "        final_list.append(list_1[i])\n",
    "        i = i + 1\n",
    "        \n",
    "    while j < len(list_2):\n",
    "        final_list.append(list_2[j])\n",
    "        j = j + 1\n",
    "        \n",
    "    return final_list\n",
    "\n",
    "\n",
    "arr= [3, 8, 2, 7, 1, 11, 5]\n",
    "ans = merge_sort(arr,0,7)\n",
    "print(ans)\n",
    "# prints [1, 2, 3, 4, 5, 7, 8]"
   ]
  },
  {
   "cell_type": "code",
   "execution_count": null,
   "id": "05566073",
   "metadata": {},
   "outputs": [],
   "source": [
    "def partitionArray(input: [int], start: int, end: int) -> int:\n",
    "    pi=input[start]\n",
    "    \n",
    "    while start<end:\n",
    "        while input[start]<=pi:\n",
    "            start +=1\n",
    "            \n",
    "        while input[end]>pi:\n",
    "            end +=1\n",
    "            \n",
    "        if start<end:\n",
    "            \n",
    "        \n",
    "\n",
    "\n",
    "def quickSort(input: [int], start: int, end: int):\n",
    "    \"\"\"\n",
    "    Don't write main().\n",
    "    Don't read input, it is passed as function argument.\n",
    "    Change in the given array itself.\n",
    "    Taking input and printing output is handled automatically.\n",
    "    \"\"\"\n",
    "    pass"
   ]
  },
  {
   "cell_type": "code",
   "execution_count": 2,
   "id": "ea9004ae",
   "metadata": {},
   "outputs": [
    {
     "name": "stdout",
     "output_type": "stream",
     "text": [
      "6\n",
      "2\n"
     ]
    }
   ],
   "source": [
    "a=2\n",
    "b=6\n",
    "a,b=b,a\n",
    "print(a)\n",
    "print(b)"
   ]
  },
  {
   "cell_type": "code",
   "execution_count": 7,
   "id": "2356a172",
   "metadata": {},
   "outputs": [
    {
     "name": "stdout",
     "output_type": "stream",
     "text": [
      "1\n",
      "a   c\n"
     ]
    }
   ],
   "source": [
    "def towerofhanoi(n, source, aux, dest):\n",
    "    if n == 1:\n",
    "        print(source,\" \", dest)\n",
    "        return\n",
    "\n",
    "    towerofhanoi(n-1, source, dest, aux)\n",
    "    print(source,\" \", dest)\n",
    "    towerofhanoi(n-1, aux, source, dest)\n",
    "   \n",
    "\n",
    "\n",
    "n=int(input())\n",
    "towerofhanoi(n, 'a', 'b', 'c')"
   ]
  },
  {
   "cell_type": "code",
   "execution_count": null,
   "id": "0fc2d5a5",
   "metadata": {},
   "outputs": [],
   "source": []
  }
 ],
 "metadata": {
  "kernelspec": {
   "display_name": "Python 3 (ipykernel)",
   "language": "python",
   "name": "python3"
  },
  "language_info": {
   "codemirror_mode": {
    "name": "ipython",
    "version": 3
   },
   "file_extension": ".py",
   "mimetype": "text/x-python",
   "name": "python",
   "nbconvert_exporter": "python",
   "pygments_lexer": "ipython3",
   "version": "3.11.4"
  }
 },
 "nbformat": 4,
 "nbformat_minor": 5
}
