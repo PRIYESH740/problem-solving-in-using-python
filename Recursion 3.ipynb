{
 "cells": [
  {
   "cell_type": "markdown",
   "id": "878b7d3f",
   "metadata": {},
   "source": [
    "### return all subaequence intro"
   ]
  },
  {
   "cell_type": "code",
   "execution_count": 5,
   "id": "02d30f2f",
   "metadata": {},
   "outputs": [],
   "source": [
    "def subs(s):\n",
    "    if len(s)==0:\n",
    "        output=[]\n",
    "        output.append(\"\")\n",
    "        return output\n",
    "    \n",
    "    smalleststring =s[1:]\n",
    "    smalleroutput =subs(smalleststring)\n",
    "    \n",
    "    output =[]\n",
    "    for sub in smalleroutput:\n",
    "        output.append(sub)\n",
    "    \n",
    "    for sub in smalleroutput:\n",
    "        char=s[0]+sub\n",
    "        output.append(char)\n",
    "        \n",
    "    return output"
   ]
  },
  {
   "cell_type": "code",
   "execution_count": 7,
   "id": "199e36a7",
   "metadata": {},
   "outputs": [
    {
     "data": {
      "text/plain": [
       "['',\n",
       " 'd',\n",
       " 'c',\n",
       " 'cd',\n",
       " 'b',\n",
       " 'bd',\n",
       " 'bc',\n",
       " 'bcd',\n",
       " 'a',\n",
       " 'ad',\n",
       " 'ac',\n",
       " 'acd',\n",
       " 'ab',\n",
       " 'abd',\n",
       " 'abc',\n",
       " 'abcd']"
      ]
     },
     "execution_count": 7,
     "metadata": {},
     "output_type": "execute_result"
    }
   ],
   "source": [
    "subs(\"abcd\")"
   ]
  },
  {
   "cell_type": "markdown",
   "id": "ccca9307",
   "metadata": {},
   "source": [
    "### return keypad combination"
   ]
  },
  {
   "cell_type": "code",
   "execution_count": 1,
   "id": "bcec68c4",
   "metadata": {},
   "outputs": [],
   "source": [
    "def getstring(d):\n",
    "    if d==2:\n",
    "        return \"abc\"\n",
    "    \n",
    "    if d==3:\n",
    "        return \"def\"\n",
    "    \n",
    "    if d==4:\n",
    "        return \"ghi\"\n",
    "    \n",
    "    if d==5:\n",
    "        return \"jkl\"\n",
    "    if d==6:\n",
    "        return \"mno\"\n",
    "    \n",
    "    if d==7:\n",
    "        return \"pqrs\"\n",
    "    \n",
    "    if d==8:\n",
    "        return \"tuv\"\n",
    "    \n",
    "    if d==9:\n",
    "        return \"wxyz\"\n",
    "    return \" \"\n"
   ]
  },
  {
   "cell_type": "code",
   "execution_count": 5,
   "id": "b7c0f3ff",
   "metadata": {},
   "outputs": [],
   "source": [
    "def keypad(n):\n",
    "    if n==0:\n",
    "        output=[]\n",
    "        output.append(\"\")\n",
    "        return output\n",
    "    smallerint=n//10\n",
    "    remainingdigit=n%10\n",
    "    smalleroutput=keypad(smallerint)\n",
    "    optionsforLastDigit = getstring(remainingdigit)\n",
    "    \n",
    "    output=[]\n",
    "    \n",
    "    for s in smalleroutput:\n",
    "        for c in optionsforLastDigit:\n",
    "            option = s+c\n",
    "            output.append(option)\n",
    "            \n",
    "    return output\n",
    "    "
   ]
  },
  {
   "cell_type": "code",
   "execution_count": 6,
   "id": "5d4779bf",
   "metadata": {},
   "outputs": [
    {
     "data": {
      "text/plain": [
       "['ad', 'ae', 'af', 'bd', 'be', 'bf', 'cd', 'ce', 'cf']"
      ]
     },
     "execution_count": 6,
     "metadata": {},
     "output_type": "execute_result"
    }
   ],
   "source": [
    "keypad(23)"
   ]
  },
  {
   "cell_type": "code",
   "execution_count": 14,
   "id": "dc1c3707",
   "metadata": {},
   "outputs": [],
   "source": [
    "def facthelper(n):\n",
    "    if n==0:\n",
    "        return 1\n",
    "    smalloutput=facthelper(n-1)\n",
    "    output=n*smalloutput\n",
    "    return output"
   ]
  },
  {
   "cell_type": "code",
   "execution_count": 15,
   "id": "9fc7c004",
   "metadata": {
    "scrolled": true
   },
   "outputs": [],
   "source": [
    "def fact(n):\n",
    "    output=facthelper(n)\n",
    "    print(output)\n",
    "    "
   ]
  },
  {
   "cell_type": "code",
   "execution_count": 16,
   "id": "9173089f",
   "metadata": {},
   "outputs": [
    {
     "name": "stdout",
     "output_type": "stream",
     "text": [
      "120\n"
     ]
    }
   ],
   "source": [
    "fact(5)"
   ]
  },
  {
   "cell_type": "code",
   "execution_count": 17,
   "id": "fbd49872",
   "metadata": {},
   "outputs": [],
   "source": [
    "def printfact(n,ans):\n",
    "    if n==0:\n",
    "        print(ans)\n",
    "        return\n",
    "    ans=ans*n\n",
    "    printfact(n-1,ans)"
   ]
  },
  {
   "cell_type": "code",
   "execution_count": 19,
   "id": "d2680447",
   "metadata": {},
   "outputs": [
    {
     "name": "stdout",
     "output_type": "stream",
     "text": [
      "120\n"
     ]
    }
   ],
   "source": [
    "printfact(5,1)"
   ]
  },
  {
   "cell_type": "markdown",
   "id": "ebff54c7",
   "metadata": {},
   "source": [
    "### minimum element "
   ]
  },
  {
   "cell_type": "code",
   "execution_count": 1,
   "id": "4c5910f0",
   "metadata": {},
   "outputs": [],
   "source": [
    "def minList(l):\n",
    "    if len(l)== 1:\n",
    "        return l[0]\n",
    "    \n",
    "    minSmallArray =minList(l[1:])\n",
    "    overallMin=min(minSmallArray,l[0])\n",
    "    return overallMin\n",
    "    \n",
    "        "
   ]
  },
  {
   "cell_type": "code",
   "execution_count": 2,
   "id": "fe87fdc6",
   "metadata": {},
   "outputs": [],
   "source": [
    "def printMin(l , minSofar=100000):\n",
    "    if len(l)==0:\n",
    "        print(minSofar)\n",
    "        return \n",
    "    \n",
    "    newmin=min(minSofar,l[0])\n",
    "    printMin(l[1:] , newmin)\n",
    "        \n",
    "    "
   ]
  },
  {
   "cell_type": "code",
   "execution_count": 4,
   "id": "9cdee388",
   "metadata": {},
   "outputs": [
    {
     "name": "stdout",
     "output_type": "stream",
     "text": [
      "-4\n"
     ]
    }
   ],
   "source": [
    "printMin([1,2,3,4,-1,0,-2,-4,5,6])"
   ]
  },
  {
   "cell_type": "code",
   "execution_count": null,
   "id": "73489977",
   "metadata": {},
   "outputs": [],
   "source": [
    "def PrintSubs(i,o):\n",
    "    if len(s) ==0:\n",
    "        print \n",
    "    "
   ]
  }
 ],
 "metadata": {
  "kernelspec": {
   "display_name": "Python 3 (ipykernel)",
   "language": "python",
   "name": "python3"
  },
  "language_info": {
   "codemirror_mode": {
    "name": "ipython",
    "version": 3
   },
   "file_extension": ".py",
   "mimetype": "text/x-python",
   "name": "python",
   "nbconvert_exporter": "python",
   "pygments_lexer": "ipython3",
   "version": "3.11.5"
  }
 },
 "nbformat": 4,
 "nbformat_minor": 5
}
