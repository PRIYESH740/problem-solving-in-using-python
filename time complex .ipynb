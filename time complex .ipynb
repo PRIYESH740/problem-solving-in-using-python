{
 "cells": [
  {
   "cell_type": "code",
   "execution_count": null,
   "id": "eeafc70e",
   "metadata": {},
   "outputs": [],
   "source": [
    "1. Time complexity refers to the amount of time \n",
    "an algorithm takes to execute.\n",
    "\n",
    "2. Space complexity refers to the amount of \n",
    "memory an algorithm uses during its execution.\n",
    "\n",
    "\n",
    "3. Processor and memory are hardware components, \n",
    "not measures of efficiency.\n",
    "\n",
    "\n",
    "4. Complexity and capacity, data and space \n",
    "are not standard terms for measuring algorithm\n",
    "efficiency."
   ]
  },
  {
   "cell_type": "code",
   "execution_count": 4,
   "id": "d4a1e0e3",
   "metadata": {},
   "outputs": [],
   "source": [
    "def merge1(arr1, n, arr2, m) :\n",
    "    i=0\n",
    "    j=0\n",
    "    arr3=[]\n",
    "    while i<n and j<m:\n",
    "            if arr1[i]<arr2[j]:\n",
    "                arr3.append(arr1[i])\n",
    "                i +=1\n",
    "            else:\n",
    "                arr3.append(arr2[j])\n",
    "                j +=1\n",
    "        \n",
    "                \n",
    "    while i<n:\n",
    "        arr3.append(arr1[i])\n",
    "        i +=1\n",
    "\n",
    "    while j<m:\n",
    "        arr3.append(arr2[j])\n",
    "        j +=1\n",
    "        \n",
    "    return arr3"
   ]
  },
  {
   "cell_type": "code",
   "execution_count": 1,
   "id": "92268d2d",
   "metadata": {},
   "outputs": [],
   "source": [
    "def merge(a1, a2, arr):\n",
    "    i = 0\n",
    "    j = 0\n",
    "    k = 0\n",
    "    \n",
    "    while i < len(a1) and j <len(a2):\n",
    "        if a1[i] < a2[j]:\n",
    "            arr[k] = a1[i]\n",
    "            k = k + 1\n",
    "            i = i + 1\n",
    "        else:\n",
    "            arr[k] = a2[j]\n",
    "            k = k + 1\n",
    "            j = j + 1\n",
    "    \n",
    "    while i < len(a1):\n",
    "        arr[k] = a1[i]\n",
    "        k = k + 1\n",
    "        i = i + 1\n",
    "    \n",
    "    while j < len(a2):\n",
    "        arr[k] = a2[j]\n",
    "        k = k + 1\n",
    "        j = j + 1\n",
    "        \n",
    "def mergeSort(arr):\n",
    "    if len(arr) == 0 or len(arr) == 1:\n",
    "        return -1\n",
    "    \n",
    "    mid = len(arr)//2\n",
    "    \n",
    "    a1 = arr[:mid]\n",
    "    a2 = arr[mid:]\n",
    "    \n",
    "    mergeSort(a1)\n",
    "    mergeSort(a2)\n",
    "    \n",
    "    merge(a1, a2, arr)"
   ]
  },
  {
   "cell_type": "code",
   "execution_count": 2,
   "id": "d38b72d1",
   "metadata": {},
   "outputs": [],
   "source": [
    "def selectionSort(arr, n) :\n",
    "    for i in range(n-1):\n",
    "        min=i\n",
    "        for j in range(i+1,n):\n",
    "            if arr[j]<arr[min]:\n",
    "                min=j\n",
    "        arr[i],arr[min]=arr[min],arr[i]"
   ]
  },
  {
   "cell_type": "code",
   "execution_count": 3,
   "id": "cedca5b1",
   "metadata": {},
   "outputs": [],
   "source": [
    "def create_rev_array(n):\n",
    "    a= []\n",
    "    for i in range(n,0,-1):\n",
    "        a.append(i)\n",
    "    return a"
   ]
  },
  {
   "cell_type": "code",
   "execution_count": 4,
   "id": "14d330d8",
   "metadata": {},
   "outputs": [
    {
     "data": {
      "text/plain": [
       "1690379691.7464218"
      ]
     },
     "execution_count": 4,
     "metadata": {},
     "output_type": "execute_result"
    }
   ],
   "source": [
    "import time\n",
    "time.time()"
   ]
  },
  {
   "cell_type": "code",
   "execution_count": 7,
   "id": "7c4c1e95",
   "metadata": {},
   "outputs": [],
   "source": [
    "n=100"
   ]
  },
  {
   "cell_type": "code",
   "execution_count": 9,
   "id": "a5a439af",
   "metadata": {},
   "outputs": [
    {
     "name": "stdout",
     "output_type": "stream",
     "text": [
      "100 0.0\n"
     ]
    }
   ],
   "source": [
    "a=create_rev_array(n)\n",
    "star=time.time()\n",
    "mergeSort(a)\n",
    "end=time.time()\n",
    "#print(n,\"{:.7f}\".format(end-star))\n",
    "#print(n,\"{%.7f}\"%(end-star))\n",
    "print(n,(end-star))"
   ]
  },
  {
   "cell_type": "code",
   "execution_count": 10,
   "id": "5b19fd12",
   "metadata": {},
   "outputs": [
    {
     "name": "stdout",
     "output_type": "stream",
     "text": [
      "100 0.0000000\n"
     ]
    }
   ],
   "source": [
    "a=create_rev_array(n)\n",
    "star=time.time()\n",
    "selectionSort(a,n)\n",
    "end=time.time()\n",
    "print(n,\"{:.7f}\".format(end-star))\n",
    "#print(n,\"{%.7f}\"%(end-star))"
   ]
  },
  {
   "cell_type": "code",
   "execution_count": null,
   "id": "deb381db",
   "metadata": {},
   "outputs": [],
   "source": [
    "                                                                                                                                                                                                                                                                                                                                                                                                                                                                                                                                                                                                                                                                                                                                                                                                                                                                                                                                                                                                                                                                                                                                                                                                                                                                                                                                                                                                                                                                                                                                                                                                                                     "
   ]
  },
  {
   "cell_type": "code",
   "execution_count": 3,
   "id": "9dc37c0e",
   "metadata": {},
   "outputs": [
    {
     "name": "stdin",
     "output_type": "stream",
     "text": [
      " 1 3 4 5 7\n",
      " 2 3 5 6\n"
     ]
    },
    {
     "ename": "IndexError",
     "evalue": "list index out of range",
     "output_type": "error",
     "traceback": [
      "\u001b[1;31m---------------------------------------------------------------------------\u001b[0m",
      "\u001b[1;31mIndexError\u001b[0m                                Traceback (most recent call last)",
      "Cell \u001b[1;32mIn[3], line 51\u001b[0m\n\u001b[0;32m     49\u001b[0m arr1\u001b[38;5;241m=\u001b[39m\u001b[38;5;28mlist\u001b[39m(\u001b[38;5;28mint\u001b[39m(i) \u001b[38;5;28;01mfor\u001b[39;00m i \u001b[38;5;129;01min\u001b[39;00m \u001b[38;5;28minput\u001b[39m()\u001b[38;5;241m.\u001b[39mstrip()\u001b[38;5;241m.\u001b[39msplit(\u001b[38;5;124m'\u001b[39m\u001b[38;5;124m \u001b[39m\u001b[38;5;124m'\u001b[39m))\n\u001b[0;32m     50\u001b[0m arr2\u001b[38;5;241m=\u001b[39m\u001b[38;5;28mlist\u001b[39m(\u001b[38;5;28mint\u001b[39m(i) \u001b[38;5;28;01mfor\u001b[39;00m i \u001b[38;5;129;01min\u001b[39;00m \u001b[38;5;28minput\u001b[39m()\u001b[38;5;241m.\u001b[39mstrip()\u001b[38;5;241m.\u001b[39msplit(\u001b[38;5;124m'\u001b[39m\u001b[38;5;124m \u001b[39m\u001b[38;5;124m'\u001b[39m))\n\u001b[1;32m---> 51\u001b[0m ans\u001b[38;5;241m=\u001b[39m\u001b[43mIntersectionArray\u001b[49m\u001b[43m(\u001b[49m\u001b[43marr1\u001b[49m\u001b[43m,\u001b[49m\u001b[43marr2\u001b[49m\u001b[43m)\u001b[49m\n\u001b[0;32m     52\u001b[0m \u001b[38;5;28mprint\u001b[39m(ans)\n",
      "Cell \u001b[1;32mIn[3], line 38\u001b[0m, in \u001b[0;36mIntersectionArray\u001b[1;34m(arr1, arr2)\u001b[0m\n\u001b[0;32m     37\u001b[0m \u001b[38;5;28;01mdef\u001b[39;00m \u001b[38;5;21mIntersectionArray\u001b[39m(arr1,arr2):\n\u001b[1;32m---> 38\u001b[0m     \u001b[43mmergesort\u001b[49m\u001b[43m(\u001b[49m\u001b[43marr2\u001b[49m\u001b[43m)\u001b[49m\n\u001b[0;32m     39\u001b[0m     arr4\u001b[38;5;241m=\u001b[39m[]\n\u001b[0;32m     40\u001b[0m     \u001b[38;5;28;01mfor\u001b[39;00m i \u001b[38;5;129;01min\u001b[39;00m arr1:\n",
      "Cell \u001b[1;32mIn[3], line 32\u001b[0m, in \u001b[0;36mmergesort\u001b[1;34m(arr2)\u001b[0m\n\u001b[0;32m     29\u001b[0m a1\u001b[38;5;241m=\u001b[39marr2[:mid]\n\u001b[0;32m     30\u001b[0m a2\u001b[38;5;241m=\u001b[39marr2[mid:]\n\u001b[1;32m---> 32\u001b[0m \u001b[43mmergesort\u001b[49m\u001b[43m(\u001b[49m\u001b[43ma1\u001b[49m\u001b[43m)\u001b[49m\n\u001b[0;32m     33\u001b[0m mergesort(a2)\n\u001b[0;32m     35\u001b[0m merge(a1,a2)\n",
      "Cell \u001b[1;32mIn[3], line 35\u001b[0m, in \u001b[0;36mmergesort\u001b[1;34m(arr2)\u001b[0m\n\u001b[0;32m     32\u001b[0m mergesort(a1)\n\u001b[0;32m     33\u001b[0m mergesort(a2)\n\u001b[1;32m---> 35\u001b[0m \u001b[43mmerge\u001b[49m\u001b[43m(\u001b[49m\u001b[43ma1\u001b[49m\u001b[43m,\u001b[49m\u001b[43ma2\u001b[49m\u001b[43m)\u001b[49m\n",
      "Cell \u001b[1;32mIn[3], line 8\u001b[0m, in \u001b[0;36mmerge\u001b[1;34m(a1, a2)\u001b[0m\n\u001b[0;32m      6\u001b[0m \u001b[38;5;28;01mwhile\u001b[39;00m i\u001b[38;5;241m<\u001b[39m\u001b[38;5;28mlen\u001b[39m(a1) \u001b[38;5;129;01mand\u001b[39;00m j\u001b[38;5;241m<\u001b[39m\u001b[38;5;28mlen\u001b[39m(a2):\n\u001b[0;32m      7\u001b[0m     \u001b[38;5;28;01mif\u001b[39;00m a1[i]\u001b[38;5;241m<\u001b[39ma2[j]:\n\u001b[1;32m----> 8\u001b[0m         \u001b[43marr2\u001b[49m\u001b[43m[\u001b[49m\u001b[43mk\u001b[49m\u001b[43m]\u001b[49m\u001b[38;5;241m.\u001b[39mappend(i)\n\u001b[0;32m      9\u001b[0m         i \u001b[38;5;241m+\u001b[39m\u001b[38;5;241m=\u001b[39m\u001b[38;5;241m1\u001b[39m\n\u001b[0;32m     10\u001b[0m         k \u001b[38;5;241m+\u001b[39m\u001b[38;5;241m=\u001b[39m\u001b[38;5;241m1\u001b[39m\n",
      "\u001b[1;31mIndexError\u001b[0m: list index out of range"
     ]
    }
   ],
   "source": [
    "def merge(a1,a2):\n",
    "    arr2=[]\n",
    "    i=0\n",
    "    j=0\n",
    "    k=0\n",
    "    while i<len(a1) and j<len(a2):\n",
    "        if a1[i]<a2[j]:\n",
    "            arr2[k].append(i)\n",
    "            i +=1\n",
    "            k +=1\n",
    "        else:\n",
    "            arr2[k].append(j)\n",
    "            j +=1\n",
    "            k +=1\n",
    "    \n",
    "    while i<len(a1):\n",
    "        arr2[k].append(i)\n",
    "        i +=1\n",
    "        k +=1\n",
    "    \n",
    "    while j<len(a2):\n",
    "        arr2[k].append(j)\n",
    "        j +=1\n",
    "        k +=1\n",
    "def mergesort(arr2):\n",
    "    if len(arr2)==0 or len(arr2)==1:\n",
    "        return -1\n",
    "    mid=len(arr2)//2\n",
    "    a1=arr2[:mid]\n",
    "    a2=arr2[mid:]\n",
    "\n",
    "    mergesort(a1)\n",
    "    mergesort(a2)\n",
    "\n",
    "    merge(a1,a2)\n",
    "\n",
    "def IntersectionArray(arr1,arr2):\n",
    "    mergesort(arr2)\n",
    "    arr4=[]\n",
    "    for i in arr1:\n",
    "        for j in arr2:\n",
    "            if i==j:\n",
    "                arr4.append(i)\n",
    "                break\n",
    "    return arr4\n",
    "            \n",
    "\n",
    "                 \n",
    "arr1=list(int(i) for i in input().strip().split(' '))\n",
    "arr2=list(int(i) for i in input().strip().split(' '))\n",
    "ans=IntersectionArray(arr1,arr2)\n",
    "print(ans)"
   ]
  },
  {
   "cell_type": "code",
   "execution_count": null,
   "id": "a3ad6209-90f7-4017-bf59-a1f56f298d86",
   "metadata": {},
   "outputs": [],
   "source": []
  }
 ],
 "metadata": {
  "kernelspec": {
   "display_name": "Python 3 (ipykernel)",
   "language": "python",
   "name": "python3"
  },
  "language_info": {
   "codemirror_mode": {
    "name": "ipython",
    "version": 3
   },
   "file_extension": ".py",
   "mimetype": "text/x-python",
   "name": "python",
   "nbconvert_exporter": "python",
   "pygments_lexer": "ipython3",
   "version": "3.11.4"
  }
 },
 "nbformat": 4,
 "nbformat_minor": 5
}
