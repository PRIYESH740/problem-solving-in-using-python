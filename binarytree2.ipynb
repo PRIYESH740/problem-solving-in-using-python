{
 "cells": [
  {
   "cell_type": "markdown",
   "id": "532054c9-e2cd-4b04-98a5-331247d844d8",
   "metadata": {},
   "source": [
    "### remove leaf nodes in Binary tree"
   ]
  },
  {
   "cell_type": "code",
   "execution_count": 2,
   "id": "1112ddd3-5a4e-470a-81b8-89c40f854ced",
   "metadata": {},
   "outputs": [],
   "source": [
    "class BinaryTreeNode:\n",
    "    def __init__(self,data):\n",
    "        self.data=data\n",
    "        self.left=None\n",
    "        self.right=None\n",
    "        \n",
    "    "
   ]
  },
  {
   "cell_type": "code",
   "execution_count": 3,
   "id": "365920b9-c565-492d-bc06-c9f4c022edcc",
   "metadata": {},
   "outputs": [],
   "source": [
    "def printTreeDetailed(root):\n",
    "    if root==None:\n",
    "        return  \n",
    "    print(root.data, end =\":\")\n",
    "    if root.left is not None:\n",
    "        print(\"L\",root.left.data,end=\",\")\n",
    "    if root.right is not None:\n",
    "        print(\"R\",root.right.data,end=\"\")\n",
    "    print()\n",
    "    printTreeDetailed(root.left)\n",
    "    printTreeDetailed(root.right)\n",
    "    "
   ]
  },
  {
   "cell_type": "code",
   "execution_count": null,
   "id": "1da082e1-07a1-4065-8315-149dfae9087f",
   "metadata": {},
   "outputs": [],
   "source": [
    "btn1=BinaryTreeNode(1)\n",
    "btn2=BinaryTreeNode(2)\n",
    "btn3=BinaryTreeNode(3)\n",
    "btn4=BinaryTreeNode(4)\n",
    "btn5=BinaryTreeNode(5)"
   ]
  },
  {
   "cell_type": "code",
   "execution_count": null,
   "id": "e9db4a9b-ee45-4000-be26-c07d9e38d776",
   "metadata": {},
   "outputs": [],
   "source": [
    "btn1.left=btn2\n",
    "btn1.right=btn3\n",
    "btn2.left=btn4\n",
    "btn2.right=btn5"
   ]
  },
  {
   "cell_type": "code",
   "execution_count": 3,
   "id": "fd46a1c9-6b60-4161-8d25-bfe41f4d7bc4",
   "metadata": {},
   "outputs": [],
   "source": [
    "def treeInput():\n",
    "    rootData=int(input())\n",
    "    if rootData==-1:\n",
    "        return None\n",
    "    root=BinaryTreeNode(rootData)\n",
    "    leftTree=treeInput()\n",
    "    rightTree=treeInput()\n",
    "    root.left=leftTree\n",
    "    root.right=rightTree\n",
    "    return root\n",
    "    "
   ]
  },
  {
   "cell_type": "markdown",
   "id": "dc4109fa-6bfa-430f-ada9-a468f4e7585d",
   "metadata": {},
   "source": [
    "### remove leaf nodes in Binary tree"
   ]
  },
  {
   "cell_type": "code",
   "execution_count": 6,
   "id": "fdb3a2ba-3112-44e8-a295-4f3966483326",
   "metadata": {},
   "outputs": [],
   "source": [
    "def removeleaves(root):\n",
    "    if root == None:\n",
    "        return None\n",
    "    if root.left==None and root.right== None:\n",
    "        return None\n",
    "    root.left=removeleaves(root.left)\n",
    "    root.right=removeleaves(root.right)\n",
    "    return root\n",
    "    \n",
    "    \n",
    "    "
   ]
  },
  {
   "cell_type": "code",
   "execution_count": 8,
   "id": "3f8bb0b1-6ff6-48a2-82cd-81a94e059826",
   "metadata": {
    "scrolled": true
   },
   "outputs": [
    {
     "name": "stdin",
     "output_type": "stream",
     "text": [
      " 1\n",
      " 2\n",
      " 4\n",
      " -1\n",
      " -1\n",
      " 5\n",
      " 8\n",
      " -1\n",
      " -1\n",
      " 9\n",
      " -1\n",
      " -1\n",
      " 3\n",
      " 6\n",
      " -1\n",
      " -1\n",
      " 7\n",
      " -1\n",
      " -1\n"
     ]
    },
    {
     "name": "stdout",
     "output_type": "stream",
     "text": [
      "1:L 2,R 3\n",
      "2:L 4,R 5\n",
      "4:\n",
      "5:L 8,R 9\n",
      "8:\n",
      "9:\n",
      "3:L 6,R 7\n",
      "6:\n",
      "7:\n",
      "1:L 2,R 3\n",
      "2:R 5\n",
      "5:\n",
      "3:\n"
     ]
    }
   ],
   "source": [
    "root=treeInput()\n",
    "printTreeDetailed(root)\n",
    "root=removeleaves(root)\n",
    "printTreeDetailed(root) "
   ]
  },
  {
   "cell_type": "code",
   "execution_count": 16,
   "id": "2fe79ab6-0111-42b1-8e24-ec66f79ca784",
   "metadata": {},
   "outputs": [],
   "source": [
    "def mirrorBinaryTree(root) :\n",
    "    if root == None:\n",
    "        return None\n",
    "    if root.left==None and root.right== None:\n",
    "        return root\n",
    "    left=mirrorBinaryTree(root.left)\n",
    "    right=mirrorBinaryTree(root.right)\n",
    "    temp=root.right\n",
    "    root.right=left\n",
    "    root.left=temp\n",
    "    \n",
    "    \n",
    "    "
   ]
  },
  {
   "cell_type": "code",
   "execution_count": 19,
   "id": "7fd58125-7fb1-4852-b58c-251aefac63a2",
   "metadata": {},
   "outputs": [
    {
     "name": "stdin",
     "output_type": "stream",
     "text": [
      " 1\n",
      " 2\n",
      " -1\n",
      " -1\n",
      " 3\n",
      " -1\n",
      " -1\n"
     ]
    },
    {
     "name": "stdout",
     "output_type": "stream",
     "text": [
      "1:L 2,R 3\n",
      "2:\n",
      "3:\n",
      "1:L 3,R 2\n",
      "3:\n",
      "2:\n"
     ]
    }
   ],
   "source": [
    "root=treeInput()\n",
    "printTreeDetailed(root)\n",
    "mirrorBinaryTree(root)\n",
    "printTreeDetailed(root) "
   ]
  },
  {
   "cell_type": "code",
   "execution_count": 27,
   "id": "4a2ba07f-34ed-4a75-9995-357371990719",
   "metadata": {},
   "outputs": [],
   "source": [
    "def mirrorBinaryTree2(root) :\n",
    "    if root == None:\n",
    "        return None\n",
    "    \n",
    "    temp=root.right\n",
    "    root.right=root.left\n",
    "    root.left=temp\n",
    "    \n",
    "    mirrorBinaryTree(root.left)\n",
    "    mirrorBinaryTree(root.right)\n",
    "    \n",
    "    "
   ]
  },
  {
   "cell_type": "code",
   "execution_count": 28,
   "id": "5f2068df-0684-4ca8-be63-8f1f396a7e83",
   "metadata": {},
   "outputs": [
    {
     "name": "stdin",
     "output_type": "stream",
     "text": [
      " 1\n",
      " 2\n",
      " 4\n",
      " -1\n",
      " -1\n",
      " 5\n",
      " -1\n",
      " -1\n",
      " 3\n",
      " 6\n",
      " -1\n",
      " -1\n",
      " 7\n",
      " -1\n",
      " -1\n"
     ]
    },
    {
     "name": "stdout",
     "output_type": "stream",
     "text": [
      "1:L 2,R 3\n",
      "2:L 4,R 5\n",
      "4:\n",
      "5:\n",
      "3:L 6,R 7\n",
      "6:\n",
      "7:\n",
      "1:L 3,R 2\n",
      "3:L 7,R 6\n",
      "7:\n",
      "6:\n",
      "2:L 5,R 4\n",
      "5:\n",
      "4:\n"
     ]
    }
   ],
   "source": [
    "root=treeInput()\n",
    "printTreeDetailed(root)\n",
    "mirrorBinaryTree2(root)\n",
    "printTreeDetailed(root) "
   ]
  },
  {
   "cell_type": "markdown",
   "id": "48ddb952-3fd2-433d-9376-9f97d9fe4758",
   "metadata": {},
   "source": [
    "### Cheak if binary tree is balanced "
   ]
  },
  {
   "cell_type": "code",
   "execution_count": 1,
   "id": "5efbaff8-8d52-4576-9224-9f72ce810fc8",
   "metadata": {},
   "outputs": [],
   "source": [
    "def height(root):\n",
    "    if root ==None:\n",
    "        return 0\n",
    "    return 1 + max(height(root.left),height(root.right))"
   ]
  },
  {
   "cell_type": "code",
   "execution_count": 3,
   "id": "d741edcc-53ff-4425-a449-7053dcc02f7c",
   "metadata": {},
   "outputs": [],
   "source": [
    "def isBalanced(root):\n",
    "    if root==None:\n",
    "        return True\n",
    "    lh=height(root.left)\n",
    "    rh=height(root.right)\n",
    "    if lh-rh>1 or rh-lh>1:\n",
    "        return False\n",
    "    isLeftBalanced=isBalanced(root.left)\n",
    "    isRightBalanced=isBalanced(root.right)\n",
    "    if isLeftBalanced and isRightBalanced:\n",
    "        return True\n",
    "    else:\n",
    "        return False\n",
    "    "
   ]
  },
  {
   "cell_type": "code",
   "execution_count": 8,
   "id": "6ad0a32e-f11f-4b81-986d-a81615e88ed4",
   "metadata": {
    "scrolled": true
   },
   "outputs": [
    {
     "name": "stdin",
     "output_type": "stream",
     "text": [
      " 1\n",
      " 2\n",
      " 4\n",
      " 6\n",
      " -1\n",
      " -1\n",
      " -1\n",
      " -1\n",
      " 3\n",
      " -1\n",
      " 5\n",
      " -1\n",
      " -1\n"
     ]
    },
    {
     "name": "stdout",
     "output_type": "stream",
     "text": [
      "1:L 2,R 3\n",
      "2:L 4,\n",
      "4:L 6,\n",
      "6:\n",
      "3:R 5\n",
      "5:\n",
      "False\n"
     ]
    }
   ],
   "source": [
    "root=treeInput()\n",
    "printTreeDetailed(root)\n",
    "print(isBalanced(root))"
   ]
  },
  {
   "cell_type": "markdown",
   "id": "5128a166-903f-4ea7-a235-3b2005129385",
   "metadata": {},
   "source": [
    "### check balanced improve the time complexity\n"
   ]
  },
  {
   "cell_type": "code",
   "execution_count": 4,
   "id": "c25166e6-4e0b-4f0c-a4be-a7755193ef64",
   "metadata": {},
   "outputs": [],
   "source": [
    "def getHeightAndCheckBalanced(root):\n",
    "    if root==None:\n",
    "        return 0,True\n",
    "    \n",
    "    lh,isLeftBalanced=getHeightAndCheckBalanced(root.left)\n",
    "    rh,isRightBalanced=getHeightAndCheckBalanced(root.right)\n",
    "    \n",
    "    h=1+max(lh,rh)\n",
    "    if lh-rh>1 or rh-lh>1:\n",
    "        return h,False\n",
    "    \n",
    "    if isLeftBalanced and isRightBalanced:\n",
    "        return h,True\n",
    "    else:\n",
    "        return h,False\n",
    "    "
   ]
  },
  {
   "cell_type": "code",
   "execution_count": 6,
   "id": "62176929-ccb2-42d2-8dae-3bf02eb80f2c",
   "metadata": {},
   "outputs": [
    {
     "name": "stdin",
     "output_type": "stream",
     "text": [
      " 1\n",
      " 2\n",
      " 4\n",
      " 5\n",
      " -1\n",
      " -1\n",
      " -1\n",
      " -1\n",
      " 3\n",
      " -1\n",
      " 6\n",
      " -1\n",
      " -1\n"
     ]
    },
    {
     "name": "stdout",
     "output_type": "stream",
     "text": [
      "1:L 2,R 3\n",
      "2:L 4,\n",
      "4:L 5,\n",
      "5:\n",
      "3:R 6\n",
      "6:\n",
      "(4, False)\n"
     ]
    }
   ],
   "source": [
    "root=treeInput()\n",
    "printTreeDetailed(root)\n",
    "print(getHeightAndCheckBalanced(root))"
   ]
  },
  {
   "cell_type": "code",
   "execution_count": 7,
   "id": "9fca1207-ccdc-4abc-aaec-aa96aa303fe8",
   "metadata": {},
   "outputs": [],
   "source": [
    "def isBlanced2(root):\n",
    "    h,isRootBalanced=getHeightAndCheckBalanced(root)\n",
    "    return isRootBalanced"
   ]
  },
  {
   "cell_type": "markdown",
   "id": "5e54b4bf-aac4-483b-b20d-c3c26862b615",
   "metadata": {},
   "source": [
    " ### Diameter Of Binary Tree"
   ]
  },
  {
   "cell_type": "code",
   "execution_count": null,
   "id": "c10d577e-c500-47f6-91e4-16d38ca1b2b6",
   "metadata": {},
   "outputs": [],
   "source": [
    "import queue\n",
    "class BinaryTreeNode:\n",
    "    def __init__(self, data):\n",
    "        self.data = data\n",
    "        self.left = None\n",
    "        self.right = None\n",
    "\n",
    "def height(root):\n",
    "    if root == None:\n",
    "        return 0\n",
    "    return 1 + max(height(root.right), height(root.left))\n",
    "        \n",
    "def diameter(root):\n",
    "    if root == None:\n",
    "        return 0\n",
    "    \n",
    "    option1 = height(root.left) + height(root.right)\n",
    "    option2 = diameter(root.left)\n",
    "    option3 = diameter(root.right)\n",
    "    \n",
    "    return max(option1, option2, option3)\n",
    "  "
   ]
  },
  {
   "cell_type": "code",
   "execution_count": null,
   "id": "e3b16ed3-52fb-48a8-9498-e92b394f55e3",
   "metadata": {},
   "outputs": [],
   "source": [
    "class Solution:\n",
    "    def diameterOfBinaryTree_util(self, root):\n",
    "        if not root:\n",
    "            return (0, 0)\n",
    "        left = self.diameterOfBinaryTree_util(root.left)\n",
    "        right = self.diameterOfBinaryTree_util(root.right)\n",
    "        internal_path = max(left[1], right[1])\n",
    "        if left[0] + right[0] + 1 > internal_path:\n",
    "            internal_path = left[0] + right[0] + 1\n",
    "        return (max(left[0], right[0]) + 1, internal_path)\n",
    "        \n",
    "    def diameterOfBinaryTree(self, root):\n",
    "        if not root:\n",
    "            return 0\n",
    "        result = self.diameterOfBinaryTree_util(root)\n",
    "        return max(result[0], result[1]) - 1"
   ]
  },
  {
   "cell_type": "markdown",
   "id": "25d0237c-5c59-431d-bfa3-13720a9f3e05",
   "metadata": {},
   "source": [
    "### levelwise input binary tree"
   ]
  },
  {
   "cell_type": "code",
   "execution_count": 5,
   "id": "22c8a96f-04a4-4eda-80bc-32a77f21984f",
   "metadata": {},
   "outputs": [],
   "source": [
    "import queue\n",
    "def takeLevelWiseTreeInput():\n",
    "    q=queue.Queue()\n",
    "    print(\"Enter root\")\n",
    "    rootData=int(input())\n",
    "    if rootData== -1:\n",
    "        return None\n",
    "    root=BinaryTreeNode(rootData)\n",
    "    q.put(root)\n",
    "    while not q.empty():\n",
    "        curr_node=q.get()\n",
    "        print(\"Enter left child of \",curr_node.data)\n",
    "        leftChildData=int(input())\n",
    "        if leftChildData != -1:\n",
    "            leftChild=BinaryTreeNode(leftChildData)\n",
    "            curr_node.left=leftChild\n",
    "            q.put(leftChild)\n",
    "        print(\"Enter right child of \",curr_node.data)\n",
    "        rightChildData=int(input())\n",
    "        if rightChildData != -1:\n",
    "            rightChild=BinaryTreeNode(rightChildData)\n",
    "            curr_node.right=rightChild\n",
    "            q.put(rightChild)\n",
    "    return root"
   ]
  },
  {
   "cell_type": "code",
   "execution_count": 7,
   "id": "c955312e-54b3-47da-a612-c12cfcb0eda8",
   "metadata": {},
   "outputs": [
    {
     "name": "stdout",
     "output_type": "stream",
     "text": [
      "Enter root\n"
     ]
    },
    {
     "name": "stdin",
     "output_type": "stream",
     "text": [
      " 1\n"
     ]
    },
    {
     "name": "stdout",
     "output_type": "stream",
     "text": [
      "Enter left child of  1\n"
     ]
    },
    {
     "name": "stdin",
     "output_type": "stream",
     "text": [
      " 2\n"
     ]
    },
    {
     "name": "stdout",
     "output_type": "stream",
     "text": [
      "Enter right child of  1\n"
     ]
    },
    {
     "name": "stdin",
     "output_type": "stream",
     "text": [
      " 3\n"
     ]
    },
    {
     "name": "stdout",
     "output_type": "stream",
     "text": [
      "Enter left child of  2\n"
     ]
    },
    {
     "name": "stdin",
     "output_type": "stream",
     "text": [
      " 4\n"
     ]
    },
    {
     "name": "stdout",
     "output_type": "stream",
     "text": [
      "Enter right child of  2\n"
     ]
    },
    {
     "name": "stdin",
     "output_type": "stream",
     "text": [
      " 5\n"
     ]
    },
    {
     "name": "stdout",
     "output_type": "stream",
     "text": [
      "Enter left child of  3\n"
     ]
    },
    {
     "name": "stdin",
     "output_type": "stream",
     "text": [
      " 6\n"
     ]
    },
    {
     "name": "stdout",
     "output_type": "stream",
     "text": [
      "Enter right child of  3\n"
     ]
    },
    {
     "name": "stdin",
     "output_type": "stream",
     "text": [
      " 7\n"
     ]
    },
    {
     "name": "stdout",
     "output_type": "stream",
     "text": [
      "Enter left child of  4\n"
     ]
    },
    {
     "name": "stdin",
     "output_type": "stream",
     "text": [
      " -1\n"
     ]
    },
    {
     "name": "stdout",
     "output_type": "stream",
     "text": [
      "Enter right child of  4\n"
     ]
    },
    {
     "name": "stdin",
     "output_type": "stream",
     "text": [
      " -1\n"
     ]
    },
    {
     "name": "stdout",
     "output_type": "stream",
     "text": [
      "Enter left child of  5\n"
     ]
    },
    {
     "name": "stdin",
     "output_type": "stream",
     "text": [
      " 8\n"
     ]
    },
    {
     "name": "stdout",
     "output_type": "stream",
     "text": [
      "Enter right child of  5\n"
     ]
    },
    {
     "name": "stdin",
     "output_type": "stream",
     "text": [
      " -1\n"
     ]
    },
    {
     "name": "stdout",
     "output_type": "stream",
     "text": [
      "Enter left child of  6\n"
     ]
    },
    {
     "name": "stdin",
     "output_type": "stream",
     "text": [
      " -1\n"
     ]
    },
    {
     "name": "stdout",
     "output_type": "stream",
     "text": [
      "Enter right child of  6\n"
     ]
    },
    {
     "name": "stdin",
     "output_type": "stream",
     "text": [
      " -1\n"
     ]
    },
    {
     "name": "stdout",
     "output_type": "stream",
     "text": [
      "Enter left child of  7\n"
     ]
    },
    {
     "name": "stdin",
     "output_type": "stream",
     "text": [
      " -1\n"
     ]
    },
    {
     "name": "stdout",
     "output_type": "stream",
     "text": [
      "Enter right child of  7\n"
     ]
    },
    {
     "name": "stdin",
     "output_type": "stream",
     "text": [
      " -1\n"
     ]
    },
    {
     "name": "stdout",
     "output_type": "stream",
     "text": [
      "Enter left child of  8\n"
     ]
    },
    {
     "name": "stdin",
     "output_type": "stream",
     "text": [
      " -1\n"
     ]
    },
    {
     "name": "stdout",
     "output_type": "stream",
     "text": [
      "Enter right child of  8\n"
     ]
    },
    {
     "name": "stdin",
     "output_type": "stream",
     "text": [
      " -1\n"
     ]
    },
    {
     "name": "stdout",
     "output_type": "stream",
     "text": [
      "1:L 2,R 3\n",
      "2:L 4,R 5\n",
      "4:\n",
      "5:L 8,\n",
      "8:\n",
      "3:L 6,R 7\n",
      "6:\n",
      "7:\n"
     ]
    }
   ],
   "source": [
    "root=takeLevelWiseTreeInput()\n",
    "printTreeDetailed(root)"
   ]
  },
  {
   "cell_type": "markdown",
   "id": "8e861e13-c953-4928-9af6-f58b839c68d9",
   "metadata": {},
   "source": [
    "### Print Levelwise"
   ]
  },
  {
   "cell_type": "code",
   "execution_count": 8,
   "id": "ec5923f6-0f40-4878-a473-e5dbfbd1b68d",
   "metadata": {},
   "outputs": [],
   "source": [
    "def printLevelWise(root):\n",
    "    if root is None:\n",
    "        return \n",
    "    q=queue.Queue()\n",
    "    q.put(root)\n",
    "    while not q.empty():\n",
    "        curr_node=q.get()\n",
    "        print(curr_node.data,end=\":\")\n",
    "        if curr_node.left != None:\n",
    "            q.put(curr_node.left)\n",
    "            print(\"L\",end=\":\")\n",
    "            print(curr_node.left.data,end=\",\")\n",
    "        else:\n",
    "            print(\"L\",end=\":\")\n",
    "            print(\"-1\",end=\",\")\n",
    "        if curr_node.right != None:\n",
    "            q.put(curr_node.right)\n",
    "            print(\"R\",end=\":\")\n",
    "            print(curr_node.right.data,end=\"\")\n",
    "        else:\n",
    "            print(\"R\",end=\":\")\n",
    "            print(\"-1\",end=\"\")\n",
    "        print()\n"
   ]
  },
  {
   "cell_type": "code",
   "execution_count": null,
   "id": "31dca483-fab4-4366-8731-38f5240a1b43",
   "metadata": {},
   "outputs": [
    {
     "name": "stdout",
     "output_type": "stream",
     "text": [
      "Enter root\n"
     ]
    }
   ],
   "source": [
    "root=takeLevelWiseTreeInput()\n",
    "printLevelWise(root)\n"
   ]
  },
  {
   "cell_type": "markdown",
   "id": "cb9529fa-52f2-458d-9d4f-595c9f0195e7",
   "metadata": {},
   "source": [
    "### Construct Tree Using Inorder and Preorder"
   ]
  },
  {
   "cell_type": "code",
   "execution_count": 1,
   "id": "7c486e46-e87a-48df-918e-ddb9c1eb2f1f",
   "metadata": {},
   "outputs": [],
   "source": [
    "def binarySearch(a,x,si,e):\n",
    "    if si>e:\n",
    "        return -1\n",
    "    mid=si+(e-si)//2\n",
    "    if a[mid]==x:\n",
    "        return mid\n",
    "    elif a[mid]>x:\n",
    "        return binarySearch(a,x,si,mid-1)\n",
    "    else:\n",
    "        return binarySearch(a,x,mid+1,e)\n",
    "\n",
    "\n",
    "def buildTree(preOrder, inOrder, n) :\n",
    "\t#Your code goes here\n",
    "    if len(preOrder)==0 or  len(inOrder)==0 :\n",
    "        return None\n",
    "\n",
    "    root=BinaryTreeNode(preOrder[0])\n",
    "    \n",
    "    rootIndex=binarySearch(inOrder , root.data , 0 ,len(inOrder)-1)\n",
    "    \n",
    "    \n",
    "    leftInorder = inOrder[:rootIndex]\n",
    "    rightInorder = inOrder[rootIndex + 1:]\n",
    "\n",
    "    x=len(leftInorder)\n",
    "    leftPreorder=preOrder[1:x+1]\n",
    "    rightPreorder=preOrder[x+1:]\n",
    "\n",
    "    root.left=buildTree(leftPreorder,leftInorder,n)\n",
    "    root.right=buildTree(rightPreorder,rightInorder,n)\n",
    "\n",
    "    return root"
   ]
  },
  {
   "cell_type": "markdown",
   "id": "531cd939-a633-433c-826a-629a3e7f4df8",
   "metadata": {},
   "source": [
    "### Construct Tree Using Inorder and Preorder code given by coding ninja"
   ]
  },
  {
   "cell_type": "code",
   "execution_count": 16,
   "id": "fab2a8ed-4321-42f6-9233-7f4f94bf7bdb",
   "metadata": {},
   "outputs": [],
   "source": [
    "def buildTreeFromPreIn(Pre,Inorder):\n",
    "    if len(Pre)==0:\n",
    "        return None\n",
    "        \n",
    "    rootData=Pre[0]\n",
    "    root=BinaryTreeNode(rootData)\n",
    "    rootIndexInorder=-1\n",
    "    for i in range(0,len(Inorder)):\n",
    "        if Inorder[i] == rootData:\n",
    "            rootIndexInorder=i\n",
    "    if rootIndexInorder== -1:\n",
    "        return None\n",
    "    leftInorder=Inorder[0:rootIndexInorder]\n",
    "    rightInorder=Inorder[rootIndexInorder+1:]\n",
    "    \n",
    "    lenLeftSubtree=len(leftInorder)\n",
    "    leftPreorder=Pre[1:lenLeftSubtree+1]\n",
    "    rightPreorder=Pre[lenLeftSubtree+1:]\n",
    "    \n",
    "    root.left=buildTreeFromPreIn(leftPreorder,leftInorder)\n",
    "    root.right=buildTreeFromPreIn(rightPreorder,rightInorder)\n",
    "    return root\n",
    "            \n",
    "        \n",
    "    "
   ]
  },
  {
   "cell_type": "code",
   "execution_count": 17,
   "id": "3c8cc258-a319-42a0-8bb0-d8a4d8205a0f",
   "metadata": {},
   "outputs": [
    {
     "name": "stdout",
     "output_type": "stream",
     "text": [
      "1:L 2,R 3\n",
      "2:L 4,R 5\n",
      "4:\n",
      "5:\n",
      "3:L 6,R 7\n",
      "6:\n",
      "7:\n"
     ]
    }
   ],
   "source": [
    "Pre=[1,2,4,5,3,6,7]\n",
    "Inorder=[4,2,5,1,6,3,7]\n",
    "root=buildTreeFromPreIn(Pre,Inorder)\n",
    "printTreeDetailed(root)"
   ]
  },
  {
   "cell_type": "code",
   "execution_count": null,
   "id": "121eea85-4e70-4b1b-88a9-6a9e111b1616",
   "metadata": {},
   "outputs": [],
   "source": []
  }
 ],
 "metadata": {
  "kernelspec": {
   "display_name": "Python 3 (ipykernel)",
   "language": "python",
   "name": "python3"
  },
  "language_info": {
   "codemirror_mode": {
    "name": "ipython",
    "version": 3
   },
   "file_extension": ".py",
   "mimetype": "text/x-python",
   "name": "python",
   "nbconvert_exporter": "python",
   "pygments_lexer": "ipython3",
   "version": "3.11.5"
  },
  "widgets": {
   "application/vnd.jupyter.widget-state+json": {
    "state": {},
    "version_major": 2,
    "version_minor": 0
   }
  }
 },
 "nbformat": 4,
 "nbformat_minor": 5
}
