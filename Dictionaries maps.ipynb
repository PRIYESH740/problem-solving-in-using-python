{
 "cells": [
  {
   "cell_type": "markdown",
   "id": "1d72ce01",
   "metadata": {},
   "source": [
    "### first way create dictionary"
   ]
  },
  {
   "cell_type": "code",
   "execution_count": 4,
   "id": "64969e6b",
   "metadata": {},
   "outputs": [],
   "source": [
    "a={\"the\":1,\"a\":5,100:\"abc\"}"
   ]
  },
  {
   "cell_type": "code",
   "execution_count": 2,
   "id": "12764796",
   "metadata": {},
   "outputs": [
    {
     "data": {
      "text/plain": [
       "dict"
      ]
     },
     "execution_count": 2,
     "metadata": {},
     "output_type": "execute_result"
    }
   ],
   "source": [
    "type(a)"
   ]
  },
  {
   "cell_type": "code",
   "execution_count": 5,
   "id": "b666c08f",
   "metadata": {},
   "outputs": [
    {
     "name": "stdout",
     "output_type": "stream",
     "text": [
      "{'the': 1, 'a': 5, 100: 'abc'}\n"
     ]
    }
   ],
   "source": [
    "print(a)"
   ]
  },
  {
   "cell_type": "code",
   "execution_count": 6,
   "id": "caa1c7c5",
   "metadata": {},
   "outputs": [
    {
     "data": {
      "text/plain": [
       "3"
      ]
     },
     "execution_count": 6,
     "metadata": {},
     "output_type": "execute_result"
    }
   ],
   "source": [
    "len(a)"
   ]
  },
  {
   "cell_type": "markdown",
   "id": "328b24c5",
   "metadata": {},
   "source": [
    "### second way to create dictionary"
   ]
  },
  {
   "cell_type": "code",
   "execution_count": 7,
   "id": "60eab76f",
   "metadata": {},
   "outputs": [],
   "source": [
    "b=a.copy()"
   ]
  },
  {
   "cell_type": "code",
   "execution_count": 8,
   "id": "f694cdc4",
   "metadata": {},
   "outputs": [
    {
     "data": {
      "text/plain": [
       "{'the': 1, 'a': 5, 100: 'abc'}"
      ]
     },
     "execution_count": 8,
     "metadata": {},
     "output_type": "execute_result"
    }
   ],
   "source": [
    "b"
   ]
  },
  {
   "cell_type": "markdown",
   "id": "7e1dd413",
   "metadata": {},
   "source": [
    "### 3 way to create dictionary"
   ]
  },
  {
   "cell_type": "code",
   "execution_count": 9,
   "id": "2bcaf2ae",
   "metadata": {},
   "outputs": [],
   "source": [
    "c=dict([(\"the\",3),(\"a\",10),(2,3)])"
   ]
  },
  {
   "cell_type": "code",
   "execution_count": 10,
   "id": "eec770d9",
   "metadata": {},
   "outputs": [
    {
     "data": {
      "text/plain": [
       "{'the': 3, 'a': 10, 2: 3}"
      ]
     },
     "execution_count": 10,
     "metadata": {},
     "output_type": "execute_result"
    }
   ],
   "source": [
    "c"
   ]
  },
  {
   "cell_type": "markdown",
   "id": "f65867b7",
   "metadata": {},
   "source": [
    "### 4 way to creating dictionary"
   ]
  },
  {
   "cell_type": "code",
   "execution_count": 11,
   "id": "4eee87f1",
   "metadata": {},
   "outputs": [],
   "source": [
    "d=dict.fromkeys([\"abc\",32,4])"
   ]
  },
  {
   "cell_type": "code",
   "execution_count": 12,
   "id": "3c2ae112",
   "metadata": {},
   "outputs": [
    {
     "data": {
      "text/plain": [
       "{'abc': None, 32: None, 4: None}"
      ]
     },
     "execution_count": 12,
     "metadata": {},
     "output_type": "execute_result"
    }
   ],
   "source": [
    "d"
   ]
  },
  {
   "cell_type": "markdown",
   "id": "d6123683",
   "metadata": {},
   "source": [
    "### if you want to assign same value to each key "
   ]
  },
  {
   "cell_type": "code",
   "execution_count": 13,
   "id": "b68690f3",
   "metadata": {},
   "outputs": [],
   "source": [
    "d=dict.fromkeys([\"abc\",32,4],10)"
   ]
  },
  {
   "cell_type": "code",
   "execution_count": 14,
   "id": "7a57f3d5",
   "metadata": {},
   "outputs": [
    {
     "data": {
      "text/plain": [
       "{'abc': 10, 32: 10, 4: 10}"
      ]
     },
     "execution_count": 14,
     "metadata": {},
     "output_type": "execute_result"
    }
   ],
   "source": [
    "d"
   ]
  },
  {
   "cell_type": "code",
   "execution_count": 39,
   "id": "ea41c9ad",
   "metadata": {},
   "outputs": [],
   "source": [
    "a={1:2,3:4,\"list\":[1,23],'dict':{1,2}}"
   ]
  },
  {
   "cell_type": "code",
   "execution_count": 18,
   "id": "fbc8e6eb",
   "metadata": {},
   "outputs": [
    {
     "data": {
      "text/plain": [
       "{1: 2, 3: 4, 'list': [1, 23], 'dict': {1, 2}}"
      ]
     },
     "execution_count": 18,
     "metadata": {},
     "output_type": "execute_result"
    }
   ],
   "source": [
    "a"
   ]
  },
  {
   "cell_type": "markdown",
   "id": "f831cfed",
   "metadata": {},
   "source": [
    "### Accessing element of dictionary"
   ]
  },
  {
   "cell_type": "code",
   "execution_count": 19,
   "id": "17b5720f",
   "metadata": {},
   "outputs": [
    {
     "data": {
      "text/plain": [
       "[1, 23]"
      ]
     },
     "execution_count": 19,
     "metadata": {},
     "output_type": "execute_result"
    }
   ],
   "source": [
    "a[\"list\"]"
   ]
  },
  {
   "cell_type": "code",
   "execution_count": 20,
   "id": "46037fb7",
   "metadata": {},
   "outputs": [
    {
     "data": {
      "text/plain": [
       "4"
      ]
     },
     "execution_count": 20,
     "metadata": {},
     "output_type": "execute_result"
    }
   ],
   "source": [
    "a[3]"
   ]
  },
  {
   "cell_type": "markdown",
   "id": "84098742",
   "metadata": {},
   "source": [
    "### another way of accessing data "
   ]
  },
  {
   "cell_type": "code",
   "execution_count": 22,
   "id": "5e89214c",
   "metadata": {},
   "outputs": [
    {
     "data": {
      "text/plain": [
       "{1, 2}"
      ]
     },
     "execution_count": 22,
     "metadata": {},
     "output_type": "execute_result"
    }
   ],
   "source": [
    "a.get(\"dict\")"
   ]
  },
  {
   "cell_type": "code",
   "execution_count": 23,
   "id": "620c8f92",
   "metadata": {},
   "outputs": [
    {
     "name": "stdout",
     "output_type": "stream",
     "text": [
      "None\n"
     ]
    }
   ],
   "source": [
    "print(a.get(\"li\")) # if element is not present get method rised the error it return None"
   ]
  },
  {
   "cell_type": "code",
   "execution_count": 24,
   "id": "db5aee52",
   "metadata": {},
   "outputs": [
    {
     "data": {
      "text/plain": [
       "0"
      ]
     },
     "execution_count": 24,
     "metadata": {},
     "output_type": "execute_result"
    }
   ],
   "source": [
    "a.get(\"li\",0) # if key is not present it returned a default value 0 that passed when methed is call"
   ]
  },
  {
   "cell_type": "markdown",
   "id": "8f22a91c",
   "metadata": {},
   "source": [
    "### if you want the all keys of dictionary"
   ]
  },
  {
   "cell_type": "code",
   "execution_count": 25,
   "id": "9deae306",
   "metadata": {},
   "outputs": [
    {
     "data": {
      "text/plain": [
       "dict_keys([1, 3, 'list', 'dict'])"
      ]
     },
     "execution_count": 25,
     "metadata": {},
     "output_type": "execute_result"
    }
   ],
   "source": [
    "a.keys()"
   ]
  },
  {
   "cell_type": "code",
   "execution_count": 26,
   "id": "69db58fd",
   "metadata": {},
   "outputs": [
    {
     "data": {
      "text/plain": [
       "dict_values([2, 4, [1, 23], {1, 2}])"
      ]
     },
     "execution_count": 26,
     "metadata": {},
     "output_type": "execute_result"
    }
   ],
   "source": [
    "a.values() #if you want the all values of dictionary"
   ]
  },
  {
   "cell_type": "code",
   "execution_count": 27,
   "id": "72a23297",
   "metadata": {},
   "outputs": [
    {
     "data": {
      "text/plain": [
       "dict_items([(1, 2), (3, 4), ('list', [1, 23]), ('dict', {1, 2})])"
      ]
     },
     "execution_count": 27,
     "metadata": {},
     "output_type": "execute_result"
    }
   ],
   "source": [
    "a.items() #if you want the all keys-values of dictionary"
   ]
  },
  {
   "cell_type": "code",
   "execution_count": 29,
   "id": "cbcf1251",
   "metadata": {},
   "outputs": [
    {
     "name": "stdout",
     "output_type": "stream",
     "text": [
      "1 2\n",
      "3 4\n",
      "list [1, 23]\n",
      "dict {1, 2}\n"
     ]
    }
   ],
   "source": [
    "for i in a:\n",
    "    print(i,a[i])"
   ]
  },
  {
   "cell_type": "code",
   "execution_count": 30,
   "id": "f28deef4",
   "metadata": {},
   "outputs": [
    {
     "name": "stdout",
     "output_type": "stream",
     "text": [
      "2\n",
      "4\n",
      "[1, 23]\n",
      "{1, 2}\n"
     ]
    }
   ],
   "source": [
    "for i in a.values():\n",
    "    print(i)"
   ]
  },
  {
   "cell_type": "markdown",
   "id": "a054a06d",
   "metadata": {},
   "source": [
    "### check key exist in dictionay or not"
   ]
  },
  {
   "cell_type": "code",
   "execution_count": 33,
   "id": "7319c271",
   "metadata": {},
   "outputs": [
    {
     "data": {
      "text/plain": [
       "True"
      ]
     },
     "execution_count": 33,
     "metadata": {},
     "output_type": "execute_result"
    }
   ],
   "source": [
    "\"list\" in a"
   ]
  },
  {
   "cell_type": "raw",
   "id": "9434ee01",
   "metadata": {},
   "source": [
    "\"li\" in a"
   ]
  },
  {
   "cell_type": "markdown",
   "id": "da8d684a",
   "metadata": {},
   "source": [
    "We already know that the indexing in a dictionary is done with the keys from the various key-value pairs present within. \n",
    "Thus to access any value we need to use its index i.e. its key.\n",
    "\n",
    "But in this case, 0 is not present in the dictionary as a key.\n",
    "That’s why it will throw an error. To handle the key not present in the dictionary error, the get() function can be used. \n",
    "A very unique feature of this method is that in case the desired key is not present in the dictionary, \n",
    "it won’t throw an error or an exception. It would simply return None."
   ]
  },
  {
   "cell_type": "markdown",
   "id": "87a06451",
   "metadata": {},
   "source": [
    "### change the dictionary"
   ]
  },
  {
   "cell_type": "code",
   "execution_count": 35,
   "id": "7d4eb8d7",
   "metadata": {},
   "outputs": [],
   "source": [
    "a['tuple']=(1,2,3)"
   ]
  },
  {
   "cell_type": "code",
   "execution_count": 41,
   "id": "48f4b770",
   "metadata": {},
   "outputs": [
    {
     "data": {
      "text/plain": [
       "{1: 2, 3: 4, 'list': [1, 23], 'dict': {1, 2}, 't': (1, 2, 3)}"
      ]
     },
     "execution_count": 41,
     "metadata": {},
     "output_type": "execute_result"
    }
   ],
   "source": [
    "a"
   ]
  },
  {
   "cell_type": "code",
   "execution_count": 40,
   "id": "8cb74852",
   "metadata": {},
   "outputs": [],
   "source": [
    "a['t']=(1,2,3)"
   ]
  },
  {
   "cell_type": "code",
   "execution_count": 42,
   "id": "0308a8bb",
   "metadata": {},
   "outputs": [],
   "source": [
    "a[1]=10 # it update the value corresponding 1 is change.it will 10"
   ]
  },
  {
   "cell_type": "code",
   "execution_count": 43,
   "id": "e3ae54fa",
   "metadata": {},
   "outputs": [
    {
     "data": {
      "text/plain": [
       "{1: 10, 3: 4, 'list': [1, 23], 'dict': {1, 2}, 't': (1, 2, 3)}"
      ]
     },
     "execution_count": 43,
     "metadata": {},
     "output_type": "execute_result"
    }
   ],
   "source": [
    "a"
   ]
  },
  {
   "cell_type": "code",
   "execution_count": 44,
   "id": "b36ac5b1",
   "metadata": {},
   "outputs": [],
   "source": [
    "b={3:5,'the':4,2:100}"
   ]
  },
  {
   "cell_type": "code",
   "execution_count": 45,
   "id": "780ac3f5",
   "metadata": {},
   "outputs": [],
   "source": [
    "a.update(b)"
   ]
  },
  {
   "cell_type": "code",
   "execution_count": 46,
   "id": "9e899f0f",
   "metadata": {},
   "outputs": [
    {
     "data": {
      "text/plain": [
       "{1: 10,\n",
       " 3: 5,\n",
       " 'list': [1, 23],\n",
       " 'dict': {1, 2},\n",
       " 't': (1, 2, 3),\n",
       " 'the': 4,\n",
       " 2: 100}"
      ]
     },
     "execution_count": 46,
     "metadata": {},
     "output_type": "execute_result"
    }
   ],
   "source": [
    "a"
   ]
  },
  {
   "cell_type": "markdown",
   "id": "67d3d02d",
   "metadata": {},
   "source": [
    "### delete key-value from dictionary"
   ]
  },
  {
   "cell_type": "code",
   "execution_count": 47,
   "id": "ec36c5e2",
   "metadata": {},
   "outputs": [
    {
     "data": {
      "text/plain": [
       "(1, 2, 3)"
      ]
     },
     "execution_count": 47,
     "metadata": {},
     "output_type": "execute_result"
    }
   ],
   "source": [
    "a.pop('t')"
   ]
  },
  {
   "cell_type": "code",
   "execution_count": 48,
   "id": "0dfe5c57",
   "metadata": {},
   "outputs": [
    {
     "data": {
      "text/plain": [
       "{1: 10, 3: 5, 'list': [1, 23], 'dict': {1, 2}, 'the': 4, 2: 100}"
      ]
     },
     "execution_count": 48,
     "metadata": {},
     "output_type": "execute_result"
    }
   ],
   "source": [
    "a"
   ]
  },
  {
   "cell_type": "code",
   "execution_count": 49,
   "id": "6ca1c4dd",
   "metadata": {},
   "outputs": [],
   "source": [
    "del a[1]"
   ]
  },
  {
   "cell_type": "code",
   "execution_count": 50,
   "id": "a762062e",
   "metadata": {},
   "outputs": [
    {
     "data": {
      "text/plain": [
       "{3: 5, 'list': [1, 23], 'dict': {1, 2}, 'the': 4, 2: 100}"
      ]
     },
     "execution_count": 50,
     "metadata": {},
     "output_type": "execute_result"
    }
   ],
   "source": [
    "a"
   ]
  },
  {
   "cell_type": "code",
   "execution_count": 51,
   "id": "f0320455",
   "metadata": {},
   "outputs": [],
   "source": [
    "a.clear()"
   ]
  },
  {
   "cell_type": "code",
   "execution_count": 52,
   "id": "e52d9c66",
   "metadata": {},
   "outputs": [
    {
     "data": {
      "text/plain": [
       "{}"
      ]
     },
     "execution_count": 52,
     "metadata": {},
     "output_type": "execute_result"
    }
   ],
   "source": [
    "a"
   ]
  },
  {
   "cell_type": "code",
   "execution_count": 53,
   "id": "889da662",
   "metadata": {},
   "outputs": [],
   "source": [
    "del a"
   ]
  },
  {
   "cell_type": "code",
   "execution_count": 54,
   "id": "45cbbc22",
   "metadata": {},
   "outputs": [
    {
     "ename": "NameError",
     "evalue": "name 'a' is not defined",
     "output_type": "error",
     "traceback": [
      "\u001b[1;31m---------------------------------------------------------------------------\u001b[0m",
      "\u001b[1;31mNameError\u001b[0m                                 Traceback (most recent call last)",
      "Cell \u001b[1;32mIn[54], line 1\u001b[0m\n\u001b[1;32m----> 1\u001b[0m a\n",
      "\u001b[1;31mNameError\u001b[0m: name 'a' is not defined"
     ]
    }
   ],
   "source": [
    "a"
   ]
  },
  {
   "cell_type": "code",
   "execution_count": null,
   "id": "4e9500da",
   "metadata": {},
   "outputs": [],
   "source": [
    "The “update” method is used to merge the contents of both the dictionaries and form\n",
    "a single dictionary out of it. In this process, the second dictionary is unchanged \n",
    "and the contents of the second dictionary are copied into the first dictionary.\n",
    "The uncommon keys from the second dictionary are added to the first with their\n",
    "corresponding values. However, if these dictionaries have any common key, then \n",
    "the value of the common key present in the first dictionary is updated to the new value from the second.\n",
    "\n",
    "In this case when the update is called then tuple 'a' becomes:\n",
    "a = {1:2,’list’:[1,2],4:5,3:7}\n",
    "\n",
    "So, a[3] returns 7."
   ]
  }
 ],
 "metadata": {
  "kernelspec": {
   "display_name": "Python 3 (ipykernel)",
   "language": "python",
   "name": "python3"
  },
  "language_info": {
   "codemirror_mode": {
    "name": "ipython",
    "version": 3
   },
   "file_extension": ".py",
   "mimetype": "text/x-python",
   "name": "python",
   "nbconvert_exporter": "python",
   "pygments_lexer": "ipython3",
   "version": "3.11.5"
  }
 },
 "nbformat": 4,
 "nbformat_minor": 5
}
