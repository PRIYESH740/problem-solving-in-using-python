{
 "cells": [
  {
   "cell_type": "markdown",
   "id": "099d0bc1",
   "metadata": {},
   "source": [
    "### heap sort"
   ]
  },
  {
   "cell_type": "code",
   "execution_count": 2,
   "id": "39a4e398",
   "metadata": {},
   "outputs": [
    {
     "name": "stdout",
     "output_type": "stream",
     "text": [
      "7\n",
      "4 7 6 3 9 11 10\n",
      "3 4 6 9 7 10 11 "
     ]
    }
   ],
   "source": [
    "\n",
    "def downHeapify(arr,i,n):\n",
    "    parentIndex=i\n",
    "    leftChildIndex=2*parentIndex+1\n",
    "    rightChildIndex=2*parentIndex+2\n",
    "\n",
    "    while leftChildIndex < n:\n",
    "        minIndex=parentIndex\n",
    "        if arr[leftChildIndex]< arr[minIndex]:\n",
    "            minIndex=leftChildIndex\n",
    "        \n",
    "        if rightChildIndex < n and arr[rightChildIndex]< arr[minIndex]:\n",
    "            minIndex=rightChildIndex\n",
    "\n",
    "        if minIndex == parentIndex:\n",
    "            return\n",
    "        \n",
    "        arr[minIndex],arr[parentIndex]=arr[parentIndex],arr[minIndex]\n",
    "        parentIndex=minIndex\n",
    "        leftChildIndex=2*parentIndex+1\n",
    "        rightChildIndex=2*parentIndex+2\n",
    "        return   \n",
    "        \n",
    "\n",
    "\n",
    "def heapSort(arr):\n",
    "    ######################\n",
    "    # build heap \n",
    "    if len(arr)==0:\n",
    "        return None\n",
    "    n=len(arr)\n",
    "    for i in range(n//2-1,-1,-1):\n",
    "        downHeapify(arr,i,n)\n",
    "    \n",
    "    \n",
    "    # remove element from the heap(top)\n",
    "    for i in range(n-1,0,-1):\n",
    "        arr[0],arr[i]=arr[i],arr[0]\n",
    "        downHeapify(arr,0,i)\n",
    "    return\n",
    "    ######################\n",
    "\n",
    "n = input()\n",
    "arr = [int(ele) for ele in input().split()]\n",
    "heapSort(arr)\n",
    "for ele in arr[::-1]:\n",
    "    print(ele,end=' ')"
   ]
  },
  {
   "cell_type": "markdown",
   "id": "1e769d54",
   "metadata": {},
   "source": [
    "### K Smallest Elements"
   ]
  },
  {
   "cell_type": "code",
   "execution_count": null,
   "id": "1f958543",
   "metadata": {},
   "outputs": [],
   "source": [
    "import heapq\n",
    "def kSmallest(lst, k):\n",
    "    templist=[]\n",
    "    templist=lst[:k]\n",
    "    \n",
    "    heapq._heapify_max(templist)\n",
    "\n",
    "    n=len(lst)\n",
    "    for i in range(k,n):\n",
    "        if templist[0]>lst[i]:\n",
    "            heapq._heapreplace_max(templist,lst[i])\n",
    "    return templist\n",
    "\n",
    "\n",
    "# Main\n",
    "n=int(input())\n",
    "lst=list(int(i) for i in input().strip().split(' '))\n",
    "k=int(input())\n",
    "ans=kSmallest(lst, k)\n",
    "ans.sort()\n",
    "print(*ans, sep=' ')"
   ]
  },
  {
   "cell_type": "markdown",
   "id": "41362014",
   "metadata": {},
   "source": [
    "### K Largest Elements\n"
   ]
  },
  {
   "cell_type": "code",
   "execution_count": null,
   "id": "fff68345",
   "metadata": {},
   "outputs": [],
   "source": [
    "import heapq\n",
    "def kLargest(lst, k):\n",
    "    heap=[]\n",
    "    heap=lst[:k]\n",
    "\n",
    "    heapq.heapify(heap)\n",
    "    n=len(lst)\n",
    "    for i in range(k,n):\n",
    "        if heap[0]<lst[i]:\n",
    "            heapq.heapreplace(heap,lst[i])\n",
    "\n",
    "    return heap\n",
    "\n",
    "# Main Code\n",
    "n=int(input())\n",
    "lst=list(int(i) for i in input().strip().split(' '))\n",
    "k=int(input())\n",
    "ans=kLargest(lst, k)\n",
    "print(*ans, sep='\\n')\n"
   ]
  },
  {
   "cell_type": "markdown",
   "id": "2361e53d",
   "metadata": {},
   "source": [
    "### inbuild heap or priority Queue .it is minheap"
   ]
  },
  {
   "cell_type": "code",
   "execution_count": 3,
   "id": "43ba5b87",
   "metadata": {},
   "outputs": [],
   "source": [
    "import heapq\n",
    "\n",
    "li=[1,5,4,8,7,9,11]\n",
    "heapq.heapify(li)"
   ]
  },
  {
   "cell_type": "code",
   "execution_count": 4,
   "id": "3d22f0cb",
   "metadata": {},
   "outputs": [
    {
     "name": "stdout",
     "output_type": "stream",
     "text": [
      "[1, 5, 4, 8, 7, 9, 11]\n"
     ]
    }
   ],
   "source": [
    "print(li)"
   ]
  },
  {
   "cell_type": "code",
   "execution_count": 5,
   "id": "1b4baf25",
   "metadata": {},
   "outputs": [
    {
     "name": "stdout",
     "output_type": "stream",
     "text": [
      "[1, 2, 4, 5, 7, 9, 11, 8]\n"
     ]
    }
   ],
   "source": [
    "heapq.heappush(li,2)\n",
    "print(li)"
   ]
  },
  {
   "cell_type": "code",
   "execution_count": 6,
   "id": "d6507c8f",
   "metadata": {},
   "outputs": [
    {
     "name": "stdout",
     "output_type": "stream",
     "text": [
      "1\n"
     ]
    }
   ],
   "source": [
    "print(heapq.heappop(li))"
   ]
  },
  {
   "cell_type": "code",
   "execution_count": 7,
   "id": "11f0a9e3",
   "metadata": {},
   "outputs": [
    {
     "name": "stdout",
     "output_type": "stream",
     "text": [
      "[2, 5, 4, 8, 7, 9, 11]\n"
     ]
    }
   ],
   "source": [
    "print(li)"
   ]
  },
  {
   "cell_type": "code",
   "execution_count": 8,
   "id": "3f71a29e",
   "metadata": {},
   "outputs": [
    {
     "name": "stdout",
     "output_type": "stream",
     "text": [
      "[4, 5, 6, 8, 7, 9, 11]\n"
     ]
    }
   ],
   "source": [
    "heapq.heapreplace(li,6)\n",
    "print(li)"
   ]
  },
  {
   "cell_type": "code",
   "execution_count": 9,
   "id": "65fc3819",
   "metadata": {},
   "outputs": [
    {
     "data": {
      "text/plain": [
       "4"
      ]
     },
     "execution_count": 9,
     "metadata": {},
     "output_type": "execute_result"
    }
   ],
   "source": [
    "heapq.heapreplace(li,10)"
   ]
  },
  {
   "cell_type": "code",
   "execution_count": 10,
   "id": "a482fb1d",
   "metadata": {},
   "outputs": [
    {
     "name": "stdout",
     "output_type": "stream",
     "text": [
      "[5, 7, 6, 8, 10, 9, 11]\n"
     ]
    }
   ],
   "source": [
    "print(li)"
   ]
  },
  {
   "cell_type": "markdown",
   "id": "f4726c78",
   "metadata": {},
   "source": [
    "### inbuilt Library for max Heap"
   ]
  },
  {
   "cell_type": "code",
   "execution_count": 21,
   "id": "cd0e3703",
   "metadata": {},
   "outputs": [
    {
     "name": "stdout",
     "output_type": "stream",
     "text": [
      "[9, 8, 4, 7, 5, 1, 2, 3]\n"
     ]
    }
   ],
   "source": [
    "import heapq\n",
    "li=[1,5,4,7,8,9,2,3]\n",
    "heapq._heapify_max(li)\n",
    "print(li)"
   ]
  },
  {
   "cell_type": "code",
   "execution_count": 22,
   "id": "2bc3711a",
   "metadata": {},
   "outputs": [
    {
     "name": "stdout",
     "output_type": "stream",
     "text": [
      "9\n"
     ]
    }
   ],
   "source": [
    "print(heapq._heappop_max(li))"
   ]
  },
  {
   "cell_type": "code",
   "execution_count": 23,
   "id": "118cf126",
   "metadata": {},
   "outputs": [
    {
     "name": "stdout",
     "output_type": "stream",
     "text": [
      "[8, 7, 4, 3, 5, 1, 2]\n"
     ]
    }
   ],
   "source": [
    "print(li)"
   ]
  },
  {
   "cell_type": "code",
   "execution_count": 24,
   "id": "cf08b856",
   "metadata": {},
   "outputs": [
    {
     "name": "stdout",
     "output_type": "stream",
     "text": [
      "[7, 5, 4, 3, 0, 1, 2]\n"
     ]
    }
   ],
   "source": [
    "heapq._heapreplace_max(li,0)\n",
    "print(li)"
   ]
  },
  {
   "cell_type": "code",
   "execution_count": 26,
   "id": "1851c274",
   "metadata": {},
   "outputs": [
    {
     "name": "stdout",
     "output_type": "stream",
     "text": [
      "[7, 6, 4, 5, 0, 1, 2, 6, 3]\n"
     ]
    }
   ],
   "source": [
    "li.append(6)\n",
    "heapq._siftdown_max(li,0,len(li)-1)\n",
    "print(li)"
   ]
  },
  {
   "cell_type": "markdown",
   "id": "4f7f253c",
   "metadata": {},
   "source": [
    "### assignment"
   ]
  },
  {
   "cell_type": "markdown",
   "id": "155f3e4b",
   "metadata": {},
   "source": [
    "### check max heap"
   ]
  },
  {
   "cell_type": "code",
   "execution_count": null,
   "id": "81cafcd8",
   "metadata": {},
   "outputs": [],
   "source": [
    "def checkMaxHeap(lst):\n",
    "    parentIndex=0\n",
    "    leftChildIndex=2*parentIndex+1\n",
    "    rightChildIndex=2*parentIndex+2\n",
    "\n",
    "    n=len(lst)\n",
    "    while leftChildIndex<n:\n",
    "        maxIndex=parentIndex\n",
    "        if lst[leftChildIndex]>lst[maxIndex]:\n",
    "            maxIndex=leftChildIndex\n",
    "        \n",
    "        if  rightChildIndex<n and lst[rightChildIndex]>lst[parentIndex]:\n",
    "            maxIndex=rightChildIndex\n",
    "\n",
    "        if maxIndex != parentIndex:\n",
    "            return False\n",
    "        \n",
    "        parentIndex +=1\n",
    "\n",
    "        leftChildIndex=2*parentIndex+1\n",
    "        rightChildIndex=2*parentIndex+2\n",
    "    \n",
    "    else:\n",
    "        return True\n",
    "\n",
    "# Main Code\n",
    "n=int(input())\n",
    "lst=list(int(i) for i in input().strip().split(' '))\n",
    "print('true') if checkMaxHeap(lst) else print('false')"
   ]
  },
  {
   "cell_type": "code",
   "execution_count": null,
   "id": "48f0a20d",
   "metadata": {},
   "outputs": [],
   "source": [
    "def checkMaxHeap(lst):\n",
    "    n = len(lst)\n",
    "    for i in range(n):\n",
    "        leftChildIndex = 2 * i + 1\n",
    "        rightChildIndex = 2 * i + 2\n",
    "\n",
    "        # Find the maximum between the current element and its left and right childre\n",
    "        maxIndex=i\n",
    "\n",
    "        if leftChildIndex < n and lst[leftChildIndex] > lst[maxIndex]:\n",
    "            return False\n",
    "        if rightChildIndex < n and lst[rightChildIndex] > lst[maxIndex]:\n",
    "            return False\n",
    "\n",
    "        # If the maximum is not the current element, the list is not a max heap\n",
    "        \n",
    "\n",
    "    # If we have checked all elements and haven't found a violation, it's a max heap\n",
    "    return True"
   ]
  },
  {
   "cell_type": "markdown",
   "id": "57ab572e",
   "metadata": {},
   "source": [
    "### Kth largest element"
   ]
  },
  {
   "cell_type": "code",
   "execution_count": null,
   "id": "ce92e8c1",
   "metadata": {},
   "outputs": [],
   "source": [
    "import heapq\n",
    "def kthLargest(lst, k):\n",
    "    heap=lst[:k]\n",
    "\n",
    "    heapq.heapify(heap)\n",
    "    n=len(lst)\n",
    "    for i in range(k,n):\n",
    "        if lst[i]>heap[0]:\n",
    "            heapq.heapreplace(heap,lst[i])\n",
    "\n",
    "    return heap[0]\n",
    "    \n",
    "   \n",
    "\n",
    "# Main\n",
    "n=int(input())\n",
    "lst=list(int(i) for i in input().strip().split(' '))\n",
    "k=int(input())\n",
    "ans=kthLargest(lst, k)\n",
    "print(ans)"
   ]
  },
  {
   "cell_type": "markdown",
   "id": "06255b21",
   "metadata": {},
   "source": [
    "### buy the ticket"
   ]
  },
  {
   "cell_type": "code",
   "execution_count": null,
   "id": "fbac652d",
   "metadata": {},
   "outputs": [],
   "source": [
    "from sys import stdin\n",
    "import sys\n",
    "import heapq as heap\n",
    "\n",
    "class LinkedListNode :\n",
    "    def __init__(self, data) :\n",
    "        self.data = data\n",
    "        self.next = None\n",
    "        \n",
    "class Queue :\n",
    "    def __init__(self) :\n",
    "        self.head = None \n",
    "        self.tail = None\n",
    "        self.size = 0\n",
    "        \n",
    "    def enqueue(self, data) :\n",
    "        newNode = LinkedListNode(data)\n",
    "        if self.head is None :\n",
    "            self.head = self.tail = newNode\n",
    "        else :\n",
    "            self.tail.next = newNode\n",
    "            self.tail = newNode\n",
    "        self.size += 1\n",
    "        return\n",
    "        \n",
    "    def dequeue(self) :\n",
    "        if self.head is None :\n",
    "            return None\n",
    "        data = self.head.data\n",
    "        self.head = self.head.next\n",
    "        self.size -= 1\n",
    "        return data\n",
    "    \n",
    "    def getSize(self) :\n",
    "        return self.size\n",
    "    \n",
    "    def isEmpty(self) :\n",
    "        if self.head is None :\n",
    "            return True\n",
    "        return False\n",
    "    \n",
    "    def peek(self) :\n",
    "        if self.head is None :\n",
    "            return None\n",
    "        return self.head.data\n",
    "    \n",
    "def buyTicket(arr, n, k) :\n",
    "    queue =Queue()\n",
    "    pq = []\n",
    "    for i in range(len(arr)):\n",
    "        queue.enqueue(i)\n",
    "        heap.heappush(pq, -arr[i])\n",
    "    time = 0\n",
    "    while not queue.isEmpty():\n",
    "        if arr[queue.peek()] < -pq[0]:\n",
    "            queue.enqueue(queue.dequeue())\n",
    "        else:\n",
    "            idx = queue.dequeue()\n",
    "            heap.heappop(pq)\n",
    "            time += 1\n",
    "            if idx == k:\n",
    "                break\n",
    "    return time\n",
    "       \n",
    "\n",
    "\n",
    "#taking input using fast I/O\n",
    "def takeInput() :\n",
    "    n = int(stdin.readline().strip())\n",
    "    if n == 0 :\n",
    "        return n, list(), int(stdin.readline().strip())\n",
    "    arr = list(map(int, stdin.readline().strip().split(\" \")))\n",
    "    k = int(stdin.readline().strip())\n",
    "    return n, arr, k\n",
    "\n",
    "#main\n",
    "sys.setrecursionlimit(10**6)\n",
    "n, arr, k = takeInput()\n",
    "print(buyTicket(arr, n, k))"
   ]
  },
  {
   "cell_type": "code",
   "execution_count": null,
   "id": "e38c67cd",
   "metadata": {},
   "outputs": [],
   "source": []
  }
 ],
 "metadata": {
  "kernelspec": {
   "display_name": "Python 3 (ipykernel)",
   "language": "python",
   "name": "python3"
  },
  "language_info": {
   "codemirror_mode": {
    "name": "ipython",
    "version": 3
   },
   "file_extension": ".py",
   "mimetype": "text/x-python",
   "name": "python",
   "nbconvert_exporter": "python",
   "pygments_lexer": "ipython3",
   "version": "3.11.5"
  }
 },
 "nbformat": 4,
 "nbformat_minor": 5
}
