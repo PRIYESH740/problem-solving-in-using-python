{
 "cells": [
  {
   "cell_type": "markdown",
   "id": "94236580-fd33-45bc-99a6-d2c706f4a46f",
   "metadata": {},
   "source": [
    "### Create & Insert Duplicate Node"
   ]
  },
  {
   "cell_type": "code",
   "execution_count": 1,
   "id": "3e21a45b-d6cf-4978-8f26-f940f168a440",
   "metadata": {},
   "outputs": [],
   "source": [
    "class BinaryTreeNode:\n",
    "    def __init__(self, data):\n",
    "        self.data = data\n",
    "        self.left = None\n",
    "        self.right = None\n",
    "\n",
    "\n",
    "def insertDuplicateNode(root):\n",
    "    if root is None:\n",
    "        return None\n",
    "    \n",
    "    \n",
    "    insertDuplicateNode(root.left)\n",
    "    insertDuplicateNode(root.right)\n",
    "\n",
    "    ptr=root.left\n",
    "    duplicateNode=BinaryTreeNode(root.data)\n",
    "    root.left=duplicateNode\n",
    "    duplicateNode.left=ptr\n",
    "    return root"
   ]
  },
  {
   "cell_type": "markdown",
   "id": "d4a9f915-1f5a-4f75-8eb0-0292256fbbff",
   "metadata": {},
   "source": [
    "### Minimum and Maximum in the Binary Tree"
   ]
  },
  {
   "cell_type": "code",
   "execution_count": null,
   "id": "1d20c88a-662a-44bc-b614-6ed3113c21a1",
   "metadata": {},
   "outputs": [],
   "source": [
    "def getMinAndMax(root) :\n",
    "    if root is None:\n",
    "        return -1,-1\n",
    "\n",
    "    \n",
    "    minLeft,maxLeft=getMinAndMax(root.left)\n",
    "    minRight,maxRight=getMinAndMax(root.right)\n",
    "\n",
    "    if minLeft ==-1 and maxLeft==-1 and minRight==-1 and maxRight==-1:\n",
    "        minVal=root.data\n",
    "        maxVal=root.data\n",
    "    \n",
    "    elif minLeft ==-1 and maxLeft ==-1 and minRight !=-1 and maxRight !=-1:\n",
    "        minVal=min(root.data,minRight,maxRight)\n",
    "        maxVal=max(root.data,minRight,maxRight)\n",
    "\n",
    "    elif minLeft !=-1 and maxLeft !=-1 and minRight ==-1 and maxRight ==-1:\n",
    "        minVal=min(minLeft,root.data)\n",
    "        maxVal=max(minLeft,root.data)\n",
    "    \n",
    "    elif minLeft !=-1 and maxLeft !=-1 and minRight !=-1 and maxRight !=-1:\n",
    "        minVal=min(minLeft,maxLeft,root.data,minRight,maxRight)\n",
    "        maxVal=max(minLeft,maxLeft,root.data,minRight,maxRight)\n",
    "    \n",
    "     return minVal,maxVal"
   ]
  },
  {
   "cell_type": "markdown",
   "id": "52c7305d-4e10-49b6-acc1-e6cbf06fbd3c",
   "metadata": {},
   "source": [
    "### Level order traversal"
   ]
  },
  {
   "cell_type": "code",
   "execution_count": 1,
   "id": "10819c26-7855-4ce9-a6f7-d528799e910f",
   "metadata": {},
   "outputs": [],
   "source": [
    "def printLevelWise(root):\n",
    "    if root is None:\n",
    "        return \n",
    "    q=queue.Queue()\n",
    "    q.put(root)\n",
    "    q.put(-1)\n",
    "    print(root.data)\n",
    "\n",
    "    while not q.empty():\n",
    "        curr_node=q.get()\n",
    "        \n",
    "        if curr_node != -1:\n",
    "            if curr_node.left != None:\n",
    "                q.put(curr_node.left)\n",
    "                print(curr_node.left.data,end=\" \")\n",
    "            if curr_node.right != None:\n",
    "                q.put(curr_node.right)\n",
    "                print(curr_node.right.data,end=\" \")\n",
    "        \n",
    "        if  not q.empty():\n",
    "            if q.queue[0] == -1 :\n",
    "                q.get()\n",
    "                print()\n",
    "                q.put(-1)\n"
   ]
  },
  {
   "cell_type": "markdown",
   "id": "8f082b5b-1e52-4a7b-a294-819fffacd27b",
   "metadata": {},
   "source": [
    "### Path Sum Root to Leaf in binary tree"
   ]
  },
  {
   "cell_type": "code",
   "execution_count": null,
   "id": "83eca0d0-d46c-4633-a779-fc4f7b9a68e2",
   "metadata": {},
   "outputs": [],
   "source": [
    "def rootToLeafPathsSumToK(root, k,string):\n",
    "    if root is None or k==0:\n",
    "        return \n",
    "    \n",
    "    if root.data==k and root.left== None and root.right==None:\n",
    "        print(string+\" \" +str(root.data))\n",
    "\n",
    "    string=string+str(root.data)+\" \"\n",
    "    \n",
    "    rootToLeafPathsSumToK(root.left, k-root.data,string)\n",
    "    rootToLeafPathsSumToK(root.right, k-root.data,string)\n",
    "    "
   ]
  },
  {
   "cell_type": "code",
   "execution_count": 1,
   "id": "9fd8311e-10f8-446b-b292-85f80e575b79",
   "metadata": {},
   "outputs": [
    {
     "name": "stdout",
     "output_type": "stream",
     "text": [
      "[1, 2, 3, 4]\n"
     ]
    }
   ],
   "source": [
    "list=[1,2,3,4]\n",
    "print(list)"
   ]
  },
  {
   "cell_type": "code",
   "execution_count": null,
   "id": "c2b6b78b-aaea-462b-83f4-2cbaff6fa6cb",
   "metadata": {},
   "outputs": [],
   "source": []
  }
 ],
 "metadata": {
  "kernelspec": {
   "display_name": "Python 3 (ipykernel)",
   "language": "python",
   "name": "python3"
  },
  "language_info": {
   "codemirror_mode": {
    "name": "ipython",
    "version": 3
   },
   "file_extension": ".py",
   "mimetype": "text/x-python",
   "name": "python",
   "nbconvert_exporter": "python",
   "pygments_lexer": "ipython3",
   "version": "3.11.5"
  },
  "widgets": {
   "application/vnd.jupyter.widget-state+json": {
    "state": {},
    "version_major": 2,
    "version_minor": 0
   }
  }
 },
 "nbformat": 4,
 "nbformat_minor": 5
}
