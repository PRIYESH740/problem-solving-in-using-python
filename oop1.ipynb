{
 "cells": [
  {
   "cell_type": "code",
   "execution_count": 58,
   "id": "dabbcd73",
   "metadata": {},
   "outputs": [],
   "source": [
    "class Product:\n",
    "    company='Adidas'\n",
    "    def __init__(self,id,company):\n",
    "        self.id=id\n",
    "        self.company=company\n",
    "    \n",
    "    def printCompany(self):\n",
    "        print(self.company)"
   ]
  },
  {
   "cell_type": "code",
   "execution_count": 1,
   "id": "5d4f5e64",
   "metadata": {},
   "outputs": [],
   "source": [
    "class a:\n",
    "    pass\n",
    "obj=a()"
   ]
  },
  {
   "cell_type": "code",
   "execution_count": 60,
   "id": "4b566174",
   "metadata": {},
   "outputs": [],
   "source": [
    "p3=Product(1,'Addidas-ABC')\n",
    "p4=Product(2,'Addidas-XYZ')"
   ]
  },
  {
   "cell_type": "code",
   "execution_count": 61,
   "id": "936da48b",
   "metadata": {},
   "outputs": [
    {
     "data": {
      "text/plain": [
       "'Addidas-ABC'"
      ]
     },
     "execution_count": 61,
     "metadata": {},
     "output_type": "execute_result"
    }
   ],
   "source": [
    "p3.company"
   ]
  },
  {
   "cell_type": "code",
   "execution_count": 62,
   "id": "7e6d24e0",
   "metadata": {},
   "outputs": [
    {
     "data": {
      "text/plain": [
       "'Adidas'"
      ]
     },
     "execution_count": 62,
     "metadata": {},
     "output_type": "execute_result"
    }
   ],
   "source": [
    "Product.company"
   ]
  },
  {
   "cell_type": "code",
   "execution_count": 51,
   "id": "905e3ef1",
   "metadata": {},
   "outputs": [],
   "source": [
    "class cart:\n",
    "    maxsize=50\n",
    "    count=0\n",
    "    def __init__(self,id,name):\n",
    "        cart.count=cart.count+1\n",
    "        self.id=id\n",
    "        self.name=name\n",
    "    def prinCartsize(self):\n",
    "        print(self.maxsize)"
   ]
  },
  {
   "cell_type": "code",
   "execution_count": 33,
   "id": "6e329f47",
   "metadata": {},
   "outputs": [],
   "source": [
    "p1=Product(1)\n",
    "p2=Product(2)"
   ]
  },
  {
   "cell_type": "code",
   "execution_count": 34,
   "id": "7da167bb",
   "metadata": {},
   "outputs": [
    {
     "data": {
      "text/plain": [
       "'Adidas'"
      ]
     },
     "execution_count": 34,
     "metadata": {},
     "output_type": "execute_result"
    }
   ],
   "source": [
    "p1.company"
   ]
  },
  {
   "cell_type": "code",
   "execution_count": 35,
   "id": "2909f5d1",
   "metadata": {},
   "outputs": [
    {
     "data": {
      "text/plain": [
       "'Adidas'"
      ]
     },
     "execution_count": 35,
     "metadata": {},
     "output_type": "execute_result"
    }
   ],
   "source": [
    "p2.company"
   ]
  },
  {
   "cell_type": "code",
   "execution_count": 36,
   "id": "68677058",
   "metadata": {},
   "outputs": [
    {
     "data": {
      "text/plain": [
       "1"
      ]
     },
     "execution_count": 36,
     "metadata": {},
     "output_type": "execute_result"
    }
   ],
   "source": [
    "p1.id"
   ]
  },
  {
   "cell_type": "code",
   "execution_count": 37,
   "id": "83953f10",
   "metadata": {},
   "outputs": [
    {
     "data": {
      "text/plain": [
       "2"
      ]
     },
     "execution_count": 37,
     "metadata": {},
     "output_type": "execute_result"
    }
   ],
   "source": [
    "p2.id"
   ]
  },
  {
   "cell_type": "code",
   "execution_count": 52,
   "id": "5d3aa273",
   "metadata": {},
   "outputs": [],
   "source": [
    "cart1=cart(1,'cart1')\n",
    "cart2=cart(2,'cart2')\n",
    "cart3=cart(3,'cart3')\n"
   ]
  },
  {
   "cell_type": "code",
   "execution_count": 53,
   "id": "192ff8d5",
   "metadata": {},
   "outputs": [
    {
     "data": {
      "text/plain": [
       "3"
      ]
     },
     "execution_count": 53,
     "metadata": {},
     "output_type": "execute_result"
    }
   ],
   "source": [
    "cart.count"
   ]
  },
  {
   "cell_type": "code",
   "execution_count": 55,
   "id": "88632c6e",
   "metadata": {},
   "outputs": [
    {
     "data": {
      "text/plain": [
       "{'id': 2, 'name': 'cart2'}"
      ]
     },
     "execution_count": 55,
     "metadata": {},
     "output_type": "execute_result"
    }
   ],
   "source": [
    "vars(cart2)"
   ]
  },
  {
   "cell_type": "code",
   "execution_count": 54,
   "id": "ec5db34f",
   "metadata": {},
   "outputs": [
    {
     "data": {
      "text/plain": [
       "mappingproxy({'__module__': '__main__',\n",
       "              'maxsize': 50,\n",
       "              'count': 3,\n",
       "              '__init__': <function __main__.cart.__init__(self, id, name)>,\n",
       "              'prinCartsize': <function __main__.cart.prinCartsize(self)>,\n",
       "              '__dict__': <attribute '__dict__' of 'cart' objects>,\n",
       "              '__weakref__': <attribute '__weakref__' of 'cart' objects>,\n",
       "              '__doc__': None})"
      ]
     },
     "execution_count": 54,
     "metadata": {},
     "output_type": "execute_result"
    }
   ],
   "source": [
    "cart.__dict__"
   ]
  },
  {
   "cell_type": "code",
   "execution_count": null,
   "id": "ed8d417b",
   "metadata": {},
   "outputs": [],
   "source": []
  },
  {
   "cell_type": "code",
   "execution_count": 48,
   "id": "e6be7894",
   "metadata": {},
   "outputs": [
    {
     "data": {
      "text/plain": [
       "3"
      ]
     },
     "execution_count": 48,
     "metadata": {},
     "output_type": "execute_result"
    }
   ],
   "source": [
    "cart1.count"
   ]
  },
  {
   "cell_type": "code",
   "execution_count": 50,
   "id": "9529b5c2",
   "metadata": {},
   "outputs": [
    {
     "data": {
      "text/plain": [
       "{'id': 1, 'name': 'cart1'}"
      ]
     },
     "execution_count": 50,
     "metadata": {},
     "output_type": "execute_result"
    }
   ],
   "source": [
    "cart1.__dict__"
   ]
  },
  {
   "cell_type": "code",
   "execution_count": 17,
   "id": "26eb40a9",
   "metadata": {},
   "outputs": [],
   "source": [
    "p1=Product()"
   ]
  },
  {
   "cell_type": "code",
   "execution_count": null,
   "id": "673805ef",
   "metadata": {},
   "outputs": [],
   "source": []
  },
  {
   "cell_type": "code",
   "execution_count": 8,
   "id": "56a194e0",
   "metadata": {},
   "outputs": [
    {
     "name": "stdout",
     "output_type": "stream",
     "text": [
      "Adidas\n",
      "Adidas\n"
     ]
    }
   ],
   "source": [
    "print(p1.company)\n",
    "p1.printCompany()"
   ]
  },
  {
   "cell_type": "code",
   "execution_count": 16,
   "id": "385db56f",
   "metadata": {},
   "outputs": [],
   "source": [
    "p2=Product()"
   ]
  },
  {
   "cell_type": "code",
   "execution_count": 10,
   "id": "3bc3308d",
   "metadata": {},
   "outputs": [
    {
     "name": "stdout",
     "output_type": "stream",
     "text": [
      "Adidas\n",
      "Adidas\n"
     ]
    }
   ],
   "source": [
    "print(p2.company)\n",
    "p2.printCompany()"
   ]
  },
  {
   "cell_type": "code",
   "execution_count": 12,
   "id": "6f056fa7",
   "metadata": {},
   "outputs": [
    {
     "name": "stdout",
     "output_type": "stream",
     "text": [
      "50\n"
     ]
    }
   ],
   "source": [
    "x=cart()\n",
    "x.prinCartsize()"
   ]
  },
  {
   "cell_type": "code",
   "execution_count": 13,
   "id": "3e80e077",
   "metadata": {},
   "outputs": [
    {
     "data": {
      "text/plain": [
       "False"
      ]
     },
     "execution_count": 13,
     "metadata": {},
     "output_type": "execute_result"
    }
   ],
   "source": [
    "p1==p2"
   ]
  },
  {
   "cell_type": "code",
   "execution_count": 18,
   "id": "35fcec70",
   "metadata": {},
   "outputs": [
    {
     "data": {
      "text/plain": [
       "<__main__.Product at 0x2866b856920>"
      ]
     },
     "execution_count": 18,
     "metadata": {},
     "output_type": "execute_result"
    }
   ],
   "source": [
    "p1"
   ]
  },
  {
   "cell_type": "code",
   "execution_count": 19,
   "id": "295bcf6d",
   "metadata": {},
   "outputs": [
    {
     "data": {
      "text/plain": [
       "<__main__.Product at 0x2866b925390>"
      ]
     },
     "execution_count": 19,
     "metadata": {},
     "output_type": "execute_result"
    }
   ],
   "source": [
    "p2"
   ]
  },
  {
   "cell_type": "code",
   "execution_count": 14,
   "id": "31b33268",
   "metadata": {},
   "outputs": [],
   "source": [
    "p2=p1\n"
   ]
  },
  {
   "cell_type": "code",
   "execution_count": 15,
   "id": "2652bb53",
   "metadata": {},
   "outputs": [
    {
     "data": {
      "text/plain": [
       "True"
      ]
     },
     "execution_count": 15,
     "metadata": {},
     "output_type": "execute_result"
    }
   ],
   "source": [
    "p1==p1"
   ]
  },
  {
   "cell_type": "code",
   "execution_count": 5,
   "id": "5d2f9633",
   "metadata": {},
   "outputs": [
    {
     "name": "stdout",
     "output_type": "stream",
     "text": [
      "10\n",
      "10\n"
     ]
    }
   ],
   "source": [
    "class a:\n",
    "    def __init__(self):\n",
    "        age=10\n",
    "        print(age)\n",
    "    \n",
    "#obj=a()\n",
    "#obj2=a()"
   ]
  },
  {
   "cell_type": "code",
   "execution_count": 12,
   "id": "bae324fc",
   "metadata": {},
   "outputs": [
    {
     "name": "stdout",
     "output_type": "stream",
     "text": [
      "10 name address\n",
      "Learning\n",
      "None\n",
      "10\n",
      "10\n"
     ]
    }
   ],
   "source": [
    "class a:\n",
    "    age=10\n",
    "    def fun(self,age,name,address):\n",
    "        print(age,\"name\",\"address\")\n",
    "        \"priyesh\"\n",
    "        name=\"Learning\"\n",
    "        print(name)\n",
    "obj=a()\n",
    "obj.fun(10,\"Priyesh\",\"Jaunpur\")\n",
    "print(obj.fun.__doc__)\n",
    "print(obj.age)\n",
    "print(a.age)"
   ]
  },
  {
   "cell_type": "code",
   "execution_count": 16,
   "id": "f2d907b9",
   "metadata": {},
   "outputs": [
    {
     "name": "stdout",
     "output_type": "stream",
     "text": [
      "10   Priyesh   Jaunpur\n",
      "Learning\n",
      "priyesh   100   200\n",
      "Learning\n"
     ]
    }
   ],
   "source": [
    "class a:\n",
    "    age=10\n",
    "    def __init__(self,age,name,address):\n",
    "        print(age,\" \",name,\" \",address)\n",
    "        \"priyesh\"\n",
    "        name=\"Learning\"\n",
    "        print(name)\n",
    "obj=a(10,\"Priyesh\",\"Jaunpur\")\n",
    "obj=a(\"priyesh\",100,200)"
   ]
  },
  {
   "cell_type": "code",
   "execution_count": 19,
   "id": "2c001cca",
   "metadata": {},
   "outputs": [
    {
     "ename": "SyntaxError",
     "evalue": "invalid syntax. Perhaps you forgot a comma? (737589671.py, line 5)",
     "output_type": "error",
     "traceback": [
      "\u001b[1;36m  Cell \u001b[1;32mIn[19], line 5\u001b[1;36m\u001b[0m\n\u001b[1;33m    print(name\" \"age )\u001b[0m\n\u001b[1;37m              ^\u001b[0m\n\u001b[1;31mSyntaxError\u001b[0m\u001b[1;31m:\u001b[0m invalid syntax. Perhaps you forgot a comma?\n"
     ]
    }
   ],
   "source": [
    " class A:\n",
    "    age=10\n",
    "    def __init__(self):\n",
    "        name=\"Ankush\"\n",
    "        print(name\" \"age)\n",
    "obj=A()"
   ]
  },
  {
   "cell_type": "code",
   "execution_count": 21,
   "id": "b965551e",
   "metadata": {},
   "outputs": [
    {
     "name": "stdout",
     "output_type": "stream",
     "text": [
      "Ankush   10\n"
     ]
    }
   ],
   "source": [
    "class A:\n",
    "    age=10\n",
    "    def __init__(self):\n",
    "        name=\"Ankush\"\n",
    "        # we can access the age by self referencing parameter\n",
    "        print(name,\" \",self.age)\n",
    "obj=A()"
   ]
  },
  {
   "cell_type": "code",
   "execution_count": 18,
   "id": "ba772d86",
   "metadata": {},
   "outputs": [
    {
     "name": "stdout",
     "output_type": "stream",
     "text": [
      "Ankush\n"
     ]
    }
   ],
   "source": [
    "class A:\n",
    "    def __init__(self):\n",
    "        self.name=\"Ankush\"\n",
    "        print(self.name)\n",
    "obj=A()"
   ]
  },
  {
   "cell_type": "code",
   "execution_count": 25,
   "id": "d2f2e857",
   "metadata": {},
   "outputs": [
    {
     "name": "stdout",
     "output_type": "stream",
     "text": [
      "Ankit\n"
     ]
    }
   ],
   "source": [
    " class A:\n",
    "    age=10\n",
    "    def __init__(self):\n",
    "        print(\"Ankush\")\n",
    "    '''in defult cons. case\n",
    "    last constructer is callable''' \n",
    "    def __init__(self):\n",
    "        print(\"Ankit\")\n",
    "obj=A()"
   ]
  },
  {
   "cell_type": "code",
   "execution_count": 28,
   "id": "1a167201",
   "metadata": {},
   "outputs": [
    {
     "name": "stdout",
     "output_type": "stream",
     "text": [
      "Akush   Jaunpur\n",
      "10\n"
     ]
    }
   ],
   "source": [
    " class A:\n",
    "    name=\"Akush\"\n",
    "    age=10\n",
    "    def __init__(self):\n",
    "        address=\"Jaunpur\"\n",
    "        print(self.name,\" \",address)\n",
    "       \n",
    "    def show(self):\n",
    "        print(self.age)\n",
    "obj=A()\n",
    "obj.show()\n"
   ]
  },
  {
   "cell_type": "code",
   "execution_count": 29,
   "id": "03123ac0",
   "metadata": {},
   "outputs": [
    {
     "name": "stdout",
     "output_type": "stream",
     "text": [
      "10   Priyesh   Jaunpur\n"
     ]
    }
   ],
   "source": [
    "class a:\n",
    "    age=10\n",
    "    def __init__(self,age,name,address):\n",
    "        address=\"Jaunpur\"\n",
    "        print(age,\" \",name,\" \",address)\n",
    "        \n",
    "obj=a(10,\"Priyesh\",None)"
   ]
  },
  {
   "cell_type": "code",
   "execution_count": 63,
   "id": "2aa36078",
   "metadata": {},
   "outputs": [
    {
     "name": "stdout",
     "output_type": "stream",
     "text": [
      "self from init  1498793422624\n",
      "Id from outside  1498758472112\n"
     ]
    }
   ],
   "source": [
    "class dog:\n",
    "    def __init__(self):\n",
    "        print(\"self from init \",id(self))\n",
    "nam=dog()\n",
    "print('Id from outside ',id(dog))"
   ]
  },
  {
   "cell_type": "code",
   "execution_count": 66,
   "id": "59b514a7",
   "metadata": {},
   "outputs": [
    {
     "name": "stdout",
     "output_type": "stream",
     "text": [
      "Rohan Rohan "
     ]
    }
   ],
   "source": [
    "class Student:\n",
    "     name = 'Rohan'\n",
    "     age = 16\n",
    "s1 = Student()\n",
    "s2 = Student()\n",
    "print(s1.name,end=\" \")\n",
    "print(s2.name,end=\" \")\n"
   ]
  },
  {
   "cell_type": "code",
   "execution_count": 1,
   "id": "23e84bef",
   "metadata": {},
   "outputs": [
    {
     "name": "stdout",
     "output_type": "stream",
     "text": [
      "ID of self: 2071007512464\n",
      "ID of class: 2070993382272\n"
     ]
    }
   ],
   "source": [
    "class MyClass:\n",
    "    def __init__(self):\n",
    "        pass\n",
    "\n",
    "    def print_ids(self):\n",
    "        print(\"ID of self:\", id(self))\n",
    "        print(\"ID of class:\", id(MyClass))\n",
    "\n",
    "\n",
    "obj = MyClass()\n",
    "obj.print_ids()"
   ]
  },
  {
   "cell_type": "code",
   "execution_count": 3,
   "id": "07bfd336",
   "metadata": {},
   "outputs": [
    {
     "name": "stdout",
     "output_type": "stream",
     "text": [
      "Parikh 60\n"
     ]
    }
   ],
   "source": [
    "class Student:\n",
    "    name = \"Parikh\"\n",
    "    def store_details(self):\n",
    "        self.age = 60\n",
    "    def print_details(self):\n",
    "        print(self.name, end=\" \")\n",
    "        print(self.age)\n",
    "s = Student()\n",
    "s.store_details()\n",
    "s.print_details()"
   ]
  },
  {
   "cell_type": "code",
   "execution_count": 4,
   "id": "63d4027e",
   "metadata": {},
   "outputs": [
    {
     "name": "stdout",
     "output_type": "stream",
     "text": [
      "Parikh 60\n"
     ]
    }
   ],
   "source": [
    "class Student:\n",
    "    name = \"Parikh\"\n",
    "    def store_details(self):\n",
    "        self.age = 60\n",
    "    def print_age(self):\n",
    "        print(self.name, end=\" \")\n",
    "        print(self.age)\n",
    "s = Student()\n",
    "s.store_details()\n",
    "s1 = Student()\n",
    "s1.print_age()"
   ]
  },
  {
   "cell_type": "code",
   "execution_count": 6,
   "id": "806956ef",
   "metadata": {},
   "outputs": [],
   "source": [
    "class Person:\n",
    "    def __init__(self,name,age):\n",
    "        self.name=name\n",
    "        self.age=age\n",
    "        \n"
   ]
  },
  {
   "cell_type": "code",
   "execution_count": 10,
   "id": "943818c8",
   "metadata": {},
   "outputs": [
    {
     "name": "stdout",
     "output_type": "stream",
     "text": [
      "I'm john.i'm 25 years old.\n"
     ]
    }
   ],
   "source": [
    "if __name__=='__main__':\n",
    "    person=Person('john',25)\n",
    "    print(f\"I'm {person.name}.i'm {person.age} years old.\")"
   ]
  },
  {
   "cell_type": "code",
   "execution_count": 11,
   "id": "039c046d",
   "metadata": {},
   "outputs": [],
   "source": [
    "class Product:\n",
    "    pass"
   ]
  },
  {
   "cell_type": "code",
   "execution_count": 12,
   "id": "2e06cebe",
   "metadata": {},
   "outputs": [],
   "source": [
    "p1=Product()\n",
    "p2=Product()"
   ]
  },
  {
   "cell_type": "code",
   "execution_count": null,
   "id": "7a88ef6f",
   "metadata": {},
   "outputs": [],
   "source": []
  },
  {
   "cell_type": "code",
   "execution_count": 13,
   "id": "d4ac8bc8",
   "metadata": {},
   "outputs": [
    {
     "data": {
      "text/plain": [
       "{}"
      ]
     },
     "execution_count": 13,
     "metadata": {},
     "output_type": "execute_result"
    }
   ],
   "source": [
    "p1.__dict__"
   ]
  },
  {
   "cell_type": "code",
   "execution_count": 20,
   "id": "e5748b69",
   "metadata": {},
   "outputs": [],
   "source": [
    "class Product:\n",
    "    name='sony Headphones'"
   ]
  },
  {
   "cell_type": "code",
   "execution_count": 21,
   "id": "58eb6567",
   "metadata": {},
   "outputs": [],
   "source": [
    "p1=Product()\n",
    "p2=Product()"
   ]
  },
  {
   "cell_type": "code",
   "execution_count": 22,
   "id": "f2badab7",
   "metadata": {},
   "outputs": [
    {
     "data": {
      "text/plain": [
       "'sony Headphones'"
      ]
     },
     "execution_count": 22,
     "metadata": {},
     "output_type": "execute_result"
    }
   ],
   "source": [
    "p1.name"
   ]
  },
  {
   "cell_type": "code",
   "execution_count": 23,
   "id": "493cdef2",
   "metadata": {},
   "outputs": [
    {
     "data": {
      "text/plain": [
       "'sony Headphones'"
      ]
     },
     "execution_count": 23,
     "metadata": {},
     "output_type": "execute_result"
    }
   ],
   "source": [
    "p2.name"
   ]
  },
  {
   "cell_type": "code",
   "execution_count": 30,
   "id": "cd05fc43",
   "metadata": {},
   "outputs": [],
   "source": [
    "class Product:\n",
    "    count=0\n",
    "    def __init__(self,name,price,discount):\n",
    "        self.id=Product.count+1\n",
    "        self.name=name\n",
    "        self.discount=discount\n",
    "        self.isavailable=True\n",
    "        \n",
    "        Product.count=Product.count+1"
   ]
  },
  {
   "cell_type": "code",
   "execution_count": null,
   "id": "69ad75c3",
   "metadata": {},
   "outputs": [],
   "source": []
  },
  {
   "cell_type": "code",
   "execution_count": 31,
   "id": "3edf51eb",
   "metadata": {},
   "outputs": [
    {
     "data": {
      "text/plain": [
       "1"
      ]
     },
     "execution_count": 31,
     "metadata": {},
     "output_type": "execute_result"
    }
   ],
   "source": [
    "p1.id"
   ]
  },
  {
   "cell_type": "code",
   "execution_count": 27,
   "id": "744f46d6",
   "metadata": {},
   "outputs": [],
   "source": [
    "p1=Product('geaser',200,0.05)"
   ]
  },
  {
   "cell_type": "code",
   "execution_count": 28,
   "id": "2e9af3e4",
   "metadata": {},
   "outputs": [],
   "source": [
    "p2=Product('Television',5000,0.2)"
   ]
  },
  {
   "cell_type": "code",
   "execution_count": 29,
   "id": "e56eaaa0",
   "metadata": {},
   "outputs": [
    {
     "data": {
      "text/plain": [
       "{'id': 1, 'name': 'geaser', 'discount': 0.05, 'isavailable': True}"
      ]
     },
     "execution_count": 29,
     "metadata": {},
     "output_type": "execute_result"
    }
   ],
   "source": [
    "p1.__dict__"
   ]
  },
  {
   "cell_type": "code",
   "execution_count": 34,
   "id": "8a16b54c",
   "metadata": {},
   "outputs": [
    {
     "data": {
      "text/plain": [
       "0.3"
      ]
     },
     "execution_count": 34,
     "metadata": {},
     "output_type": "execute_result"
    }
   ],
   "source": [
    "p1.discount"
   ]
  },
  {
   "cell_type": "code",
   "execution_count": 33,
   "id": "83c3f4d4",
   "metadata": {},
   "outputs": [],
   "source": [
    "p1.discount=0.3"
   ]
  },
  {
   "cell_type": "code",
   "execution_count": 35,
   "id": "92017d5e",
   "metadata": {},
   "outputs": [
    {
     "data": {
      "text/plain": [
       "{'id': 1, 'name': 'geaser', 'discount': 0.3, 'isavailable': True}"
      ]
     },
     "execution_count": 35,
     "metadata": {},
     "output_type": "execute_result"
    }
   ],
   "source": [
    "p1.__dict__"
   ]
  },
  {
   "cell_type": "markdown",
   "id": "ed92428e",
   "metadata": {},
   "source": [
    "### Protected Access specifier"
   ]
  },
  {
   "cell_type": "code",
   "execution_count": 52,
   "id": "d668610f",
   "metadata": {},
   "outputs": [],
   "source": [
    "class Product:\n",
    "    count=0\n",
    "    def __init__(self,name,price,discount):\n",
    "        self.__id=Product.count+1\n",
    "        self.__name=name\n",
    "        self.__price=price\n",
    "        self.__discount=0.05\n",
    "        self.__isavailable=True\n",
    "        \n",
    "        Product.count=Product.count+1\n",
    "        \n",
    "    def applyDiscount(self):\n",
    "        if (self.__price>20000):\n",
    "            self.__discount=0.2\n",
    "        elif (self.__price<20000 and self.__price>=10000):\n",
    "            self.__discount=0.1\n",
    "                    \n",
    "        else:\n",
    "            self.__discount=0.05"
   ]
  },
  {
   "cell_type": "code",
   "execution_count": 49,
   "id": "3dbba4fe",
   "metadata": {},
   "outputs": [],
   "source": [
    "p3=Product('sunglass',1500,0.2)"
   ]
  },
  {
   "cell_type": "code",
   "execution_count": null,
   "id": "f8f3c282",
   "metadata": {},
   "outputs": [],
   "source": []
  },
  {
   "cell_type": "code",
   "execution_count": 55,
   "id": "daeaa888",
   "metadata": {},
   "outputs": [
    {
     "data": {
      "text/plain": [
       "{'_Product__id': 1,\n",
       " '_Product__name': 'sunglass',\n",
       " '_Product__price': 1500,\n",
       " '_Product__discount': 0.05,\n",
       " '_Product__isavailable': True}"
      ]
     },
     "execution_count": 55,
     "metadata": {},
     "output_type": "execute_result"
    }
   ],
   "source": [
    "p3.__dict__"
   ]
  },
  {
   "cell_type": "code",
   "execution_count": 43,
   "id": "c4e82944",
   "metadata": {},
   "outputs": [],
   "source": [
    "p2=Product('iphone',150000,0.2)"
   ]
  },
  {
   "cell_type": "code",
   "execution_count": 41,
   "id": "fb2cccdb",
   "metadata": {},
   "outputs": [
    {
     "data": {
      "text/plain": [
       "['_Product___discount',\n",
       " '_Product__id',\n",
       " '_Product__isavailable',\n",
       " '__class__',\n",
       " '__delattr__',\n",
       " '__dict__',\n",
       " '__dir__',\n",
       " '__doc__',\n",
       " '__eq__',\n",
       " '__format__',\n",
       " '__ge__',\n",
       " '__getattribute__',\n",
       " '__gt__',\n",
       " '__hash__',\n",
       " '__init__',\n",
       " '__init_subclass__',\n",
       " '__le__',\n",
       " '__lt__',\n",
       " '__module__',\n",
       " '__ne__',\n",
       " '__new__',\n",
       " '__reduce__',\n",
       " '__reduce_ex__',\n",
       " '__repr__',\n",
       " '__setattr__',\n",
       " '__sizeof__',\n",
       " '__str__',\n",
       " '__subclasshook__',\n",
       " '__weakref__',\n",
       " 'count']"
      ]
     },
     "execution_count": 41,
     "metadata": {},
     "output_type": "execute_result"
    }
   ],
   "source": [
    "dir(p2)"
   ]
  },
  {
   "cell_type": "code",
   "execution_count": null,
   "id": "2ded2622",
   "metadata": {},
   "outputs": [],
   "source": []
  }
 ],
 "metadata": {
  "kernelspec": {
   "display_name": "Python 3 (ipykernel)",
   "language": "python",
   "name": "python3"
  },
  "language_info": {
   "codemirror_mode": {
    "name": "ipython",
    "version": 3
   },
   "file_extension": ".py",
   "mimetype": "text/x-python",
   "name": "python",
   "nbconvert_exporter": "python",
   "pygments_lexer": "ipython3",
   "version": "3.10.7"
  }
 },
 "nbformat": 4,
 "nbformat_minor": 5
}
