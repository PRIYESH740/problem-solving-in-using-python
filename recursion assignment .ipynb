{
 "cells": [
  {
   "cell_type": "code",
   "execution_count": 20,
   "id": "82076988",
   "metadata": {},
   "outputs": [
    {
     "name": "stdout",
     "output_type": "stream",
     "text": [
      "4\n",
      "1.93750\n"
     ]
    }
   ],
   "source": [
    "k=int(input())\n",
    "sum=1\n",
    "for i in range(1,k+1):\n",
    "    sum +=(1/(2)**i)\n",
    "\n",
    "print('%.5f'%sum)"
   ]
  },
  {
   "cell_type": "code",
   "execution_count": 19,
   "id": "01f9d123",
   "metadata": {},
   "outputs": [
    {
     "data": {
      "text/plain": [
       "8"
      ]
     },
     "execution_count": 19,
     "metadata": {},
     "output_type": "execute_result"
    }
   ],
   "source": [
    "2**3"
   ]
  },
  {
   "cell_type": "code",
   "execution_count": 3,
   "id": "b36e6132",
   "metadata": {},
   "outputs": [],
   "source": [
    "def sumdigits(number):\n",
    "    if number==0:\n",
    "        return 0\n",
    "    if number!=0:\n",
    "        return sumdigits(number//10)+number%10"
   ]
  },
  {
   "cell_type": "code",
   "execution_count": 5,
   "id": "8005340d",
   "metadata": {},
   "outputs": [
    {
     "name": "stdout",
     "output_type": "stream",
     "text": [
      "10\n"
     ]
    }
   ],
   "source": [
    "number=1234\n",
    "ans=sumdigits(number)\n",
    "print(ans)"
   ]
  },
  {
   "cell_type": "code",
   "execution_count": 13,
   "id": "8e964448",
   "metadata": {},
   "outputs": [],
   "source": [
    "def mult( n, m ):\n",
    "    if m == 0:\n",
    "        return 0\n",
    "    elif m < 0:\n",
    "        return mult(n,m+1)-n\n",
    "    else:\n",
    "        return n + mult(n,m-1)"
   ]
  },
  {
   "cell_type": "code",
   "execution_count": 19,
   "id": "3096ae30",
   "metadata": {},
   "outputs": [
    {
     "name": "stdout",
     "output_type": "stream",
     "text": [
      "0\n"
     ]
    }
   ],
   "source": [
    "n=0\n",
    "m=4\n",
    "ans=mult(n,m)\n",
    "print(ans)"
   ]
  },
  {
   "cell_type": "code",
   "execution_count": 16,
   "id": "dff15a48",
   "metadata": {},
   "outputs": [
    {
     "name": "stdout",
     "output_type": "stream",
     "text": [
      "10\n"
     ]
    }
   ],
   "source": [
    "def product( x , y ):\n",
    "    # if x is less than y swap\n",
    "    # the numbers\n",
    "    if x < y:\n",
    "        return product(y, x)\n",
    "      \n",
    "    # iteratively calculate y\n",
    "    # times sum of x\n",
    "    elif y != 0:\n",
    "        return (x + product(x, y - 1))\n",
    "      \n",
    "    # if any of the two numbers is\n",
    "    # zero return zero\n",
    "    else:\n",
    "        return 0\n",
    "  \n",
    "# Driver code\n",
    "x = 5\n",
    "y = 2\n",
    "print( product(x, y))"
   ]
  },
  {
   "cell_type": "code",
   "execution_count": 21,
   "id": "263c9d15",
   "metadata": {},
   "outputs": [
    {
     "name": "stdout",
     "output_type": "stream",
     "text": [
      "10204\n",
      "2\n"
     ]
    }
   ],
   "source": [
    "def countz(n):\n",
    "    if n<10:\n",
    "        if n==0:\n",
    "            return 1\n",
    "        else:\n",
    "            return 0\n",
    "    small=countz(n//10)\n",
    "    if n%10==0:\n",
    "        return small+1\n",
    "    else:\n",
    "        return small\n",
    "    \n",
    "from sys import setrecursionlimit\n",
    "setrecursionlimit(11000)\n",
    "n = int(input())\n",
    "print(countz(n))\n"
   ]
  },
  {
   "cell_type": "code",
   "execution_count": 34,
   "id": "c1e9cb90",
   "metadata": {},
   "outputs": [
    {
     "name": "stdout",
     "output_type": "stream",
     "text": [
      "0\n"
     ]
    }
   ],
   "source": [
    "def stringconverter(str):\n",
    "    if len(str)==0:\n",
    "        return 0\n",
    "    b=int(str[0])\n",
    "    print(b)\n",
    "    a=str[1:]\n",
    "    print(a)\n",
    "    output=stringconverter(a)+b*10**(len(str)-1)\n",
    "    return output\n",
    "\n",
    "str=\"0\"\n",
    "ans=stringconverter(str)\n",
    "print(ans)"
   ]
  },
  {
   "cell_type": "code",
   "execution_count": 2,
   "id": "4d93bbd7",
   "metadata": {},
   "outputs": [
    {
     "name": "stdout",
     "output_type": "stream",
     "text": [
      "<class 'int'>\n"
     ]
    }
   ],
   "source": [
    "str=\"1234\"\n",
    "b=int(str[0])\n",
    "print(type(b))"
   ]
  },
  {
   "cell_type": "code",
   "execution_count": 57,
   "id": "88b17890",
   "metadata": {},
   "outputs": [
    {
     "name": "stdout",
     "output_type": "stream",
     "text": [
      "llo\n",
      "o\n"
     ]
    },
    {
     "ename": "UnboundLocalError",
     "evalue": "local variable 'c' referenced before assignment",
     "output_type": "error",
     "traceback": [
      "\u001b[1;31m---------------------------------------------------------------------------\u001b[0m",
      "\u001b[1;31mUnboundLocalError\u001b[0m                         Traceback (most recent call last)",
      "Cell \u001b[1;32mIn[57], line 14\u001b[0m\n\u001b[0;32m     11\u001b[0m     \u001b[38;5;28;01mreturn\u001b[39;00m c\n\u001b[0;32m     13\u001b[0m \u001b[38;5;28mstr\u001b[39m\u001b[38;5;241m=\u001b[39m\u001b[38;5;124m\"\u001b[39m\u001b[38;5;124mhello\u001b[39m\u001b[38;5;124m\"\u001b[39m\n\u001b[1;32m---> 14\u001b[0m ans\u001b[38;5;241m=\u001b[39m\u001b[43mPairstar\u001b[49m\u001b[43m(\u001b[49m\u001b[38;5;28;43mstr\u001b[39;49m\u001b[43m)\u001b[49m\n\u001b[0;32m     15\u001b[0m \u001b[38;5;28mprint\u001b[39m(ans)\n",
      "Cell \u001b[1;32mIn[57], line 11\u001b[0m, in \u001b[0;36mPairstar\u001b[1;34m(str)\u001b[0m\n\u001b[0;32m      9\u001b[0m \u001b[38;5;28mprint\u001b[39m(a)\n\u001b[0;32m     10\u001b[0m Pairstar(a)\n\u001b[1;32m---> 11\u001b[0m \u001b[38;5;28;01mreturn\u001b[39;00m \u001b[43mc\u001b[49m\n",
      "\u001b[1;31mUnboundLocalError\u001b[0m: local variable 'c' referenced before assignment"
     ]
    }
   ],
   "source": [
    "def Pairstar(str):\n",
    "    if len(str)==1:\n",
    "        return str\n",
    "    \n",
    "    if str[0]==str[1]:\n",
    "        c = '*'.join(str[0:2])\n",
    "    \n",
    "    a=str[2:]\n",
    "    print(a)\n",
    "    Pairstar(a)\n",
    "    return c\n",
    "    \n",
    "str=\"hello\"\n",
    "ans=Pairstar(str)\n",
    "print(ans)\n",
    "        \n",
    "        "
   ]
  },
  {
   "cell_type": "code",
   "execution_count": 11,
   "id": "dde429ad",
   "metadata": {},
   "outputs": [
    {
     "name": "stdout",
     "output_type": "stream",
     "text": [
      "hello\n"
     ]
    },
    {
     "ename": "IndexError",
     "evalue": "string index out of range",
     "output_type": "error",
     "traceback": [
      "\u001b[1;31m---------------------------------------------------------------------------\u001b[0m",
      "\u001b[1;31mIndexError\u001b[0m                                Traceback (most recent call last)",
      "Cell \u001b[1;32mIn[11], line 5\u001b[0m\n\u001b[0;32m      2\u001b[0m c\u001b[38;5;241m=\u001b[39m\u001b[38;5;124m\"\u001b[39m\u001b[38;5;130;01m\\0\u001b[39;00m\u001b[38;5;124m\"\u001b[39m\n\u001b[0;32m      3\u001b[0m \u001b[38;5;28;01mwhile\u001b[39;00m \u001b[38;5;28mlen\u001b[39m(\u001b[38;5;28mstr\u001b[39m) \u001b[38;5;241m!=\u001b[39m \u001b[38;5;241m0\u001b[39m:\n\u001b[1;32m----> 5\u001b[0m     \u001b[38;5;28;01mif\u001b[39;00m \u001b[38;5;28mstr\u001b[39m[\u001b[38;5;241m0\u001b[39m]\u001b[38;5;241m==\u001b[39m\u001b[38;5;28;43mstr\u001b[39;49m\u001b[43m[\u001b[49m\u001b[38;5;241;43m1\u001b[39;49m\u001b[43m]\u001b[49m:\n\u001b[0;32m      6\u001b[0m         c \u001b[38;5;241m+\u001b[39m\u001b[38;5;241m=\u001b[39m\u001b[38;5;124m'\u001b[39m\u001b[38;5;124m*\u001b[39m\u001b[38;5;124m'\u001b[39m\u001b[38;5;241m.\u001b[39mjoin(\u001b[38;5;28mstr\u001b[39m[\u001b[38;5;241m0\u001b[39m:\u001b[38;5;241m2\u001b[39m])\n\u001b[0;32m      8\u001b[0m     \u001b[38;5;28;01melse\u001b[39;00m:\n",
      "\u001b[1;31mIndexError\u001b[0m: string index out of range"
     ]
    }
   ],
   "source": [
    "str=input()\n",
    "c=\"\\0\"\n",
    "while len(str) != 0:\n",
    "    \n",
    "    if str[0]==str[1]:\n",
    "        c +='*'.join(str[0:2])\n",
    "        \n",
    "    else:\n",
    "        c +=str[1]\n",
    "    str=str[1:]\n",
    "print(c)"
   ]
  },
  {
   "cell_type": "code",
   "execution_count": 6,
   "id": "f007fc33",
   "metadata": {},
   "outputs": [
    {
     "ename": "ValueError",
     "evalue": "invalid literal for int() with base 10: 'A'",
     "output_type": "error",
     "traceback": [
      "\u001b[1;31m---------------------------------------------------------------------------\u001b[0m",
      "\u001b[1;31mValueError\u001b[0m                                Traceback (most recent call last)",
      "Cell \u001b[1;32mIn[6], line 1\u001b[0m\n\u001b[1;32m----> 1\u001b[0m \u001b[38;5;28mstr\u001b[39m\u001b[38;5;241m=\u001b[39m\u001b[38;5;241m2\u001b[39m\u001b[38;5;241m+\u001b[39m\u001b[38;5;28;43mint\u001b[39;49m\u001b[43m(\u001b[49m\u001b[38;5;124;43m\"\u001b[39;49m\u001b[38;5;124;43mA\u001b[39;49m\u001b[38;5;124;43m\"\u001b[39;49m\u001b[43m)\u001b[49m\n\u001b[0;32m      2\u001b[0m \u001b[38;5;28mprint\u001b[39m(\u001b[38;5;28mstr\u001b[39m)\n",
      "\u001b[1;31mValueError\u001b[0m: invalid literal for int() with base 10: 'A'"
     ]
    }
   ],
   "source": [
    "str=2+int(\"A\")\n",
    "print(str)"
   ]
  },
  {
   "cell_type": "code",
   "execution_count": 26,
   "id": "40a29bf1",
   "metadata": {},
   "outputs": [
    {
     "name": "stdout",
     "output_type": "stream",
     "text": [
      "aaaa\n",
      "a*a*a*a\n"
     ]
    }
   ],
   "source": [
    "my_string=input()\n",
    "new_string=\"\"\n",
    "i=0\n",
    "while(i<len(my_string)-1):\n",
    "    new_string = new_string + my_string[i]\n",
    "    if(my_string[i] == my_string[i+1]):    \n",
    "        new_string += '*'\n",
    "    i+=1\n",
    "    \n",
    "    if len(my_string)-1==i:\n",
    "        new_string = new_string + my_string[i]\n",
    "        \n",
    "        \n",
    "print(new_string)"
   ]
  },
  {
   "cell_type": "code",
   "execution_count": 43,
   "id": "2f7fd424",
   "metadata": {},
   "outputs": [
    {
     "name": "stdout",
     "output_type": "stream",
     "text": [
      "h*e\n",
      "l*o\n",
      "None\n"
     ]
    }
   ],
   "source": [
    "def Pairstar(str):\n",
    "    if len(str)==1:\n",
    "        return str\n",
    "    \n",
    "    \n",
    "    if str[0]==str[1]:\n",
    "        \n",
    "        c='*'.join(str[])\n",
    "        print(c)\n",
    "        \n",
    "    a=str[1:]\n",
    "    output=Pairstar(a)\n",
    "    \n",
    "str=\"hhello\"\n",
    "ans=Pairstar(str)\n",
    "print(ans)"
   ]
  },
  {
   "cell_type": "code",
   "execution_count": 30,
   "id": "a51bab33",
   "metadata": {},
   "outputs": [
    {
     "name": "stdout",
     "output_type": "stream",
     "text": [
      "aaaa\n",
      "a*a*a*a\n"
     ]
    }
   ],
   "source": [
    "my_string=input()\n",
    "new_string=\"\"\n",
    "i=0\n",
    "for i in range(0,len(my_string)-1):\n",
    "    new_string = new_string + my_string[i]\n",
    "    if(my_string[i] == my_string[i+1]):    \n",
    "        new_string += '*'\n",
    "    if len(my_string)-1==i+1:\n",
    "        new_string = new_string + my_string[i+1]\n",
    "print(new_string)"
   ]
  },
  {
   "cell_type": "markdown",
   "id": "d9b00b2a",
   "metadata": {},
   "source": [
    "### pairstar"
   ]
  },
  {
   "cell_type": "code",
   "execution_count": 2,
   "id": "e4d3c1c3",
   "metadata": {},
   "outputs": [
    {
     "name": "stdout",
     "output_type": "stream",
     "text": [
      "h*hel*lo\n"
     ]
    }
   ],
   "source": [
    "def pairStar(Input, Output, i = 0) :\n",
    "     \n",
    "    # Append current character\n",
    "    Output = Output + Input[i]\n",
    " \n",
    "    # If we reached last character\n",
    "    if (i == len(Input) - 1) :\n",
    "        print(Output)\n",
    "        return;\n",
    " \n",
    "    # If next character is same,\n",
    "    # append '*'\n",
    "    if (Input[i] == Input[i + 1]) :\n",
    "        Output = Output + '*';\n",
    " \n",
    "    pairStar(Input, Output, i + 1);\n",
    " \n",
    "# Driver code\n",
    "Input = \"hhello\"\n",
    "Output = \"\"\n",
    "pairStar(Input, Output);"
   ]
  },
  {
   "cell_type": "code",
   "execution_count": 9,
   "id": "0cbea999",
   "metadata": {},
   "outputs": [
    {
     "name": "stdout",
     "output_type": "stream",
     "text": [
      "A*A*A*A\n"
     ]
    }
   ],
   "source": [
    "def pairStar(Input, Output):\n",
    " \n",
    "\n",
    "    if len(Input)==1 :\n",
    "        print(Output+Input[-1])\n",
    "        return;\n",
    "    \n",
    "    Output = Output + Input[0]\n",
    "    if (Input[0] == Input[1]) :\n",
    "        Output = Output + '*'\n",
    "    \n",
    "    a=Input[1:]\n",
    "    pairStar(a, Output)\n",
    " \n",
    "\n",
    "Input = \"AAAA\"\n",
    "Output = \"\"\n",
    "pairStar(Input, Output)"
   ]
  },
  {
   "cell_type": "markdown",
   "id": "3994696d",
   "metadata": {},
   "source": [
    "### checkAB"
   ]
  },
  {
   "cell_type": "code",
   "execution_count": 27,
   "id": "b3e04ffe",
   "metadata": {},
   "outputs": [
    {
     "name": "stdout",
     "output_type": "stream",
     "text": [
      "true\n"
     ]
    }
   ],
   "source": [
    "def checkAB(str):\n",
    "    if len(str) == 0:\n",
    "        return True\n",
    "    if len(str) == 1:\n",
    "        if str == 'a':\n",
    "            return True\n",
    "        else:\n",
    "            return False\n",
    "    if str[0] == 'a':\n",
    "        return checkAB(str[1:])\n",
    "    elif str[0] == 'b':\n",
    "        if str[1] == 'b':\n",
    "            return checkAB(str[2:])\n",
    "        else:\n",
    "            return False\n",
    "    else:\n",
    "        return False\n",
    "    \n",
    "str='abba'\n",
    "ans=checkAB(str)\n",
    "if ans:\n",
    "    print('true')\n",
    "    \n",
    "else:\n",
    "    print('false')\n",
    "    "
   ]
  },
  {
   "cell_type": "code",
   "execution_count": 1,
   "id": "3e155ced",
   "metadata": {},
   "outputs": [
    {
     "name": "stdout",
     "output_type": "stream",
     "text": [
      "abbaa\n",
      "true\n"
     ]
    }
   ],
   "source": [
    "def checkAB(str1):\n",
    "    if (len(str1) == 0):\n",
    "        return True\n",
    "\n",
    "    if (str1[0] == 'a'):\n",
    "        if (len(str1[1:]) > 1 and str1[1:3] == 'bb'):\n",
    "            return checkAB(str1[3:])\n",
    "        else:\n",
    "            return checkAB(str1[1:])\n",
    "    else:\n",
    "        return False\n",
    "    \n",
    "str1=input()\n",
    "ans=checkAB(str1)\n",
    "if ans:\n",
    "    print('true')\n",
    "    \n",
    "else:\n",
    "    print('false')"
   ]
  },
  {
   "cell_type": "code",
   "execution_count": 17,
   "id": "9e2f13b5",
   "metadata": {},
   "outputs": [
    {
     "name": "stdout",
     "output_type": "stream",
     "text": [
      "4\n",
      "7\n"
     ]
    }
   ],
   "source": [
    "def staircase(n):\n",
    "    if ( n == 0 ):\n",
    "        return 1\n",
    "    elif (n < 0):\n",
    "        return 0\n",
    "    \n",
    "    else:\n",
    "        return staircase(n-1)+staircase(n-2)+staircase(n-3)\n",
    "\n",
    "n=int(input())\n",
    "ans=staircase(n)\n",
    "print(ans)\n",
    "    "
   ]
  },
  {
   "cell_type": "code",
   "execution_count": 9,
   "id": "2da5464d",
   "metadata": {},
   "outputs": [
    {
     "name": "stdout",
     "output_type": "stream",
     "text": [
      "7\n"
     ]
    }
   ],
   "source": [
    "def findStep(n):\n",
    "    if ( n == 0 ):\n",
    "        return 1\n",
    "    elif (n < 0):\n",
    "        return 0\n",
    " \n",
    "    else:\n",
    "        return findStep(n - 3) + findStep(n - 2) + findStep(n - 1)\n",
    " \n",
    " \n",
    "# Driver code\n",
    "n = 4\n",
    "print(findStep(n))"
   ]
  },
  {
   "cell_type": "code",
   "execution_count": null,
   "id": "615590ca",
   "metadata": {},
   "outputs": [],
   "source": []
  }
 ],
 "metadata": {
  "kernelspec": {
   "display_name": "Python 3 (ipykernel)",
   "language": "python",
   "name": "python3"
  },
  "language_info": {
   "codemirror_mode": {
    "name": "ipython",
    "version": 3
   },
   "file_extension": ".py",
   "mimetype": "text/x-python",
   "name": "python",
   "nbconvert_exporter": "python",
   "pygments_lexer": "ipython3",
   "version": "3.10.7"
  }
 },
 "nbformat": 4,
 "nbformat_minor": 5
}
