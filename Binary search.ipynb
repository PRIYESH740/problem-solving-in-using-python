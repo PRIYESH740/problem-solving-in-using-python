{
 "cells": [
  {
   "cell_type": "code",
   "execution_count": 3,
   "id": "13d6a2b5-f93c-4c2b-8ff9-853c3e3e26e5",
   "metadata": {},
   "outputs": [
    {
     "name": "stdin",
     "output_type": "stream",
     "text": [
      " 10\n"
     ]
    },
    {
     "name": "stdout",
     "output_type": "stream",
     "text": [
      "-1\n"
     ]
    }
   ],
   "source": [
    "def binarySearch(arr,n,x):\n",
    "    s=0\n",
    "    e=n-1\n",
    "    mid=s+(e-s)//2\n",
    "    while s<=e:\n",
    "        if arr[mid]==x:\n",
    "            return mid\n",
    "        elif arr[mid]>x:\n",
    "            e=mid-1\n",
    "        else:\n",
    "            s=mid+1\n",
    "        mid=s+(e-s)//2\n",
    "    return -1\n",
    "\n",
    "x=int(input())\n",
    "arr=[9,10,10,2,8,6,6,11,2,1,8]\n",
    "n=11\n",
    "a=binarySearch(arr,n,x)\n",
    "print(a)\n",
    "        "
   ]
  },
  {
   "cell_type": "code",
   "execution_count": null,
   "id": "cbade8d6",
   "metadata": {},
   "outputs": [],
   "source": []
  },
  {
   "cell_type": "code",
   "execution_count": 2,
   "id": "0dcafc3b",
   "metadata": {},
   "outputs": [
    {
     "name": "stdin",
     "output_type": "stream",
     "text": [
      " 12\n"
     ]
    },
    {
     "name": "stdout",
     "output_type": "stream",
     "text": [
      "5\n"
     ]
    }
   ],
   "source": [
    "def binarySearch(arr,n,x): \n",
    "    s=0 \n",
    "    e=n-1 \n",
    "    mid=s+(e-s)//2   \n",
    "    while s<=e: \n",
    "        if arr[mid]==x: \n",
    "            return mid \n",
    "        elif arr[mid]>x: \n",
    "            e=mid-1 \n",
    "        else: \n",
    "            s=mid+1 \n",
    "        mid=s+(e-s)//2 \n",
    "    return -1\n",
    "\n",
    "# in binary search the necesary condition will be sorted list\n",
    "x=int(input()) \n",
    "arr=[1, 3, 7, 9, 11, 12, 45] \n",
    "n=7 \n",
    "a=binarySearch(arr,n,x) \n",
    "print(a)"
   ]
  },
  {
   "cell_type": "code",
   "execution_count": null,
   "id": "793ae455",
   "metadata": {},
   "outputs": [],
   "source": [
    "def binarySearch(arr,n,x): \n",
    "    s=0 \n",
    "    e=n-1 \n",
    "    mid=s+(e-s)//2   \n",
    "    while s<=e: \n",
    "        if arr[mid]==x:\n",
    "            for i in range(mid,0,-1):\n",
    "                \n",
    "            return mid \n",
    "        elif arr[mid]>x: \n",
    "            e=mid-1 \n",
    "        else: \n",
    "            s=mid+1 \n",
    "        mid=s+(e-s)//2 \n",
    "    return -1\n",
    "\n",
    "# in binary search the necesary condition will be sorted list\n",
    "x=int(input()) \n",
    "arr=[1, 2, 2, 3, 3, 3, 4, 8, 9, 19, 19, 19] \n",
    "n=12 \n",
    "a=binarySearch(arr,n,x) \n",
    "print(a)"
   ]
  },
  {
   "cell_type": "markdown",
   "id": "4d914b1d",
   "metadata": {},
   "source": [
    "### seletion sort"
   ]
  },
  {
   "cell_type": "code",
   "execution_count": 2,
   "id": "853eb383",
   "metadata": {},
   "outputs": [
    {
     "name": "stdout",
     "output_type": "stream",
     "text": [
      "[3, 4, 5, 9, 13]\n"
     ]
    }
   ],
   "source": [
    "def selectionSort(arr, n) :\n",
    "    for i in range(n-1):\n",
    "        min=i\n",
    "        for j in range(i+1,n):\n",
    "            if arr[j]<arr[min]:\n",
    "                min=j\n",
    "        arr[i],arr[min]=arr[min],arr[i]\n",
    "        \n",
    "        \n",
    "arr=[13,4,9,5,3] \n",
    "n=len(arr)\n",
    "selectionSort(arr, n)\n",
    "print(arr)\n"
   ]
  },
  {
   "cell_type": "markdown",
   "id": "5e717042",
   "metadata": {},
   "source": [
    "### Bubble sort"
   ]
  },
  {
   "cell_type": "code",
   "execution_count": 21,
   "id": "2b78d254",
   "metadata": {},
   "outputs": [
    {
     "name": "stdout",
     "output_type": "stream",
     "text": [
      "[1, 13, 4, 2, 3, 6, 28]\n",
      "[1, 4, 13, 2, 3, 6, 28]\n",
      "[1, 2, 13, 4, 3, 6, 28]\n",
      "[1, 2, 4, 13, 3, 6, 28]\n",
      "[1, 2, 3, 13, 4, 6, 28]\n",
      "[1, 2, 3, 4, 13, 6, 28]\n",
      "[1, 2, 3, 4, 6, 13, 28]\n",
      "[1, 2, 3, 4, 6, 13, 28]\n"
     ]
    }
   ],
   "source": [
    "def bubbleSort(arr: [int], size: int):\n",
    "    for i in range(size-1):\n",
    "        for j in range(i+1,size):\n",
    "            if arr[i]>arr[j]:\n",
    "                arr[i],arr[j]=arr[j],arr[i]\n",
    "                print(arr)\n",
    "            \n",
    "                \n",
    "    \n",
    "\n",
    "arr=[2, 13, 4, 1, 3, 6, 28] \n",
    "#arr=[9,3,6,2,0]\n",
    "size=len(arr)\n",
    "bubbleSort(arr, size)\n",
    "print(arr)\n",
    "    \n"
   ]
  },
  {
   "cell_type": "code",
   "execution_count": 22,
   "id": "2af54fc8",
   "metadata": {},
   "outputs": [
    {
     "name": "stdout",
     "output_type": "stream",
     "text": [
      "[2, 4, 13, 1, 3, 6, 28]\n",
      "[2, 4, 1, 13, 3, 6, 28]\n",
      "[2, 4, 1, 3, 13, 6, 28]\n",
      "[2, 4, 1, 3, 6, 13, 28]\n",
      "[2, 1, 4, 3, 6, 13, 28]\n",
      "[2, 1, 3, 4, 6, 13, 28]\n",
      "[1, 2, 3, 4, 6, 13, 28]\n",
      "[1, 2, 3, 4, 6, 13, 28]\n"
     ]
    }
   ],
   "source": [
    "def bubbleSort(arr: [int], size: int):\n",
    "    for i in range(size-1):\n",
    "        for j in range(size-1):\n",
    "            if arr[j]>arr[j+1]:\n",
    "                arr[j],arr[j+1]=arr[j+1],arr[j]\n",
    "                print(arr)\n",
    "            \n",
    "                \n",
    "    \n",
    "\n",
    "arr=[2, 13, 4, 1, 3, 6, 28] \n",
    "#arr=[9,3,6,2,0]\n",
    "size=len(arr)\n",
    "bubbleSort(arr, size)\n",
    "print(arr)"
   ]
  },
  {
   "cell_type": "code",
   "execution_count": 4,
   "id": "aaf09b39",
   "metadata": {},
   "outputs": [
    {
     "name": "stdout",
     "output_type": "stream",
     "text": [
      "[3, 9, 6, 2, 0]\n",
      "[3, 6, 9, 2, 0]\n",
      "[3, 6, 2, 9, 0]\n",
      "[3, 6, 2, 0, 9]\n",
      "[3, 2, 6, 0, 9]\n",
      "[3, 2, 0, 6, 9]\n",
      "[2, 3, 0, 6, 9]\n",
      "[2, 0, 3, 6, 9]\n",
      "[0, 2, 3, 6, 9]\n",
      "[0, 2, 3, 6, 9]\n"
     ]
    }
   ],
   "source": [
    "def bubbleSort(arr: [int], size: int):\n",
    "    for i in range(size-1):\n",
    "        for j in range(size-1-i):\n",
    "            if arr[j]>arr[j+1]:\n",
    "                arr[j],arr[j+1]=arr[j+1],arr[j]\n",
    "                print(arr)\n",
    "            \n",
    "                \n",
    "    \n",
    "\n",
    "#arr=[2, 13, 4, 1, 3, 6, 28] \n",
    "arr=[9,3,6,2,0]\n",
    "size=len(arr)\n",
    "bubbleSort(arr, size)\n",
    "print(arr)"
   ]
  },
  {
   "cell_type": "code",
   "execution_count": 1,
   "id": "de69643f",
   "metadata": {},
   "outputs": [
    {
     "name": "stdout",
     "output_type": "stream",
     "text": [
      "[0, 2, 3, 6, 9]\n"
     ]
    }
   ],
   "source": [
    "def insertionSort(arr: [int], size: int):\n",
    "    for i in range(1,size):\n",
    "        key=arr[i]\n",
    "        j=i-1\n",
    "        while j>=0 and key<arr[j]:\n",
    "            arr[j+1]=arr[j] \n",
    "            j =j-1\n",
    "        arr[j+1]=key\n",
    "            \n",
    "                \n",
    "    \n",
    "\n",
    "#arr=[2, 13, 4, 1, 3, 6, 28] \n",
    "arr=[9,3,6,2,0]\n",
    "size=len(arr)\n",
    "insertionSort(arr, size)\n",
    "print(arr)"
   ]
  },
  {
   "cell_type": "markdown",
   "id": "8cf6729e",
   "metadata": {},
   "source": [
    "### merge the two array"
   ]
  },
  {
   "cell_type": "code",
   "execution_count": 7,
   "id": "e4e845ff",
   "metadata": {},
   "outputs": [
    {
     "name": "stdout",
     "output_type": "stream",
     "text": [
      "[1, 3, 4, 9, 11, 13, 67, 7, 11]\n"
     ]
    }
   ],
   "source": [
    "def merge(a1, a2):\n",
    "    i=0\n",
    "    j=0\n",
    "    arr3=[]\n",
    "    while i<len(a1) and j<len(a2):\n",
    "            if a1[i]<a2[j]:\n",
    "                arr3.append(a1[i])\n",
    "                i +=1\n",
    "            else:\n",
    "                arr3.append(a2[j])\n",
    "                j +=1\n",
    "        \n",
    "                \n",
    "    while i<len(a1):\n",
    "        arr3.append(a1[i])\n",
    "        i +=1\n",
    "\n",
    "    while j<len(a2):\n",
    "        arr3.append(a2[j])\n",
    "        j +=1\n",
    "        \n",
    "    return arr3\n",
    "\n",
    "a1=[1,3,67,7,11] \n",
    "a2=[4,9,11,13]\n",
    "arr=merge(a1,a2)\n",
    "print(arr)\n",
    "                "
   ]
  },
  {
   "cell_type": "code",
   "execution_count": 4,
   "id": "a538cbc9",
   "metadata": {},
   "outputs": [],
   "source": [
    "def merge(arr1, n, arr2, m):\n",
    "    arr3=[]\n",
    "    \n",
    "    for i in range(n):\n",
    "        for j in range(m):\n",
    "            for k in range(n*m)\n",
    "            if arr1[i]<arr2[j]:\n",
    "                arr3[k]=arr1[i]\n",
    "                break\n",
    "            elif arr1[i]>arr2[j] or arr1[i]==arr2[j]:\n",
    "                arr3[k]=arr2[j]\n",
    "            else:\n",
    "                arr3[k]=arr2[j]\n",
    "            \n",
    "            \n",
    "                \n",
    "    return arr3\n",
    "\n",
    "arr1=[1,3,4,7,11] \n",
    "arr2=[4,9,11,13]\n",
    "n=len(arr1)\n",
    "m=len(arr2)\n",
    "arr=merge(arr1,n,arr2,m)\n",
    "print(arr)"
   ]
  },
  {
   "cell_type": "code",
   "execution_count": 2,
   "id": "bca6ff1a",
   "metadata": {},
   "outputs": [
    {
     "ename": "IndexError",
     "evalue": "list assignment index out of range",
     "output_type": "error",
     "traceback": [
      "\u001b[1;31m---------------------------------------------------------------------------\u001b[0m",
      "\u001b[1;31mIndexError\u001b[0m                                Traceback (most recent call last)",
      "Cell \u001b[1;32mIn[2], line 12\u001b[0m\n\u001b[0;32m     10\u001b[0m n\u001b[38;5;241m=\u001b[39m\u001b[38;5;28mlen\u001b[39m(arr1)\n\u001b[0;32m     11\u001b[0m m\u001b[38;5;241m=\u001b[39m\u001b[38;5;28mlen\u001b[39m(arr2)\n\u001b[1;32m---> 12\u001b[0m arr\u001b[38;5;241m=\u001b[39m\u001b[43mmerge\u001b[49m\u001b[43m(\u001b[49m\u001b[43marr1\u001b[49m\u001b[43m,\u001b[49m\u001b[43mn\u001b[49m\u001b[43m,\u001b[49m\u001b[43marr2\u001b[49m\u001b[43m,\u001b[49m\u001b[43mm\u001b[49m\u001b[43m)\u001b[49m\n\u001b[0;32m     13\u001b[0m \u001b[38;5;28mprint\u001b[39m(arr)\n",
      "Cell \u001b[1;32mIn[2], line 3\u001b[0m, in \u001b[0;36mmerge\u001b[1;34m(arr1, n, arr2, m)\u001b[0m\n\u001b[0;32m      1\u001b[0m \u001b[38;5;28;01mdef\u001b[39;00m \u001b[38;5;21mmerge\u001b[39m(arr1, n, arr2, m):\n\u001b[0;32m      2\u001b[0m     \u001b[38;5;28;01mfor\u001b[39;00m i \u001b[38;5;129;01min\u001b[39;00m \u001b[38;5;28mrange\u001b[39m(n):\n\u001b[1;32m----> 3\u001b[0m         \u001b[43marr1\u001b[49m\u001b[43m[\u001b[49m\u001b[43mi\u001b[49m\u001b[38;5;241;43m+\u001b[39;49m\u001b[43mm\u001b[49m\u001b[43m]\u001b[49m\u001b[38;5;241m=\u001b[39marr2[i]\n\u001b[0;32m      5\u001b[0m     arr1\u001b[38;5;241m.\u001b[39msort()\n\u001b[0;32m      6\u001b[0m     \u001b[38;5;28;01mreturn\u001b[39;00m arr1\n",
      "\u001b[1;31mIndexError\u001b[0m: list assignment index out of range"
     ]
    }
   ],
   "source": [
    "def merge(arr1, n, arr2, m):\n",
    "    for i in range(n):\n",
    "        arr1[i+m]=arr2[i]\n",
    "        \n",
    "    arr1.sort()\n",
    "    return arr1\n",
    "\n",
    "arr1=[1,3,4,7,11] \n",
    "arr2=[4,9,11,13]\n",
    "n=len(arr1)\n",
    "m=len(arr2)\n",
    "arr=merge(arr1,n,arr2,m)\n",
    "print(arr)"
   ]
  },
  {
   "cell_type": "code",
   "execution_count": 8,
   "id": "e6787e21",
   "metadata": {},
   "outputs": [
    {
     "name": "stdout",
     "output_type": "stream",
     "text": [
      "[1, 2, 3, 4, 6, 13, 67, 7, 11]\n"
     ]
    }
   ],
   "source": [
    "def merge(arr1, n, arr2, m):\n",
    "    merged_array = []\n",
    "    i = 0  # Pointer for arr1\n",
    "    j = 0  # Pointer for arr2\n",
    "\n",
    "    while i < n and j < m:\n",
    "        if arr1[i] < arr2[j]:\n",
    "            merged_array.append(arr1[i])\n",
    "            i += 1\n",
    "        else:\n",
    "            merged_array.append(arr2[j])\n",
    "            j += 1\n",
    "\n",
    "    # Append the remaining elements of arr1, if any\n",
    "    while i < n:\n",
    "        merged_array.append(arr1[i])\n",
    "        i += 1\n",
    "\n",
    "    # Append the remaining elements of arr2, if any\n",
    "    while j < m:\n",
    "        merged_array.append(arr2[j])\n",
    "        j += 1\n",
    "\n",
    "    return merged_array\n",
    "\n",
    "# Example usage\n",
    "arr1=[1,3,67,7,11] \n",
    "arr2=[2,4,6,13]\n",
    "n=len(arr1)\n",
    "m=len(arr2)\n",
    "merged = merge(arr1,n, arr2,m)\n",
    "print(merged)\n"
   ]
  },
  {
   "cell_type": "code",
   "execution_count": null,
   "id": "33d240b7",
   "metadata": {},
   "outputs": [],
   "source": [
    "def mergeArray(a1,a2,debug=False):\n",
    "    i,j=0,0\n",
    "    len1,len2 =len(a1),len(a2)\n",
    "    new_array=[]\n",
    "    \n",
    "    while i<len1 and j<len2:\n",
    "        "
   ]
  },
  {
   "cell_type": "code",
   "execution_count": 3,
   "id": "4f18e5be",
   "metadata": {},
   "outputs": [
    {
     "name": "stdout",
     "output_type": "stream",
     "text": [
      "1\n"
     ]
    }
   ],
   "source": [
    "print(3//2)"
   ]
  },
  {
   "cell_type": "code",
   "execution_count": 13,
   "id": "ba9c01dd-8f6a-4e26-9e6a-7789e1130628",
   "metadata": {},
   "outputs": [
    {
     "name": "stdin",
     "output_type": "stream",
     "text": [
      " 1 3 11 9\n",
      " 12 3 4 5 6 \n"
     ]
    },
    {
     "name": "stdout",
     "output_type": "stream",
     "text": [
      "[1, 3, 11, 9, 12, 3, 4, 5, 6]\n"
     ]
    }
   ],
   "source": [
    "from sys import stdin\n",
    "def merge(arr1, arr2): \n",
    "    ans = (len(arr1) + len(arr2)) * [0]\n",
    "    i = 0 \n",
    "    j = 0 \n",
    "    k = 0\n",
    "    while i < len(arr1) and j < len(arr2) :\n",
    "        if arr1[i] < arr2[j] :\n",
    "            ans[k] = arr1[i]\n",
    "            k += 1 \n",
    "            i += 1 \n",
    "        else : \n",
    "            ans[k] = arr2[j] \n",
    "            k += 1 \n",
    "            j += 1 \n",
    "    while i < len(arr1):\n",
    "        ans[k] = arr1[i]\n",
    "        k += 1\n",
    "        i += 1\n",
    "    while j < len(arr2):\n",
    "        ans[k] = arr2[j]\n",
    "        k += 1\n",
    "        j += 1\n",
    "    return ans \n",
    "\n",
    "\n",
    "    \n",
    "arr1=list(int(i) for i in input().strip().split(' '))\n",
    "arr2=list(int(i) for i in input().strip().split(' '))\n",
    "ans=merge(arr1,arr2)\n",
    "print(ans)\n",
    " "
   ]
  },
  {
   "cell_type": "code",
   "execution_count": 3,
   "id": "3463fe61-8457-4c8d-908c-e246cc17c4b6",
   "metadata": {},
   "outputs": [
    {
     "name": "stdin",
     "output_type": "stream",
     "text": [
      " 34 23 11 39 7\n"
     ]
    },
    {
     "name": "stdout",
     "output_type": "stream",
     "text": [
      "[34] [23]\n",
      "[39] [7]\n",
      "[11] [39, 7]\n",
      "[34, 23] [11, 39, 7]\n",
      "[11, 34, 23, 39, 7]\n"
     ]
    }
   ],
   "source": [
    "from sys import stdin\n",
    "def mergesort(arr2):\n",
    "    if len(arr2)==0 or len(arr2)==1:\n",
    "        return -1\n",
    "        \n",
    "    mid=len(arr2)//2\n",
    "    a1=arr2[:mid]\n",
    "    a2=arr2[mid:]\n",
    "\n",
    "    mergesort(a1)\n",
    "    mergesort(a2)\n",
    "    output=merge(a1,a2,arr2)\n",
    "    return output\n",
    "\n",
    "\n",
    "\n",
    "def merge(a1, a2,arr2):\n",
    "    print(a1,a2)\n",
    "    arr2 = (len(a1) + len(a2)) * [0]\n",
    "    i = 0 \n",
    "    j = 0 \n",
    "    k = 0\n",
    "    while i < len(a1) and j < len(a2) :\n",
    "        if a1[i] < a2[j] :\n",
    "            arr2[k] = a1[i]\n",
    "            k += 1 \n",
    "            i += 1 \n",
    "        else : \n",
    "            arr2[k] = a2[j] \n",
    "            k += 1 \n",
    "            j += 1 \n",
    "    while i < len(a1):\n",
    "        arr2[k] = a1[i]\n",
    "        k += 1\n",
    "        i += 1\n",
    "    while j < len(a2):\n",
    "        arr2[k] = a2[j]\n",
    "        k += 1\n",
    "        j += 1\n",
    "    return arr2\n",
    "\n",
    "\n",
    "    \n",
    "#arr1=list(int(i) for i in input().strip().split(' '))\n",
    "arr2=list(int(i) for i in input().strip().split(' '))\n",
    "ans=mergesort(arr2)\n",
    "print(ans)\n",
    " "
   ]
  },
  {
   "cell_type": "code",
   "execution_count": null,
   "id": "85399ed2-d9f6-4696-b374-a166c852060d",
   "metadata": {},
   "outputs": [],
   "source": []
  }
 ],
 "metadata": {
  "kernelspec": {
   "display_name": "Python 3 (ipykernel)",
   "language": "python",
   "name": "python3"
  },
  "language_info": {
   "codemirror_mode": {
    "name": "ipython",
    "version": 3
   },
   "file_extension": ".py",
   "mimetype": "text/x-python",
   "name": "python",
   "nbconvert_exporter": "python",
   "pygments_lexer": "ipython3",
   "version": "3.11.5"
  }
 },
 "nbformat": 4,
 "nbformat_minor": 5
}
