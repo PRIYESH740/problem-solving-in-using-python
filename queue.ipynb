{
 "cells": [
  {
   "cell_type": "markdown",
   "id": "217b5b18-1fa5-4a6d-9da8-0c19f249cd8c",
   "metadata": {},
   "source": [
    "### Queue using array"
   ]
  },
  {
   "cell_type": "code",
   "execution_count": 3,
   "id": "9760bde6-22c8-405e-965e-9967fbd66ed1",
   "metadata": {},
   "outputs": [],
   "source": [
    "class Queue:\n",
    "    def __init__(self):\n",
    "        self.__arr = []\n",
    "        self.__count = 0\n",
    "        self.__front = 0\n",
    "    def enqueue(self, data):\n",
    "        self.__arr.append(data)\n",
    "        self.__count+=1\n",
    "    def dequeue(self):\n",
    "        if self.__count == 0:\n",
    "            return -1\n",
    "        element = self.__arr[self.__front]\n",
    "        self.__front += 1\n",
    "        self.__count -= 1\n",
    "        return element\n",
    "    def front(self):\n",
    "        if self.__count == 0:\n",
    "            return -1\n",
    "        return self.__arr[self.__front]\n",
    "    def size(self):\n",
    "        return self.__count\n",
    "    def isEmpty(self):\n",
    "        return self.size()==0"
   ]
  },
  {
   "cell_type": "code",
   "execution_count": 4,
   "id": "2e8f98f9-cce7-4d89-b02b-e62bce762557",
   "metadata": {},
   "outputs": [
    {
     "name": "stdout",
     "output_type": "stream",
     "text": [
      "3\n",
      "15\n",
      "10\n",
      "20\n",
      "-1\n",
      "True\n"
     ]
    }
   ],
   "source": [
    "s=Queue()\n",
    "s.enqueue(15)\n",
    "s.enqueue(10)\n",
    "s.enqueue(20)\n",
    "\n",
    "print(s.size())\n",
    "while s.isEmpty() is False:\n",
    "    print(s.dequeue())\n",
    "print(s.front())\n",
    "print(s.isEmpty())"
   ]
  },
  {
   "cell_type": "markdown",
   "id": "6634bb99-51bb-4af6-9132-5c53820f98bd",
   "metadata": {},
   "source": [
    "### Queue using linked list"
   ]
  },
  {
   "cell_type": "code",
   "execution_count": 5,
   "id": "e46b6a66-34e6-4954-a415-35be2ae47e2e",
   "metadata": {},
   "outputs": [],
   "source": [
    "class Node:\n",
    "    def __init__(self,data):\n",
    "        self.data=data\n",
    "        self.next=None\n",
    "        \n",
    "class Queue:\n",
    "    def __init__(self):\n",
    "        self.__head=None\n",
    "        self.__tail=None\n",
    "        self.__count=0\n",
    "    def enqueue(self,data):\n",
    "        newnode=Node(data)\n",
    "        if self.__head is None:\n",
    "            self.__head=newnode\n",
    "            self.__tail=newnode\n",
    "            self.__count +=1\n",
    "        else:\n",
    "            self.__tail.next=newnode\n",
    "            self.__tail=newnode\n",
    "            self.__count +=1\n",
    "    def dequeue(self):\n",
    "        if self.__count==0:\n",
    "            return -1\n",
    "        data=self.__head.data\n",
    "        self.__head=self.__head.next\n",
    "        self.__count -=1\n",
    "        return data\n",
    "    def front(self):\n",
    "        if self.__count==0:\n",
    "            return -1\n",
    "        return self.__head.data\n",
    "    def size(self):\n",
    "        return self.__count\n",
    "    def isEmpty(self):\n",
    "        return self.size()==0\n",
    "        \n",
    "        \n",
    "        "
   ]
  },
  {
   "cell_type": "code",
   "execution_count": 6,
   "id": "4bb3a7b4-85be-4c81-9776-1c9ec7ce5a2a",
   "metadata": {},
   "outputs": [
    {
     "name": "stdout",
     "output_type": "stream",
     "text": [
      "3\n",
      "15\n",
      "10\n",
      "20\n",
      "-1\n",
      "True\n"
     ]
    }
   ],
   "source": [
    "s=Queue()\n",
    "s.enqueue(15)\n",
    "s.enqueue(10)\n",
    "s.enqueue(20)\n",
    "\n",
    "print(s.size())\n",
    "while s.isEmpty() is False:\n",
    "    print(s.dequeue())\n",
    "print(s.front())\n",
    "print(s.isEmpty())"
   ]
  },
  {
   "cell_type": "markdown",
   "id": "edf92d7a-6841-458f-a0f4-ba4b75d2badf",
   "metadata": {},
   "source": [
    "### using queue library"
   ]
  },
  {
   "cell_type": "code",
   "execution_count": 7,
   "id": "26118555-8bf4-4c1f-9c02-a793608e0832",
   "metadata": {},
   "outputs": [
    {
     "name": "stdout",
     "output_type": "stream",
     "text": [
      "1\n",
      "2\n",
      "3\n",
      "4\n"
     ]
    }
   ],
   "source": [
    "#inbuilt queue\n",
    "import queue\n",
    "q=queue.Queue()\n",
    "q.put(1)\n",
    "q.put(2)\n",
    "q.put(3)\n",
    "q.put(4)\n",
    "while not q.empty():\n",
    "    print(q.get())"
   ]
  },
  {
   "cell_type": "code",
   "execution_count": 9,
   "id": "686ee49e-de0f-40cc-8586-2a3033a9ebdb",
   "metadata": {},
   "outputs": [
    {
     "name": "stdout",
     "output_type": "stream",
     "text": [
      "5\n",
      "4\n"
     ]
    }
   ],
   "source": [
    "#inbuilt stack as list\n",
    "s=[1,2,3]\n",
    "s.append(4)\n",
    "s.append(5)\n",
    "print(s.pop())\n",
    "print(s.pop())"
   ]
  },
  {
   "cell_type": "markdown",
   "id": "fd8c997c-db14-450e-8ced-506b69e485fd",
   "metadata": {},
   "source": [
    "### inbuilt queue as LifoQueue"
   ]
  },
  {
   "cell_type": "code",
   "execution_count": 12,
   "id": "e9e0ca65-a893-407a-b643-1357c2d61722",
   "metadata": {},
   "outputs": [
    {
     "name": "stdout",
     "output_type": "stream",
     "text": [
      "4\n",
      "3\n",
      "2\n",
      "1\n"
     ]
    }
   ],
   "source": [
    "import queue\n",
    "qu=queue.LifoQueue()\n",
    "qu.put(1)\n",
    "qu.put(2)\n",
    "qu.put(3)\n",
    "qu.put(4)\n",
    "while not qu.empty():\n",
    "    print(qu.get())\n"
   ]
  },
  {
   "cell_type": "markdown",
   "id": "0bfd7f28-d06f-472b-8957-6d725303561f",
   "metadata": {},
   "source": [
    "### queue using two stack in this enqueue is O(1)but dequeue is O(n)"
   ]
  },
  {
   "cell_type": "code",
   "execution_count": 13,
   "id": "08d1de4f-673e-4afc-bb93-3709ef5919da",
   "metadata": {},
   "outputs": [],
   "source": [
    "from os import *\n",
    "from sys import *\n",
    "from collections import *\n",
    "from math import *\n",
    "\n",
    "class Queue:\n",
    "    # Stacks to be used in the operations.\n",
    "    def __init__(self):\n",
    "        self.stk1 = []\n",
    "        self.stk2 = []\n",
    "\n",
    "    # Enqueues 'X' into the queue. Returns true after enqueuing.\n",
    "    def enqueue(self, X):\n",
    "        self.stk1.append(X)\n",
    "        return True \n",
    "\n",
    "    \"\"\"\n",
    "      Dequeues top element from queue. Returns -1 if the queue is empty, \n",
    "      otherwise returns the popped element.\n",
    "    \"\"\"\n",
    "    def dequeue(self):\n",
    "        if len(self.stk1)==0:\n",
    "            return -1\n",
    "        while len(self.stk1)!=1:\n",
    "            ele=self.stk1.pop()\n",
    "            self.stk2.append(ele)\n",
    "        data=self.stk1.pop()\n",
    "        while len(self.stk2)!=0:\n",
    "            ele=self.stk2.pop()\n",
    "            self.stk1.append(ele)\n",
    "        return data"
   ]
  },
  {
   "cell_type": "code",
   "execution_count": 14,
   "id": "55729fe4-8faf-48ff-afe5-62b68e9bf65d",
   "metadata": {},
   "outputs": [
    {
     "name": "stdout",
     "output_type": "stream",
     "text": [
      "True\n",
      "True\n",
      "True\n",
      "15\n",
      "10\n",
      "20\n",
      "-1\n"
     ]
    }
   ],
   "source": [
    "s=Queue()\n",
    "print(s.enqueue(15))\n",
    "print(s.enqueue(10))\n",
    "print(s.enqueue(20))\n",
    "print(s.dequeue())\n",
    "print(s.dequeue())\n",
    "print(s.dequeue())\n",
    "print(s.dequeue())"
   ]
  },
  {
   "cell_type": "markdown",
   "id": "6c8c6409-224e-49dc-925c-ee070abd61ca",
   "metadata": {},
   "source": [
    "### queue using two stack in this enqueue is O(n)but dequeue is O(1)"
   ]
  },
  {
   "cell_type": "code",
   "execution_count": 21,
   "id": "48a5864a-16c3-4ee8-b1b3-d6aa44c5ad6b",
   "metadata": {},
   "outputs": [],
   "source": [
    "from os import *\n",
    "from sys import *\n",
    "from collections import *\n",
    "from math import *\n",
    "\n",
    "class Queue:\n",
    "    # Stacks to be used in the operations.\n",
    "    def __init__(self):\n",
    "        self.stk1 = []\n",
    "        self.stk2 = []\n",
    "\n",
    "    # Enqueues 'X' into the queue. Returns true after enqueuing.\n",
    "    def enqueue(self, X):\n",
    "        #if len(self.stk1)==0:\n",
    "            #self.stk1.append(X)\n",
    "        #else :\n",
    "        while len(self.stk1)!=0:\n",
    "            ele=self.stk1.pop()\n",
    "            self.stk2.append(ele)  #self.stk2.append(self.stk1.pop())\n",
    "        self.stk1.append(X)\n",
    "        while len(self.stk2)!=0:\n",
    "            ele=self.stk2.pop()\n",
    "            self.stk1.append(ele) #self.stk1.append(self.stk2.pop())\n",
    "        return True\n",
    "        \n",
    "    \"\"\"\n",
    "      Dequeues top element from queue. Returns -1 if the queue is empty, \n",
    "      otherwise returns the popped element.\n",
    "    \"\"\"\n",
    "    def dequeue(self):\n",
    "        if len(self.stk1)==0:\n",
    "            return -1\n",
    "        return self.stk1.pop()\n",
    "    def front(self):\n",
    "        if len(self.stk1)==0:\n",
    "            return -1\n",
    "        return self.stk1[-1]\n",
    "    def size(self):\n",
    "        return len(self.stk1)\n",
    "    def isEmpty(self):\n",
    "        return self.size()==0"
   ]
  },
  {
   "cell_type": "code",
   "execution_count": 22,
   "id": "b79b0bcf-f128-480d-8241-11897fff8c3e",
   "metadata": {},
   "outputs": [
    {
     "name": "stdout",
     "output_type": "stream",
     "text": [
      "True\n",
      "True\n",
      "True\n",
      "15\n",
      "15\n",
      "10\n",
      "20\n",
      "-1\n"
     ]
    }
   ],
   "source": [
    "sys=Queue()\n",
    "print(sys.enqueue(15))\n",
    "print(sys.enqueue(10))\n",
    "print(sys.enqueue(20))\n",
    "print(sys.front())\n",
    "print(sys.dequeue())\n",
    "print(sys.dequeue())\n",
    "print(sys.dequeue())\n",
    "print(sys.dequeue())"
   ]
  },
  {
   "cell_type": "markdown",
   "id": "b53b8d57-b71e-48c1-bee7-f78bf681f0eb",
   "metadata": {},
   "source": [
    "### stack using two queue"
   ]
  },
  {
   "cell_type": "code",
   "execution_count": null,
   "id": "2c65bfd5-cc5f-43ba-8571-10c81721940c",
   "metadata": {},
   "outputs": [],
   "source": [
    "from sys import stdin\n",
    "import queue\n",
    "\n",
    "class Stack :\n",
    "\n",
    "\t#Define data members and __init__()\n",
    "    def __init__(self):\n",
    "        self.q1=queue.Queue()\n",
    "        self.q2=queue.Queue()\n",
    "        self.count=0\n",
    "    def getSize(self) :\n",
    "\t\t#Implement the getSize() function\n",
    "        return self.count\n",
    "    def isEmpty(self) :\n",
    "\t\t#Implement the isEmpty() function\n",
    "        return self.getSize()==0\n",
    "    def push(self, data) :\n",
    "\t\t#Implement the push(element) function\n",
    "        self.q1.put(data)\n",
    "        self.count +=1\n",
    "    def pop(self) :\n",
    "        if self.count==0 :\n",
    "            return -1\n",
    "        while self.q1.qsize()!=1:\n",
    "            self.q2.put(self.q1.get())\n",
    "        ans=self.q1.get()\n",
    "        while self.q2.qsize()!=0:\n",
    "            self.q1.put(self.q2.get())\n",
    "        self.count -=1\n",
    "        return ans \n",
    "    def top(self) :\n",
    "\t\t#Implement the top() function\n",
    "        if self.count == 0 :\n",
    "            return -1\n",
    "        while  self.q1.qsize()!=1:\n",
    "            self.q2.put(self.q1.get())\n",
    "        ans=self.q1.get()\n",
    "        self.q2.put(ans)\n",
    "        while self.q2.qsize()!=0:\n",
    "            self.q1.put(self.q2.get())\n",
    "        return ans\n",
    "        "
   ]
  },
  {
   "cell_type": "code",
   "execution_count": 1,
   "id": "04269342-1af0-4af3-a495-ac3ff65f7008",
   "metadata": {},
   "outputs": [
    {
     "name": "stdout",
     "output_type": "stream",
     "text": [
      "1\n"
     ]
    }
   ],
   "source": [
    "#inbuilt queue\n",
    "import queue\n",
    "q=queue.Queue()\n",
    "q.put(1)\n",
    "q.put(2)\n",
    "q.put(3)\n",
    "q.put(4)\n",
    "print(q.get(0))"
   ]
  },
  {
   "cell_type": "code",
   "execution_count": null,
   "id": "d100c26d",
   "metadata": {},
   "outputs": [],
   "source": []
  }
 ],
 "metadata": {
  "kernelspec": {
   "display_name": "Python 3 (ipykernel)",
   "language": "python",
   "name": "python3"
  },
  "language_info": {
   "codemirror_mode": {
    "name": "ipython",
    "version": 3
   },
   "file_extension": ".py",
   "mimetype": "text/x-python",
   "name": "python",
   "nbconvert_exporter": "python",
   "pygments_lexer": "ipython3",
   "version": "3.11.5"
  },
  "widgets": {
   "application/vnd.jupyter.widget-state+json": {
    "state": {},
    "version_major": 2,
    "version_minor": 0
   }
  }
 },
 "nbformat": 4,
 "nbformat_minor": 5
}
