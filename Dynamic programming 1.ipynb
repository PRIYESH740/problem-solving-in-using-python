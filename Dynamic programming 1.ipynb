{
 "cells": [
  {
   "cell_type": "markdown",
   "id": "e159a283",
   "metadata": {},
   "source": [
    "### Fibonacci Number"
   ]
  },
  {
   "cell_type": "code",
   "execution_count": 6,
   "id": "aa2aace7",
   "metadata": {},
   "outputs": [
    {
     "name": "stdout",
     "output_type": "stream",
     "text": [
      "8\n",
      "Nth fib no is : 21\n"
     ]
    }
   ],
   "source": [
    "def fib(n):\n",
    "    if n==0 or n==1:\n",
    "        return n\n",
    "    return fib(n-1)+ fib(n-2)\n",
    "\n",
    "if __name__ ==  \"__main__\":\n",
    "    n=int(input())\n",
    "    print(\"Nth fib no is : \"+str(fib(n)))"
   ]
  },
  {
   "cell_type": "markdown",
   "id": "26863a58",
   "metadata": {},
   "source": [
    "### Using dynamic programming concepts"
   ]
  },
  {
   "cell_type": "code",
   "execution_count": 1,
   "id": "2b950423",
   "metadata": {},
   "outputs": [
    {
     "name": "stdout",
     "output_type": "stream",
     "text": [
      "51\n",
      "Nth fib no is : 20365011074\n"
     ]
    }
   ],
   "source": [
    "def fib(n):\n",
    "    if n==0 or n==1:\n",
    "        return n\n",
    "    elif memo[n] != -1:\n",
    "        return memo[n]\n",
    "    else:\n",
    "        memo[n] =fib(n-1) +fib(n-2)\n",
    "        return memo[n]\n",
    "\n",
    "if __name__ ==  \"__main__\":\n",
    "    n=int(input())\n",
    "    # memorization table\n",
    "    memo = [-1] *(n+1)\n",
    "    print(\"Nth fib no is : \"+str(fib(n)))"
   ]
  },
  {
   "cell_type": "markdown",
   "id": "10a6ac35",
   "metadata": {},
   "source": [
    "### Fibonacci number using dynamic programming in iterative way"
   ]
  },
  {
   "cell_type": "code",
   "execution_count": 14,
   "id": "5a91633b",
   "metadata": {},
   "outputs": [
    {
     "name": "stdout",
     "output_type": "stream",
     "text": [
      "6\n",
      "Nth fibonacci number in iterative solution  8\n"
     ]
    }
   ],
   "source": [
    "def iterative_fib(n):\n",
    "    dp = [-1]*(n+1)\n",
    "    dp[0]=0\n",
    "    dp[1]=1\n",
    "    for i in range(2,n+1):\n",
    "        dp[i]=dp[i-1]+dp[i-2]\n",
    "    \n",
    "    return dp[n]\n",
    "    \n",
    "if __name__ ==  \"__main__\":\n",
    "    n=int(input())\n",
    "    print(\"Nth fibonacci number in iterative solution \",iterative_fib(n))"
   ]
  },
  {
   "cell_type": "markdown",
   "id": "8fc715fe",
   "metadata": {},
   "source": [
    "### code will be modified for minimizing the spsce "
   ]
  },
  {
   "cell_type": "code",
   "execution_count": 16,
   "id": "ef41cb69",
   "metadata": {},
   "outputs": [
    {
     "name": "stdout",
     "output_type": "stream",
     "text": [
      "6\n",
      "Nth fibonacci number in iterative solution  8\n"
     ]
    }
   ],
   "source": [
    "def iterative_fib2(n):\n",
    "    a=0     # time complexity O(n)\n",
    "    b=1     # space complexity O(1)\n",
    "    c=0\n",
    "    for i in range(2,n+1):\n",
    "        c=a+b\n",
    "        a=b\n",
    "        b=c\n",
    "    return c\n",
    "\n",
    "if __name__ ==  \"__main__\":\n",
    "    n=int(input())\n",
    "    print(\"Nth fibonacci number in iterative solution \",iterative_fib2(n))"
   ]
  },
  {
   "cell_type": "code",
   "execution_count": null,
   "id": "c3615a11",
   "metadata": {},
   "outputs": [],
   "source": [
    "def countDistinctWays(nStairs: int) -> int:\n",
    "    if nStairs ==0 or nStairs ==1:\n",
    "        return 1\n",
    "   \n",
    "\n",
    "    arr=[-1]*(nStairs+1)\n",
    "    arr[0]=1\n",
    "    arr[1]=1\n",
    "\n",
    "    \n",
    "    for i in range(2,nStairs+1):\n",
    "        arr[i]=arr[i-1] +arr[i-2]\n",
    "\n",
    "    return arr[nStairs]"
   ]
  },
  {
   "cell_type": "markdown",
   "id": "517416f9",
   "metadata": {},
   "source": [
    "### frog jump recursive solution"
   ]
  },
  {
   "cell_type": "code",
   "execution_count": 3,
   "id": "a248606b",
   "metadata": {},
   "outputs": [],
   "source": [
    "from os import *\n",
    "from sys import *\n",
    "from math import *\n",
    "from typing import *\n",
    "\n",
    "\n",
    "def f(n: int, heights: List[int] , N:int ) -> int:\n",
    "    global dp\n",
    "    if n==N:\n",
    "        return 0\n",
    "    elif n == N-1:\n",
    "        return abs(heights[N-1] - heights[N-2])\n",
    "    \n",
    "    if dp[n] != -1:\n",
    "        return d[n]\n",
    "    \n",
    "    else:\n",
    "        dp[n]=min(f(n+1,heights, N) + abs(heights[n-1]-heights[n]),\n",
    "                  f(n+2 ,heights, N)+abs(heights[n-1]-heights[n+1]))\n",
    "        return dp[n]\n",
    "    \n",
    "def frogJump(n:int ,heights: List[int]) -> int:\n",
    "    global dp\n",
    "    dp=[-1]*(n+1)\n",
    "    \n",
    "    return f(1 , heights ,n)\n",
    "    "
   ]
  },
  {
   "cell_type": "markdown",
   "id": "5e37d5ac",
   "metadata": {},
   "source": [
    "### iterative approach"
   ]
  },
  {
   "cell_type": "code",
   "execution_count": null,
   "id": "6ba76d07",
   "metadata": {},
   "outputs": [],
   "source": [
    "from os import *\n",
    "from sys import *\n",
    "from math import *\n",
    "from typing import *\n",
    "\n",
    "\n",
    "def f(n: int, heights: List[int] , N:int ) -> int:\n",
    "    global dp\n",
    "    if n==N:\n",
    "        return 0\n",
    "    elif n == N-1:\n",
    "        return abs(heights[N-1] - heights[N-2])\n",
    "    \n",
    "    if dp[n] != -1:\n",
    "        return d[n]\n",
    "    \n",
    "    else:\n",
    "        dp[n]=min(f(n+1,heights, N) + abs(heights[n-1]-heights[n]),\n",
    "                  f(n+2 ,heights, N)+abs(heights[n-1]-heights[n+1]))\n",
    "        return dp[n]\n",
    "    \n",
    "def frogJump(n:int ,heights: List[int]) -> int:\n",
    "    global dp\n",
    "    dp=[-1]*(n+1)\n",
    "    \n",
    "    \n",
    "    dp[n] = 0\n",
    "    dp[n-1] = abs(heights[n-1] - heights[n-2])\n",
    "    \n",
    "    for i in range(n-2 ,0 ,-1):\n",
    "        dp[i]= min(dp[i+1]+abs(heights[i-1]-heights[i],\n",
    "                dp[i+2]+ abs(heights[i-1]-heights[i+1]))\n",
    "        \n",
    "    \n",
    "    return dp[1]\n",
    "    "
   ]
  },
  {
   "cell_type": "code",
   "execution_count": 1,
   "id": "ff476ac6",
   "metadata": {},
   "outputs": [
    {
     "name": "stdout",
     "output_type": "stream",
     "text": [
      "[23, 45, 11]\n",
      "[45, 11, 10]\n",
      "45\n"
     ]
    }
   ],
   "source": [
    "li = [23,45,11,10]\n",
    "print(li[:-1])\n",
    "print(li[1:])\n",
    "print(max(li))"
   ]
  },
  {
   "cell_type": "code",
   "execution_count": 6,
   "id": "4d5ea0ab",
   "metadata": {},
   "outputs": [
    {
     "name": "stdout",
     "output_type": "stream",
     "text": [
      "Maximum sum of non-adjacent elements: 24\n"
     ]
    }
   ],
   "source": [
    "def max_sum_non_adjacent(arr):\n",
    "    if not arr:\n",
    "        return 0\n",
    "    if len(arr) == 1:\n",
    "        return max(0, arr[0])\n",
    "\n",
    "    # Initialize two variables to keep track of the maximum sums.\n",
    "    inclusive = max(0, arr[0])\n",
    "    exclusive = 0\n",
    "\n",
    "    for i in range(1, len(arr)):\n",
    "        # Calculate the new inclusive and exclusive sums.\n",
    "        new_inclusive = max(exclusive + arr[i], inclusive)\n",
    "        new_exclusive = inclusive\n",
    "\n",
    "        # Update the values for the next iteration.\n",
    "        inclusive = new_inclusive\n",
    "        exclusive = new_exclusive\n",
    "\n",
    "    # The final result will be the maximum of inclusive and exclusive sums.\n",
    "    return max(inclusive, exclusive)\n",
    "\n",
    "# Example usage:\n",
    "arr = [1,2,3,1,3,5,8,1,9]\n",
    "result = max_sum_non_adjacent(arr)\n",
    "print(\"Maximum sum of non-adjacent elements:\", result)"
   ]
  },
  {
   "cell_type": "markdown",
   "id": "9b428a7f",
   "metadata": {},
   "source": [
    "### house robbery"
   ]
  },
  {
   "cell_type": "code",
   "execution_count": null,
   "id": "e07c0e0c",
   "metadata": {},
   "outputs": [],
   "source": [
    "def houseRob_helper(nums):\n",
    "    prev_max = 0\n",
    "    curr_max = 0\n",
    "    for num in nums:\n",
    "        temp = curr_max\n",
    "        curr_max = max(prev_max + num, curr_max)\n",
    "        prev_max = temp\n",
    "    return curr_max\n",
    "\n",
    "def houseRobber(valueInHouse):\n",
    "    # Write your function here.\n",
    "\tif len(valueInHouse) ==1:\n",
    "\t\treturn valueInHouse[0]\n",
    "\n",
    "\tif len(valueInHouse) == 2:\n",
    "\t\treturn max(valueInHelper[0],valueInHouse[1])\n",
    "\t\n",
    "\toption1=houseRob_helper(valueInHouse[:-1])\n",
    "\n",
    "\toption2=houseRob_helper(valueInHouse[1:])\n",
    "\t\t\n",
    "\treturn max(option1 , option2)\n"
   ]
  },
  {
   "cell_type": "markdown",
   "id": "03352d1f",
   "metadata": {},
   "source": [
    "### unique path II"
   ]
  },
  {
   "cell_type": "code",
   "execution_count": 3,
   "id": "bf453880",
   "metadata": {},
   "outputs": [],
   "source": [
    "def isValid(n , m, mat):\n",
    "    N=len(mat)\n",
    "    M=len(mat[0])\n",
    "    \n",
    "    if n < 0 or n>=N or m<0 or m>=M or mat[n][m] == -1:\n",
    "        return False\n",
    "    return True\n",
    "\n",
    "dp=[]\n",
    "\n",
    "mod= 100000\n",
    "def f(n,m,N,M,mat):\n",
    "    global dp\n",
    "    if n==N-1 and m==M-1:\n",
    "        return 1\n",
    "    \n",
    "    if dp[n][m]!= -1:\n",
    "        return dp[n][m]\n",
    "    mod = 100000007\n",
    "    ans=0\n",
    "    if isValid(n,m+1,mat):\n",
    "        ans +=f(n,m+1,N,M,mat)\n",
    "    \n",
    "    if isValid(n+1,m,mat):\n",
    "        ans +=f(n+1,m,N,M,mat)\n",
    "    ans %=mod\n",
    "    dp[n][m]=ans\n",
    "    return ans\n",
    "\n",
    "def mazeObstracles(n,m,mat):\n",
    "    global dp\n",
    "    dp =[[0 for j in range(m)] for i in range(n)]\n",
    "    mod = 1000000007\n",
    "    dp[n-1][m-1]=1\n",
    "    for i in range(n-1 , -1, -1):\n",
    "        for j in range(m-1 , -1 , -1):\n",
    "            if i == n-1 and j == m-1:\n",
    "                continue\n",
    "            if mat[i][j] == -1:\n",
    "                dp[i][j] == 0\n",
    "                continue\n",
    "                \n",
    "            if i+1 <n:\n",
    "                dp[i][j] = dp[i+1][j]\n",
    "                \n",
    "            if j+1 <m:\n",
    "                dp[i][j] +=dp[i][j+1]\n",
    "                \n",
    "            dp[i][j] %=mod\n",
    "            \n",
    "    return dp[0][0]   \n",
    "        \n",
    "    \n",
    "    \n",
    "    #return f(0,0,n,m,mat)\n",
    "    \n",
    "    "
   ]
  },
  {
   "cell_type": "markdown",
   "id": "fbc42cd5",
   "metadata": {},
   "source": [
    "### Triangle"
   ]
  },
  {
   "cell_type": "code",
   "execution_count": 6,
   "id": "790532f2",
   "metadata": {},
   "outputs": [],
   "source": [
    "dp=[]\n",
    "def f(n,m,N,triangle):\n",
    "    global dp\n",
    "    \n",
    "    if n == n-1:\n",
    "        return triangle\n",
    "    \n",
    "    if dp[n][m] !=-1:\n",
    "        return dp[n][m]\n",
    "    \n",
    "    d[n][m]=min(f(n+1,m,N,triangle), f(n+1,m+1,N,triangle))+triangle[n][m]\n",
    "    return dp[n][m]\n",
    "\n",
    "def minimumPathSum(triangle ,n):\n",
    "    global dp\n",
    "    dp =[[-1 for i in range(n)] for i in range(n)]\n",
    "    \n",
    "    for i in range(0,n):\n",
    "        dp[n-1][i] = triangle[n-1][i]\n",
    "    for i in range(n-2 ,-1,-1):\n",
    "        for j in range(0,i+1):\n",
    "            dp[i][j]=min(dp[i+1][j] , dp[i+1][j+1])+triangle[i][j]\n",
    "        \n",
    "        return dp[0][0]\n",
    "    \n",
    "    #return f(0 ,0 ,n ,triangle)\n",
    "    "
   ]
  },
  {
   "cell_type": "code",
   "execution_count": 8,
   "id": "17fe62fc",
   "metadata": {},
   "outputs": [],
   "source": [
    "def isValid(n,m,N,M):\n",
    "    if n<0 or n>=N or m<0 or m>=M:\n",
    "        return False\n",
    "    return True    \n",
    "dp=[]\n",
    "def f(n ,m ,N, M, mat):\n",
    "    global dp\n",
    "    if n ==N-1:\n",
    "        return mat[n][m]\n",
    "    \n",
    "    if dp[n][m] != float('-inf'):\n",
    "        return dp[n][m]\n",
    "    \n",
    "    ans = f(n+1,m,N,M,mat)\n",
    "    \n",
    "    if isValid(n+1,m-1,N,M):\n",
    "        ans = max(ans ,f(n+1 ,m-1,N,M,mat))\n",
    "        \n",
    "    if isvalid(n+1,m+1,N,M):\n",
    "        ans =max(ans ,f(n+1 , m+1,N ,M,mat))\n",
    "        \n",
    "    ans +=mat[n][m]\n",
    "    dp[n][m]=ans\n",
    "    return ans\n",
    "    \n",
    "def getMaxPathSum(matrix):\n",
    "    global dp\n",
    "    ans=float('-inf')\n",
    "    n=len(matrix)\n",
    "    m=len(matrix[0])\n",
    "    \n",
    "    dp =[[float('-inf') for i in range(m)] for i in range(n)]\n",
    "    \n",
    "    for i in range(m):\n",
    "        dp[n-1][i]=matrix[n-1][i]\n",
    "        \n",
    "    for i in range(n-2 ,-1,-1):\n",
    "        for j in range(0,m):\n",
    "            dp[i][j]=dp[i+1][j] +matrix[i][j]\n",
    "            \n",
    "            if isValid(i+1 ,j-1 ,n,m):\n",
    "                dp[i][j] =max(dp[i][j],dp[i+1][j-1]+matrix[i][j])\n",
    "            \n",
    "            if isValid(i+1 ,j+1 ,n,m):\n",
    "                dp[i][j] = max(dp[i][j] , dp[i+1][j+1]+matrix[i][j])\n",
    "    ans =dp[0][0]\n",
    "    for i in range(m):\n",
    "        ans=max(ans,dp[0][i])\n",
    "    return ans\n",
    "            \n",
    "            \n",
    "#     for i in range(m):\n",
    "#         ans =max(ans ,f(0,i,n,m,matrix))\n",
    "    \n",
    "#     return ans\n",
    "    "
   ]
  },
  {
   "cell_type": "markdown",
   "id": "8f4c0ecd",
   "metadata": {},
   "source": [
    "### min steps to one in dp"
   ]
  },
  {
   "cell_type": "code",
   "execution_count": null,
   "id": "af72b3de",
   "metadata": {},
   "outputs": [],
   "source": [
    "def countMinStepsToOne(n) :\n",
    "    if n == 1:\n",
    "        return 0\n",
    "\n",
    "    # Create an array to store the minimum number of steps for each value from 2 to n\n",
    "    dp = [0] * (n + 1)\n",
    "\n",
    "    # Initialize the minimum steps for 2 and 3\n",
    "    dp[2] = 1\n",
    "    dp[3] = 1\n",
    "\n",
    "    for i in range(4, n + 1):\n",
    "        # Initialize dp[i] to a large value so we can minimize it\n",
    "        dp[i] = i\n",
    "\n",
    "        # Try all three operations and find the minimum\n",
    "        dp[i] = min(dp[i], dp[i - 1] + 1)\n",
    "        if i % 2 == 0:\n",
    "            dp[i] = min(dp[i], dp[i // 2] + 1)\n",
    "        if i % 3 == 0:\n",
    "            dp[i] = min(dp[i], dp[i // 3] + 1)\n",
    "\n",
    "    return dp[n]\n"
   ]
  },
  {
   "cell_type": "markdown",
   "id": "18888422",
   "metadata": {},
   "source": [
    "### Rod cutting Problem"
   ]
  },
  {
   "cell_type": "code",
   "execution_count": null,
   "id": "c0c52d04",
   "metadata": {},
   "outputs": [],
   "source": [
    "def cutRod(price, n):\n",
    "    max_profit = [0] * (n + 1)\n",
    "\n",
    "    # Initialize the max_profit array\n",
    "    for i in range(1, n+ 1):\n",
    "        for j in range(i):\n",
    "            max_profit[i] = max(max_profit[i], price[j] + max_profit[i - j - 1])\n",
    "\n",
    "    return max_profit[n]\n",
    "\n",
    "# Taking input using fast I/O.\n",
    "def takeInput():\n",
    "    n = int(input())\n",
    "\n",
    "    price = list(map(int, input().strip().split(\" \")))\n",
    "\n",
    "    return price, n\n"
   ]
  },
  {
   "cell_type": "markdown",
   "id": "adeaf206",
   "metadata": {},
   "source": [
    "### minimum number in square"
   ]
  },
  {
   "cell_type": "code",
   "execution_count": null,
   "id": "1aad7187",
   "metadata": {},
   "outputs": [],
   "source": [
    "import sys\n",
    "def minStepsTo1(n):\n",
    "    dp = [0] * (n + 1)\n",
    "\n",
    "    for i in range(1, n + 1):\n",
    "        dp[i] = i  # Initialize with the maximum possible value\n",
    "\n",
    "        for j in range(1, int(i**0.5) + 1):\n",
    "            # For each square number j*j where j <= i, find the minimum number of squares\n",
    "            dp[i] = min(dp[i], 1 + dp[i - j*j])\n",
    "\n",
    "    return dp[n]\n",
    "\n",
    "        \n",
    "\n",
    "    \n",
    "n = int(input())\n",
    "ans = minStepsTo1(n)\n",
    "print(ans)"
   ]
  }
 ],
 "metadata": {
  "kernelspec": {
   "display_name": "Python 3 (ipykernel)",
   "language": "python",
   "name": "python3"
  },
  "language_info": {
   "codemirror_mode": {
    "name": "ipython",
    "version": 3
   },
   "file_extension": ".py",
   "mimetype": "text/x-python",
   "name": "python",
   "nbconvert_exporter": "python",
   "pygments_lexer": "ipython3",
   "version": "3.11.5"
  }
 },
 "nbformat": 4,
 "nbformat_minor": 5
}
