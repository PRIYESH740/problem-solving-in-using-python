{
 "cells": [
  {
   "cell_type": "code",
   "execution_count": 8,
   "id": "6292a377",
   "metadata": {},
   "outputs": [
    {
     "name": "stdout",
     "output_type": "stream",
     "text": [
      "abchjsgsuohhdhyrikknddg\n",
      "coding\n",
      "true\n"
     ]
    }
   ],
   "source": [
    "def contains(s,t):\n",
    "    if len(t)==0:\n",
    "        return True\n",
    "    \n",
    "    if len(s) == 0:\n",
    "        return False\n",
    " \n",
    "        \n",
    "    if(s[0] == t[0]):\n",
    "        return contains(s[1:], t[1:])\n",
    "    else:\n",
    "        return contains(s[1:], t)\n",
    "    \n",
    "s = input()\n",
    "t = input()\n",
    "\n",
    "ans = contains(s,t)\n",
    "if ans is True:\n",
    "    print('true')\n",
    "else:\n",
    "    print('false')"
   ]
  },
  {
   "cell_type": "code",
   "execution_count": 7,
   "id": "ad3e1275",
   "metadata": {},
   "outputs": [],
   "source": [
    "def checkSequence(a,  b):\n",
    " \n",
    "    # if length of the b = 0\n",
    "    # then we return true\n",
    "    if len(b) == 0:\n",
    "        return True\n",
    " \n",
    "    # if length of a = 0\n",
    "    # that means b is not present in\n",
    "    # a so we return false\n",
    "    if len(a) == 0:\n",
    "        return False\n",
    " \n",
    "    if(a[0] == b[0]):\n",
    "        return checkSequence(a[1:], b[1:])\n",
    "    else:\n",
    "        return checkSequence(a[1:], b)"
   ]
  },
  {
   "cell_type": "code",
   "execution_count": null,
   "id": "3fb228e2",
   "metadata": {},
   "outputs": [],
   "source": [
    "def max_profit(budgets, n):\n",
    "    budgets.sort()\n",
    "    max_profit = 0\n",
    "    for i in range(n):\n",
    "        profit = budgets[i] * (n - i)\n",
    "        if profit > max_profit:\n",
    "            max_profit = profit\n",
    "    return max_profit\n"
   ]
  },
  {
   "cell_type": "code",
   "execution_count": 10,
   "id": "f1c70ba1",
   "metadata": {},
   "outputs": [
    {
     "name": "stdout",
     "output_type": "stream",
     "text": [
      "5\n",
      "34 78 90 15 67\n",
      "201\n"
     ]
    }
   ],
   "source": [
    "def maximumProfit(arr,n):\n",
    "    arr.sort()\n",
    "    max_profit = 0\n",
    "    for i in range(n):\n",
    "        profit =arr[i] * (n - i)\n",
    "        if profit > max_profit:\n",
    "            max_profit = profit\n",
    "    return max_profit\n",
    "\n",
    "\n",
    "\n",
    "n = int(input())\n",
    "arr = [int(ele) for ele in input().split()]\n",
    "ans = maximumProfit(arr,n)\n",
    "print(ans)"
   ]
  },
  {
   "cell_type": "code",
   "execution_count": null,
   "id": "6c911fc3",
   "metadata": {},
   "outputs": [],
   "source": [
    "def max_profit(budgets):\n",
    "    # Sort the subscriber budgets in ascending order\n",
    "    budgets.sort()\n",
    "\n",
    "    # Initialize variables to store the maximum profit and number of subscribers\n",
    "    max_profit = 0\n",
    "    num_subscribers = len(budgets)\n",
    "\n",
    "    # Iterate through each possible price and calculate the profit\n",
    "    for i, price in enumerate(budgets):\n",
    "        # Calculate the current profit\n",
    "        current_profit = price * (num_subscribers - i)\n",
    "\n",
    "        # Update the maximum profit if the current profit is higher\n",
    "        max_profit = max(max_profit, current_profit)\n",
    "\n",
    "    return max_profit\n",
    "\n",
    "# Example usage:\n",
    "budgets = [100, 50, 200, 75, 150]\n",
    "print(max_profit(budgets))"
   ]
  },
  {
   "cell_type": "code",
   "execution_count": 11,
   "id": "4b82fc3d",
   "metadata": {},
   "outputs": [
    {
     "name": "stdout",
     "output_type": "stream",
     "text": [
      "25566\n",
      "58899\n",
      "false\n"
     ]
    }
   ],
   "source": [
    "def split(arr,i,sum):\n",
    "    #Implement Your Function here\n",
    "    pass\n",
    "    \n",
    "n = input()\n",
    "arr = [int(ele) for ele in input().split()]\n",
    "ans = split(arr,0,0)\n",
    "if ans is True:\n",
    "    print('true')\n",
    "else:\n",
    "    print('false')"
   ]
  },
  {
   "cell_type": "code",
   "execution_count": 14,
   "id": "0a5e0775",
   "metadata": {},
   "outputs": [
    {
     "ename": "TypeError",
     "evalue": "'list' object is not callable",
     "output_type": "error",
     "traceback": [
      "\u001b[1;31m---------------------------------------------------------------------------\u001b[0m",
      "\u001b[1;31mTypeError\u001b[0m                                 Traceback (most recent call last)",
      "Cell \u001b[1;32mIn[14], line 17\u001b[0m\n\u001b[0;32m     14\u001b[0m \u001b[38;5;28;01mdef\u001b[39;00m \u001b[38;5;21msplitArray\u001b[39m(arr,n):\n\u001b[0;32m     15\u001b[0m     \u001b[38;5;28;01mreturn\u001b[39;00m helper(arr, n, \u001b[38;5;241m0\u001b[39m, \u001b[38;5;241m0\u001b[39m, \u001b[38;5;241m0\u001b[39m)\n\u001b[1;32m---> 17\u001b[0m n \u001b[38;5;241m=\u001b[39m \u001b[38;5;28mint\u001b[39m(\u001b[38;5;28;43minput\u001b[39;49m\u001b[43m(\u001b[49m\u001b[43m)\u001b[49m)\n\u001b[0;32m     18\u001b[0m arr \u001b[38;5;241m=\u001b[39m [\u001b[38;5;28mint\u001b[39m(x) \u001b[38;5;28;01mfor\u001b[39;00m x \u001b[38;5;129;01min\u001b[39;00m \u001b[38;5;28minput\u001b[39m()\u001b[38;5;241m.\u001b[39msplit()]\n\u001b[0;32m     19\u001b[0m \u001b[38;5;28;01mif\u001b[39;00m splitArray(arr,n):\n",
      "\u001b[1;31mTypeError\u001b[0m: 'list' object is not callable"
     ]
    }
   ],
   "source": [
    "def helper(arr, n, start, lsum, rsum):\n",
    "    if start == n:\n",
    "        return lsum == rsum\n",
    "    \n",
    "    if arr[start] % 5 == 0:\n",
    "        lsum += arr[start]\n",
    "    elif arr[start] % 3 == 0:\n",
    "        rsum += arr[start]\n",
    "    else:\n",
    "        return helper(arr, n, start + 1, lsum + arr[start], rsum) or helper(arr, n, start + 1, lsum, rsum + arr[start])\n",
    "    \n",
    "    return helper(arr, n, start + 1, lsum, rsum)\n",
    "\n",
    "def splitArray(arr,n):\n",
    "    return helper(arr, n, 0, 0, 0)\n",
    "\n",
    "n = int(input())\n",
    "arr = [int(x) for x in input().split()]\n",
    "if splitArray(arr,n):\n",
    "    print(\"true\")\n",
    "else:\n",
    "    print(\"false\")\n",
    "\n"
   ]
  },
  {
   "cell_type": "code",
   "execution_count": null,
   "id": "87a03e4b",
   "metadata": {},
   "outputs": [],
   "source": []
  }
 ],
 "metadata": {
  "kernelspec": {
   "display_name": "Python 3 (ipykernel)",
   "language": "python",
   "name": "python3"
  },
  "language_info": {
   "codemirror_mode": {
    "name": "ipython",
    "version": 3
   },
   "file_extension": ".py",
   "mimetype": "text/x-python",
   "name": "python",
   "nbconvert_exporter": "python",
   "pygments_lexer": "ipython3",
   "version": "3.11.5"
  }
 },
 "nbformat": 4,
 "nbformat_minor": 5
}
