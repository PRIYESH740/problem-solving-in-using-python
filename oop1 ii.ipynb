{
 "cells": [
  {
   "cell_type": "code",
   "execution_count": 1,
   "id": "cb9a2b06",
   "metadata": {},
   "outputs": [
    {
     "name": "stdout",
     "output_type": "stream",
     "text": [
      "ID of self: 1658180163552\n",
      "ID of class: 1658165379344\n"
     ]
    }
   ],
   "source": [
    "class MyClass:\n",
    "    def __init__(self):\n",
    "        pass\n",
    "\n",
    "    def print_ids(self):\n",
    "        print(\"ID of self:\", id(self))\n",
    "        print(\"ID of class:\", id(MyClass))\n",
    "\n",
    "\n",
    "obj = MyClass()\n",
    "obj.print_ids()"
   ]
  },
  {
   "cell_type": "code",
   "execution_count": 18,
   "id": "39c2924f",
   "metadata": {},
   "outputs": [],
   "source": [
    "class Product:\n",
    "    count=0\n",
    "    def __init__(self,name,price,discount):\n",
    "        self.__id=Product.count+1\n",
    "        self.__name=name\n",
    "        self.__price=price\n",
    "        self.__discount=0.05\n",
    "        self.__isavailable=True\n",
    "        \n",
    "        Product.count=Product.count+1\n",
    "        \n",
    "    def applyDiscount(self):\n",
    "        if (self.__price>20000):\n",
    "            self.__discount=0.2\n",
    "        elif (self.__price<20000 and self.__price>=10000):\n",
    "            self.__discount=0.1\n",
    "                    \n",
    "        else:\n",
    "            self.__discount=0.05"
   ]
  },
  {
   "cell_type": "code",
   "execution_count": 11,
   "id": "598ae356",
   "metadata": {},
   "outputs": [],
   "source": [
    "p3=Product('sunglass',15000,0.2)"
   ]
  },
  {
   "cell_type": "code",
   "execution_count": 12,
   "id": "20732774",
   "metadata": {},
   "outputs": [],
   "source": [
    " p3.applyDiscount()"
   ]
  },
  {
   "cell_type": "code",
   "execution_count": 13,
   "id": "b8a5bbf8",
   "metadata": {},
   "outputs": [
    {
     "data": {
      "text/plain": [
       "{'_Product__id': 2,\n",
       " '_Product__name': 'sunglass',\n",
       " '_Product__price': 15000,\n",
       " '_Product__discount': 0.1,\n",
       " '_Product__isavailable': True}"
      ]
     },
     "execution_count": 13,
     "metadata": {},
     "output_type": "execute_result"
    }
   ],
   "source": [
    "p3.__dict__"
   ]
  },
  {
   "cell_type": "code",
   "execution_count": 14,
   "id": "0354c1a5",
   "metadata": {},
   "outputs": [
    {
     "ename": "AttributeError",
     "evalue": "'Product' object has no attribute 'id'",
     "output_type": "error",
     "traceback": [
      "\u001b[1;31m---------------------------------------------------------------------------\u001b[0m",
      "\u001b[1;31mAttributeError\u001b[0m                            Traceback (most recent call last)",
      "Cell \u001b[1;32mIn[14], line 1\u001b[0m\n\u001b[1;32m----> 1\u001b[0m \u001b[43mp3\u001b[49m\u001b[38;5;241;43m.\u001b[39;49m\u001b[43mid\u001b[49m\n",
      "\u001b[1;31mAttributeError\u001b[0m: 'Product' object has no attribute 'id'"
     ]
    }
   ],
   "source": [
    "p3.id"
   ]
  },
  {
   "cell_type": "code",
   "execution_count": 15,
   "id": "76282e69",
   "metadata": {},
   "outputs": [
    {
     "data": {
      "text/plain": [
       "['_Product__discount',\n",
       " '_Product__id',\n",
       " '_Product__isavailable',\n",
       " '_Product__name',\n",
       " '_Product__price',\n",
       " '__class__',\n",
       " '__delattr__',\n",
       " '__dict__',\n",
       " '__dir__',\n",
       " '__doc__',\n",
       " '__eq__',\n",
       " '__format__',\n",
       " '__ge__',\n",
       " '__getattribute__',\n",
       " '__gt__',\n",
       " '__hash__',\n",
       " '__init__',\n",
       " '__init_subclass__',\n",
       " '__le__',\n",
       " '__lt__',\n",
       " '__module__',\n",
       " '__ne__',\n",
       " '__new__',\n",
       " '__reduce__',\n",
       " '__reduce_ex__',\n",
       " '__repr__',\n",
       " '__setattr__',\n",
       " '__sizeof__',\n",
       " '__str__',\n",
       " '__subclasshook__',\n",
       " '__weakref__',\n",
       " 'applyDiscount',\n",
       " 'count']"
      ]
     },
     "execution_count": 15,
     "metadata": {},
     "output_type": "execute_result"
    }
   ],
   "source": [
    "dir(p3)"
   ]
  },
  {
   "cell_type": "code",
   "execution_count": 19,
   "id": "2425043f",
   "metadata": {},
   "outputs": [
    {
     "data": {
      "text/plain": [
       "2"
      ]
     },
     "execution_count": 19,
     "metadata": {},
     "output_type": "execute_result"
    }
   ],
   "source": [
    "p3._Product__id"
   ]
  },
  {
   "cell_type": "code",
   "execution_count": 20,
   "id": "06d5f522",
   "metadata": {},
   "outputs": [],
   "source": [
    "p3._Product__id=5"
   ]
  },
  {
   "cell_type": "code",
   "execution_count": 21,
   "id": "c2581864",
   "metadata": {},
   "outputs": [
    {
     "data": {
      "text/plain": [
       "{'_Product__id': 5,\n",
       " '_Product__name': 'sunglass',\n",
       " '_Product__price': 15000,\n",
       " '_Product__discount': 0.1,\n",
       " '_Product__isavailable': True}"
      ]
     },
     "execution_count": 21,
     "metadata": {},
     "output_type": "execute_result"
    }
   ],
   "source": [
    "p3.__dict__"
   ]
  },
  {
   "cell_type": "markdown",
   "id": "60eb3c31",
   "metadata": {},
   "source": [
    "### Decorators"
   ]
  },
  {
   "cell_type": "code",
   "execution_count": 4,
   "id": "686a363b",
   "metadata": {},
   "outputs": [
    {
     "data": {
      "text/plain": [
       "125"
      ]
     },
     "execution_count": 4,
     "metadata": {},
     "output_type": "execute_result"
    }
   ],
   "source": [
    "def cube(fun):\n",
    "    \n",
    "    def inner(n):\n",
    "        return fun(n)*n\n",
    "    return inner\n",
    "    \n",
    "#@cube \n",
    "def square(n):\n",
    "    return n*n\n",
    "\n",
    "special_square(5)"
   ]
  },
  {
   "cell_type": "code",
   "execution_count": 2,
   "id": "e96e2f26",
   "metadata": {},
   "outputs": [
    {
     "data": {
      "text/plain": [
       "1000"
      ]
     },
     "execution_count": 2,
     "metadata": {},
     "output_type": "execute_result"
    }
   ],
   "source": [
    "special_square(10)"
   ]
  },
  {
   "cell_type": "code",
   "execution_count": 8,
   "id": "2bcd8659",
   "metadata": {},
   "outputs": [],
   "source": [
    "class Product:\n",
    "    count=0\n",
    "    def __init__(self,name,price,discount):\n",
    "        self.id=Product.count+1\n",
    "        self.name=name\n",
    "        self.price=price\n",
    "        self.discount=discount\n",
    "        self.isavailable=True\n",
    "        \n",
    "        Product.count=Product.count+1\n",
    "        \n",
    "    @staticmethod\n",
    "    def calculateDiscounedprice(price,discount):\n",
    "        return price-price*discount\n",
    "        "
   ]
  },
  {
   "cell_type": "code",
   "execution_count": 9,
   "id": "10b0d422",
   "metadata": {},
   "outputs": [
    {
     "name": "stdout",
     "output_type": "stream",
     "text": [
      "800.0\n"
     ]
    }
   ],
   "source": [
    "price=1000\n",
    "discount=0.2\n",
    "discountprice=Product.calculateDiscounedprice(price,discount)\n",
    "print(discountprice)"
   ]
  },
  {
   "cell_type": "code",
   "execution_count": 10,
   "id": "1e60e068",
   "metadata": {},
   "outputs": [
    {
     "name": "stdout",
     "output_type": "stream",
     "text": [
      "16900.0\n"
     ]
    }
   ],
   "source": [
    "product1=Product('Titan Watch',15000,0.1)\n",
    "\n",
    "print(product1.calculateDiscounedprice(20000,0.155))"
   ]
  },
  {
   "cell_type": "code",
   "execution_count": 11,
   "id": "51fb8b5d",
   "metadata": {},
   "outputs": [
    {
     "ename": "TypeError",
     "evalue": "Student.__init__() missing 2 required positional arguments: 'name' and 'age'",
     "output_type": "error",
     "traceback": [
      "\u001b[1;31m---------------------------------------------------------------------------\u001b[0m",
      "\u001b[1;31mTypeError\u001b[0m                                 Traceback (most recent call last)",
      "Cell \u001b[1;32mIn[11], line 12\u001b[0m\n\u001b[0;32m      8\u001b[0m         \u001b[38;5;28mprint\u001b[39m(\u001b[38;5;28mself\u001b[39m\u001b[38;5;241m.\u001b[39mname, end\u001b[38;5;241m=\u001b[39m \u001b[38;5;124m\"\u001b[39m\u001b[38;5;124m \u001b[39m\u001b[38;5;124m\"\u001b[39m)\n\u001b[0;32m      9\u001b[0m         \u001b[38;5;28mprint\u001b[39m(\u001b[38;5;28mself\u001b[39m\u001b[38;5;241m.\u001b[39mage)\n\u001b[1;32m---> 12\u001b[0m s \u001b[38;5;241m=\u001b[39m \u001b[43mStudent\u001b[49m\u001b[43m(\u001b[49m\u001b[43m)\u001b[49m\n\u001b[0;32m     13\u001b[0m s\u001b[38;5;241m.\u001b[39mprint_student_details()\n",
      "\u001b[1;31mTypeError\u001b[0m: Student.__init__() missing 2 required positional arguments: 'name' and 'age'"
     ]
    }
   ],
   "source": [
    "class Student:\n",
    "\n",
    "    def __init__(self,name,age):\n",
    "        self.name = \"Rohan\"\n",
    "        self.age = 20\n",
    "\n",
    "    def print_student_details():\n",
    "        print(self.name, end= \" \")\n",
    "        print(self.age)\n",
    "\n",
    "\n",
    "s = Student()\n",
    "s.print_student_details()"
   ]
  },
  {
   "cell_type": "code",
   "execution_count": 15,
   "id": "285a7197",
   "metadata": {},
   "outputs": [
    {
     "ename": "TypeError",
     "evalue": "Student.print_student_details() takes 0 positional arguments but 3 were given",
     "output_type": "error",
     "traceback": [
      "\u001b[1;31m---------------------------------------------------------------------------\u001b[0m",
      "\u001b[1;31mTypeError\u001b[0m                                 Traceback (most recent call last)",
      "Cell \u001b[1;32mIn[15], line 10\u001b[0m\n\u001b[0;32m      8\u001b[0m         \u001b[38;5;28mprint\u001b[39m(\u001b[38;5;28mself\u001b[39m\u001b[38;5;241m.\u001b[39mage)\n\u001b[0;32m      9\u001b[0m s \u001b[38;5;241m=\u001b[39m Student(\u001b[38;5;124m'\u001b[39m\u001b[38;5;124mParikh\u001b[39m\u001b[38;5;124m'\u001b[39m,\u001b[38;5;241m25\u001b[39m)\n\u001b[1;32m---> 10\u001b[0m \u001b[43ms\u001b[49m\u001b[38;5;241;43m.\u001b[39;49m\u001b[43mprint_student_details\u001b[49m\u001b[43m(\u001b[49m\u001b[38;5;124;43m'\u001b[39;49m\u001b[38;5;124;43mParikh\u001b[39;49m\u001b[38;5;124;43m'\u001b[39;49m\u001b[43m,\u001b[49m\u001b[38;5;241;43m25\u001b[39;49m\u001b[43m)\u001b[49m\n",
      "\u001b[1;31mTypeError\u001b[0m: Student.print_student_details() takes 0 positional arguments but 3 were given"
     ]
    }
   ],
   "source": [
    "class Student:\n",
    "    def __init__(self,name,age):\n",
    "        self.name = \"Rohan\"\n",
    "        self.age = 20\n",
    "\n",
    "    def print_student_details(): #required a self argument\n",
    "        print(self.name, end= \" \")\n",
    "        print(self.age)\n",
    "s = Student('Parikh',25)\n",
    "s.print_student_details()"
   ]
  },
  {
   "cell_type": "code",
   "execution_count": 16,
   "id": "d610c10b",
   "metadata": {},
   "outputs": [],
   "source": [
    "class Product: \n",
    "    __count=0\n",
    "    def init(self, name, price, discount):\n",
    "        self.__id=self.__count+1 \n",
    "        self.__name=name\n",
    "        self.__price=price \n",
    "        self.__discount=discount\n",
    "        self.__isAvailable=True\n",
    "\n",
    "        Product.__count-Product.__count+1\n",
    "\n",
    "    @staticmethod\n",
    "\n",
    "    def checkOwner (product): \n",
    "        return product.getName().startswith('CN_')\n",
    "\n",
    "    @classmethod\n",
    "    def totalProducts(cls): \n",
    "        return cls.__count\n",
    "\n",
    "    def getName(self): \n",
    "        return self._name"
   ]
  },
  {
   "cell_type": "code",
   "execution_count": null,
   "id": "a796b5a4",
   "metadata": {},
   "outputs": [],
   "source": [
    " his problem has only one correct answer\n",
    "It allows you to modify class-level data\n",
    "It allows you to modify instance-level data\n",
    "It provides a cleaner interface for accessing class properties"
   ]
  },
  {
   "cell_type": "code",
   "execution_count": null,
   "id": "29698ac6",
   "metadata": {},
   "outputs": [],
   "source": [
    "This problem has only one correct answer\n",
    "To create an instance of a class\n",
    "To modify an instance of a class\n",
    "To destroy an instance of a class\n",
    "To return the type of an instance of a class"
   ]
  }
 ],
 "metadata": {
  "kernelspec": {
   "display_name": "Python 3 (ipykernel)",
   "language": "python",
   "name": "python3"
  },
  "language_info": {
   "codemirror_mode": {
    "name": "ipython",
    "version": 3
   },
   "file_extension": ".py",
   "mimetype": "text/x-python",
   "name": "python",
   "nbconvert_exporter": "python",
   "pygments_lexer": "ipython3",
   "version": "3.10.7"
  }
 },
 "nbformat": 4,
 "nbformat_minor": 5
}
