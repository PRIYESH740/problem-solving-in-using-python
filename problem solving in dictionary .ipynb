{
 "cells": [
  {
   "cell_type": "markdown",
   "id": "7e20f4d7",
   "metadata": {},
   "source": [
    "### print All words with frequency k"
   ]
  },
  {
   "cell_type": "code",
   "execution_count": 1,
   "id": "2e20d25b",
   "metadata": {},
   "outputs": [],
   "source": [
    "s=\"this is a word string having many many words\"\n",
    "k=2"
   ]
  },
  {
   "cell_type": "code",
   "execution_count": 5,
   "id": "d3768b6a",
   "metadata": {},
   "outputs": [],
   "source": [
    "words=s.split()"
   ]
  },
  {
   "cell_type": "code",
   "execution_count": 6,
   "id": "cc18c607",
   "metadata": {},
   "outputs": [
    {
     "data": {
      "text/plain": [
       "{'this': 1,\n",
       " 'is': 1,\n",
       " 'a': 1,\n",
       " 'word': 1,\n",
       " 'string': 1,\n",
       " 'having': 1,\n",
       " 'many': 2,\n",
       " 'words': 1}"
      ]
     },
     "execution_count": 6,
     "metadata": {},
     "output_type": "execute_result"
    }
   ],
   "source": [
    "d={}\n",
    "for w in words:\n",
    "    if w in d:\n",
    "        d[w]=d[w]+1\n",
    "    else:\n",
    "        d[w]=1\n",
    "d"
   ]
  },
  {
   "cell_type": "code",
   "execution_count": 7,
   "id": "13c49d81",
   "metadata": {},
   "outputs": [
    {
     "data": {
      "text/plain": [
       "{'this': 1,\n",
       " 'is': 1,\n",
       " 'a': 1,\n",
       " 'word': 1,\n",
       " 'string': 1,\n",
       " 'having': 1,\n",
       " 'many': 2,\n",
       " 'words': 1}"
      ]
     },
     "execution_count": 7,
     "metadata": {},
     "output_type": "execute_result"
    }
   ],
   "source": [
    "d={}\n",
    "for w in words:\n",
    "    d[w]=d.get(w,0)+1\n",
    "d\n",
    "    "
   ]
  },
  {
   "cell_type": "code",
   "execution_count": 8,
   "id": "5b13a7e5",
   "metadata": {},
   "outputs": [
    {
     "name": "stdout",
     "output_type": "stream",
     "text": [
      "many\n"
     ]
    }
   ],
   "source": [
    "for w in d:\n",
    "    if d[w]==k:\n",
    "        print(w)"
   ]
  },
  {
   "cell_type": "code",
   "execution_count": 9,
   "id": "6ca67658",
   "metadata": {},
   "outputs": [],
   "source": [
    "def printKFrequencyWords(s,k):\n",
    "    words=s.split()\n",
    "    d={}\n",
    "    for w in words:\n",
    "        d[w]=d.get(w,0)+1\n",
    "        \n",
    "    for w in d:\n",
    "        if d[w]==k:\n",
    "            print(w)\n",
    "\n",
    "    "
   ]
  },
  {
   "cell_type": "code",
   "execution_count": 12,
   "id": "e7b03af4",
   "metadata": {},
   "outputs": [
    {
     "name": "stdout",
     "output_type": "stream",
     "text": [
      "this\n",
      "is\n",
      "a\n",
      "word\n",
      "string\n",
      "having\n",
      "words\n"
     ]
    }
   ],
   "source": [
    "printKFrequencyWords(s,1)"
   ]
  },
  {
   "cell_type": "markdown",
   "id": "e8e4f37c",
   "metadata": {},
   "source": [
    "### maximum frequency in array element "
   ]
  },
  {
   "cell_type": "code",
   "execution_count": 13,
   "id": "7400e993",
   "metadata": {},
   "outputs": [
    {
     "name": "stdout",
     "output_type": "stream",
     "text": [
      "12\n",
      "1 2 3 4 2 2 6 7 6 9 6\n",
      "2\n"
     ]
    }
   ],
   "source": [
    "\n",
    "def maximumFrequencyinArray(arr):\n",
    "    dic={}\n",
    "    for num in arr:\n",
    "        dic[num]=dic.get(num,0)+1\n",
    "\n",
    "    max = -1\n",
    "    for x in arr:\n",
    "        if dic[x] > max:\n",
    "            max = dic[x]\n",
    "            num = x        \n",
    "            \n",
    "    return num\n",
    "\n",
    "#main\n",
    "N=int(input())\n",
    "arr=[int(ele) for ele in input().strip().split()]\n",
    "#arr = list(map(int, input().strip().split()))[:N]\n",
    "print(maximumFrequencyinArray(arr))\n"
   ]
  },
  {
   "cell_type": "markdown",
   "id": "a41b69e0",
   "metadata": {},
   "source": [
    "### Pair Sum To 0"
   ]
  },
  {
   "cell_type": "code",
   "execution_count": null,
   "id": "c20bf6c1",
   "metadata": {},
   "outputs": [],
   "source": [
    "from sys import stdin\n",
    "\n",
    "def pairSum0(l,n):\n",
    "    d = {}\n",
    "    num = 0\n",
    "    \n",
    "    for i in l:\n",
    "        d[i] = d.get(i, 0) + 1\n",
    "        if -i in d and i!=0:\n",
    "            num +=d[-i]\n",
    "        \n",
    "        # handle zero element in list \n",
    "        complement = -i\n",
    "        if complement in d:\n",
    "            if i == complement:\n",
    "                num += d[i] - 1\n",
    "            \n",
    "    \n",
    "    return num\n",
    "    \n",
    "\n",
    "    \n",
    "def takeInput():\n",
    "    #To take fast I/O\n",
    "    n=int(stdin.readline().strip())\n",
    "    if n==0:\n",
    "        return list(),0\n",
    "    arr=list(map(int,stdin.readline().strip().split( )))\n",
    "    return arr,n\n",
    "\n",
    "arr,n=takeInput()\n",
    "print(pairSum0(arr,n))"
   ]
  },
  {
   "cell_type": "markdown",
   "id": "ed4135f8",
   "metadata": {},
   "source": [
    "### hash map "
   ]
  },
  {
   "cell_type": "code",
   "execution_count": 3,
   "id": "d82cce34",
   "metadata": {},
   "outputs": [
    {
     "name": "stdout",
     "output_type": "stream",
     "text": [
      "abc0: 1\n",
      "0.1\n",
      "abc1: 2\n",
      "0.2\n",
      "abc2: 3\n",
      "0.3\n",
      "abc3: 4\n",
      "0.4\n",
      "abc4: 5\n",
      "0.5\n",
      "abc5: 6\n",
      "0.6\n",
      "abc6: 7\n",
      "0.35\n",
      "abc7: 8\n",
      "0.4\n",
      "abc8: 9\n",
      "0.45\n",
      "abc9: 10\n",
      "0.5\n"
     ]
    }
   ],
   "source": [
    "class MapNode:\n",
    "    def __init__(self,key,value):\n",
    "        self.key=key\n",
    "        self.value=value\n",
    "        self.next=None\n",
    "    \n",
    "class Map:\n",
    "    def __init__(self):\n",
    "        self.bucketSize=10\n",
    "        self.buckets=[None for i in range(self.bucketSize)]\n",
    "        self.count=0\n",
    "        \n",
    "    def size(self):\n",
    "        return self.count\n",
    "    \n",
    "    def getBucketIndex(self,hc):\n",
    "        return (abs(hc)%(self.bucketSize))\n",
    "    \n",
    "    def getValue(self,key):\n",
    "        hc=hash(key)\n",
    "        index=self.getBucketIndex(hc)\n",
    "        head =self.buckets[index]\n",
    "        while head is not None:\n",
    "            if head.key==key:\n",
    "                return head.value\n",
    "            head=head.next\n",
    "        return None\n",
    "    \n",
    "    def remove(self,key):\n",
    "        hc=hash(key)\n",
    "        index=self.getBucketIndex(hc)\n",
    "        head=self.buckets[index]\n",
    "        prev=None\n",
    "        while head is not None:\n",
    "            if head.key==key:\n",
    "                if prev is None:\n",
    "                    self.buckets[index]=head.next  \n",
    "                    \n",
    "                else:\n",
    "                    prev.next=head.next\n",
    "                self.count -=1\n",
    "                return head.value\n",
    "            \n",
    "            prev=head\n",
    "            head=head.next\n",
    "        return None\n",
    "    \n",
    "    def rehash(self):\n",
    "        temp=self.buckets\n",
    "        self.buckets=[None for i in range(2*self.bucketSize)]\n",
    "        self.bucketSize=2*self.bucketSize\n",
    "        self.count=0\n",
    "        for head in temp:\n",
    "            while head is not None:\n",
    "                self.insert(head.key,head.value) \n",
    "                head=head.next\n",
    "    def loadFactor(self):\n",
    "        return self.count/self.bucketSize\n",
    "        \n",
    "    def insert(self,key,value):\n",
    "        \n",
    "        hc=hash(key)\n",
    "        index=self.getBucketIndex(hc)\n",
    "        head=self.buckets[index]\n",
    "        while head is not None:\n",
    "            if head.key==key:\n",
    "                head.value=value\n",
    "                return \n",
    "            head=head.next\n",
    "        head=self.buckets[index]\n",
    "        newNode=MapNode(key,value)\n",
    "        newNode.next=head\n",
    "        self.buckets[index]=newNode\n",
    "        self.count +=1\n",
    "        loadFactor=self.count/self.bucketSize\n",
    "        if loadFactor>=0.7:\n",
    "            self.rehash()\n",
    "        \n",
    "m=Map()\n",
    "for i in range(10):\n",
    "    m.insert('abc'+str(i),i+1)\n",
    "    print('abc'+str(i)+':',m.getValue(\"abc\"+str(i)))\n",
    "    \n",
    "    print(m.loadFactor())\n",
    "# m.insert('parikh',2)\n",
    "# print(m.getValue('parikh'))\n",
    "# print(m.size())\n",
    "# m.insert('rohan',7)\n",
    "# print(m.size())\n",
    "# m.insert('parikh',9)\n",
    "# print(m.size())\n",
    "# print(m.getValue('parikh'))\n",
    "# print(m.getValue('rohan'))\n",
    "# m.remove('rohan')\n",
    "# print(m.getValue('rohan'))\n",
    "        "
   ]
  },
  {
   "cell_type": "raw",
   "id": "226c0fa2",
   "metadata": {},
   "source": [
    "The time complexity for retrieving all keys from a hashmap is O(n), where n is the number of keys in the hashmap 1. This is because the hashmap does not store its keys in any particular order, so it must iterate over all the keys to retrieve them 1."
   ]
  },
  {
   "cell_type": "raw",
   "id": "ff7cc287",
   "metadata": {},
   "source": [
    "To retrieve keys, iterate through each key sequentially. If the number of keys is n, then the time complexity will be O(n)."
   ]
  }
 ],
 "metadata": {
  "kernelspec": {
   "display_name": "Python 3 (ipykernel)",
   "language": "python",
   "name": "python3"
  },
  "language_info": {
   "codemirror_mode": {
    "name": "ipython",
    "version": 3
   },
   "file_extension": ".py",
   "mimetype": "text/x-python",
   "name": "python",
   "nbconvert_exporter": "python",
   "pygments_lexer": "ipython3",
   "version": "3.11.5"
  }
 },
 "nbformat": 4,
 "nbformat_minor": 5
}
