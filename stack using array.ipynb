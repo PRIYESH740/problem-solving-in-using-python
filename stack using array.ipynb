{
 "cells": [
  {
   "cell_type": "markdown",
   "id": "465c3c1a-618b-4b87-91d7-239d3ab9e190",
   "metadata": {},
   "source": [
    "### stack using array\n"
   ]
  },
  {
   "cell_type": "code",
   "execution_count": 9,
   "id": "024e169f-012d-4878-beb2-0535aa4db4be",
   "metadata": {},
   "outputs": [],
   "source": [
    "class stack:\n",
    "\n",
    "    def __init__(self):\n",
    "        self.__data=[]\n",
    "    def push(self,item):\n",
    "        self.__data.append(item)\n",
    "\n",
    "    def pop(self):\n",
    "        if self.isEmpty():\n",
    "            print(\"Hey ! stak is Empty!!\")\n",
    "        return self.__data.pop()\n",
    "\n",
    "    def top(self):\n",
    "        if self.isEmpty():\n",
    "            print(\"!Hey stack is Empty! \")\n",
    "            return\n",
    "        return self.__data[len(self.__data)-1]\n",
    "    def size(self):\n",
    "        return len(self.__data)\n",
    "\n",
    "    def isEmpty(self):\n",
    "        return self.size()==0\n",
    "\n",
    "    \n",
    "    \n",
    "        \n",
    "     \n"
   ]
  },
  {
   "cell_type": "code",
   "execution_count": 14,
   "id": "f2ffef10-9c5a-41fd-b301-1cfd7b52ec58",
   "metadata": {},
   "outputs": [
    {
     "name": "stdout",
     "output_type": "stream",
     "text": [
      "20\n",
      "10\n",
      "15\n",
      "!Hey stack is Empty! \n"
     ]
    }
   ],
   "source": [
    "s=stack()\n",
    "s.push(15)\n",
    "s.push(10)\n",
    "s.push(20)\n",
    "\n",
    "while s.isEmpty() is False:\n",
    "    print(s.pop())\n",
    "s.top()\n"
   ]
  },
  {
   "cell_type": "markdown",
   "id": "edbcb4b0-8ca3-47a8-bbc5-ccf648a564b1",
   "metadata": {},
   "source": [
    "### stackUsingLinked list\n"
   ]
  },
  {
   "cell_type": "code",
   "execution_count": 1,
   "id": "708f31cb-1d65-456d-969f-8ece557b2bb1",
   "metadata": {},
   "outputs": [],
   "source": [
    "\n",
    "from sys import stdin\n",
    "\n",
    "#Following is the structure of the node class for a Singly Linked List\n",
    "class Node :\n",
    "\n",
    "    def __init__(self, data) :\n",
    "        self.data = data\n",
    "        self.next = None\n",
    "\n",
    "\n",
    "class stack:\n",
    "     def __init__(self):\n",
    "        self.__head=None\n",
    "        self.__count=0\n",
    "\n",
    "     def push(self,data):\n",
    "         newNode= Node(data)\n",
    "         newNode.next=self.__head\n",
    "         self.__head=newNode\n",
    "         self.__count=self.__count+1\n",
    "        \n",
    "        \n",
    "        \n",
    "     def pop(self):\n",
    "         if self.isEmpty():\n",
    "             print(\"Hey ! stak is Empty!!\")\n",
    "         self.__curr=self.__head\n",
    "         self.__head=self.__head.next\n",
    "         self.__count=self.__count-1\n",
    "         return self.__curr.data\n",
    "\n",
    "     def top(self):\n",
    "         if self.isEmpty():\n",
    "             print(\"!Hey stack is Empty! \")\n",
    "             return\n",
    "         return self.__head.data\n",
    "     def size(self):\n",
    "         return self.__count\n",
    "\n",
    "     def isEmpty(self):\n",
    "         return self.__count == 0"
   ]
  },
  {
   "cell_type": "code",
   "execution_count": 2,
   "id": "ca1706ff-34b6-42d2-9e29-c9dab08293de",
   "metadata": {},
   "outputs": [
    {
     "name": "stdout",
     "output_type": "stream",
     "text": [
      "20\n",
      "10\n",
      "2\n",
      "False\n"
     ]
    }
   ],
   "source": [
    "sta=stack()\n",
    "sta.push(15)\n",
    "sta.push(10)\n",
    "sta.push(20)\n",
    "\n",
    "#while sta.isEmpty() is False:\n",
    "print(sta.pop())\n",
    "print(sta.top())\n",
    "print(sta.size())\n",
    "print(sta.isEmpty())"
   ]
  },
  {
   "cell_type": "markdown",
   "id": "c36da55d-b55d-48cb-a246-a51f7c0ba040",
   "metadata": {},
   "source": [
    "### Balanced Parasythesis "
   ]
  },
  {
   "cell_type": "code",
   "execution_count": 16,
   "id": "ff64ae1f-40fd-4dbc-9df8-ddc31d667a4e",
   "metadata": {},
   "outputs": [
    {
     "name": "stdout",
     "output_type": "stream",
     "text": [
      "true\n"
     ]
    }
   ],
   "source": [
    "def isBalanced(expression) :\n",
    "    stack=[]\n",
    "    for char1 in expression:\n",
    "        if char1 in '({[':\n",
    "            stack.append(char1)\n",
    "            \n",
    "    for char2 in expression:\n",
    "        if char2 in ')}]':\n",
    "            if len(stack)==0:\n",
    "                return True\n",
    "            elif stack[-1]=='(' and char2==')':\n",
    "                stack.pop()\n",
    "            elif stack[-1]=='{' and char2=='}':\n",
    "                stack.pop()\n",
    "            elif stack[-1]=='[' and char2==']':\n",
    "                stack.pop()\n",
    "    if len(stack)==0:\n",
    "        return True\n",
    "    else:\n",
    "        return False\n",
    "\n",
    "\n",
    "\t#Your code goes here\n",
    "\n",
    "#main\n",
    "expression = ')()()('\n",
    "\n",
    "if isBalanced(expression):\n",
    "\tprint(\"true\")\n",
    "\n",
    "else :\n",
    "\tprint(\"false\")"
   ]
  },
  {
   "cell_type": "code",
   "execution_count": 9,
   "id": "54f52d5a-9b59-48f3-bd93-e33519b7c104",
   "metadata": {},
   "outputs": [
    {
     "name": "stdout",
     "output_type": "stream",
     "text": [
      "(\n",
      "(\n",
      "(\n",
      "(\n"
     ]
    }
   ],
   "source": [
    "expression='(()()())'\n",
    "for char1 in expression:\n",
    "    if char1 in '({[':\n",
    "        print(char1)"
   ]
  },
  {
   "cell_type": "code",
   "execution_count": 19,
   "id": "b9d55995-98cc-4f7a-96c0-08318e7053b8",
   "metadata": {},
   "outputs": [
    {
     "name": "stdout",
     "output_type": "stream",
     "text": [
      "false\n"
     ]
    }
   ],
   "source": [
    "def isBalanced(expression) :\n",
    "    stack=[]\n",
    "    for char1 in expression:\n",
    "        if char1 in '({[':\n",
    "            stack.append(char1)\n",
    "        elif char1 == ')':\n",
    "            if (not stack or stack[-1]!='('):\n",
    "                return False\n",
    "            stack.pop()\n",
    "        elif char1 == '}':\n",
    "            if (not stack or stack[-1]!='{'):\n",
    "                return False\n",
    "            stack.pop()\n",
    "        elif char1 == ']':\n",
    "            if (not stack or stack[-1]!='['):\n",
    "                return False\n",
    "            stack.pop()\n",
    "            \n",
    "    if len(stack)==0:\n",
    "        return True\n",
    "    else:\n",
    "        return False\n",
    "\n",
    "\n",
    "\t#Your code goes here\n",
    "\n",
    "#main\n",
    "expression = ')()()('\n",
    "\n",
    "if isBalanced(expression):\n",
    "\tprint(\"true\")\n",
    "\n",
    "else :\n",
    "\tprint(\"false\")"
   ]
  },
  {
   "cell_type": "markdown",
   "id": "542ed889-9172-40c9-b9ed-e5ccdafbf62f",
   "metadata": {},
   "source": [
    "### Reverse stack using another stack "
   ]
  },
  {
   "cell_type": "code",
   "execution_count": 35,
   "id": "d4fffd89-8e8f-44f1-9b26-578a299c13dd",
   "metadata": {},
   "outputs": [
    {
     "ename": "IndentationError",
     "evalue": "unindent does not match any outer indentation level (<tokenize>, line 6)",
     "output_type": "error",
     "traceback": [
      "\u001b[1;36m  File \u001b[1;32m<tokenize>:6\u001b[1;36m\u001b[0m\n\u001b[1;33m    extraStack.append(ele)\u001b[0m\n\u001b[1;37m    ^\u001b[0m\n\u001b[1;31mIndentationError\u001b[0m\u001b[1;31m:\u001b[0m unindent does not match any outer indentation level\n"
     ]
    }
   ],
   "source": [
    "def reverseStack(inputStack, extraStack) :\n",
    "    if len(inputStack)==1:\n",
    "\t\treturn inputStack\n",
    "    for i in range(len(inputStack)-1):\n",
    "\t\tele=inputStack.pop()\n",
    "        extraStack.append(ele)\n",
    "\n",
    "    temp=inputStack.pop()\n",
    "\tfor i in range(len(extraStack)):\n",
    "        ele=extraStack.pop()\n",
    "\t\tinputStack.append(ele)\n",
    "\n",
    "\treverseStack(inputStack, extraStack)\n",
    "\tinputStack.append(temp)\n",
    "\treturn inputStack\n",
    "\n",
    "#main\n",
    "def isEmpty(stack) :\n",
    "    return len(stack) == 0\n",
    "\n",
    "\n",
    "#Taking input using fast I/o method\n",
    "def isEmpty(stack) :\n",
    "    return len(stack) == 0\n",
    "\n",
    "# Main\n",
    "inputStack = [1,2,3,4]\n",
    "emptyStack = []\n",
    "\n",
    "reverseStack(inputStack, emptyStack)\n",
    "\n",
    "while not isEmpty(inputStack) :\n",
    "\tprint(inputStack.pop(), end = \" \")"
   ]
  },
  {
   "cell_type": "code",
   "execution_count": 48,
   "id": "21b0c724-81ce-457d-9bea-b4e7431bc460",
   "metadata": {},
   "outputs": [
    {
     "ename": "TabError",
     "evalue": "inconsistent use of tabs and spaces in indentation (2142644703.py, line 3)",
     "output_type": "error",
     "traceback": [
      "\u001b[1;36m  Cell \u001b[1;32mIn[48], line 3\u001b[1;36m\u001b[0m\n\u001b[1;33m    return inputStack\u001b[0m\n\u001b[1;37m    ^\u001b[0m\n\u001b[1;31mTabError\u001b[0m\u001b[1;31m:\u001b[0m inconsistent use of tabs and spaces in indentation\n"
     ]
    }
   ],
   "source": [
    "def reverseStack(inputStack, extraStack) :\n",
    "    if len(inputStack)==1:\n",
    "\t\treturn inputStack\n",
    "    while (len(inputStack)!=1):\n",
    "        ele=inputStack.pop()\n",
    "        extraStack.append(ele)\n",
    "    temp=inputStack.pop()\n",
    "\twhile (len(extraStack)!=0):\n",
    "        ele=extraStack.pop()\n",
    "\t\tinputStack.append(ele)\n",
    "    \n",
    "    reverseStack(inputStack, extraStack)\n",
    "    inputStack.append(temp)\n",
    "    return inputStack\n",
    "#main\n",
    "def isEmpty(stack) :\n",
    "    return len(stack) == 0\n",
    "\n",
    "\n",
    "#Taking input using fast I/o method\n",
    "def isEmpty(stack) :\n",
    "    return len(stack) == 0\n",
    "\n",
    "# Main\n",
    "inputStack = [1,2,3,4]\n",
    "emptyStack = []\n",
    "\n",
    "reverseStack(inputStack, emptyStack)\n",
    "\n",
    "while not isEmpty(inputStack) :\n",
    "\tprint(inputStack.pop(), end = \" \")"
   ]
  },
  {
   "cell_type": "code",
   "execution_count": 39,
   "id": "ba8ae342-364b-41e7-a1e4-61ab1b60054f",
   "metadata": {},
   "outputs": [
    {
     "name": "stdout",
     "output_type": "stream",
     "text": [
      "[1, 2, 3, 4]\n",
      "[1, 2, 3]\n"
     ]
    }
   ],
   "source": [
    "list1=[1,2,3]\n",
    "list1.append(4)\n",
    "print(list1)\n",
    "list1.pop()\n",
    "print(list1)"
   ]
  },
  {
   "cell_type": "markdown",
   "id": "629d3f82-716b-4c90-93c5-ecd4940153e5",
   "metadata": {},
   "source": [
    "### Redundant brackets"
   ]
  },
  {
   "cell_type": "code",
   "execution_count": 17,
   "id": "7208ace4-56f4-449b-bdd1-f92b6f5a6e27",
   "metadata": {},
   "outputs": [
    {
     "name": "stdout",
     "output_type": "stream",
     "text": [
      "true\n"
     ]
    }
   ],
   "source": [
    "def checkRedundantBrackets(expression) :\n",
    "    stack=[]\n",
    "    for char1 in expression:\n",
    "        if char1 in '({[':\n",
    "            stack.append(char1)\n",
    "        if char1 in '+-*/':\n",
    "            stack.append(char1)\n",
    "            \n",
    "        elif char1 == ')'and len(stack)>1:\n",
    "            if (stack[-2]=='(' and stack[-1]=='+' or stack[-1]=='-' or stack[-1]=='*' or stack[-1]=='/'):\n",
    "                stack.pop()\n",
    "                stack.pop()\n",
    "                \n",
    "            \n",
    "        elif char1 == '}' and len(stack)>1:\n",
    "            if (stack[-2]=='{' and stack[-1]=='+' or stack[-1]=='-' or stack[-1]=='*' or stack[-1]=='/'):\n",
    "                stack.pop()\n",
    "                stack.pop()\n",
    "                \n",
    "            \n",
    "        elif char1 == ']' and len(stack)>1:\n",
    "            if (stack[-2]==']'  and stack[-1]=='+' or stack[-1]=='-' or stack[-1]=='*' or stack[-1]=='/'):\n",
    "                stack.pop()\n",
    "                stack.pop()\n",
    "            \n",
    "    if len(stack)==0:\n",
    "        return False\n",
    "    else:\n",
    "        return True\n",
    "\n",
    "\n",
    "\t#Your code goes here\n",
    "\n",
    "#main\n",
    "expression = 'a+(b)+c'\n",
    "\n",
    "if checkRedundantBrackets(expression):\n",
    "\tprint(\"true\")\n",
    "\n",
    "else :\n",
    "\tprint(\"false\")"
   ]
  },
  {
   "cell_type": "code",
   "execution_count": null,
   "id": "3095a6d0-a1cb-46d0-88a9-da4017a94e26",
   "metadata": {},
   "outputs": [],
   "source": [
    "return False"
   ]
  }
 ],
 "metadata": {
  "kernelspec": {
   "display_name": "Python 3 (ipykernel)",
   "language": "python",
   "name": "python3"
  },
  "language_info": {
   "codemirror_mode": {
    "name": "ipython",
    "version": 3
   },
   "file_extension": ".py",
   "mimetype": "text/x-python",
   "name": "python",
   "nbconvert_exporter": "python",
   "pygments_lexer": "ipython3",
   "version": "3.11.5"
  }
 },
 "nbformat": 4,
 "nbformat_minor": 5
}
