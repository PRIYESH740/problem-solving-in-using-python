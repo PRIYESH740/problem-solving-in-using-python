{
 "cells": [
  {
   "cell_type": "markdown",
   "id": "58e7d419-b481-4290-b681-a95cb120d4a6",
   "metadata": {},
   "source": [
    "###  simple binary tree"
   ]
  },
  {
   "cell_type": "code",
   "execution_count": 1,
   "id": "2e557439-5de3-43a4-9d8c-f3aa80bed2a7",
   "metadata": {},
   "outputs": [],
   "source": [
    "class BinaryTreeNode:\n",
    "    def __init__(self,data):\n",
    "        self.data=data\n",
    "        self.left=None\n",
    "        self.right=None\n",
    "        \n",
    "        "
   ]
  },
  {
   "cell_type": "code",
   "execution_count": 2,
   "id": "14dc17e9-3335-4312-8cd8-7695ce49b636",
   "metadata": {},
   "outputs": [],
   "source": [
    "def printTree(root):\n",
    "    if root==None:\n",
    "        return  \n",
    "    print(root.data)\n",
    "    printTree(root.left)\n",
    "    printTree(root.right)\n",
    "     "
   ]
  },
  {
   "cell_type": "code",
   "execution_count": 3,
   "id": "d4aa68e9-6e5e-4af2-a9c4-44a084914b29",
   "metadata": {},
   "outputs": [],
   "source": [
    "def printTreeDetailed(root):\n",
    "    if root==None:\n",
    "        return  \n",
    "    print(root.data, end =\":\")\n",
    "    if root.left is not None:\n",
    "        print(\"L\",root.left.data,end=\",\")\n",
    "    if root.right is not None:\n",
    "        print(\"R\",root.right.data,end=\"\")\n",
    "    print()\n",
    "    printTreeDetailed(root.left)\n",
    "    printTreeDetailed(root.right)\n",
    "     "
   ]
  },
  {
   "cell_type": "code",
   "execution_count": 4,
   "id": "a44b0607-7845-40db-9ff3-b92068447356",
   "metadata": {},
   "outputs": [],
   "source": [
    "btn1=BinaryTreeNode(1)\n",
    "btn2=BinaryTreeNode(2)\n",
    "btn3=BinaryTreeNode(3)\n",
    "btn4=BinaryTreeNode(4)\n",
    "btn5=BinaryTreeNode(5)"
   ]
  },
  {
   "cell_type": "code",
   "execution_count": 5,
   "id": "0a36550a-d4c0-44ec-8126-f406d07d385b",
   "metadata": {},
   "outputs": [],
   "source": [
    "btn1.left=btn2\n",
    "btn1.right=btn3\n",
    "btn2.left=btn4\n",
    "btn2.right=btn5"
   ]
  },
  {
   "cell_type": "code",
   "execution_count": 6,
   "id": "0fa91889-b364-47c7-9add-fa2bffd7d2af",
   "metadata": {},
   "outputs": [
    {
     "name": "stdout",
     "output_type": "stream",
     "text": [
      "1\n",
      "2\n",
      "4\n",
      "5\n",
      "3\n"
     ]
    }
   ],
   "source": [
    "printTree(btn1)"
   ]
  },
  {
   "cell_type": "code",
   "execution_count": 7,
   "id": "1e65905c-6804-42b2-81f3-9768f85f9367",
   "metadata": {},
   "outputs": [
    {
     "name": "stdout",
     "output_type": "stream",
     "text": [
      "1:L 2,R 3\n",
      "2:L 4,R 5\n",
      "4:\n",
      "5:\n",
      "3:\n"
     ]
    }
   ],
   "source": [
    "printTreeDetailed(btn1)"
   ]
  },
  {
   "cell_type": "markdown",
   "id": "c47e25de-8192-4a6b-a67f-bc2981e5bccb",
   "metadata": {},
   "source": [
    "### how create binary tree by taking input from user"
   ]
  },
  {
   "cell_type": "code",
   "execution_count": 8,
   "id": "1928278d-3462-4ab0-8457-3609fcacff84",
   "metadata": {},
   "outputs": [],
   "source": [
    "def treeInput():\n",
    "    rootData=int(input())\n",
    "    if rootData==-1:\n",
    "        return None\n",
    "    root=BinaryTreeNode(rootData)\n",
    "    leftTree=treeInput()\n",
    "    rightTree=treeInput()\n",
    "    root.left=leftTree\n",
    "    root.right=rightTree\n",
    "    return root\n",
    "    \n",
    "    "
   ]
  },
  {
   "cell_type": "code",
   "execution_count": 11,
   "id": "e5385116",
   "metadata": {},
   "outputs": [
    {
     "name": "stdout",
     "output_type": "stream",
     "text": [
      "1\n",
      "2\n",
      "4\n",
      "-1\n",
      "-1\n",
      "5\n",
      "-1\n",
      "-1\n",
      "3\n",
      "-1\n",
      "-1\n",
      "5\n",
      "15\n"
     ]
    }
   ],
   "source": [
    "root=treeInput()\n",
    "print(numNodes(root))\n",
    "print(getSum(root))"
   ]
  },
  {
   "cell_type": "markdown",
   "id": "017fff6a-77db-44f5-a902-6386d744a684",
   "metadata": {},
   "source": [
    "### count number nodes in Binary tree "
   ]
  },
  {
   "cell_type": "code",
   "execution_count": 10,
   "id": "02909600-f3bb-458e-a8b2-e8b2523cea8e",
   "metadata": {},
   "outputs": [],
   "source": [
    "def numNodes(root):\n",
    "    if root==None:\n",
    "        return 0\n",
    "    leftCount=numNodes(root.left)\n",
    "    rightCount=numNodes(root.right)\n",
    "    return 1 + leftCount + rightCount"
   ]
  },
  {
   "cell_type": "markdown",
   "id": "32f6df33-2524-4924-ae32-4d63a09f5720",
   "metadata": {},
   "source": [
    "### sum of all nodes that is present in binary tree "
   ]
  },
  {
   "cell_type": "code",
   "execution_count": 9,
   "id": "84a8aca2-d42d-4494-8b38-f5f41834fe5d",
   "metadata": {},
   "outputs": [],
   "source": [
    "def getSum(root):\n",
    "\t#Your code goes here\n",
    "    if root==None:\n",
    "        return 0\n",
    "    leftSum=getSum(root.left)\n",
    "    rightSum=getSum(root.right)\n",
    "    return root.data + leftSum + rightSum\n",
    "\n"
   ]
  },
  {
   "cell_type": "markdown",
   "id": "b7d7bf15-e874-4428-8b4b-24656c57852d",
   "metadata": {},
   "source": [
    "### largestData in binary tree"
   ]
  },
  {
   "cell_type": "code",
   "execution_count": 15,
   "id": "e7dfe7cc-1701-416e-9cb8-149e7f0284b3",
   "metadata": {},
   "outputs": [],
   "source": [
    "def largestData(root):\n",
    "    if root==None:\n",
    "        return -1    #ideally return - infinity\n",
    "    leftLargest=largestData(root.left)\n",
    "    rightLargest=largestData(root.right)\n",
    "    return max(leftLargest,root.data,rightLargest)\n"
   ]
  },
  {
   "cell_type": "code",
   "execution_count": 18,
   "id": "6ce081a1-64a0-4af4-9d60-b4407ab6bede",
   "metadata": {
    "scrolled": true
   },
   "outputs": [
    {
     "name": "stdout",
     "output_type": "stream",
     "text": [
      "10\n",
      "20\n",
      "5\n",
      "-1\n",
      "-1\n",
      "9\n",
      "-1\n",
      "-1\n",
      "3\n",
      "-1\n",
      "-1\n",
      "10:L 20,R 3\n",
      "20:L 5,R 9\n",
      "5:\n",
      "9:\n",
      "3:\n",
      "20\n",
      "5 9 20 3 10 10 20 5 9 3 "
     ]
    }
   ],
   "source": [
    "root=treeInput()\n",
    "printTreeDetailed(root)\n",
    "print(largestData(root))\n",
    "postOrder(root)\n",
    "preOrder(root)"
   ]
  },
  {
   "cell_type": "markdown",
   "id": "3d4c06eb-2e1d-4245-ba90-1511a79493e8",
   "metadata": {},
   "source": [
    "### Preorder Binary Tree"
   ]
  },
  {
   "cell_type": "code",
   "execution_count": 17,
   "id": "03385092-044f-437c-ad52-1a58650d5620",
   "metadata": {},
   "outputs": [],
   "source": [
    "def preOrder(root):\n",
    "\t# Your code goes here\n",
    "    if root==None:\n",
    "        return  \n",
    "    print(root.data, end =\" \")\n",
    "    preOrder(root.left)\n",
    "    preOrder(root.right)\n",
    "     "
   ]
  },
  {
   "cell_type": "markdown",
   "id": "38e416b6-9ce3-48f2-9c72-cbd5ed1bcd25",
   "metadata": {},
   "source": [
    "### Postorder Binary Tree"
   ]
  },
  {
   "cell_type": "code",
   "execution_count": 13,
   "id": "06dc6617-544f-4b1d-80b7-51f8c350109e",
   "metadata": {},
   "outputs": [],
   "source": [
    "def postOrder(root):\n",
    "\t#Your code goes here\n",
    "    if root==None:\n",
    "        return\n",
    "    postOrder(root.left)\n",
    "    print(root.data, end =\" \")\n",
    "    postOrder(root.right)\n",
    "    "
   ]
  },
  {
   "cell_type": "markdown",
   "id": "c488ee94-be5c-4838-9a8b-c831cd6403fa",
   "metadata": {},
   "source": []
  },
  {
   "cell_type": "code",
   "execution_count": 32,
   "id": "d443799b-4ccb-4f50-9dea-3fd71ac4b1a2",
   "metadata": {},
   "outputs": [
    {
     "data": {
      "text/plain": [
       "4"
      ]
     },
     "execution_count": 32,
     "metadata": {},
     "output_type": "execute_result"
    }
   ],
   "source": [
    "max(2,3,4)"
   ]
  },
  {
   "cell_type": "markdown",
   "id": "a53efb80-f18a-4c0c-b906-1515e8cca43a",
   "metadata": {},
   "source": [
    " ### Nodes Greater Than X"
   ]
  },
  {
   "cell_type": "code",
   "execution_count": 1,
   "id": "e56dd050-d668-4689-8291-8d00d107891a",
   "metadata": {},
   "outputs": [
    {
     "name": "stdin",
     "output_type": "stream",
     "text": [
      " 5 6 10 2 3 -1 -1 -1 -1 -1 9 -1 -1\n",
      " 5\n"
     ]
    },
    {
     "name": "stdout",
     "output_type": "stream",
     "text": [
      "3\n"
     ]
    }
   ],
   "source": [
    "import queue\n",
    "class BinaryTreeNode:\n",
    "    def __init__(self, data):\n",
    "        self.data = data\n",
    "        self.left = None\n",
    "        self.right = None\n",
    "\n",
    "def countNodesGreaterThanX(root, x):\n",
    "    if root == None:\n",
    "        return 0\n",
    "    \n",
    "    leftX = countNodesGreaterThanX(root.left, x)\n",
    "    rightX = countNodesGreaterThanX(root.right, x)\n",
    "            \n",
    "    if root.data > x:\n",
    "        return 1 + leftX + rightX\n",
    "    return leftX + rightX \n",
    "    \n",
    "def buildLevelTree(levelorder):\n",
    "    index = 0\n",
    "    length = len(levelorder)\n",
    "    if length<=0 or levelorder[0]==-1:\n",
    "        return None\n",
    "    root = BinaryTreeNode(levelorder[index])\n",
    "    index += 1\n",
    "    q = queue.Queue()\n",
    "    q.put(root)\n",
    "    while not q.empty():\n",
    "        currentNode = q.get()\n",
    "        leftChild = levelorder[index]\n",
    "        index += 1\n",
    "        if leftChild != -1:\n",
    "            leftNode = BinaryTreeNode(leftChild)\n",
    "            currentNode.left =leftNode\n",
    "            q.put(leftNode)\n",
    "        rightChild = levelorder[index]\n",
    "        index += 1\n",
    "        if rightChild != -1:\n",
    "            rightNode = BinaryTreeNode(rightChild)\n",
    "            currentNode.right =rightNode\n",
    "            q.put(rightNode)\n",
    "    return root\n",
    "\n",
    "# Main\n",
    "levelOrder = [int(i) for i in input().strip().split()]\n",
    "x=int(input())\n",
    "root = buildLevelTree(levelOrder)\n",
    "print(countNodesGreaterThanX(root, x))"
   ]
  },
  {
   "cell_type": "markdown",
   "id": "53727939-1929-41c3-ae7b-47c13ca75484",
   "metadata": {},
   "source": [
    "### Height Of Tree"
   ]
  },
  {
   "cell_type": "code",
   "execution_count": null,
   "id": "3ae36df2-4e9a-4ecc-b634-eb79a09c29b2",
   "metadata": {},
   "outputs": [],
   "source": [
    "def height(root) :\n",
    "    if root is None:\n",
    "        return 0\n",
    "\n",
    "    leftHeight=height(root.left)\n",
    "    rightHeight=height(root.right)\n",
    "    if leftHeight>rightHeight:\n",
    "        return 1+leftHeight\n",
    "    else :\n",
    "        return 1+rightHeight"
   ]
  },
  {
   "cell_type": "markdown",
   "id": "a5bfdc8a-77d9-4839-93f5-751419395083",
   "metadata": {},
   "source": [
    "### number of leaf nodes"
   ]
  },
  {
   "cell_type": "code",
   "execution_count": 8,
   "id": "b8357353-8ed5-44e0-b47a-c000ab1126c8",
   "metadata": {},
   "outputs": [],
   "source": [
    "def numLeafNodes(root):\n",
    "    if root == None:\n",
    "        return 0\n",
    "    if root.left==None and root.right==None:\n",
    "        return 1\n",
    "    numLeafLeft=numLeafNodes(root.left)\n",
    "    numLeafRight=numLeafNodes(root.right)\n",
    "    return numLeafLeft + numLeafRight\n",
    "    "
   ]
  },
  {
   "cell_type": "code",
   "execution_count": 9,
   "id": "783837bc-c232-4ed9-b4e9-1672e9c95593",
   "metadata": {},
   "outputs": [
    {
     "name": "stdin",
     "output_type": "stream",
     "text": [
      " 1\n",
      " 2\n",
      " -1\n",
      " -1\n",
      " -1\n"
     ]
    },
    {
     "name": "stdout",
     "output_type": "stream",
     "text": [
      "1:L 2,\n",
      "2:\n",
      "1\n"
     ]
    }
   ],
   "source": [
    "root=treeInput()\n",
    "printTreeDetailed(root)\n",
    "print(numLeafNodes(root))"
   ]
  },
  {
   "cell_type": "markdown",
   "id": "946c0f46-594f-4407-a5f4-d0e9bfc2d53c",
   "metadata": {},
   "source": [
    "### PrintNodesAtDepthK "
   ]
  },
  {
   "cell_type": "code",
   "execution_count": 11,
   "id": "d4a9719d-6695-45ff-b586-2fe80b668b71",
   "metadata": {},
   "outputs": [],
   "source": [
    "def printDepthK(root,k):\n",
    "    if root==None:\n",
    "        return\n",
    "    if k==0:\n",
    "        print(root.data)\n",
    "        return\n",
    "    printDepthK(root.left,k-1)\n",
    "    printDepthK(root.right,k-1)\n",
    "    \n",
    "    "
   ]
  },
  {
   "cell_type": "code",
   "execution_count": 12,
   "id": "1d206eef-b5e7-4ae1-922b-4d0f7801e404",
   "metadata": {},
   "outputs": [
    {
     "name": "stdin",
     "output_type": "stream",
     "text": [
      " 1\n",
      " 2\n",
      " 4\n",
      " -1\n",
      " -1\n",
      " 5\n",
      " -1\n",
      " -1\n",
      " 3\n",
      " 6\n",
      " -1\n",
      " -1\n",
      " -1\n"
     ]
    },
    {
     "name": "stdout",
     "output_type": "stream",
     "text": [
      "1:L 2,R 3\n",
      "2:L 4,R 5\n",
      "4:\n",
      "5:\n",
      "3:L 6,\n",
      "6:\n",
      "4\n",
      "5\n",
      "6\n"
     ]
    }
   ],
   "source": [
    "root=treeInput()\n",
    "printTreeDetailed(root)\n",
    "printDepthK(root,2)"
   ]
  },
  {
   "cell_type": "code",
   "execution_count": 14,
   "id": "5ffb47e7-e9df-4c11-92d2-bef10be74c59",
   "metadata": {},
   "outputs": [],
   "source": [
    "def printDepthK2(root,k,d=0):\n",
    "    if root==None:\n",
    "        return\n",
    "    if k==d:\n",
    "        print(root.data)\n",
    "        return\n",
    "    printDepthK2(root.left,k,d+1)\n",
    "    printDepthK2(root.right,k,d+1)\n",
    "    \n",
    "  "
   ]
  },
  {
   "cell_type": "code",
   "execution_count": 15,
   "id": "a24ff595-8447-40a1-9fd9-57f2a3ad50ca",
   "metadata": {
    "scrolled": true
   },
   "outputs": [
    {
     "name": "stdin",
     "output_type": "stream",
     "text": [
      " 1\n",
      " 2\n",
      " 4\n",
      " -1\n",
      " -1\n",
      " 5\n",
      " -1\n",
      " -1\n",
      " 3\n",
      " 6\n",
      " -1\n",
      " -1\n",
      " -1\n"
     ]
    },
    {
     "name": "stdout",
     "output_type": "stream",
     "text": [
      "1:L 2,R 3\n",
      "2:L 4,R 5\n",
      "4:\n",
      "5:\n",
      "3:L 6,\n",
      "6:\n",
      "4\n",
      "5\n",
      "6\n"
     ]
    }
   ],
   "source": [
    "root=treeInput()\n",
    "printTreeDetailed(root)\n",
    "printDepthK2(root,2)"
   ]
  },
  {
   "cell_type": "markdown",
   "id": "c39d78d5-b288-4334-8119-0cb6b7a7976d",
   "metadata": {},
   "source": [
    "### Replace Node With Depth"
   ]
  },
  {
   "cell_type": "code",
   "execution_count": null,
   "id": "edf0e6a4-96db-42ec-a1a8-105590e3f9e4",
   "metadata": {},
   "outputs": [],
   "source": [
    "def changeToDepthTree(root,d=0) :\n",
    "    if root is None:\n",
    "        return\n",
    "    root.data=d\n",
    "    changeToDepthTree(root.left,d+1)\n",
    "    changeToDepthTree(root.right,d+1)\n",
    "\n"
   ]
  },
  {
   "cell_type": "markdown",
   "id": "d7ae1020-6ab2-4851-981a-ec491974ee2e",
   "metadata": {},
   "source": [
    "### Is Node Present?"
   ]
  },
  {
   "cell_type": "code",
   "execution_count": null,
   "id": "7d4fbdc4-681b-4274-8b67-a36c132f3f69",
   "metadata": {},
   "outputs": [],
   "source": [
    "def isNodePresent(root, x):\n",
    "    if root is None:\n",
    "        return False\n",
    "    if root.data==x:\n",
    "        return True\n",
    "    left=isNodePresent(root.left, x)\n",
    "    right=isNodePresent(root.right, x)\n",
    "    if left:\n",
    "        return True\n",
    "    if right:\n",
    "        return True\n"
   ]
  },
  {
   "cell_type": "markdown",
   "id": "d92e54dd-8b95-4ced-9eb1-62ce3e9c404b",
   "metadata": {},
   "source": [
    "### Nodes without sibling    "
   ]
  },
  {
   "cell_type": "code",
   "execution_count": null,
   "id": "efb3d4ca-6724-4002-9372-b909b3662f82",
   "metadata": {},
   "outputs": [],
   "source": [
    "def printNodesWithoutSibling(root) :\n",
    "    if root is None:\n",
    "        return None\n",
    "    if root.left!=None and root.right==None:\n",
    "        print(root.left.data,end=\" \")\n",
    "    elif root.left==None and root.right!=None:\n",
    "        print(root.right.data,end=\" \")\n",
    "    \n",
    "    printNodesWithoutSibling(root.left)\n",
    "    printNodesWithoutSibling(root.right)\n"
   ]
  }
 ],
 "metadata": {
  "kernelspec": {
   "display_name": "Python 3 (ipykernel)",
   "language": "python",
   "name": "python3"
  },
  "language_info": {
   "codemirror_mode": {
    "name": "ipython",
    "version": 3
   },
   "file_extension": ".py",
   "mimetype": "text/x-python",
   "name": "python",
   "nbconvert_exporter": "python",
   "pygments_lexer": "ipython3",
   "version": "3.11.5"
  },
  "widgets": {
   "application/vnd.jupyter.widget-state+json": {
    "state": {},
    "version_major": 2,
    "version_minor": 0
   }
  }
 },
 "nbformat": 4,
 "nbformat_minor": 5
}
