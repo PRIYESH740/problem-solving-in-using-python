{
 "cells": [
  {
   "cell_type": "code",
   "execution_count": 2,
   "id": "9764bfac",
   "metadata": {},
   "outputs": [],
   "source": [
    "def calculate_bmi(height,weight):\n",
    "    \"\"\" calcute body mass index \"\"\"\n",
    "    return weight/height**2\n",
    "def main():\n",
    "    try:\n",
    "        height=float(input('Enter your height (meters):'))\n",
    "        weight=float(input('Enter your weight (kilograms):'))\n",
    "        \n",
    "    except ValueError as Error:\n",
    "        print('!Error please enter a valid number ')\n",
    "        \n",
    "    else :\n",
    "        bmi=round(calculate_bmi(height ,weight),1)\n",
    "        evaluation=evaluate_bmi(bmi)\n",
    "        \n",
    "        print(f'Your body mass index is {bmi}')\n",
    "        print(f'This is considered {evaluation}!')\n",
    "        \n",
    "def evaluate_bmi(bmi):\n",
    "    \"\"\"evaluate the bmi\"\"\"\n",
    "    if 18.5<=bmi<= 24.9:\n",
    "        return 'healthy'\n",
    "     \n",
    "    if bmi>=25:\n",
    "        return 'overweight'\n",
    "    \n",
    "    return 'underweight'"
   ]
  },
  {
   "cell_type": "code",
   "execution_count": 3,
   "id": "d4f06622",
   "metadata": {},
   "outputs": [
    {
     "name": "stdout",
     "output_type": "stream",
     "text": [
      "Enter your height (meters):1.72\n",
      "Enter your weight (kilograms):70\n",
      "Your body mass index is 23.7\n",
      "This is considered healthy!\n"
     ]
    }
   ],
   "source": [
    "main()"
   ]
  },
  {
   "cell_type": "code",
   "execution_count": 6,
   "id": "b06ca857",
   "metadata": {},
   "outputs": [
    {
     "name": "stdout",
     "output_type": "stream",
     "text": [
      "Yeah !Your answer is : 1\n",
      "This is always executeed \n",
      "None\n",
      "Sorry ! You are dividing by Zero \n",
      "This is always executeed \n",
      "None\n"
     ]
    }
   ],
   "source": [
    "def divide(x,y):\n",
    "    try:\n",
    "        result=x//y\n",
    "        \n",
    "    except:\n",
    "        print(\"Sorry ! You are dividing by Zero \")\n",
    "    else :\n",
    "        print(\"Yeah !Your answer is :\",result)\n",
    "        \n",
    "    finally:\n",
    "        print(\"This is always executeed \")\n",
    "        \n",
    "print(divide(3,2))\n",
    "\n",
    "print(divide(3,0))"
   ]
  },
  {
   "cell_type": "code",
   "execution_count": 7,
   "id": "affc5414",
   "metadata": {},
   "outputs": [
    {
     "ename": "Exception",
     "evalue": "The number shouldn't be an odd integer",
     "output_type": "error",
     "traceback": [
      "\u001b[1;31m---------------------------------------------------------------------------\u001b[0m",
      "\u001b[1;31mException\u001b[0m                                 Traceback (most recent call last)",
      "Cell \u001b[1;32mIn[7], line 4\u001b[0m\n\u001b[0;32m      1\u001b[0m a\u001b[38;5;241m=\u001b[39m\u001b[38;5;241m5\u001b[39m\n\u001b[0;32m      3\u001b[0m \u001b[38;5;28;01mif\u001b[39;00m a\u001b[38;5;241m%\u001b[39m\u001b[38;5;241m2\u001b[39m\u001b[38;5;241m!=\u001b[39m\u001b[38;5;241m0\u001b[39m:\n\u001b[1;32m----> 4\u001b[0m     \u001b[38;5;28;01mraise\u001b[39;00m \u001b[38;5;167;01mException\u001b[39;00m(\u001b[38;5;124m\"\u001b[39m\u001b[38;5;124mThe number shouldn\u001b[39m\u001b[38;5;124m'\u001b[39m\u001b[38;5;124mt be an odd integer\u001b[39m\u001b[38;5;124m\"\u001b[39m)\n",
      "\u001b[1;31mException\u001b[0m: The number shouldn't be an odd integer"
     ]
    }
   ],
   "source": [
    "a=5\n",
    "\n",
    "if a%2!=0:\n",
    "    raise Exception(\"The number shouldn't be an odd integer\")"
   ]
  },
  {
   "cell_type": "code",
   "execution_count": 9,
   "id": "0bc58d8d",
   "metadata": {},
   "outputs": [
    {
     "name": "stdout",
     "output_type": "stream",
     "text": [
      "Enter a number: 19\n",
      "Eligible to vote\n"
     ]
    }
   ],
   "source": [
    "class InvalidAgeException(Exception):\n",
    "    \"Raised when the input value is less than 18\"\n",
    "    pass\n",
    "\n",
    "number=18\n",
    "try:\n",
    "    input_num=int(input(\"Enter a number: \"))\n",
    "    if input_num<number:\n",
    "        raise InvalidAgeException\n",
    "        \n",
    "    else:\n",
    "        print(\"Eligible to vote\")\n",
    "        \n",
    "except InvalidAgeException:\n",
    "    print(\"Exception occured :Invalid Age\")"
   ]
  },
  {
   "cell_type": "code",
   "execution_count": 11,
   "id": "2669c312",
   "metadata": {},
   "outputs": [
    {
     "ename": "NameError",
     "evalue": "name 'URLError' is not defined",
     "output_type": "error",
     "traceback": [
      "\u001b[1;31m---------------------------------------------------------------------------\u001b[0m",
      "\u001b[1;31mNameError\u001b[0m                                 Traceback (most recent call last)",
      "Cell \u001b[1;32mIn[11], line 2\u001b[0m\n\u001b[0;32m      1\u001b[0m \u001b[38;5;28;01mtry\u001b[39;00m:\n\u001b[1;32m----> 2\u001b[0m     \u001b[43mclient_obj\u001b[49m\u001b[38;5;241m.\u001b[39mget_url(url)\n\u001b[0;32m      4\u001b[0m \u001b[38;5;28;01mexcept\u001b[39;00m(URLError,\u001b[38;5;167;01mValueError\u001b[39;00m,SocketTimeout):\n",
      "\u001b[1;31mNameError\u001b[0m: name 'client_obj' is not defined",
      "\nDuring handling of the above exception, another exception occurred:\n",
      "\u001b[1;31mNameError\u001b[0m                                 Traceback (most recent call last)",
      "Cell \u001b[1;32mIn[11], line 4\u001b[0m\n\u001b[0;32m      1\u001b[0m \u001b[38;5;28;01mtry\u001b[39;00m:\n\u001b[0;32m      2\u001b[0m     client_obj\u001b[38;5;241m.\u001b[39mget_url(url)\n\u001b[1;32m----> 4\u001b[0m \u001b[38;5;28;01mexcept\u001b[39;00m(\u001b[43mURLError\u001b[49m,\u001b[38;5;167;01mValueError\u001b[39;00m,SocketTimeout):\n\u001b[0;32m      5\u001b[0m     client_obj\u001b[38;5;241m.\u001b[39mremove_url(url)\n",
      "\u001b[1;31mNameError\u001b[0m: name 'URLError' is not defined"
     ]
    }
   ],
   "source": [
    "try:\n",
    "    client_obj.get_url(url)\n",
    "    \n",
    "except(URLError,ValueError,SocketTimeout):\n",
    "    client_obj.remove_url(url)"
   ]
  },
  {
   "cell_type": "code",
   "execution_count": null,
   "id": "b177b3cd",
   "metadata": {},
   "outputs": [],
   "source": [
    "import java.util.Scanner;\n",
    "import java.util.Arrays;\n",
    "public class Solution{\n",
    "\n",
    "    public static int tripletSum(int[] arr , int num){\n",
    "        Arrays.sort(arr);\n",
    "        int n = arr.length;\n",
    "\n",
    "        int numTriplets = 0 ;// to store the total no of triplet sum present\n",
    "\n",
    "        for(int i = 0; i < n ; i++){\n",
    "            int pairSumFor = num - arr[i];\n",
    "\n",
    "            int numPairs = pairSum(arr , i+1 , n-1 , pairSumFor);\n",
    "\n",
    "            numTriplets +=numPairs; // updating the numTriplets\n",
    "        }\n",
    "        return numTriplets;\n",
    "    }\n",
    "\n",
    "    public static int pairSum(int[]arr , int startIndex , int endIndex, int num){\n",
    "        int numPair = 0; //to calculate the total no. of pairs\n",
    "\n",
    "        while(startIndex < endIndex){\n",
    "            if(arr[startIndex] + arr[endIndex] < num){\n",
    "                startIndex++;\n",
    "            }\n",
    "            else if(arr[startIndex] + arr[endIndex] > num){\n",
    "                endIndex--;\n",
    "            }\n",
    "            else{\n",
    "                int elementAtStart = arr[startIndex];  \n",
    "                int elementAtEnd = arr[endIndex]; \n",
    "\n",
    "                if(elementAtStart == elementAtEnd){\n",
    "                    int totalElementFromStartToEnd = (endIndex - startIndex) + 1; \n",
    "                    numPair +=( totalElementFromStartToEnd * (totalElementFromStartToEnd - 1) / 2);\n",
    "                    return numPair;\n",
    "                 }\n",
    "                int tempStartIndex = startIndex + 1;\n",
    "                int tempEndIndex = endIndex - 1;\n",
    "                while(tempStartIndex <= tempEndIndex && arr[tempStartIndex] == elementAtStart){\n",
    "                    tempStartIndex++;\n",
    "                }\n",
    "                while(tempEndIndex >= tempStartIndex && arr[tempEndIndex] == elementAtEnd){\n",
    "                    tempEndIndex--;\n",
    "                }\n",
    "\n",
    "                int totalElementsFromStrat = (tempStartIndex - startIndex);\n",
    "                int totalElementsFromEnd = (endIndex - tempEndIndex);\n",
    "\n",
    "                numPair += (totalElementsFromStrat * totalElementsFromEnd);\n",
    "\n",
    "                startIndex = tempStartIndex;//updating stratIndex\n",
    "                endIndex = tempEndIndex;//updating End INdex\n",
    "\n",
    "            }\n",
    "        }\n",
    "        return numPair;\n",
    "    }\n",
    "}"
   ]
  }
 ],
 "metadata": {
  "kernelspec": {
   "display_name": "Python 3 (ipykernel)",
   "language": "python",
   "name": "python3"
  },
  "language_info": {
   "codemirror_mode": {
    "name": "ipython",
    "version": 3
   },
   "file_extension": ".py",
   "mimetype": "text/x-python",
   "name": "python",
   "nbconvert_exporter": "python",
   "pygments_lexer": "ipython3",
   "version": "3.11.4"
  }
 },
 "nbformat": 4,
 "nbformat_minor": 5
}
