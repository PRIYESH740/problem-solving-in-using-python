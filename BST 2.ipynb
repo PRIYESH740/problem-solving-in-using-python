{
 "cells": [
  {
   "cell_type": "code",
   "execution_count": 12,
   "id": "5b1929e4-b124-423f-b6dd-8c303ac5a550",
   "metadata": {},
   "outputs": [],
   "source": [
    "class BinaryTreeNode:\n",
    "    def __init__(self,data):\n",
    "        self.data=data\n",
    "        self.left=None\n",
    "        self.right=None\n",
    "\n",
    "def printTreeDetailed(root):\n",
    "    if root==None:\n",
    "        return  \n",
    "    print(root.data, end =\":\")\n",
    "    if root.left is not None:\n",
    "        print(\"L\",root.left.data,end=\",\")\n",
    "    if root.right is not None:\n",
    "        print(\"R\",root.right.data,end=\"\")\n",
    "    print()\n",
    "    printTreeDetailed(root.left)\n",
    "    printTreeDetailed(root.right)"
   ]
  },
  {
   "cell_type": "code",
   "execution_count": 2,
   "id": "2e7e223f-b9ed-4b04-a62b-1b6ea57f924d",
   "metadata": {},
   "outputs": [],
   "source": [
    "import queue\n",
    "def takeLevelWiseTreeInput():\n",
    "    q=queue.Queue()\n",
    "    print(\"Enter root\")\n",
    "    rootData=int(input())\n",
    "    if rootData== -1:\n",
    "        return None\n",
    "    root=BinaryTreeNode(rootData)\n",
    "    q.put(root)\n",
    "    while not q.empty():\n",
    "        curr_node=q.get()\n",
    "        print(\"Enter left child of \",curr_node.data)\n",
    "        leftChildData=int(input())\n",
    "        if leftChildData != -1:\n",
    "            leftChild=BinaryTreeNode(leftChildData)\n",
    "            curr_node.left=leftChild\n",
    "            q.put(leftChild)\n",
    "        print(\"Enter right child of \",curr_node.data)\n",
    "        rightChildData=int(input())\n",
    "        if rightChildData != -1:\n",
    "            rightChild=BinaryTreeNode(rightChildData)\n",
    "            curr_node.right=rightChild\n",
    "            q.put(rightChild)\n",
    "    return root"
   ]
  },
  {
   "cell_type": "markdown",
   "id": "68395b1a-aa93-4ffc-a005-0645dced3f9c",
   "metadata": {},
   "source": [
    "### print root to node path in binary tree"
   ]
  },
  {
   "cell_type": "code",
   "execution_count": 3,
   "id": "62d4bf8a-270a-4b37-9a1f-9175dbde00fe",
   "metadata": {},
   "outputs": [],
   "source": [
    "def nodeToRootPath(root,s):\n",
    "    if root==None:\n",
    "        return None\n",
    "    if root.data==s:\n",
    "        l=list()\n",
    "        l.append(root.data)\n",
    "        return l\n",
    "    leftOutput=nodeToRootPath(root.left,s)\n",
    "    if leftOutput !=None:\n",
    "        leftOutput.append(root.data)\n",
    "        return leftOutput\n",
    "        \n",
    "    rightOutput=nodeToRootPath(root.right,s)\n",
    "    if rightOutput != None:\n",
    "        rightOutput.append(root.data)\n",
    "        return rightOutput\n",
    "    else:\n",
    "        return None\n",
    "    \n",
    "    "
   ]
  },
  {
   "cell_type": "code",
   "execution_count": 4,
   "id": "e7c277a0-92a1-406e-9c3c-091270f4afd6",
   "metadata": {},
   "outputs": [
    {
     "name": "stdout",
     "output_type": "stream",
     "text": [
      "Enter root\n"
     ]
    },
    {
     "name": "stdin",
     "output_type": "stream",
     "text": [
      " 1\n"
     ]
    },
    {
     "name": "stdout",
     "output_type": "stream",
     "text": [
      "Enter left child of  1\n"
     ]
    },
    {
     "name": "stdin",
     "output_type": "stream",
     "text": [
      " 2\n"
     ]
    },
    {
     "name": "stdout",
     "output_type": "stream",
     "text": [
      "Enter right child of  1\n"
     ]
    },
    {
     "name": "stdin",
     "output_type": "stream",
     "text": [
      " 3\n"
     ]
    },
    {
     "name": "stdout",
     "output_type": "stream",
     "text": [
      "Enter left child of  2\n"
     ]
    },
    {
     "name": "stdin",
     "output_type": "stream",
     "text": [
      " -1\n"
     ]
    },
    {
     "name": "stdout",
     "output_type": "stream",
     "text": [
      "Enter right child of  2\n"
     ]
    },
    {
     "name": "stdin",
     "output_type": "stream",
     "text": [
      " -1\n"
     ]
    },
    {
     "name": "stdout",
     "output_type": "stream",
     "text": [
      "Enter left child of  3\n"
     ]
    },
    {
     "name": "stdin",
     "output_type": "stream",
     "text": [
      " 4\n"
     ]
    },
    {
     "name": "stdout",
     "output_type": "stream",
     "text": [
      "Enter right child of  3\n"
     ]
    },
    {
     "name": "stdin",
     "output_type": "stream",
     "text": [
      " 6\n"
     ]
    },
    {
     "name": "stdout",
     "output_type": "stream",
     "text": [
      "Enter left child of  4\n"
     ]
    },
    {
     "name": "stdin",
     "output_type": "stream",
     "text": [
      " -1\n"
     ]
    },
    {
     "name": "stdout",
     "output_type": "stream",
     "text": [
      "Enter right child of  4\n"
     ]
    },
    {
     "name": "stdin",
     "output_type": "stream",
     "text": [
      " -1\n"
     ]
    },
    {
     "name": "stdout",
     "output_type": "stream",
     "text": [
      "Enter left child of  6\n"
     ]
    },
    {
     "name": "stdin",
     "output_type": "stream",
     "text": [
      " 5\n"
     ]
    },
    {
     "name": "stdout",
     "output_type": "stream",
     "text": [
      "Enter right child of  6\n"
     ]
    },
    {
     "name": "stdin",
     "output_type": "stream",
     "text": [
      " 9\n"
     ]
    },
    {
     "name": "stdout",
     "output_type": "stream",
     "text": [
      "Enter left child of  5\n"
     ]
    },
    {
     "name": "stdin",
     "output_type": "stream",
     "text": [
      " 7\n"
     ]
    },
    {
     "name": "stdout",
     "output_type": "stream",
     "text": [
      "Enter right child of  5\n"
     ]
    },
    {
     "name": "stdin",
     "output_type": "stream",
     "text": [
      " 8\n"
     ]
    },
    {
     "name": "stdout",
     "output_type": "stream",
     "text": [
      "Enter left child of  9\n"
     ]
    },
    {
     "name": "stdin",
     "output_type": "stream",
     "text": [
      " -1\n"
     ]
    },
    {
     "name": "stdout",
     "output_type": "stream",
     "text": [
      "Enter right child of  9\n"
     ]
    },
    {
     "name": "stdin",
     "output_type": "stream",
     "text": [
      " -1\n"
     ]
    },
    {
     "name": "stdout",
     "output_type": "stream",
     "text": [
      "Enter left child of  7\n"
     ]
    },
    {
     "name": "stdin",
     "output_type": "stream",
     "text": [
      " -1\n"
     ]
    },
    {
     "name": "stdout",
     "output_type": "stream",
     "text": [
      "Enter right child of  7\n"
     ]
    },
    {
     "name": "stdin",
     "output_type": "stream",
     "text": [
      " -1\n"
     ]
    },
    {
     "name": "stdout",
     "output_type": "stream",
     "text": [
      "Enter left child of  8\n"
     ]
    },
    {
     "name": "stdin",
     "output_type": "stream",
     "text": [
      " -1\n"
     ]
    },
    {
     "name": "stdout",
     "output_type": "stream",
     "text": [
      "Enter right child of  8\n"
     ]
    },
    {
     "name": "stdin",
     "output_type": "stream",
     "text": [
      " -1\n"
     ]
    },
    {
     "name": "stdout",
     "output_type": "stream",
     "text": [
      "1:L 2,R 3\n",
      "2:\n",
      "3:L 4,R 6\n",
      "4:\n",
      "6:L 5,R 9\n",
      "5:L 7,R 8\n",
      "7:\n",
      "8:\n",
      "9:\n"
     ]
    },
    {
     "data": {
      "text/plain": [
       "[5, 6, 3, 1]"
      ]
     },
     "execution_count": 4,
     "metadata": {},
     "output_type": "execute_result"
    }
   ],
   "source": [
    "root=takeLevelWiseTreeInput()\n",
    "printTreeDetailed(root)\n",
    "nodeToRootPath(root,5)"
   ]
  },
  {
   "cell_type": "code",
   "execution_count": null,
   "id": "e36f11e1-2eb0-4134-a6a3-e8a565f4a414",
   "metadata": {},
   "outputs": [],
   "source": []
  },
  {
   "cell_type": "code",
   "execution_count": null,
   "id": "3117b0ab-713e-4024-bb1d-d3df4f8103be",
   "metadata": {},
   "outputs": [],
   "source": []
  },
  {
   "cell_type": "markdown",
   "id": "8fc7f0d7-11f7-4fc0-b3a7-e8fe5e79867b",
   "metadata": {},
   "source": [
    "### BST class"
   ]
  },
  {
   "cell_type": "code",
   "execution_count": 19,
   "id": "f941c320-a0e9-4b7a-9750-3fa0bad2558f",
   "metadata": {},
   "outputs": [],
   "source": [
    "class BST:\n",
    "    def __init__(self):\n",
    "        self.root=None\n",
    "        self.numNodes=0\n",
    "    def printTreeHelper(self,root):\n",
    "        if root==None:\n",
    "            return\n",
    "        print(root.data, end =\":\")\n",
    "        if root.left is not None:\n",
    "            print(\"L\",root.left.data,end=\",\")\n",
    "        if root.right is not None:\n",
    "            print(\"R\",root.right.data,end=\"\")\n",
    "        print()\n",
    "        self.printTreeHelper(root.left)\n",
    "        self.printTreeHelper(root.right)\n",
    "     \n",
    "    def printTree(self):\n",
    "        self.printTreeHelper(self.root)\n",
    "    \n",
    "    def isPresentHelper(self,root,data):\n",
    "        if root==None:\n",
    "            return False\n",
    "        if root.data==data:\n",
    "            return True\n",
    "        if root.data>data:\n",
    "            # Call on left\n",
    "            return self.isPresentHelper(root.left,data)\n",
    "        else:\n",
    "            return self.isPresentHelper(root.right,data)\n",
    "        #call on right\n",
    "        \n",
    "    def isPresent(self,data):\n",
    "        return self.isPresentHelper(self.root,data)\n",
    "\n",
    "    def insertHelper(self,root,data):\n",
    "        if root is None:\n",
    "            node=BinaryTreeNode(data)\n",
    "            return node\n",
    "        if root.data>data:\n",
    "            root.left=self.insertHelper(root.left,data)\n",
    "            return root\n",
    "        else:\n",
    "            root.right=self.insertHelper(root.right,data)\n",
    "            return root\n",
    "            \n",
    "            \n",
    "    def insert(self,data):\n",
    "        self.numNodes +=1\n",
    "        self.root=self.insertHelper(self.root,data)\n",
    "\n",
    "    def min(self,root):\n",
    "        if root==None:\n",
    "            return 10000\n",
    "        if root.left==None:\n",
    "            return root.data\n",
    "        return self.min(root.left)\n",
    "\n",
    "    def deleteHelper(self,root,data):\n",
    "        if root is None:\n",
    "            return False,None\n",
    "        if root.data>data:\n",
    "            deleted,newLeftNode=self.deleteHelper(root.left,data)\n",
    "            root.left=newLeftNode\n",
    "            return deleted,root\n",
    "        elif root.data<data:\n",
    "            deleted,newRightNode=self.deleteHelper(root.right,data)\n",
    "            root.right=newRightNode\n",
    "            return deleted,root\n",
    "        elif root is not None:\n",
    "            # root is left\n",
    "            if root.left==None and root.right==None:\n",
    "                return True,None\n",
    "            #root has one child\n",
    "            if root.left==None:\n",
    "                return True,root.right\n",
    "            if root.right==None:\n",
    "                return True,root.left\n",
    "            #root has two child\n",
    "            replacement=self.min(root.right)\n",
    "            root.data=replacement\n",
    "            deleted,newRightNode=self.deleteHelper(root.right,replacement)\n",
    "            root.right=newRightNode\n",
    "            return True,root\n",
    "            \n",
    "                \n",
    "    \n",
    "    def deleteData(self,data):\n",
    "        deleted,newRoot=self.deleteHelper(self.root,data)\n",
    "        if deleted:\n",
    "            self.numNodes -=1\n",
    "        self.root=newRoot\n",
    "        return deleted\n",
    "        \n",
    "    def count(self):\n",
    "        return self.numNodes\n",
    "    "
   ]
  },
  {
   "cell_type": "code",
   "execution_count": 20,
   "id": "098daf03-4db0-4be7-b60e-c1102f59f4e3",
   "metadata": {},
   "outputs": [
    {
     "name": "stdout",
     "output_type": "stream",
     "text": [
      "10:L 5,R 12\n",
      "5:R 7\n",
      "7:L 6,R 8\n",
      "6:\n",
      "8:\n",
      "12:L 11,R 15\n",
      "11:\n",
      "15:\n",
      "8\n",
      "True\n",
      "11:L 5,R 12\n",
      "5:R 7\n",
      "7:L 6,R 8\n",
      "6:\n",
      "8:\n",
      "12:R 15\n",
      "15:\n"
     ]
    }
   ],
   "source": [
    "b=BST()\n",
    "b.insert(10)\n",
    "b.insert(5)\n",
    "b.insert(7)\n",
    "b.insert(6)\n",
    "b.insert(8)\n",
    "b.insert(12)\n",
    "b.insert(11)\n",
    "b.insert(15)\n",
    "b.printTree()\n",
    "print(b.count())\n",
    "print(b.deleteData(10))\n",
    "b.printTree()\n"
   ]
  },
  {
   "cell_type": "code",
   "execution_count": null,
   "id": "39442aa1-2ea1-463f-af4d-2cb1a02b6be7",
   "metadata": {},
   "outputs": [],
   "source": [
    "class TreeNode:\n",
    "    def __init__(self, val):\n",
    "        self.val = val\n",
    "        self.left = None\n",
    "        self.right = None\n",
    "\n",
    "def find_min(node):\n",
    "    # Helper function to find the minimum value node in a BST\n",
    "    while node.left:\n",
    "        node = node.left\n",
    "    return node\n",
    "\n",
    "def delete_node(root, key):\n",
    "    # Base case: if the tree is empty\n",
    "    if not root:\n",
    "        return root\n",
    "\n",
    "    # Recursively search for the node to delete\n",
    "    if key < root.val:\n",
    "        root.left = delete_node(root.left, key)\n",
    "    elif key > root.val:\n",
    "        root.right = delete_node(root.right, key)\n",
    "    else:\n",
    "        # Node with only one child or no child\n",
    "        if not root.left:\n",
    "            return root.right\n",
    "        elif not root.right:\n",
    "            return root.left\n",
    "\n",
    "        # Node with two children, find the inorder successor (minimum in the right subtree)\n",
    "        min_node = find_min(root.right)\n",
    "\n",
    "        # Copy the inorder successor's value to this node\n",
    "        root.val = min_node.val\n",
    "\n",
    "        # Delete the inorder successor\n",
    "        root.right = delete_node(root.right, min_node.val)\n",
    "\n",
    "    return root\n",
    "\n",
    "# Helper function to perform an inorder traversal of the BST\n",
    "def inorder_traversal(root):\n",
    "    if root:\n",
    "        inorder_traversal(root.left)\n",
    "        print(root.val, end=\" \")\n",
    "        inorder_traversal(root.right)\n",
    "\n",
    "# Example usage:\n",
    "root = TreeNode(50)\n",
    "root.left = TreeNode(30)\n",
    "root.right = TreeNode(70)\n",
    "root.left.left = TreeNode(20)\n",
    "root.left.right = TreeNode(40)\n",
    "root.right.left = TreeNode(60)\n",
    "root.right.right = TreeNode(80)\n",
    "\n",
    "print(\"Inorder traversal before deletion:\")\n",
    "inorder_traversal(root)\n",
    "\n",
    "key_to_delete = 30\n",
    "root = delete_node(root, key_to_delete)\n",
    "\n",
    "print(\"\\nInorder traversal after deleting\", key_to_delete)\n",
    "inorder_traversal(root)\n"
   ]
  },
  {
   "cell_type": "markdown",
   "id": "0be4e80d-f968-4690-be11-3be8d4e884a3",
   "metadata": {},
   "source": [
    "### Find path in BST"
   ]
  },
  {
   "cell_type": "code",
   "execution_count": 2,
   "id": "5e432f08-c619-4fa9-89a8-5314e62f7c80",
   "metadata": {},
   "outputs": [],
   "source": [
    "def findPathBST(root,data):\n",
    "    #############################\n",
    "    if root==None:\n",
    "        return None\n",
    "    \n",
    "    if root.data==data:\n",
    "        l=list()\n",
    "        l.append(root.data)\n",
    "        return l\n",
    "        \n",
    "    \n",
    "    elif root.data>data:\n",
    "        leftOutput=findPathBST(root.left,data)\n",
    "        if leftOutput !=None:\n",
    "            leftOutput.append(root.data)\n",
    "            return leftOutput\n",
    "        \n",
    "        \n",
    "    else:\n",
    "        rightOutput=findPathBST(root.right,data)\n",
    "        if rightOutput !=None:\n",
    "            rightOutput.append(root.data)\n",
    "            return rightOutput\n",
    "            \n",
    "        else: \n",
    "            return None\n",
    "\n"
   ]
  },
  {
   "cell_type": "markdown",
   "id": "f60e3b65-4c05-482e-a10c-188a1da7cfb2",
   "metadata": {},
   "source": [
    "### BST class "
   ]
  },
  {
   "cell_type": "code",
   "execution_count": 1,
   "id": "5e34cbf4-4a52-4e84-aab4-fbc70d2b0228",
   "metadata": {},
   "outputs": [],
   "source": [
    "class BinaryTreeNode:\n",
    "    def __init__(self, data):\n",
    "        self.data = data\n",
    "        self.left = None\n",
    "        self.right = None\n",
    "class BST:\n",
    "    \n",
    "    def __init__(self):\n",
    "        self.root = None\n",
    "        self.numNodes = 0\n",
    "    \n",
    "    def printTreeHelper(self,root):\n",
    "        if root==None:\n",
    "            return\n",
    "        print(root.data, end =\":\")\n",
    "        if root.left is not None:\n",
    "            print(\"L:\",end=\"\")\n",
    "            print(root.left.data,end=\",\")\n",
    "        if root.right is not None:\n",
    "            print(\"R:\",end=\"\")\n",
    "            print(root.right.data,end=\"\")\n",
    "        print()\n",
    "        self.printTreeHelper(root.left)\n",
    "        self.printTreeHelper(root.right)\n",
    "    \n",
    "    \n",
    "    def printTree(self):\n",
    "        self.printTreeHelper(self.root)\n",
    "    ##################################\n",
    "    \n",
    "    def searchUsingHelper(self,root,data):\n",
    "        if root==None:\n",
    "            return False\n",
    "        \n",
    "        if root.data==data:\n",
    "            return True\n",
    "        if root.data>data:\n",
    "            return self.searchUsingHelper(root.left,data)\n",
    "        else:\n",
    "            return self.searchUsingHelper(root.right,data)\n",
    "    \n",
    "    def search(self, data):\n",
    "        return self.searchUsingHelper(self.root,data)\n",
    "    ##################################\n",
    "\n",
    "    def insertUsingHelper(self,root,data):\n",
    "        if root==None:\n",
    "            node = BinaryTreeNode(data)\n",
    "            return node\n",
    "        \n",
    "        if root.data >= data:\n",
    "            root.left = self.insertUsingHelper(root.left, data)\n",
    "            return root\n",
    "        else:\n",
    "            root.right = self.insertUsingHelper(root.right, data)\n",
    "            return root\n",
    "\n",
    "    def insert(self, data):\n",
    "        self.numNodes += 1\n",
    "        self.root = self.insertUsingHelper(self.root, data)\n",
    "\n",
    "    ##################################\n",
    "\n",
    "    def minVal(self, root):\n",
    "        if root == None:\n",
    "            return 1000000\n",
    "        if root.left is None:\n",
    "            return root.data\n",
    "        return self.minVal(root.left)\n",
    "    \n",
    "    def deleteHelper(self, root, data):\n",
    "        if root is None:\n",
    "            return False, None\n",
    "        if root.data > data:\n",
    "            deleted, newLeft = self.deleteHelper(root.left, data)\n",
    "            root.left = newLeft\n",
    "            return deleted, root\n",
    "        if root.data < data:\n",
    "            deleted, newRight = self.deleteHelper(root.right, data)\n",
    "            root.right = newRight\n",
    "            return deleted, root\n",
    "        if root.left == None and root.right == None:\n",
    "            return True, None\n",
    "        if root.right == None:\n",
    "            return True, root.left\n",
    "        if root.left == None:\n",
    "            return True, root.right\n",
    "        \n",
    "        min = self.minVal(root.right)\n",
    "        root.data = min\n",
    "        deleted, newRight = self.deleteHelper(root.right, min)\n",
    "        root.right = newRight\n",
    "        return True, root\n",
    "\n",
    "            \n",
    "        \n",
    "        \n",
    "        \n",
    "    def delete(self, data):\n",
    "        deleted, newRoot = self.deleteHelper(self.root, data)\n",
    "        if deleted:\n",
    "            self.numNodes -= 1\n",
    "        self.root = newRoot\n",
    "        return deleted\n",
    "    ##################################\n",
    "    \n",
    "    def count(self):\n",
    "        return self.numNodes\n",
    "        "
   ]
  },
  {
   "cell_type": "code",
   "execution_count": null,
   "id": "da3553a1-2e02-4a55-82da-59a4338c4b2e",
   "metadata": {},
   "outputs": [],
   "source": []
  }
 ],
 "metadata": {
  "kernelspec": {
   "display_name": "Python 3 (ipykernel)",
   "language": "python",
   "name": "python3"
  },
  "language_info": {
   "codemirror_mode": {
    "name": "ipython",
    "version": 3
   },
   "file_extension": ".py",
   "mimetype": "text/x-python",
   "name": "python",
   "nbconvert_exporter": "python",
   "pygments_lexer": "ipython3",
   "version": "3.11.5"
  },
  "widgets": {
   "application/vnd.jupyter.widget-state+json": {
    "state": {},
    "version_major": 2,
    "version_minor": 0
   }
  }
 },
 "nbformat": 4,
 "nbformat_minor": 5
}
