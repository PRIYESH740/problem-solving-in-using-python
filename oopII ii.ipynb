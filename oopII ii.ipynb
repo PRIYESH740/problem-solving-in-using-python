{
 "cells": [
  {
   "cell_type": "code",
   "execution_count": 5,
   "id": "ab9387bd",
   "metadata": {},
   "outputs": [],
   "source": [
    "class product:\n",
    "    def __init__(self,description):\n",
    "        self._description=description\n",
    "        "
   ]
  },
  {
   "cell_type": "code",
   "execution_count": 15,
   "id": "3c8bff11",
   "metadata": {},
   "outputs": [],
   "source": [
    "class lightProduction(product):\n",
    "    # this is right way to access protected \n",
    "    def getdescription(self):\n",
    "        return self._description"
   ]
  },
  {
   "cell_type": "code",
   "execution_count": 16,
   "id": "3ef43911",
   "metadata": {},
   "outputs": [],
   "source": [
    "p=lightProduction('mobile phone')"
   ]
  },
  {
   "cell_type": "code",
   "execution_count": 17,
   "id": "0c5014c6",
   "metadata": {},
   "outputs": [
    {
     "data": {
      "text/plain": [
       "'mobile phone'"
      ]
     },
     "execution_count": 17,
     "metadata": {},
     "output_type": "execute_result"
    }
   ],
   "source": [
    "p.getdescription()"
   ]
  },
  {
   "cell_type": "code",
   "execution_count": 11,
   "id": "4d41967a",
   "metadata": {},
   "outputs": [],
   "source": [
    "p=product(\"sample product\")"
   ]
  },
  {
   "cell_type": "code",
   "execution_count": 12,
   "id": "c4cbf1dc",
   "metadata": {},
   "outputs": [
    {
     "data": {
      "text/plain": [
       "['__class__',\n",
       " '__delattr__',\n",
       " '__dict__',\n",
       " '__dir__',\n",
       " '__doc__',\n",
       " '__eq__',\n",
       " '__format__',\n",
       " '__ge__',\n",
       " '__getattribute__',\n",
       " '__gt__',\n",
       " '__hash__',\n",
       " '__init__',\n",
       " '__init_subclass__',\n",
       " '__le__',\n",
       " '__lt__',\n",
       " '__module__',\n",
       " '__ne__',\n",
       " '__new__',\n",
       " '__reduce__',\n",
       " '__reduce_ex__',\n",
       " '__repr__',\n",
       " '__setattr__',\n",
       " '__sizeof__',\n",
       " '__str__',\n",
       " '__subclasshook__',\n",
       " '__weakref__',\n",
       " '_description']"
      ]
     },
     "execution_count": 12,
     "metadata": {},
     "output_type": "execute_result"
    }
   ],
   "source": [
    "dir(p)"
   ]
  },
  {
   "cell_type": "code",
   "execution_count": 14,
   "id": "a730e851",
   "metadata": {},
   "outputs": [
    {
     "data": {
      "text/plain": [
       "'sample product'"
      ]
     },
     "execution_count": 14,
     "metadata": {},
     "output_type": "execute_result"
    }
   ],
   "source": [
    "p._description"
   ]
  },
  {
   "cell_type": "code",
   "execution_count": 18,
   "id": "0d00652e",
   "metadata": {},
   "outputs": [
    {
     "name": "stdout",
     "output_type": "stream",
     "text": [
      "5\n"
     ]
    }
   ],
   "source": [
    "class Base:\n",
    "    def __init__(self):\n",
    "        self._protected_var = 5\n",
    "\n",
    "class Derived(Base):\n",
    "    def __init__(self):\n",
    "        Base.__init__(self)\n",
    "\n",
    "class SubDerived(Derived):\n",
    "    def __init__(self):\n",
    "        Derived.__init__(self)\n",
    "\n",
    "obj = SubDerived()\n",
    "print(obj._protected_var)\n"
   ]
  },
  {
   "cell_type": "code",
   "execution_count": 21,
   "id": "0cec1d9e",
   "metadata": {},
   "outputs": [
    {
     "name": "stdout",
     "output_type": "stream",
     "text": [
      "The creature type is jellyfish and the age is 5\n",
      "The creature type is jellyfish and the age is 5\n",
      "ocean('jellyfish',5)\n"
     ]
    }
   ],
   "source": [
    "class ocean:\n",
    "    def __init__(self,sea_creature_name,sea_creature_age):\n",
    "        self.name=sea_creature_name\n",
    "        self.age=sea_creature_age\n",
    "        \n",
    "    def __str__(self):\n",
    "        return f'The creature type is {self.name} and the age is {self.age}'\n",
    "        \n",
    "    def __repr__(self):\n",
    "        return f'ocean(\\'{self.name}\\',{self.age})'\n",
    "c=ocean(\"jellyfish\",5)\n",
    "\n",
    "print(c)\n",
    "print(str(c))\n",
    "print(repr(c))"
   ]
  },
  {
   "cell_type": "code",
   "execution_count": 1,
   "id": "5e5b5a1f",
   "metadata": {},
   "outputs": [],
   "source": [
    "class vehicle:\n",
    "    def start_engine(self):\n",
    "        print(\"starting engine\")\n",
    "\n",
    "class car(vehicle):\n",
    "    def __init__(self,make,model,year):\n",
    "        super().__init__()\n",
    "        self.make=make\n",
    "        self.model=model\n",
    "        self.year=year\n",
    "        \n",
    "    def accerate(self):\n",
    "        print(\"accerating\")\n",
    "        \n",
    "    def brake(self):\n",
    "        print(\"braking\")"
   ]
  },
  {
   "cell_type": "code",
   "execution_count": 2,
   "id": "498da3a1",
   "metadata": {},
   "outputs": [],
   "source": [
    "class bankAccount:\n",
    "    def __init__(self,balance):\n",
    "        self.balance=balance\n",
    "        \n",
    "    def deposit(self,amount):\n",
    "        self.balance +=amount\n",
    "        balance\n",
    "    def withdraw(self,amount):\n",
    "        if self.balance>=amount:\n",
    "            self.balance -=amount\n",
    "            \n",
    "        else:\n",
    "            print(\"insufficient balance\")\n",
    "            "
   ]
  },
  {
   "cell_type": "code",
   "execution_count": 3,
   "id": "f69cc389",
   "metadata": {},
   "outputs": [],
   "source": [
    "class savingaccount(bankAccount):\n",
    "    def __init__(self,balance,interest_rate):\n",
    "        super().__init__(balance)\n",
    "        self.interest_rate=interesrt_rate\n",
    "        \n",
    "    def calculate_interest(self):\n",
    "        return self.balance *self.interest_rate\n",
    "    \n",
    "class creditcard(bankAccount):\n",
    "    def __init__(self,balance,credit_limit):\n",
    "        super().__init__(balance)\n",
    "        self.credit_limit=credit_limit\n",
    "        \n",
    "    def make_purchase(self,amount):\n",
    "        if self.balance +self.credit_limit>=amount:\n",
    "            self.balance -=amount\n",
    "            \n",
    "        else:\n",
    "            print(\"credit limit exceed\")\n",
    "            "
   ]
  },
  {
   "cell_type": "code",
   "execution_count": 4,
   "id": "b0f21d09",
   "metadata": {},
   "outputs": [],
   "source": [
    "class studentAccount(savingaccount,creditcard):\n",
    "    def __init__(self,balance,interest_rate,credit_limit,student_discount):\n",
    "        savingaccount.__init__(self,balance,interest_rate)\n",
    "        creditAccount.__init__(self,balance,credit_limit)\n",
    "        self.student_discount=student_discount\n",
    "        \n",
    "    def apply_discount(self,price):\n",
    "        return price *(1-self.student_discount)"
   ]
  },
  {
   "cell_type": "code",
   "execution_count": 7,
   "id": "78d584fc",
   "metadata": {},
   "outputs": [
    {
     "ename": "AttributeError",
     "evalue": "'Car' object has no attribute '_Car__color'",
     "output_type": "error",
     "traceback": [
      "\u001b[1;31m---------------------------------------------------------------------------\u001b[0m",
      "\u001b[1;31mAttributeError\u001b[0m                            Traceback (most recent call last)",
      "Cell \u001b[1;32mIn[7], line 13\u001b[0m\n\u001b[0;32m     10\u001b[0m         \u001b[38;5;28mprint\u001b[39m(c\u001b[38;5;241m.\u001b[39mnumGears)\n\u001b[0;32m     12\u001b[0m c \u001b[38;5;241m=\u001b[39m Car(\u001b[38;5;124m\"\u001b[39m\u001b[38;5;124mblack\u001b[39m\u001b[38;5;124m\"\u001b[39m,\u001b[38;5;241m5\u001b[39m)\n\u001b[1;32m---> 13\u001b[0m \u001b[43mc\u001b[49m\u001b[38;5;241;43m.\u001b[39;49m\u001b[43mprintCar\u001b[49m\u001b[43m(\u001b[49m\u001b[43m)\u001b[49m\n",
      "Cell \u001b[1;32mIn[7], line 9\u001b[0m, in \u001b[0;36mCar.printCar\u001b[1;34m(self)\u001b[0m\n\u001b[0;32m      8\u001b[0m \u001b[38;5;28;01mdef\u001b[39;00m \u001b[38;5;21mprintCar\u001b[39m(\u001b[38;5;28mself\u001b[39m):\n\u001b[1;32m----> 9\u001b[0m     \u001b[38;5;28mprint\u001b[39m(\u001b[43mc\u001b[49m\u001b[38;5;241;43m.\u001b[39;49m\u001b[43m__color\u001b[49m,end\u001b[38;5;241m=\u001b[39m\u001b[38;5;124m\"\u001b[39m\u001b[38;5;124m \u001b[39m\u001b[38;5;124m\"\u001b[39m)\n\u001b[0;32m     10\u001b[0m     \u001b[38;5;28mprint\u001b[39m(c\u001b[38;5;241m.\u001b[39mnumGears)\n",
      "\u001b[1;31mAttributeError\u001b[0m: 'Car' object has no attribute '_Car__color'"
     ]
    }
   ],
   "source": [
    "class Vehicle:\n",
    "     def __init__(self,color):\n",
    "         self.__color = color\n",
    "class Car(Vehicle):\n",
    "    def __init__(self,color,numGears):\n",
    "        super().__init__(color)\n",
    "        self.numGears = numGears\n",
    "    def printCar(self):\n",
    "        print(c.__color,end=\" \")\n",
    "        print(c.numGears)\n",
    "\n",
    "c = Car(\"black\",5)\n",
    "c.printCar()\n"
   ]
  },
  {
   "cell_type": "code",
   "execution_count": 8,
   "id": "b98452df",
   "metadata": {},
   "outputs": [
    {
     "ename": "SyntaxError",
     "evalue": "invalid character '“' (U+201C) (1131733472.py, line 4)",
     "output_type": "error",
     "traceback": [
      "\u001b[1;36m  Cell \u001b[1;32mIn[8], line 4\u001b[1;36m\u001b[0m\n\u001b[1;33m    print(“init of A called”)\u001b[0m\n\u001b[1;37m          ^\u001b[0m\n\u001b[1;31mSyntaxError\u001b[0m\u001b[1;31m:\u001b[0m invalid character '“' (U+201C)\n"
     ]
    }
   ],
   "source": [
    "class A:\n",
    "\n",
    "    def __init__(self):\n",
    "        print(\"init of A called\")\n",
    "class B:\n",
    "    def __init__(self):\n",
    "        print(\"init of B called\")\n",
    "\n",
    "class C(B,A):\n",
    "    def __init__(self):\n",
    "        super().__init__()\n",
    "\n",
    "c = C()"
   ]
  },
  {
   "cell_type": "code",
   "execution_count": 7,
   "id": "52de7826",
   "metadata": {},
   "outputs": [
    {
     "name": "stdout",
     "output_type": "stream",
     "text": [
      "13\n",
      "4\n"
     ]
    }
   ],
   "source": [
    "print(len(\"coding ninjas\"))\n",
    "print(len([10,20,30,40]))"
   ]
  },
  {
   "cell_type": "code",
   "execution_count": null,
   "id": "84d0fc2d",
   "metadata": {},
   "outputs": [],
   "source": [
    "class Vehicle:\n",
    "    def __init__(self,color):\n",
    "        self.color = color\n",
    "    def print(self):\n",
    "        print(self.color,end=\"\")\n",
    "class Car(Vehicle):\n",
    "    def __init__(self,color,numGears):\n",
    "        super().__init__(color)\n",
    "        self.numGears = numGears\n",
    "    def print(self):\n",
    "        self.print()\n",
    "        print(self.numGears)\n",
    "c = Car(\"black\",5)\n",
    "c.print()"
   ]
  },
  {
   "cell_type": "code",
   "execution_count": 2,
   "id": "02db83ee",
   "metadata": {},
   "outputs": [],
   "source": [
    "class product:\n",
    "    def __init__(self,description,price,discount):\n",
    "        self.description=description\n",
    "        self.price=price\n",
    "        self.discount=discount\n",
    "        \n",
    "    def productDescription(self):\n",
    "        print(self.description)\n",
    "        \n",
    "    def __calculatediscount(self):\n",
    "        return self.price-self.price*self.discount\n",
    "    \n",
    "    def getprice(self):\n",
    "        return self.__calculatediscount()\n",
    "    \n",
    "class user:\n",
    "    def __init__(self,customerType):\n",
    "        self.customerType=customerType\n",
    "        "
   ]
  },
  {
   "cell_type": "code",
   "execution_count": 3,
   "id": "c10809fb",
   "metadata": {},
   "outputs": [],
   "source": [
    "class lightProduction(product):\n",
    "    max_weight_in_kg=5\n",
    "    \n",
    "    def __init__(self,description,weight,price,discount):\n",
    "        self.weight=weight\n",
    "        super().__init__(description,price,discount)\n",
    "        \n",
    "    def validateweight(self):\n",
    "        return self.weight<=self.max_weight_in_kg\n",
    "    \n",
    "    def getdescription(self):\n",
    "        print(self._product__description)\n",
    "        \n",
    "    def getprice(self,user):\n",
    "        if(user=='premium'):\n",
    "            self.price=self.price-self.price*0.15\n",
    "        return super().getprice()"
   ]
  },
  {
   "cell_type": "code",
   "execution_count": 7,
   "id": "d5480c19",
   "metadata": {},
   "outputs": [
    {
     "name": "stdout",
     "output_type": "stream",
     "text": [
      "2422.5\n",
      "2850.0\n"
     ]
    }
   ],
   "source": [
    "user1=user('premium')\n",
    "user2=user('standard')\n",
    "product1=lightProduction('geaser',3,3000,0.05)\n",
    "product2=lightProduction('geaser',3,3000,0.05)\n",
    "\n",
    "print(product1.getprice('premium'))\n",
    "print(product2.getprice('standard'))"
   ]
  },
  {
   "cell_type": "code",
   "execution_count": 13,
   "id": "b60eaf67",
   "metadata": {},
   "outputs": [
    {
     "name": "stdout",
     "output_type": "stream",
     "text": [
      "8\n",
      "15\n"
     ]
    }
   ],
   "source": [
    "class Number:\n",
    "    def __init__(self,number):\n",
    "        self.a=number\n",
    "        \n",
    "    def __add__(self,other):\n",
    "        return self.a+other.a\n",
    "    \n",
    "    def __mul__(self,other):\n",
    "        return self.a*other.a\n",
    "a= Number(3)\n",
    "b=Number(5)\n",
    "print(a+b)\n",
    "print(a*b)"
   ]
  },
  {
   "cell_type": "code",
   "execution_count": 35,
   "id": "9325cdb5",
   "metadata": {},
   "outputs": [],
   "source": [
    "class square:\n",
    "    \n",
    "    def __init__(self,side):\n",
    "        self.side=side\n",
    "        \n",
    "    def __add__(self,othersquare):\n",
    "        return square(self.side+othersquare.side)\n",
    "    \n",
    "    def drawSquare(self):\n",
    "        print(\"Drawing a squre of side\",self.side,', and area ',(self.side*self.side))\n",
    "       "
   ]
  },
  {
   "cell_type": "code",
   "execution_count": 36,
   "id": "c2a24576",
   "metadata": {},
   "outputs": [
    {
     "name": "stdout",
     "output_type": "stream",
     "text": [
      "Drawing a squre of side 100 , and area  10000\n"
     ]
    }
   ],
   "source": [
    "square1=square(100)\n",
    "square1.drawSquare()"
   ]
  },
  {
   "cell_type": "code",
   "execution_count": 37,
   "id": "8a5d08d8",
   "metadata": {},
   "outputs": [
    {
     "name": "stdout",
     "output_type": "stream",
     "text": [
      "Drawing a squre of side 200 , and area  40000\n"
     ]
    }
   ],
   "source": [
    "square2=square(200)\n",
    "square2.drawSquare()"
   ]
  },
  {
   "cell_type": "code",
   "execution_count": 40,
   "id": "375c7e12",
   "metadata": {},
   "outputs": [],
   "source": [
    "square3=square1+square2\n",
    "square3=square3+square2"
   ]
  },
  {
   "cell_type": "code",
   "execution_count": 41,
   "id": "747bbe81",
   "metadata": {},
   "outputs": [
    {
     "name": "stdout",
     "output_type": "stream",
     "text": [
      "Drawing a squre of side 500 , and area  250000\n"
     ]
    }
   ],
   "source": [
    "square3.drawSquare()"
   ]
  },
  {
   "cell_type": "code",
   "execution_count": 42,
   "id": "1d27bd58",
   "metadata": {},
   "outputs": [
    {
     "name": "stdout",
     "output_type": "stream",
     "text": [
      "16\n"
     ]
    }
   ],
   "source": [
    "print(2<<3)"
   ]
  },
  {
   "cell_type": "code",
   "execution_count": 43,
   "id": "961ceaf5",
   "metadata": {},
   "outputs": [
    {
     "ename": "NameError",
     "evalue": "name 'abstractmethed' is not defined",
     "output_type": "error",
     "traceback": [
      "\u001b[1;31m---------------------------------------------------------------------------\u001b[0m",
      "\u001b[1;31mNameError\u001b[0m                                 Traceback (most recent call last)",
      "Cell \u001b[1;32mIn[43], line 2\u001b[0m\n\u001b[0;32m      1\u001b[0m \u001b[38;5;28;01mfrom\u001b[39;00m \u001b[38;5;21;01mabc\u001b[39;00m \u001b[38;5;28;01mimport\u001b[39;00m ABC, abstractmethod\n\u001b[1;32m----> 2\u001b[0m \u001b[38;5;28;01mclass\u001b[39;00m \u001b[38;5;21;01mDBconnection\u001b[39;00m(ABC):\n\u001b[0;32m      4\u001b[0m     \u001b[38;5;129m@abstractmethod\u001b[39m\n\u001b[0;32m      5\u001b[0m     \u001b[38;5;28;01mdef\u001b[39;00m \u001b[38;5;21mcreateconnection\u001b[39m(\u001b[38;5;28mself\u001b[39m,query):\n\u001b[0;32m      6\u001b[0m         \u001b[38;5;28;01mpass\u001b[39;00m\n",
      "Cell \u001b[1;32mIn[43], line 7\u001b[0m, in \u001b[0;36mDBconnection\u001b[1;34m()\u001b[0m\n\u001b[0;32m      4\u001b[0m \u001b[38;5;129m@abstractmethod\u001b[39m\n\u001b[0;32m      5\u001b[0m \u001b[38;5;28;01mdef\u001b[39;00m \u001b[38;5;21mcreateconnection\u001b[39m(\u001b[38;5;28mself\u001b[39m,query):\n\u001b[0;32m      6\u001b[0m     \u001b[38;5;28;01mpass\u001b[39;00m\n\u001b[1;32m----> 7\u001b[0m \u001b[38;5;129m@abstractmethed\u001b[39m\n\u001b[0;32m      8\u001b[0m \u001b[38;5;28;01mdef\u001b[39;00m \u001b[38;5;21mrunquery\u001b[39m(\u001b[38;5;28mself\u001b[39m,quary):\n\u001b[0;32m      9\u001b[0m     \u001b[38;5;28;01mpass\u001b[39;00m\n",
      "\u001b[1;31mNameError\u001b[0m: name 'abstractmethed' is not defined"
     ]
    }
   ],
   "source": [
    "from abc import ABC, abstractmethod\n",
    "class DBconnection(ABC):\n",
    "    \n",
    "    @abstractmethod\n",
    "    def createconnection(self,query):\n",
    "        pass\n",
    "    @abstractmethed\n",
    "    def runquery(self,quary):\n",
    "        pass\n",
    "\n",
    "class sqlconnection(DBconnection):\n",
    "    def createconnection(self):\n",
    "        print(\"established sql connection\")\n",
    "        \n",
    "    def runquery(self,query):\n",
    "        print(\"running sql query\",query)\n",
    "        \n",
    "class mongoconnection(DBconnection):\n",
    "    def createconnection(self):\n",
    "        print(\"established mongo connection\")\n",
    "        \n",
    "    def runquery(self,query):\n",
    "        print(\"running mongo query\",query)\n",
    "        \n",
    "    \n",
    " \n",
    "    "
   ]
  },
  {
   "cell_type": "code",
   "execution_count": 2,
   "id": "7d96fd93",
   "metadata": {},
   "outputs": [
    {
     "name": "stdout",
     "output_type": "stream",
     "text": [
      "0.5\n"
     ]
    }
   ],
   "source": [
    "a=5\n",
    "b=10\n",
    "print(a/b)"
   ]
  },
  {
   "cell_type": "code",
   "execution_count": 3,
   "id": "b75e3e21",
   "metadata": {},
   "outputs": [
    {
     "ename": "ZeroDivisionError",
     "evalue": "division by zero",
     "output_type": "error",
     "traceback": [
      "\u001b[1;31m---------------------------------------------------------------------------\u001b[0m",
      "\u001b[1;31mZeroDivisionError\u001b[0m                         Traceback (most recent call last)",
      "Cell \u001b[1;32mIn[3], line 3\u001b[0m\n\u001b[0;32m      1\u001b[0m b\u001b[38;5;241m=\u001b[39m\u001b[38;5;241m0\u001b[39m\n\u001b[1;32m----> 3\u001b[0m \u001b[38;5;28mprint\u001b[39m(\u001b[43ma\u001b[49m\u001b[38;5;241;43m/\u001b[39;49m\u001b[43mb\u001b[49m)\n",
      "\u001b[1;31mZeroDivisionError\u001b[0m: division by zero"
     ]
    }
   ],
   "source": [
    "b=0\n",
    "\n",
    "print(a/b)"
   ]
  },
  {
   "cell_type": "code",
   "execution_count": 4,
   "id": "846338a7",
   "metadata": {},
   "outputs": [
    {
     "data": {
      "text/plain": [
       "3"
      ]
     },
     "execution_count": 4,
     "metadata": {},
     "output_type": "execute_result"
    }
   ],
   "source": [
    "arr=[1,2,3]\n",
    "\n",
    "arr[2]"
   ]
  },
  {
   "cell_type": "code",
   "execution_count": 5,
   "id": "c377ed22",
   "metadata": {},
   "outputs": [
    {
     "ename": "IndexError",
     "evalue": "list index out of range",
     "output_type": "error",
     "traceback": [
      "\u001b[1;31m---------------------------------------------------------------------------\u001b[0m",
      "\u001b[1;31mIndexError\u001b[0m                                Traceback (most recent call last)",
      "Cell \u001b[1;32mIn[5], line 1\u001b[0m\n\u001b[1;32m----> 1\u001b[0m \u001b[43marr\u001b[49m\u001b[43m[\u001b[49m\u001b[38;5;241;43m3\u001b[39;49m\u001b[43m]\u001b[49m\n",
      "\u001b[1;31mIndexError\u001b[0m: list index out of range"
     ]
    }
   ],
   "source": [
    "arr[3]"
   ]
  },
  {
   "cell_type": "code",
   "execution_count": 6,
   "id": "5f3a57d3",
   "metadata": {},
   "outputs": [
    {
     "ename": "SyntaxError",
     "evalue": "expected ':' (275729712.py, line 1)",
     "output_type": "error",
     "traceback": [
      "\u001b[1;36m  Cell \u001b[1;32mIn[6], line 1\u001b[1;36m\u001b[0m\n\u001b[1;33m    def add(a,b);\u001b[0m\n\u001b[1;37m                ^\u001b[0m\n\u001b[1;31mSyntaxError\u001b[0m\u001b[1;31m:\u001b[0m expected ':'\n"
     ]
    }
   ],
   "source": [
    "def add(a,b);\n",
    "return a+b\n",
    "\n",
    "a=3\n",
    "b=5\n",
    "print(add(3,5))"
   ]
  },
  {
   "cell_type": "code",
   "execution_count": 7,
   "id": "0b74bdb0",
   "metadata": {},
   "outputs": [
    {
     "name": "stdout",
     "output_type": "stream",
     "text": [
      "second element =2 \n",
      "an error occured\n",
      "excucted successfully\n"
     ]
    }
   ],
   "source": [
    "a=[1,2,3]\n",
    "try :\n",
    "    print(\"second element =%d \"%(a[1]))\n",
    "    \n",
    "    print(\"fourth element =%d\"%(a[3]))\n",
    "    \n",
    "except:\n",
    "    print(\"an error occured\")\n",
    "    \n",
    "print('excucted successfully')\n"
   ]
  },
  {
   "cell_type": "code",
   "execution_count": 11,
   "id": "bc141db8",
   "metadata": {},
   "outputs": [
    {
     "name": "stdout",
     "output_type": "stream",
     "text": [
      "NameError Occured and handled\n"
     ]
    }
   ],
   "source": [
    "def fun(a):\n",
    "    if a>4:\n",
    "        # throws ZeroDivisionerror for a=3\n",
    "        b=a/(a-3)\n",
    "        \n",
    "    #throws nameerror if a>=4\n",
    "    print(\"value of b= \",b)\n",
    "    \n",
    "try:\n",
    "    fun(3)\n",
    "    fun(5)\n",
    "    \n",
    "#multiple exceptions\n",
    "except ZeroDivisionError:\n",
    "    print(\"zeroDivisionError  occured and handled\")\n",
    "\n",
    "except NameError:\n",
    "        print(\"NameError Occured and handled\")"
   ]
  },
  {
   "cell_type": "code",
   "execution_count": 12,
   "id": "bb1d49ac",
   "metadata": {},
   "outputs": [
    {
     "name": "stdout",
     "output_type": "stream",
     "text": [
      "Name Error occured\n"
     ]
    }
   ],
   "source": [
    "try:\n",
    "    a = 10\n",
    "    b = 0\n",
    "    print(d)\n",
    "    c = a/b\n",
    "except NameError:\n",
    "    print('Name Error occured')\n",
    "except ZeroDivisionError:\n",
    "    print('Zero Division Error occured')"
   ]
  },
  {
   "cell_type": "code",
   "execution_count": 13,
   "id": "74ae9e3f",
   "metadata": {},
   "outputs": [
    {
     "ename": "ValueError",
     "evalue": "String can't be Change Into Integer",
     "output_type": "error",
     "traceback": [
      "\u001b[1;31m---------------------------------------------------------------------------\u001b[0m",
      "\u001b[1;31mValueError\u001b[0m                                Traceback (most recent call last)",
      "Cell \u001b[1;32mIn[13], line 4\u001b[0m\n\u001b[0;32m      3\u001b[0m \u001b[38;5;28;01mtry\u001b[39;00m:\n\u001b[1;32m----> 4\u001b[0m     num\u001b[38;5;241m=\u001b[39m\u001b[38;5;28;43mint\u001b[39;49m\u001b[43m(\u001b[49m\u001b[43ms\u001b[49m\u001b[43m)\u001b[49m\n\u001b[0;32m      6\u001b[0m \u001b[38;5;28;01mexcept\u001b[39;00m \u001b[38;5;167;01mValueError\u001b[39;00m:\n",
      "\u001b[1;31mValueError\u001b[0m: invalid literal for int() with base 10: 'apple'",
      "\nDuring handling of the above exception, another exception occurred:\n",
      "\u001b[1;31mValueError\u001b[0m                                Traceback (most recent call last)",
      "Cell \u001b[1;32mIn[13], line 7\u001b[0m\n\u001b[0;32m      4\u001b[0m     num\u001b[38;5;241m=\u001b[39m\u001b[38;5;28mint\u001b[39m(s)\n\u001b[0;32m      6\u001b[0m \u001b[38;5;28;01mexcept\u001b[39;00m \u001b[38;5;167;01mValueError\u001b[39;00m:\n\u001b[1;32m----> 7\u001b[0m     \u001b[38;5;28;01mraise\u001b[39;00m \u001b[38;5;167;01mValueError\u001b[39;00m(\u001b[38;5;124m\"\u001b[39m\u001b[38;5;124mString can\u001b[39m\u001b[38;5;124m'\u001b[39m\u001b[38;5;124mt be Change Into Integer\u001b[39m\u001b[38;5;124m\"\u001b[39m)\n",
      "\u001b[1;31mValueError\u001b[0m: String can't be Change Into Integer"
     ]
    }
   ],
   "source": [
    "s='apple'\n",
    "\n",
    "try:\n",
    "    num=int(s)\n",
    "    \n",
    "except ValueError:\n",
    "    raise ValueError(\"String can't be Change Into Integer\")"
   ]
  },
  {
   "cell_type": "code",
   "execution_count": 14,
   "id": "f653c61f",
   "metadata": {},
   "outputs": [
    {
     "name": "stdout",
     "output_type": "stream",
     "text": [
      "Enter a number: 56\n",
      "Eligible to vote\n"
     ]
    }
   ],
   "source": [
    "class InvalidAgeException(Exception):\n",
    "    \"Raised when the input value is less than 18\"\n",
    "    pass\n",
    "\n",
    "number=18\n",
    "try:\n",
    "    input_num=int(input(\"Enter a number: \"))\n",
    "    if input_num<number:\n",
    "        raise InvalidAgeException\n",
    "        \n",
    "    else:\n",
    "        print(\"Eligible to vote\")\n",
    "        \n",
    "except InvalidAgeException:\n",
    "    print(\"Exception occured :Invalid Age\")"
   ]
  },
  {
   "cell_type": "code",
   "execution_count": 16,
   "id": "630fcfee",
   "metadata": {},
   "outputs": [],
   "source": [
    "try:\n",
    "    f=open(\"apnacollege\")\n",
    "except(FileNotFoundError ,PermissionError):\n",
    "    ..."
   ]
  },
  {
   "cell_type": "code",
   "execution_count": null,
   "id": "3a9ec3bc",
   "metadata": {},
   "outputs": [],
   "source": [
    "try:\n",
    "    f=open(apnacollege)\n",
    "except OsError:\n",
    "    ..."
   ]
  },
  {
   "cell_type": "code",
   "execution_count": 17,
   "id": "24f7d26d",
   "metadata": {},
   "outputs": [
    {
     "ename": "ZeroDenominatorError",
     "evalue": "",
     "output_type": "error",
     "traceback": [
      "\u001b[1;31m---------------------------------------------------------------------------\u001b[0m",
      "\u001b[1;31mZeroDenominatorError\u001b[0m                      Traceback (most recent call last)",
      "Cell \u001b[1;32mIn[17], line 7\u001b[0m\n\u001b[0;32m      5\u001b[0m     b \u001b[38;5;241m=\u001b[39m \u001b[38;5;241m0\u001b[39m\n\u001b[0;32m      6\u001b[0m     \u001b[38;5;28;01mif\u001b[39;00m(b\u001b[38;5;241m==\u001b[39m\u001b[38;5;241m0\u001b[39m):\n\u001b[1;32m----> 7\u001b[0m         \u001b[38;5;28;01mraise\u001b[39;00m ZeroDenominatorError() \n\u001b[0;32m      8\u001b[0m     c \u001b[38;5;241m=\u001b[39m a\u001b[38;5;241m/\u001b[39mb\n\u001b[0;32m      9\u001b[0m \u001b[38;5;28;01mexcept\u001b[39;00m \u001b[38;5;167;01mZeroDivisionError\u001b[39;00m:\n",
      "\u001b[1;31mZeroDenominatorError\u001b[0m: "
     ]
    }
   ],
   "source": [
    "class ZeroDenominatorError(Exception):\n",
    "    pass\n",
    "try:\n",
    "    a = 10\n",
    "    b = 0\n",
    "    if(b==0):\n",
    "        raise ZeroDenominatorError() \n",
    "    c = a/b\n",
    "except ZeroDivisionError:\n",
    "    print('Zero Division Error occured')"
   ]
  },
  {
   "cell_type": "code",
   "execution_count": 18,
   "id": "a86c8ffd",
   "metadata": {},
   "outputs": [
    {
     "name": "stdout",
     "output_type": "stream",
     "text": [
      "Zero Division Error occured\n"
     ]
    }
   ],
   "source": [
    "class ZeroDenominatorError(ZeroDivisionError):\n",
    "    pass\n",
    "try:\n",
    "    a = 10\n",
    "    b = 0\n",
    "    if(b==0):\n",
    "        raise ZeroDenominatorError()\n",
    "    c = a/b\n",
    "except ZeroDivisionError:\n",
    "    print('Zero Division Error occured')\n",
    "except ZeroDenominatorError:\n",
    "    print('Zero Denominator Error occured')"
   ]
  },
  {
   "cell_type": "code",
   "execution_count": 21,
   "id": "7736548b",
   "metadata": {},
   "outputs": [
    {
     "name": "stdout",
     "output_type": "stream",
     "text": [
      "Zero Division Error occured "
     ]
    }
   ],
   "source": [
    "class ZeroDenominatorError(ZeroDivisionError):\n",
    "    pass\n",
    "try:\n",
    "    a = 10\n",
    "    b = 0\n",
    "    if(b==0):\n",
    "        raise ZeroDenominatorError()\n",
    "    c = a/b\n",
    "except ZeroDivisionError:\n",
    "    print('Zero Division Error occured',end= ' ')\n",
    "except ZeroDenominatorError:\n",
    "    print('Zero Denominator Error occured',end =' ')\n",
    "else:\n",
    "    print('else works')"
   ]
  },
  {
   "cell_type": "code",
   "execution_count": null,
   "id": "d9d33170",
   "metadata": {},
   "outputs": [],
   "source": []
  }
 ],
 "metadata": {
  "kernelspec": {
   "display_name": "Python 3 (ipykernel)",
   "language": "python",
   "name": "python3"
  },
  "language_info": {
   "codemirror_mode": {
    "name": "ipython",
    "version": 3
   },
   "file_extension": ".py",
   "mimetype": "text/x-python",
   "name": "python",
   "nbconvert_exporter": "python",
   "pygments_lexer": "ipython3",
   "version": "3.10.7"
  }
 },
 "nbformat": 4,
 "nbformat_minor": 5
}
